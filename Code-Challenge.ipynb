{
 "cells": [
  {
   "cell_type": "code",
   "execution_count": 2,
   "id": "b3699e52",
   "metadata": {},
   "outputs": [],
   "source": [
    "# Minimum Sum Subarray Of Given Size"
   ]
  },
  {
   "cell_type": "code",
   "execution_count": 6,
   "id": "1b053bb7",
   "metadata": {},
   "outputs": [],
   "source": [
    "def minSubarraySumOne(arr, n, k):\n",
    "    ans = 0\n",
    "    j = 0\n",
    "    op_sum = 0\n",
    "    \n",
    "    for i in range(n):\n",
    "        op_sum += arr[i];\n",
    "        while (op_sum - arr[j]) >= k and j <= i:\n",
    "            op_sum -= arr[j]\n",
    "            j += 1\n",
    "        if op_sum >= k:\n",
    "            if ans == 0 or ans > (i-j+1):\n",
    "                ans = (i - j + 1)\n",
    "    return ans\n",
    "\n",
    "\n"
   ]
  },
  {
   "cell_type": "code",
   "execution_count": null,
   "id": "89928c3f",
   "metadata": {},
   "outputs": [],
   "source": []
  },
  {
   "cell_type": "code",
   "execution_count": 14,
   "id": "5aac4612",
   "metadata": {},
   "outputs": [
    {
     "data": {
      "text/plain": [
       "11"
      ]
     },
     "execution_count": 14,
     "metadata": {},
     "output_type": "execute_result"
    }
   ],
   "source": [
    "def minSubarraySum(arr, n, k):\n",
    "    \n",
    "    min_sum = 99999\n",
    "    \n",
    "    for i in range(n):\n",
    "        curr_sum = sum(arr[i:i+k])\n",
    "        if n - (i + k) >= 0 and min_sum > curr_sum:\n",
    "            min_sum = curr_sum\n",
    "    return min_sum\n",
    "        \n",
    "    \n",
    "    \n",
    "minSubarraySum([10, 4, 2, 5, 6, 3, 8, 1], 8, 3)"
   ]
  },
  {
   "cell_type": "code",
   "execution_count": null,
   "id": "7e3c53d1",
   "metadata": {},
   "outputs": [],
   "source": []
  },
  {
   "cell_type": "code",
   "execution_count": null,
   "id": "c43a0c86",
   "metadata": {},
   "outputs": [],
   "source": []
  },
  {
   "cell_type": "code",
   "execution_count": null,
   "id": "6787a98e",
   "metadata": {},
   "outputs": [],
   "source": []
  },
  {
   "cell_type": "code",
   "execution_count": null,
   "id": "cc3cef7b",
   "metadata": {},
   "outputs": [],
   "source": []
  },
  {
   "cell_type": "code",
   "execution_count": null,
   "id": "3bd492fd",
   "metadata": {},
   "outputs": [],
   "source": []
  },
  {
   "cell_type": "code",
   "execution_count": null,
   "id": "8f8d4fc6",
   "metadata": {},
   "outputs": [],
   "source": []
  },
  {
   "cell_type": "code",
   "execution_count": null,
   "id": "1dfb036e",
   "metadata": {},
   "outputs": [],
   "source": []
  },
  {
   "cell_type": "code",
   "execution_count": null,
   "id": "28e807bd",
   "metadata": {},
   "outputs": [],
   "source": []
  },
  {
   "cell_type": "code",
   "execution_count": null,
   "id": "0f0a6f8f",
   "metadata": {},
   "outputs": [],
   "source": []
  }
 ],
 "metadata": {
  "kernelspec": {
   "display_name": "Python 3 (ipykernel)",
   "language": "python",
   "name": "python3"
  },
  "language_info": {
   "codemirror_mode": {
    "name": "ipython",
    "version": 3
   },
   "file_extension": ".py",
   "mimetype": "text/x-python",
   "name": "python",
   "nbconvert_exporter": "python",
   "pygments_lexer": "ipython3",
   "version": "3.10.2"
  }
 },
 "nbformat": 4,
 "nbformat_minor": 5
}
