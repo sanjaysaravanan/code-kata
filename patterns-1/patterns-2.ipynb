{
 "cells": [
  {
   "cell_type": "code",
   "execution_count": 1,
   "id": "57c5460b",
   "metadata": {},
   "outputs": [
    {
     "data": {
      "text/plain": [
       "'\\n4444\\n333\\n22\\n1\\n'"
      ]
     },
     "execution_count": 1,
     "metadata": {},
     "output_type": "execute_result"
    }
   ],
   "source": [
    "'''\n",
    "4444\n",
    "333\n",
    "22\n",
    "1\n",
    "'''"
   ]
  },
  {
   "cell_type": "code",
   "execution_count": 2,
   "id": "fad1ed06",
   "metadata": {},
   "outputs": [
    {
     "name": "stdout",
     "output_type": "stream",
     "text": [
      "5\n",
      "55555\n",
      "4444\n",
      "333\n",
      "22\n",
      "1\n"
     ]
    }
   ],
   "source": [
    "n = int(input())\n",
    "\n",
    "i = n\n",
    "while i >= 1:\n",
    "    j = 1\n",
    "    while j <= i:\n",
    "        print(i, end='')\n",
    "        j = j + 1\n",
    "    print()\n",
    "    i = i - 1 \n"
   ]
  },
  {
   "cell_type": "code",
   "execution_count": 3,
   "id": "63d2fb55",
   "metadata": {},
   "outputs": [
    {
     "data": {
      "text/plain": [
       "'\\nn=4\\n   *\\n  ***\\n *****\\n*******\\n'"
      ]
     },
     "execution_count": 3,
     "metadata": {},
     "output_type": "execute_result"
    }
   ],
   "source": [
    "'''\n",
    "n=4\n",
    "   *\n",
    "  ***\n",
    " *****\n",
    "*******\n",
    "'''"
   ]
  },
  {
   "cell_type": "code",
   "execution_count": 5,
   "id": "2fe55203",
   "metadata": {},
   "outputs": [
    {
     "name": "stdout",
     "output_type": "stream",
     "text": [
      "4\n",
      "   *\n",
      "  ***\n",
      " *****\n",
      "*******\n"
     ]
    }
   ],
   "source": [
    "n = int(input())\n",
    "\n",
    "i = 1\n",
    "\n",
    "while i <= n:\n",
    "    j = 1\n",
    "    while j <= n + i - 1:\n",
    "        \n",
    "        if n - i + 1 <= j and j <= n + i - 1:\n",
    "            print(\"*\", end=\"\")\n",
    "        else:\n",
    "            print(\" \", end=\"\")\n",
    "        \n",
    "        j = j + 1\n",
    "    print()\n",
    "    \n",
    "    i = i + 1"
   ]
  },
  {
   "cell_type": "code",
   "execution_count": 8,
   "id": "23a5ddb6",
   "metadata": {},
   "outputs": [
    {
     "name": "stdout",
     "output_type": "stream",
     "text": [
      "4\n",
      "   *\n",
      "  **\n",
      " ***\n",
      "****\n"
     ]
    }
   ],
   "source": [
    "'''\n",
    "n=4\n",
    "   *\n",
    "  **\n",
    " ***\n",
    "****\n",
    "'''\n",
    "n = int(input())\n",
    "\n",
    "i=1\n",
    "while i<=n:\n",
    "    \n",
    "    j = 1\n",
    "    \n",
    "    while j <= n:\n",
    "        \n",
    "        if j > n-i:\n",
    "            print(\"*\", end=\"\")\n",
    "        else:\n",
    "            print(\" \", end=\"\")\n",
    "        j = j + 1\n",
    "    print()\n",
    "    \n",
    "    i = i + 1\n",
    "\n",
    "\n"
   ]
  },
  {
   "cell_type": "code",
   "execution_count": 10,
   "id": "1397b01a",
   "metadata": {},
   "outputs": [
    {
     "name": "stdout",
     "output_type": "stream",
     "text": [
      "4\n",
      "   1\n",
      "  12\n",
      " 123\n",
      "1234\n"
     ]
    }
   ],
   "source": [
    "'''\n",
    "n=4\n",
    "   1\n",
    "  12\n",
    " 123\n",
    "1234\n",
    "'''\n",
    "\n",
    "n = int(input())\n",
    "\n",
    "i = 1\n",
    "while i <= n:\n",
    "    \n",
    "    j = 1\n",
    "    \n",
    "    while j <= n - i:\n",
    "        print(\" \", end=\"\")\n",
    "        j = j + 1\n",
    "        \n",
    "    nums = 1\n",
    "    while nums <= i:\n",
    "        print(nums, end=\"\")\n",
    "        nums += 1\n",
    "    print()\n",
    "    \n",
    "    i = i + 1\n"
   ]
  },
  {
   "cell_type": "code",
   "execution_count": 12,
   "id": "849cec3c",
   "metadata": {},
   "outputs": [
    {
     "name": "stdout",
     "output_type": "stream",
     "text": [
      "4\n",
      "   1\n",
      "  121\n",
      " 12321\n",
      "1234321\n"
     ]
    }
   ],
   "source": [
    "'''\n",
    "n=4\n",
    "   1\n",
    "  121\n",
    " 12321\n",
    "1234321\n",
    "'''\n",
    "\n",
    "n = int(input())\n",
    "\n",
    "i = 1\n",
    "while i <= n:\n",
    "    \n",
    "    j = 1\n",
    "    \n",
    "    while j <= n - i:\n",
    "        print(\" \", end=\"\")\n",
    "        j = j + 1\n",
    "        \n",
    "    nums = 1\n",
    "    while nums <= i:\n",
    "        print(nums, end=\"\")\n",
    "        nums += 1\n",
    "    p = i - 1\n",
    "    while p >= 1:\n",
    "        print(p, end=\"\")\n",
    "        p = p - 1\n",
    "    \n",
    "    print()\n",
    "    \n",
    "    i = i + 1"
   ]
  },
  {
   "cell_type": "code",
   "execution_count": 25,
   "id": "ba9e0447",
   "metadata": {},
   "outputs": [
    {
     "name": "stdout",
     "output_type": "stream",
     "text": [
      "4\n",
      "   1\n",
      "  232\n",
      " 34543\n",
      "4567654\n"
     ]
    }
   ],
   "source": [
    "'''\n",
    "n=4\n",
    "   1\n",
    "  232\n",
    " 34543\n",
    "4567654\n",
    "'''\n",
    "\n",
    "n = int(input())\n",
    "\n",
    "i = 1\n",
    "while i <= n:\n",
    "    \n",
    "    j = 1\n",
    "    \n",
    "    while j <= n - i:\n",
    "        print(\" \", end=\"\")\n",
    "        j = j + 1\n",
    "        \n",
    "    p = 1\n",
    "    x = i\n",
    "    while p <= i:\n",
    "        print(x, end=\"\")\n",
    "        p += 1\n",
    "        x += 1\n",
    "    \n",
    "    q = 1\n",
    "    y = x - 2\n",
    "    while q <= i - 1:\n",
    "        print(y, end=\"\")\n",
    "        q += 1    \n",
    "        y -= 1\n",
    "    \n",
    "    print()\n",
    "    \n",
    "    i = i + 1"
   ]
  },
  {
   "cell_type": "code",
   "execution_count": 50,
   "id": "b9a3ddca",
   "metadata": {},
   "outputs": [
    {
     "name": "stdout",
     "output_type": "stream",
     "text": [
      "4\n",
      "  *\n",
      " ***\n",
      "*****\n",
      " ***\n",
      "  *\n"
     ]
    }
   ],
   "source": [
    "'''\n",
    "n=5\n",
    "  *\n",
    " ***\n",
    "*****\n",
    " ***\n",
    "  *\n",
    "'''\n",
    "\n",
    "n = int(input())\n",
    "\n",
    "i = 1\n",
    "\n",
    "num = (n//2) + 1;\n",
    "count = num - 1\n",
    "\n",
    "while i <= num:\n",
    "    j = 1\n",
    "    while j <= count:\n",
    "        print(\" \", end=\"\")\n",
    "        j = j + 1\n",
    "    \n",
    "    count -= 1\n",
    "    \n",
    "    k = 1\n",
    "    \n",
    "    while k <= (2 * i) - 1:\n",
    "        \n",
    "        print(\"*\", end=\"\")\n",
    "        \n",
    "        k += 1\n",
    "\n",
    "    print()\n",
    "    i = i + 1\n",
    "\n",
    "\n",
    "i = 1    \n",
    "count = 1\n",
    "while i <= num - 1:\n",
    "    j = 1\n",
    "    while j <= count:\n",
    "        print(\" \", end=\"\")\n",
    "        j = j + 1\n",
    "    \n",
    "    count += 1\n",
    "    \n",
    "    k = 1\n",
    "    \n",
    "    while k <= (2 * (num - i) - 1):\n",
    "        \n",
    "        print(\"*\", end=\"\")\n",
    "        \n",
    "        k += 1\n",
    "\n",
    "    print()\n",
    "\n",
    "    \n",
    "    i = i + 1"
   ]
  },
  {
   "cell_type": "code",
   "execution_count": 54,
   "id": "fd40fce1",
   "metadata": {},
   "outputs": [
    {
     "name": "stdout",
     "output_type": "stream",
     "text": [
      "5\n",
      "*0000*0000*\n",
      "0*000*000*0\n",
      "00*00*00*00\n",
      "000*0*0*000\n",
      "0000***0000\n"
     ]
    }
   ],
   "source": [
    "'''\n",
    "n=4\n",
    "*000*000*\n",
    "0*00*00*0\n",
    "00*0*0*00\n",
    "000***000\n",
    "'''\n",
    "n = int(input())\n",
    "\n",
    "i = 1\n",
    "l = (n * 2)\n",
    "\n",
    "\n",
    "while i <= n:\n",
    "    \n",
    "    j = 1\n",
    "    while j <= l + 1:\n",
    "        \n",
    "        if j == i or j == n + 1 or j == l + 2 - i:\n",
    "            print('*', end='')\n",
    "        else:\n",
    "            print('0', end='')\n",
    "        j += 1\n",
    "    print()\n",
    "    i += 1\n"
   ]
  },
  {
   "cell_type": "code",
   "execution_count": 57,
   "id": "afc86a44",
   "metadata": {},
   "outputs": [
    {
     "name": "stdout",
     "output_type": "stream",
     "text": [
      "4\n",
      "1      1\n",
      "12    21\n",
      "123  321\n",
      "12344321\n"
     ]
    }
   ],
   "source": [
    "'''\n",
    "n=5\n",
    "1        1\n",
    "12      21\n",
    "123    321\n",
    "1234  4321\n",
    "1234554321\n",
    "'''\n",
    "n = int(input())\n",
    "\n",
    "i = 1\n",
    "while i <= n:\n",
    "    y = 1\n",
    "    while y <= n:\n",
    "        if y <= i:\n",
    "            print(y, end=\"\")\n",
    "        else:\n",
    "            print(\" \", end='')\n",
    "        y += 1\n",
    "    \n",
    "    j = 1\n",
    "    \n",
    "    while j <= n - i:\n",
    "        print(\" \", end=\"\")\n",
    "        j = j + 1\n",
    "        \n",
    "    nums = i\n",
    "    while nums >= 1:\n",
    "        print(nums, end=\"\")\n",
    "        nums -= 1\n",
    "\n",
    "    print()\n",
    "    \n",
    "    i = i + 1\n",
    "    \n",
    "        \n",
    "        \n",
    "\n"
   ]
  },
  {
   "cell_type": "code",
   "execution_count": 64,
   "id": "cb35f0cf",
   "metadata": {},
   "outputs": [
    {
     "name": "stdout",
     "output_type": "stream",
     "text": [
      "7\n",
      "* \n",
      " * * \n",
      "  * * * \n",
      "   * * * * \n",
      "  * * * \n",
      " * * \n",
      "* \n"
     ]
    }
   ],
   "source": [
    "'''\n",
    "n=7\n",
    "*\n",
    " * *\n",
    "   * * *\n",
    "     * * * *\n",
    "   * * *\n",
    " * *\n",
    "*\n",
    "'''\n",
    "\n",
    "'''\n",
    "*\n",
    " * *\n",
    "   * * *\n",
    "'''\n",
    "\n",
    "n = int(input())\n",
    "\n",
    "i = 1\n",
    "h = (n+1)//2\n",
    "h2 = n - h\n",
    "\n",
    "while i <= h:\n",
    "    \n",
    "    j = 1\n",
    "    \n",
    "    while j < i:\n",
    "        print(\" \", end=\"\")\n",
    "        j += 1\n",
    "    \n",
    "    k = 1\n",
    "    \n",
    "    while k < i + 1:\n",
    "        print(\"* \", end=\"\")\n",
    "        k += 1\n",
    "    \n",
    "    print()\n",
    "    \n",
    "    i += 1\n",
    "\n",
    "i = h2\n",
    "    \n",
    "while i >= 1:\n",
    "    \n",
    "    j = 1\n",
    "    \n",
    "    while j < i:\n",
    "        print(\" \", end=\"\")\n",
    "        j += 1\n",
    "    \n",
    "    k = 1\n",
    "    \n",
    "    while k < i + 1:\n",
    "        print(\"* \", end=\"\")\n",
    "        k += 1\n",
    "    \n",
    "    print()\n",
    "    \n",
    "    i -= 1\n",
    "    \n",
    "    \n",
    "\n"
   ]
  },
  {
   "cell_type": "code",
   "execution_count": null,
   "id": "dc28558d",
   "metadata": {},
   "outputs": [],
   "source": []
  },
  {
   "cell_type": "code",
   "execution_count": null,
   "id": "cc480adf",
   "metadata": {},
   "outputs": [],
   "source": []
  },
  {
   "cell_type": "code",
   "execution_count": null,
   "id": "333d4227",
   "metadata": {},
   "outputs": [],
   "source": []
  },
  {
   "cell_type": "code",
   "execution_count": null,
   "id": "906257b3",
   "metadata": {},
   "outputs": [],
   "source": []
  },
  {
   "cell_type": "code",
   "execution_count": null,
   "id": "92e0d990",
   "metadata": {},
   "outputs": [],
   "source": []
  },
  {
   "cell_type": "code",
   "execution_count": null,
   "id": "15bf65c6",
   "metadata": {},
   "outputs": [],
   "source": []
  },
  {
   "cell_type": "code",
   "execution_count": null,
   "id": "6a9156ce",
   "metadata": {},
   "outputs": [],
   "source": []
  },
  {
   "cell_type": "code",
   "execution_count": null,
   "id": "cd85dd46",
   "metadata": {},
   "outputs": [],
   "source": []
  },
  {
   "cell_type": "code",
   "execution_count": null,
   "id": "ebef3182",
   "metadata": {},
   "outputs": [],
   "source": []
  },
  {
   "cell_type": "code",
   "execution_count": null,
   "id": "08f317b0",
   "metadata": {},
   "outputs": [],
   "source": []
  },
  {
   "cell_type": "code",
   "execution_count": null,
   "id": "8efccd59",
   "metadata": {},
   "outputs": [],
   "source": []
  },
  {
   "cell_type": "code",
   "execution_count": null,
   "id": "b7e905fd",
   "metadata": {},
   "outputs": [],
   "source": []
  },
  {
   "cell_type": "code",
   "execution_count": null,
   "id": "5c194907",
   "metadata": {},
   "outputs": [],
   "source": []
  },
  {
   "cell_type": "code",
   "execution_count": null,
   "id": "bad4e6fa",
   "metadata": {},
   "outputs": [],
   "source": []
  },
  {
   "cell_type": "code",
   "execution_count": null,
   "id": "6fec682f",
   "metadata": {},
   "outputs": [],
   "source": []
  },
  {
   "cell_type": "code",
   "execution_count": null,
   "id": "ade794a2",
   "metadata": {},
   "outputs": [],
   "source": []
  },
  {
   "cell_type": "code",
   "execution_count": null,
   "id": "004574b1",
   "metadata": {},
   "outputs": [],
   "source": []
  },
  {
   "cell_type": "code",
   "execution_count": null,
   "id": "99ad5cbc",
   "metadata": {},
   "outputs": [],
   "source": []
  },
  {
   "cell_type": "code",
   "execution_count": null,
   "id": "03ad5546",
   "metadata": {},
   "outputs": [],
   "source": []
  },
  {
   "cell_type": "code",
   "execution_count": 42,
   "id": "df61e28f",
   "metadata": {},
   "outputs": [
    {
     "name": "stdout",
     "output_type": "stream",
     "text": [
      "5\n",
      "    1\n",
      "   212\n",
      "  32123\n",
      " 4321234\n",
      "543212345\n"
     ]
    }
   ],
   "source": [
    "'''\n",
    "n=4\n",
    "   1\n",
    "  212\n",
    " 32123\n",
    "4321234\n",
    "'''\n",
    "\n",
    "n = int(input())\n",
    "\n",
    "i = 1\n",
    "while i <= n:\n",
    "    \n",
    "    j = 1\n",
    "    \n",
    "    while j <= n - i:\n",
    "        print(\" \", end=\"\")\n",
    "        j = j + 1\n",
    "        \n",
    "    nums = i\n",
    "    while nums >= 1:\n",
    "        print(nums, end=\"\")\n",
    "        nums -= 1\n",
    "    p = 2\n",
    "    while p <= i:\n",
    "        print(p, end=\"\")\n",
    "        p = p + 1\n",
    "    \n",
    "    print()\n",
    "    \n",
    "    i = i + 1"
   ]
  },
  {
   "cell_type": "code",
   "execution_count": 3,
   "id": "b768d6f6",
   "metadata": {},
   "outputs": [
    {
     "name": "stdout",
     "output_type": "stream",
     "text": [
      "6\n",
      "     6\n",
      "    56\n",
      "   456\n",
      "  3456\n",
      " 23456\n",
      "123456\n"
     ]
    }
   ],
   "source": [
    "'''\n",
    "n=4\n",
    "   4\n",
    "  34\n",
    " 234\n",
    "1234\n",
    "'''\n",
    "\n",
    "n = int(input())\n",
    "\n",
    "i = 1\n",
    "while i <= n:\n",
    "    \n",
    "    j = 1\n",
    "    \n",
    "    while j <= n - i:\n",
    "        print(\" \", end=\"\")\n",
    "        j = j + 1\n",
    "        \n",
    "    while j <= n:\n",
    "        print(j, end=\"\")\n",
    "        j += 1\n",
    "    print()\n",
    "    \n",
    "    i = i + 1"
   ]
    "# Initial matrix\n",
    "arr = [[0 for i in range(n)] for j in range(n)]\n",
    "\n",
    "idea_arr = []\n",
    "odd_i = 1\n",
    "even_i = n\n",
    "# n=3 -> 1,3,2\n",
    "for i in range(1, n+1):\n",
    "    num = 0\n",
    "    if i % 2 == 0:\n",
    "        num = even_i\n",
    "        even_i -= 1\n",
    "    else:\n",
    "        num = odd_i\n",
    "        odd_i += 1\n",
    "    idea_arr.append(num)\n",
    "# idea_arr\n",
    "x = 1\n",
    "for i in idea_arr:\n",
    "    for j in range(n):\n",
    "        arr[i-1][j] = x\n",
    "        x += 1\n",
    "for row in arr:\n",
    "    for cell in row:\n",
    "        print(cell, end=\" \")\n",
    "    print()"
   ]
  },
  {
   "cell_type": "code",
   "execution_count": 23,
   "id": "ab59a3d3",
   "metadata": {},
   "outputs": [
    {
     "name": "stdout",
     "output_type": "stream",
     "text": [
      "159\n",
      "false\n"
     ]
    }
   ],
   "source": [
    "'''\n",
    "inp_str=121\n",
    "true\n",
    "inp_str=1032\n",
    "false\n",
    "'''\n",
    "def checkPalindrome(inp_str):\n",
    "    #Implement Your Code Here\n",
    "    l = len(inp_str)\n",
    "    \n",
    "    for i in range(l//2):\n",
    "        if inp_str[i] != inp_str[l-i-1]:\n",
    "            return False\n",
    "    \n",
    "    return True\n",
    "    \n",
    "inp_str = input()\n",
    "isPalindrome = checkPalindrome(inp_str)\n",
    "if(isPalindrome):\n",
    "    print('true')\n",
    "else:\n",
    "    print('false')\n"
   ]
  },
  {
   "cell_type": "code",
   "execution_count": null,
   "id": "8aa5490b",
   "metadata": {},
   "outputs": [],
   "source": []
  },
  {
   "cell_type": "code",
   "execution_count": null,
   "id": "cd43e7ba",
   "metadata": {},
   "outputs": [],
   "source": []
  },
  {
   "cell_type": "code",
   "execution_count": 21,
   "id": "f5ed8f80",
   "metadata": {},
   "outputs": [
    {
     "data": {
      "text/plain": [
       "'a'"
      ]
     },
     "execution_count": 21,
     "metadata": {},
     "output_type": "execute_result"
    }
   ],
   "source": [
    "s_str = 'Sanjay'\n",
    "s_str[1]"
   ]
  },
  {
   "cell_type": "code",
   "execution_count": null,
   "id": "889b7d10",
   "metadata": {},
   "outputs": [],
   "source": [
    "'''\n",
    "Armstrog\n",
    "371, as 3^3 + 7^3 + 1^3 = 371\n",
    "1634, as 1^4 + 6^4 + 3^4 + 4^4 = 1634\n",
    "'''\n",
    "n = int(input())\n",
    "\n",
    "\n",
    "\n"
   ]
  },
  {
   "cell_type": "code",
   "execution_count": null,
   "id": "99f0464d",
   "metadata": {},
   "outputs": [],
   "source": []
  },
  {
   "cell_type": "code",
   "execution_count": null,
   "id": "32020d2e",
   "metadata": {},
   "outputs": [],
   "source": []
  },
  {
   "cell_type": "code",
   "execution_count": null,
   "id": "c9bbc1be",
   "metadata": {},
   "outputs": [],
   "source": []
  },
  {
   "cell_type": "code",
   "execution_count": null,
   "id": "dd7aa8fc",
   "metadata": {},
   "outputs": [],
   "source": []
  },
  {
   "cell_type": "code",
   "execution_count": null,
   "id": "c5e43238",
   "metadata": {},
   "outputs": [],
   "source": []
  },
  {
   "cell_type": "code",
   "execution_count": null,
   "id": "5ce74864",
   "metadata": {},
   "outputs": [],
   "source": []
  },
  {
   "cell_type": "code",
   "execution_count": null,
   "id": "53c5f543",
   "metadata": {},
   "outputs": [],
   "source": []
  },
  {
   "cell_type": "code",
   "execution_count": 5,
   "id": "78266bc2",
   "metadata": {},
   "outputs": [
    {
     "name": "stdout",
     "output_type": "stream",
     "text": [
      "6\n",
      "123456\n",
      " 23456\n",
      "  3456\n",
      "   456\n",
      "    56\n",
      "     6\n",
      "    56\n",
      "   456\n",
      "  3456\n",
      " 23456\n",
      "123456\n"
     ]
    }
   ],
   "source": [
    "'''\n",
    "n=6\n",
    "123456\n",
    " 23456\n",
    "  3456\n",
    "   456\n",
    "    56\n",
    "'''\n",
    "n=int(input())\n",
    "\n",
    "i=1\n",
    "while i <= n-1:\n",
    "    \n",
    "    j = 1\n",
    "    while j <= i - 1:\n",
    "        \n",
    "        j += 1\n",
    "        \n",
    "        print(' ', end='')\n",
    "    \n",
    "    while j <= n:\n",
    "        print(j, end='')\n",
    "        j += 1\n",
    "    print()\n",
    "    i += 1\n",
    "\n",
    "i = 1\n",
    "while i <= n:\n",
    "    \n",
    "    j = 1\n",
    "    \n",
    "    while j <= n - i:\n",
    "        print(\" \", end=\"\")\n",
    "        j = j + 1\n",
    "        \n",
    "    while j <= n:\n",
    "        print(j, end=\"\")\n",
    "        j += 1\n",
    "    print()\n",
    "    \n",
    "    i = i + 1\n",
    "        \n"
   ]
  },
  {
   "cell_type": "code",
   "execution_count": null,
   "id": "6fe49f82",
   "metadata": {},
   "outputs": [],
   "source": [
    "'''\n",
    "n=4\n",
    "4444444\n",
    "4333334\n",
    "4322234\n",
    "4321234\n",
    "4322234\n",
    "4333334  \n",
    "4444444\n",
    "'''\n",
    "\n",
    "n = int(input())\n"
   ]
  },
  {
   "cell_type": "code",
   "execution_count": null,
   "id": "c42edd46",
   "metadata": {},
   "outputs": [],
   "source": []
  },
  {
   "cell_type": "code",
   "execution_count": null,
   "id": "7d114cf8",
   "metadata": {},
   "outputs": [],
   "source": []
  },
  {
   "cell_type": "code",
   "execution_count": null,
   "id": "9aa65cd2",
   "metadata": {},
   "outputs": [],
   "source": []
  },
  {
   "cell_type": "code",
   "execution_count": null,
   "id": "5ffab4c3",
   "metadata": {},
   "outputs": [],
   "source": []
  },
  {
   "cell_type": "code",
   "execution_count": null,
   "id": "6ea4740c",
   "metadata": {},
   "outputs": [],
   "source": []
  },
  {
   "cell_type": "code",
   "execution_count": null,
   "id": "163ab5c9",
   "metadata": {},
   "outputs": [],
   "source": []
  },
  {
   "cell_type": "code",
   "execution_count": null,
   "id": "e58074ff",
   "metadata": {},
   "outputs": [],
   "source": []
  },
  {
   "cell_type": "code",
   "execution_count": null,
   "id": "8ec74ee3",
   "metadata": {},
   "outputs": [],
   "source": []
  },
  {
   "cell_type": "code",
   "execution_count": null,
   "id": "dc20bb51",
   "metadata": {},
   "outputs": [],
   "source": []
  },
  {
   "cell_type": "code",
   "execution_count": null,
   "id": "b4569d28",
   "metadata": {},
   "outputs": [],
   "source": []
  },
  {
   "cell_type": "code",
   "execution_count": null,
   "id": "f827f1da",
   "metadata": {},
   "outputs": [],
   "source": []
  },
  {
   "cell_type": "code",
   "execution_count": null,
   "id": "3fb88307",
   "metadata": {},
   "outputs": [],
   "source": []
  },
  {
   "cell_type": "code",
   "execution_count": null,
   "id": "700d594f",
   "metadata": {},
   "outputs": [],
   "source": []
  },
  {
   "cell_type": "code",
   "execution_count": null,
   "id": "b82d501d",
   "metadata": {},
   "outputs": [],
   "source": []
  },
  {
   "cell_type": "code",
   "execution_count": null,
   "id": "52280f8a",
   "metadata": {},
   "outputs": [],
   "source": []
  },
  {
   "cell_type": "code",
   "execution_count": null,
   "id": "da0e61a5",
   "metadata": {},
   "outputs": [],
   "source": []
  },
  {
   "cell_type": "code",
   "execution_count": null,
   "id": "7c9305c0",
   "metadata": {},
   "outputs": [],
   "source": []
  },
  {
   "cell_type": "code",
   "execution_count": null,
   "id": "0fc1f3a2",
   "metadata": {},
   "outputs": [],
   "source": []
  },
  {
   "cell_type": "code",
   "execution_count": null,
   "id": "8f81d338",
   "metadata": {},
   "outputs": [],
   "source": []
  },
  {
   "cell_type": "code",
   "execution_count": null,
   "id": "0d5c2ab6",
   "metadata": {},
   "outputs": [],
   "source": []
  },
  {
   "cell_type": "code",
   "execution_count": null,
   "id": "899098df",
   "metadata": {},
   "outputs": [],
   "source": []
  },
  {
   "cell_type": "code",
   "execution_count": null,
   "id": "8275ede5",
   "metadata": {},
   "outputs": [],
   "source": []
  },
  {
   "cell_type": "code",
   "execution_count": null,
   "id": "f461b808",
   "metadata": {},
   "outputs": [],
   "source": []
  },
  {
   "cell_type": "code",
   "execution_count": null,
   "id": "46a0e0cd",
   "metadata": {},
   "outputs": [],
   "source": []
  },
  {
   "cell_type": "code",
   "execution_count": null,
   "id": "65ee54af",
   "metadata": {},
   "outputs": [],
   "source": []
  },
  {
   "cell_type": "code",
   "execution_count": null,
   "id": "9c6f0d31",
   "metadata": {},
   "outputs": [],
   "source": []
  },
  {
   "cell_type": "code",
   "execution_count": null,
   "id": "9cc79ce4",
   "metadata": {},
   "outputs": [],
   "source": []
  },
  {
   "cell_type": "code",
   "execution_count": null,
   "id": "b1339365",
   "metadata": {},
   "outputs": [],
   "source": []
  },
  {
   "cell_type": "code",
   "execution_count": null,
   "id": "0baa430c",
   "metadata": {},
   "outputs": [],
   "source": []
  },
  {
   "cell_type": "code",
   "execution_count": null,
   "id": "6ede6dec",
   "metadata": {},
   "outputs": [],
   "source": []
  },
  {
   "cell_type": "code",
   "execution_count": null,
   "id": "2739553a",
   "metadata": {},
   "outputs": [],
   "source": []
  },
  {
   "cell_type": "code",
   "execution_count": null,
   "id": "7c2e1e13",
   "metadata": {},
   "outputs": [],
   "source": []
  },
  {
   "cell_type": "code",
   "execution_count": null,
   "id": "88b76955",
   "metadata": {},
   "outputs": [],
   "source": []
  },
  {
   "cell_type": "code",
   "execution_count": null,
   "id": "cb79a5ea",
   "metadata": {},
   "outputs": [],
   "source": []
  },
  {
   "cell_type": "code",
   "execution_count": null,
   "id": "106c3a76",
   "metadata": {},
   "outputs": [],
   "source": []
  },
  {
   "cell_type": "code",
   "execution_count": null,
   "id": "a2ff5c5b",
   "metadata": {},
   "outputs": [],
   "source": []
  },
  {
   "cell_type": "code",
   "execution_count": null,
   "id": "538a2403",
   "metadata": {},
   "outputs": [],
   "source": []
  },
  {
   "cell_type": "code",
   "execution_count": null,
   "id": "854a92e9",
   "metadata": {},
   "outputs": [],
   "source": []
  },
  {
   "cell_type": "code",
   "execution_count": null,
   "id": "b251883b",
   "metadata": {},
   "outputs": [],
   "source": []
  },
  {
   "cell_type": "code",
   "execution_count": null,
   "id": "f4756497",
   "metadata": {},
   "outputs": [],
   "source": []
  },
  {
   "cell_type": "code",
   "execution_count": null,
   "id": "78a75824",
   "metadata": {},
   "outputs": [],
   "source": []
  },
  {
   "cell_type": "code",
   "execution_count": null,
   "id": "92f311ad",
   "metadata": {},
   "outputs": [],
   "source": []
  },
  {
   "cell_type": "code",
   "execution_count": null,
   "id": "1b343cdc",
   "metadata": {},
   "outputs": [],
   "source": []
  },
  {
   "cell_type": "code",
   "execution_count": null,
   "id": "b60c0ebe",
   "metadata": {},
   "outputs": [],
   "source": []
  },
  {
   "cell_type": "code",
   "execution_count": null,
   "id": "dd2c0a35",
   "metadata": {},
   "outputs": [],
   "source": []
  },
  {
   "cell_type": "code",
   "execution_count": null,
   "id": "b9d62ab2",
   "metadata": {},
   "outputs": [],
   "source": []
  },
  {
   "cell_type": "code",
   "execution_count": null,
   "id": "d555a460",
   "metadata": {},
   "outputs": [],
   "source": []
  },
  {
   "cell_type": "code",
   "execution_count": null,
   "id": "764d7e57",
   "metadata": {},
   "outputs": [],
   "source": []
  },
  {
   "cell_type": "code",
   "execution_count": null,
   "id": "67f38e5f",
   "metadata": {},
   "outputs": [],
   "source": []
  },
  {
   "cell_type": "code",
   "execution_count": null,
   "id": "e5035706",
   "metadata": {},
   "outputs": [],
   "source": []
  },
  {
   "cell_type": "code",
   "execution_count": null,
   "id": "0b5151cb",
   "metadata": {},
   "outputs": [],
   "source": []
  },
  {
   "cell_type": "code",
   "execution_count": null,
   "id": "eebd905b",
   "metadata": {},
   "outputs": [],
   "source": []
  }
 ],
 "metadata": {
  "kernelspec": {
   "display_name": "Python 3 (ipykernel)",
   "language": "python",
   "name": "python3"
  },
  "language_info": {
   "codemirror_mode": {
    "name": "ipython",
    "version": 3
   },
   "file_extension": ".py",
   "mimetype": "text/x-python",
   "name": "python",
   "nbconvert_exporter": "python",
   "pygments_lexer": "ipython3",
   "version": "3.10.2"
  }
 },
 "nbformat": 4,
 "nbformat_minor": 5
}
