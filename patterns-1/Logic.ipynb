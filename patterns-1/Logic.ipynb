{
 "cells": [
  {
   "cell_type": "markdown",
   "id": "06d92f5c",
   "metadata": {},
   "source": [
    "Armstrong Number"
   ]
  },
  {
   "cell_type": "code",
   "execution_count": 11,
   "id": "e420e673",
   "metadata": {},
   "outputs": [
    {
     "name": "stdout",
     "output_type": "stream",
     "text": [
      "1634\n",
      "true\n"
     ]
    }
   ],
   "source": [
    "str_n = input()\n",
    "n = int(str_n)\n",
    "temp_n = n\n",
    "arm_sum = 0\n",
    "\n",
    "while temp_n > 0:\n",
    "    \n",
    "    digit = temp_n % 10\n",
    "    \n",
    "    arm_sum += digit ** len(str_n)\n",
    "    \n",
    "    temp_n = temp_n // 10\n",
    "\n",
    "if arm_sum == n:\n",
    "    print('true')\n",
    "else:\n",
    "    print('false')\n"
   ]
  },
  {
   "cell_type": "code",
   "execution_count": 9,
   "id": "26171d13",
   "metadata": {},
   "outputs": [
    {
     "data": {
      "text/plain": [
       "25"
      ]
     },
     "execution_count": 9,
     "metadata": {},
     "output_type": "execute_result"
    }
   ],
   "source": [
    "a = 5 \n",
    "temp = a\n",
    "\n",
    "temp = 1000\n",
    "a**2"
   ]
  },
  {
   "cell_type": "markdown",
   "id": "065f9b6c",
   "metadata": {},
   "source": [
    "Fahrenheit to Celcius\n",
    "*Given three values - Start Fahrenheit Value (S), End Fahrenheit value (E)\n",
    "and Step Size (W), you need to convert all Fahrenheit values from Start to \n",
    "End at the gap of W, into their corresponding Celsius values and print the table.*"
   ]
  },
  {
   "cell_type": "code",
   "execution_count": 21,
   "id": "e3098112",
   "metadata": {},
   "outputs": [
    {
     "name": "stdout",
     "output_type": "stream",
     "text": [
      "0\n",
      "100\n",
      "20\n",
      "0 -17\n",
      "20 -6\n",
      "40 4\n",
      "60 15\n",
      "80 26\n",
      "100 37\n"
     ]
    }
   ],
   "source": [
    "import math\n",
    "start = int(input())\n",
    "end = int(input())\n",
    "step = int(input())\n",
    "\n",
    "\n",
    "\n",
    "for i in range(start, end+1, step):\n",
    "    print(i, end=\" \")\n",
    "    cel = ((i-32)*5)/9\n",
    "    if cel < 0:\n",
    "        print( math.ceil(cel), end='')\n",
    "    else:\n",
    "        print( math.floor(cel), end='')\n",
    "    print()\n",
    "    "
   ]
  },
  {
   "cell_type": "markdown",
   "id": "cd4a285e",
   "metadata": {},
   "source": [
    "Check if a number is fibonacci"
   ]
  },
  {
   "cell_type": "code",
   "execution_count": 23,
   "id": "16173064",
   "metadata": {},
   "outputs": [
    {
     "name": "stdout",
     "output_type": "stream",
     "text": [
      "14\n",
      "false\n"
     ]
    }
   ],
   "source": [
    "# python program to check if x is a perfect square\n",
    "import math\n",
    " \n",
    "# A utility function that returns true if x is perfect square\n",
    "def isPerfectSquare(x):\n",
    "    s = int(math.sqrt(x))\n",
    "    return s*s == x\n",
    " \n",
    "# Returns true if n is a Fibonacci Number, else false\n",
    "def isFibonacci(n):\n",
    " \n",
    "    # n is Fibonacci if one of 5*n*n + 4 or 5*n*n - 4 or both\n",
    "    # is a perfect square\n",
    "    return isPerfectSquare(5*n*n + 4) or isPerfectSquare(5*n*n - 4)\n",
    "\n",
    "\n",
    "n = int(input())\n",
    "\n",
    "if isFibonacci(n):\n",
    "    print('true')\n",
    "else:\n",
    "    print('false')\n"
   ]
  },
  {
   "cell_type": "code",
   "execution_count": null,
   "id": "a5be8172",
   "metadata": {},
   "outputs": [],
   "source": []
  }
 ],
 "metadata": {
  "kernelspec": {
   "display_name": "Python 3 (ipykernel)",
   "language": "python",
   "name": "python3"
  },
  "language_info": {
   "codemirror_mode": {
    "name": "ipython",
    "version": 3
   },
   "file_extension": ".py",
   "mimetype": "text/x-python",
   "name": "python",
   "nbconvert_exporter": "python",
   "pygments_lexer": "ipython3",
   "version": "3.10.2"
  }
 },
 "nbformat": 4,
 "nbformat_minor": 5
}
