{
 "cells": [
  {
   "cell_type": "code",
   "execution_count": 5,
   "id": "8317eabd",
   "metadata": {},
   "outputs": [
    {
     "data": {
      "text/plain": [
       "'A'"
      ]
     },
     "execution_count": 5,
     "metadata": {},
     "output_type": "execute_result"
    }
   ],
   "source": [
    "ord('A')\n",
    "chr(65)"
   ]
  },
  {
   "cell_type": "code",
   "execution_count": 6,
   "id": "1a797c13",
   "metadata": {},
   "outputs": [
    {
     "data": {
      "text/plain": [
       "'\\nn = 3\\n1\\n23\\n345\\n\\nn = 4\\n1\\n23\\n345\\n4567\\n'"
      ]
     },
     "execution_count": 6,
     "metadata": {},
     "output_type": "execute_result"
    }
   ],
   "source": [
    "'''\n",
    "n = 3\n",
    "1\n",
    "23\n",
    "345\n",
    "\n",
    "n = 4\n",
    "1\n",
    "23\n",
    "345\n",
    "4567\n",
    "'''\n",
    "# for i in range(1, n+1):\n",
    "#     for j in range(0, i):\n",
    "#         print(i+j, end=\"\")\n",
    "#     print()"
   ]
  },
  {
   "cell_type": "code",
   "execution_count": 11,
   "id": "7c3a2822",
   "metadata": {},
   "outputs": [
    {
     "name": "stdout",
     "output_type": "stream",
     "text": [
      "5\n",
      "A\n",
      "AC\n",
      "ACE\n",
      "ACEG\n",
      "ACEGI\n"
     ]
    }
   ],
   "source": [
    "'''\n",
    "n = 4\n",
    "A\n",
    "BC\n",
    "CDE\n",
    "DEFG\n",
    "'''\n",
    "n = int(input())\n",
    "\n",
    "i = 1\n",
    "while i <= n:\n",
    "    j = 1\n",
    "    p = 65\n",
    "    while j <= i:\n",
    "        print(chr(p), end=\"\")\n",
    "        j = j + 1\n",
    "        p = p + 1\n",
    "    i = i + 1\n",
    "    print()\n"
   ]
  },
  {
   "cell_type": "code",
   "execution_count": null,
   "id": "0b234f13",
   "metadata": {},
   "outputs": [],
   "source": []
  }
 ],
 "metadata": {
  "kernelspec": {
   "display_name": "Python 3 (ipykernel)",
   "language": "python",
   "name": "python3"
  },
  "language_info": {
   "codemirror_mode": {
    "name": "ipython",
    "version": 3
   },
   "file_extension": ".py",
   "mimetype": "text/x-python",
   "name": "python",
   "nbconvert_exporter": "python",
   "pygments_lexer": "ipython3",
   "version": "3.8.10"
  }
 },
 "nbformat": 4,
 "nbformat_minor": 5
}
