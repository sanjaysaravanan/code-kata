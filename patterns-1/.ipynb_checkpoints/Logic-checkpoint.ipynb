{
 "cells": [
  {
   "cell_type": "markdown",
   "id": "2d8e46ff",
   "metadata": {},
   "source": [
    "Armstrong Number"
   ]
  },
  {
   "cell_type": "code",
   "execution_count": 5,
   "id": "8b12237e",
   "metadata": {},
   "outputs": [
    {
     "name": "stdout",
     "output_type": "stream",
     "text": [
      "371\n",
      "33\n",
      "false\n"
     ]
    }
   ],
   "source": [
    "str_n = input()\n",
    "n = int(str_n)\n",
    "temp_n = n\n",
    "arm_sum = 0\n",
    "\n",
    "while temp_n > 0:\n",
    "    \n",
    "    digit = temp_n % 10\n",
    "    \n",
    "    print(digit)\n",
    "    arm_sum += digit * len(str_n)\n",
    "    \n",
    "    temp_n = temp_n // 10\n",
    "    \n",
    "print(arm_sum)\n",
    "\n",
    "if arm_sum == n:\n",
    "    print('true')\n",
    "else:\n",
    "    print('false')\n"
   ]
  },
  {
   "cell_type": "code",
   "execution_count": 2,
   "id": "07e1e8d5",
   "metadata": {},
   "outputs": [
    {
     "data": {
      "text/plain": [
       "5"
      ]
     },
     "execution_count": 2,
     "metadata": {},
     "output_type": "execute_result"
    }
   ],
   "source": [
    "a = 5 \n",
    "temp = a\n",
    "\n",
    "temp = 1000\n",
    "a"
   ]
  },
  {
   "cell_type": "code",
   "execution_count": null,
   "id": "ba1c46b4",
   "metadata": {},
   "outputs": [],
   "source": []
  }
 ],
 "metadata": {
  "kernelspec": {
   "display_name": "Python 3 (ipykernel)",
   "language": "python",
   "name": "python3"
  },
  "language_info": {
   "codemirror_mode": {
    "name": "ipython",
    "version": 3
   },
   "file_extension": ".py",
   "mimetype": "text/x-python",
   "name": "python",
   "nbconvert_exporter": "python",
   "pygments_lexer": "ipython3",
   "version": "3.10.2"
  }
 },
 "nbformat": 4,
 "nbformat_minor": 5
}
