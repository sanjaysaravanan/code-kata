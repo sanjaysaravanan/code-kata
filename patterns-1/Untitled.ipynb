{
 "cells": [
  {
   "cell_type": "code",
   "execution_count": 5,
   "id": "729c6d47",
   "metadata": {},
   "outputs": [
    {
     "data": {
      "text/plain": [
       "'A'"
      ]
     },
     "execution_count": 5,
     "metadata": {},
     "output_type": "execute_result"
    }
   ],
   "source": [
    "ord('A')\n",
    "chr(65)"
   ]
  },
  {
   "cell_type": "code",
   "execution_count": 6,
   "id": "d09eb20d",
   "metadata": {},
   "outputs": [
    {
     "data": {
      "text/plain": [
       "'\\nn = 3\\n1\\n23\\n345\\n\\nn = 4\\n1\\n23\\n345\\n4567\\n'"
      ]
     },
     "execution_count": 6,
     "metadata": {},
     "output_type": "execute_result"
    }
   ],
   "source": [
    "'''\n",
    "n = 3\n",
    "1\n",
    "23\n",
    "345\n",
    "\n",
    "n = 4\n",
    "1\n",
    "23\n",
    "345\n",
    "4567\n",
    "'''\n",
    "# for i in range(1, n+1):\n",
    "#     for j in range(0, i):\n",
    "#         print(i+j, end=\"\")\n",
    "#     print()"
   ]
  },
  {
   "cell_type": "code",
   "execution_count": 21,
   "id": "fba40926",
   "metadata": {},
   "outputs": [
    {
     "name": "stdout",
     "output_type": "stream",
     "text": [
      "5\n",
      "A\n",
      "BC\n",
      "CDE\n",
      "DEFG\n",
      "EFGHI\n"
     ]
    }
   ],
   "source": [
    "'''\n",
    "n = 4\n",
    "A\n",
    "BC\n",
    "CDE\n",
    "DEFG\n",
    "'''\n",
    "n = int(input())\n",
    "\n",
    "i = 1\n",
    "while i <= n:\n",
    "    j = 1\n",
    "    p = 65 + i - 1\n",
    "    while j <= i:\n",
    "        print(chr(p + j - 1), end=\"\")\n",
    "        j = j + 1\n",
    "    i = i + 1\n",
    "    print()\n"
   ]
  },
  {
   "cell_type": "code",
   "execution_count": 24,
   "id": "0823a8cf",
   "metadata": {},
   "outputs": [
    {
     "name": "stdout",
     "output_type": "stream",
     "text": [
      "5\n",
      "E\n",
      "DE\n",
      "CDE\n",
      "BCDE\n",
      "ABCDE\n"
     ]
    }
   ],
   "source": [
    "'''\n",
    "n = 5\n",
    "E\n",
    "DE\n",
    "CDE\n",
    "BCDE\n",
    "ABCDE\n",
    "'''\n",
    "n = int(input())\n",
    "\n",
    "i = n\n",
    "x = 1\n",
    "while i >= 1:\n",
    "    j = 1\n",
    "    p = 65 + i - 1\n",
    "    while j <= x:\n",
    "        print(chr(p + j - 1), end=\"\")\n",
    "        j = j + 1\n",
    "    i = i - 1\n",
    "    x = x + 1\n",
    "    print()"
   ]
  },
  {
   "cell_type": "code",
   "execution_count": 28,
   "id": "15f2f9fa",
   "metadata": {},
   "outputs": [
    {
     "name": "stdout",
     "output_type": "stream",
     "text": [
      "5\n",
      "1\n",
      "11\n",
      "111\n",
      "1111\n",
      "11111\n"
     ]
    }
   ],
   "source": [
    "'''\n",
    "1\n",
    "11\n",
    "111\n",
    "1111\n",
    "'''\n",
    "n = int(input())\n",
    "i = 1\n",
    "while i <= n:\n",
    "    j = 1\n",
    "    while j <= i:\n",
    "        print(\"1\", end=\"\")\n",
    "        j = j + 1\n",
    "    i = i + 1\n",
    "    print()\n",
    "    \n"
   ]
  },
  {
   "cell_type": "code",
   "execution_count": 33,
   "id": "f310b523",
   "metadata": {},
   "outputs": [
    {
     "name": "stdout",
     "output_type": "stream",
     "text": [
      "5\n",
      "1\n",
      "11\n",
      "202\n",
      "3003\n",
      "40004\n"
     ]
    }
   ],
   "source": [
    "'''\n",
    "n = 4\n",
    "1\n",
    "11\n",
    "202\n",
    "3003\n",
    "'''\n",
    "n = int(input())\n",
    "\n",
    "i = 2\n",
    "print(1)\n",
    "while i <= n:\n",
    "    j = 1\n",
    "    while j <= i:\n",
    "        if j == 1 or j == i:\n",
    "            print(str(i - 1), end=\"\")\n",
    "        else:\n",
    "            print('0', end=\"\")\n",
    "        j = j + 1\n",
    "    \n",
    "    i = i + 1\n",
    "    print()\n"
   ]
  },
  {
   "cell_type": "code",
   "execution_count": 35,
   "id": "98c39efb",
   "metadata": {},
   "outputs": [
    {
     "name": "stdout",
     "output_type": "stream",
     "text": [
      "5\n",
      "1\n",
      "11\n",
      "121\n",
      "1221\n",
      "12221\n"
     ]
    }
   ],
   "source": [
    "'''\n",
    "n = 4\n",
    "1\n",
    "11\n",
    "121\n",
    "1221\n",
    "'''\n",
    "n = int(input())\n",
    "\n",
    "i = 2\n",
    "print(1)\n",
    "while i <= n:\n",
    "    j = 1\n",
    "    while j <= i:\n",
    "        if j == 1 or j == i:\n",
    "            print('1', end=\"\")\n",
    "        else:\n",
    "            print('2', end=\"\")\n",
    "        j = j + 1\n",
    "    \n",
    "    i = i + 1\n",
    "    print()\n"
   ]
  },
  {
   "cell_type": "code",
   "execution_count": 37,
   "id": "469d0b76",
   "metadata": {},
   "outputs": [
    {
     "name": "stdout",
     "output_type": "stream",
     "text": [
      "5\n",
      "12345\n",
      "1234\n",
      "123\n",
      "12\n",
      "1\n"
     ]
    }
   ],
   "source": [
    "'''\n",
    "n = 5\n",
    "12345\n",
    "1234\n",
    "123\n",
    "12\n",
    "1\n",
    "'''\n",
    "\n",
    "n = int(input())\n",
    "i = n\n",
    "while i >= 1:\n",
    "    j = 1\n",
    "    while j <= i:\n",
    "        \n",
    "        print(j, end=\"\")\n",
    "        \n",
    "        j = j + 1\n",
    "    print()\n",
    "    \n",
    "    i = i - 1"
   ]
  },
  {
   "cell_type": "code",
   "execution_count": 38,
   "id": "110da228",
   "metadata": {},
   "outputs": [
    {
     "name": "stdout",
     "output_type": "stream",
     "text": [
      "5\n",
      "A\n",
      "BB\n",
      "CCC\n",
      "DDDD\n",
      "EEEEE\n"
     ]
    }
   ],
   "source": [
    "'''\n",
    "n = 6\n",
    "A\n",
    "BB\n",
    "CCC\n",
    "DDDD\n",
    "EEEEE\n",
    "FFFFFF\n",
    "'''\n",
    "\n",
    "n = int(input())\n",
    "\n",
    "i = 1\n",
    "start_char = 65\n",
    "while i <= n:\n",
    "    \n",
    "    j = 1\n",
    "\n",
    "    while j <= i:\n",
    "        print(chr(start_char), end=\"\")\n",
    "        \n",
    "        j = j + 1\n",
    "    print()\n",
    "    i = i + 1\n",
    "    start_char = start_char + 1\n",
    "\n",
    "    \n",
    "\n"
   ]
  },
  {
   "cell_type": "code",
   "execution_count": null,
   "id": "6a2fe74d",
   "metadata": {},
   "outputs": [],
   "source": []
  },
  {
   "cell_type": "code",
   "execution_count": null,
   "id": "a256c82d",
   "metadata": {},
   "outputs": [],
   "source": []
  }
 ],
 "metadata": {
  "kernelspec": {
   "display_name": "Python 3 (ipykernel)",
   "language": "python",
   "name": "python3"
  },
  "language_info": {
   "codemirror_mode": {
    "name": "ipython",
    "version": 3
   },
   "file_extension": ".py",
   "mimetype": "text/x-python",
   "name": "python",
   "nbconvert_exporter": "python",
   "pygments_lexer": "ipython3",
   "version": "3.8.10"
  }
 },
 "nbformat": 4,
 "nbformat_minor": 5
}
