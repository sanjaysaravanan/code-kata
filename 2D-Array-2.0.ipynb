{
 "cells": [
  {
   "cell_type": "code",
   "execution_count": 3,
   "id": "80424490",
   "metadata": {},
   "outputs": [
    {
     "name": "stdout",
     "output_type": "stream",
     "text": [
      "1\n",
      "4\n",
      "7\n",
      "2\n",
      "5\n",
      "8\n",
      "3\n",
      "6\n",
      "9\n"
     ]
    }
   ],
   "source": [
    "def findLargest(arr, nRows, mCols):\n",
    "    \n",
    "    if nRows == 0 or mCols == 0:\n",
    "        print('row 0 -2147483648')\n",
    "    \n",
    "    row_sum = 0\n",
    "    max_dir = 'row'\n",
    "    max_dir_sum = 0\n",
    "    max_dir_num = 0\n",
    "    col_sum = 0\n",
    "    for i in range(nRows):\n",
    "        row_sum = 0\n",
    "        col_sum = 0\n",
    "        for j in range(mCols):\n",
    "            row_sum += arr[i][j]\n",
    "            col_sum += arr[j][i]\n",
    "        if row_sum >= col_sum and max_dir_sum < row_sum:\n",
    "            max_dir = 'row'\n",
    "            max_dir_sum = row_sum\n",
    "            max_dir_num = i\n",
    "        elif col_sum > row_sum  and max_dir_sum < col_sum:\n",
    "            max_dir = 'col'\n",
    "            max_dir_sum = col_sum\n",
    "            max_dir_num = i\n",
    "            \n",
    "    \n",
    "    print(max_dir, end=\" \")\n",
    "    print()\n",
    "            \n",
    "            \n",
    "            \n",
    "    \n",
    "    \n",
    "findLargest([[1,2,3], [4,5,6], [7,8,9]], 3, 3)\n",
    "            \n",
    "            \n",
    "    "
   ]
  },
  {
   "cell_type": "code",
   "execution_count": 23,
   "id": "36ef3caf",
   "metadata": {},
   "outputs": [
    {
     "name": "stdout",
     "output_type": "stream",
     "text": [
      "row 0 -2147483648\n",
      "row 0 0"
     ]
    }
   ],
   "source": [
    "def findLargest(arr, nRows, mCols):\n",
    "    \n",
    "    if nRows == 0 or mCols == 0:\n",
    "        print('row 0 -2147483648')\n",
    "    else:\n",
    "        row_sum = 0\n",
    "        max_dir = 'row'\n",
    "        max_dir_sum = 0\n",
    "        max_dir_num = 0\n",
    "        col_sum = 0\n",
    "        for i in range(nRows):\n",
    "            row_sum = 0\n",
    "            for j in range(mCols):\n",
    "                row_sum += arr[i][j]\n",
    "            if max_dir_sum < row_sum:\n",
    "                max_dir = 'row'\n",
    "                max_dir_sum = row_sum\n",
    "                max_dir_num = i\n",
    "\n",
    "        for i in range(mCols):\n",
    "            col_sum = 0\n",
    "            for j in range(nRows):\n",
    "                col_sum += arr[j][i]\n",
    "            if col_sum > row_sum and max_dir_sum < col_sum:\n",
    "                max_dir = 'column'\n",
    "                max_dir_sum = col_sum\n",
    "                max_dir_num = i\n",
    "\n",
    "        print(max_dir, end=\" \")\n",
    "        print(max_dir_num, end=\" \")\n",
    "        print(max_dir_sum, end='')\n",
    "            \n",
    "            \n",
    "            \n",
    "# 3 6 9 \n",
    "# 1 4 7 \n",
    "# 2 8 9\n",
    "\n",
    "# 1 2\n",
    "# 90 100\n",
    "# 3 40\n",
    "# -10 200\n",
    "    \n",
    "findLargest([[1,2], [90,100], [3, 40], [-10, 200]], 0, 2)\n",
    "            \n",
    "            \n",
    "    "
   ]
  },
  {
   "cell_type": "code",
   "execution_count": 2,
   "id": "31b8a4ba",
   "metadata": {},
   "outputs": [
    {
     "name": "stdout",
     "output_type": "stream",
     "text": [
      "1 4 5 2 3 6 "
     ]
    }
   ],
   "source": [
    "def wavePrint(mat, nRows, mCols): # col wave\n",
    "    \n",
    "    for i in range(mCols):\n",
    "        if i % 2 == 0:\n",
    "            for j in range(nRows):\n",
    "                print(mat[j][i], end=\" \")\n",
    "        else:\n",
    "            for j in range(nRows - 1, -1, -1):\n",
    "                print(mat[j][i], end=\" \")\n",
    "    \n",
    "\n",
    "wavePrint([[1,2,3],[4,5,6]], 2, 3);\n",
    "    "
   ]
  },
  {
   "cell_type": "code",
   "execution_count": 4,
   "id": "d52053b0",
   "metadata": {},
   "outputs": [
    {
     "name": "stdout",
     "output_type": "stream",
     "text": [
      "1 2 3 6 5 4 7 8 9 12 11 10 "
     ]
    }
   ],
   "source": [
    "def wavePrintRow(mat, nRows, mCols): # Row wave\n",
    "    \n",
    "    for i in range(nRows):\n",
    "        if i % 2 == 0:\n",
    "            for j in range(mCols):\n",
    "                print(mat[i][j], end=\" \")\n",
    "        else:\n",
    "            for j in range(mCols - 1, -1, -1):\n",
    "                print(mat[i][j], end=\" \")\n",
    "    \n",
    "\n",
    "wavePrintRow([[1,2,3],[4,5,6], [7,8,9], [10,11,12]], 4, 3);"
   ]
  },
  {
   "cell_type": "code",
   "execution_count": 6,
   "id": "0a79658c",
   "metadata": {},
   "outputs": [
    {
     "name": "stdout",
     "output_type": "stream",
     "text": [
      "1 2 3 4 8 12 11 10 9 5 6 7 "
     ]
    }
   ],
   "source": [
    "def spiralOrder(matrix):\n",
    "    ans = []\n",
    "  \n",
    "    if (len(matrix) == 0):\n",
    "        return ans\n",
    "  \n",
    "    m = len(matrix)\n",
    "    n = len(matrix[0])\n",
    "    seen = [[0 for i in range(n)] for j in range(m)]\n",
    "    dr = [0, 1, 0, -1]\n",
    "    dc = [1, 0, -1, 0]\n",
    "    x = 0\n",
    "    y = 0\n",
    "    di = 0\n",
    "  \n",
    "    # Iterate from 0 to R * C - 1\n",
    "    for i in range(m * n):\n",
    "        ans.append(matrix[x][y])\n",
    "        seen[x][y] = True\n",
    "        cr = x + dr[di]\n",
    "        cc = y + dc[di]\n",
    "  \n",
    "        if (0 <= cr and cr < m and 0 <= cc and cc < n and not(seen[cr][cc])):\n",
    "            x = cr\n",
    "            y = cc\n",
    "        else:\n",
    "            di = (di + 1) % 4\n",
    "            x += dr[di]\n",
    "            y += dc[di]\n",
    "    return ans\n",
    "  \n",
    "  \n",
    "# Driver code\n",
    "a = [[1, 2, 3, 4],\n",
    "     [5, 6, 7, 8],\n",
    "     [9, 10, 11, 12]]\n",
    "  \n",
    "for x in spiralOrder(a):\n",
    "    print(x, end=\" \")"
   ]
  },
  {
   "cell_type": "code",
   "execution_count": 1,
   "id": "08598be4",
   "metadata": {},
   "outputs": [
    {
     "ename": "SyntaxError",
     "evalue": "invalid syntax (285104761.py, line 5)",
     "output_type": "error",
     "traceback": [
      "\u001b[1;36m  Input \u001b[1;32mIn [1]\u001b[1;36m\u001b[0m\n\u001b[1;33m    using namespace std;\u001b[0m\n\u001b[1;37m          ^\u001b[0m\n\u001b[1;31mSyntaxError\u001b[0m\u001b[1;31m:\u001b[0m invalid syntax\n"
     ]
    }
   ],
   "source": [
    "# C++ solution foe the spiral print of a matrix\n",
    "#include <iostream>\n",
    "#include <vector>\n",
    "#include <bits/stdc++.h>\n",
    "\n",
    "using namespace std;\n",
    "void spiralPrint(int **mat, int nRows, int nCols)\n",
    "{\n",
    "    int top = 0, left = 0, bottom = nRows - 1, right = nCols - 1;\n",
    "\n",
    "  while (top <= bottom && left <= right) {\n",
    "    for (int i = left; i <= right; i++)\n",
    "      cout << mat[top][i] << \" \";\n",
    "\n",
    "    top++;\n",
    "\n",
    "    for (int i = top; i <= bottom; i++)\n",
    "      cout << mat[i][right] << \" \";\n",
    "\n",
    "    right--;\n",
    "\n",
    "    if (top <= bottom) {\n",
    "      for (int i = right; i >= left; i--)\n",
    "        cout << mat[bottom][i] << \" \";\n",
    "\n",
    "      bottom--;\n",
    "    }\n",
    "\n",
    "    if (left <= right) {\n",
    "      for (int i = bottom; i >= top; i--)\n",
    "        cout << mat[i][left] << \" \";\n",
    "\n",
    "      left++;\n",
    "    }\n",
    "  }\n",
    "}"
   ]
  },
  {
   "cell_type": "code",
   "execution_count": 2,
   "id": "65436c74",
   "metadata": {},
   "outputs": [
    {
     "name": "stdout",
     "output_type": "stream",
     "text": [
      "(6, 7)\n"
     ]
    }
   ],
   "source": [
    "a = 5,6,7\n",
    "print(a[1:])\n"
   ]
  },
  {
   "cell_type": "code",
   "execution_count": 3,
   "id": "f0466284",
   "metadata": {},
   "outputs": [
    {
     "name": "stdout",
     "output_type": "stream",
     "text": [
      "4\n"
     ]
    }
   ],
   "source": [
    "a = 1,2\n",
    "b = (4,5)\n",
    "d = a+b\n",
    "print(d[2])"
   ]
  },
  {
   "cell_type": "code",
   "execution_count": 4,
   "id": "633e294b",
   "metadata": {},
   "outputs": [
    {
     "name": "stdout",
     "output_type": "stream",
     "text": [
      "120\n"
     ]
    }
   ],
   "source": [
    "def multiply(a,b,c,*more):\n",
    "    value = a*b*c\n",
    "    for i in more:\n",
    "        value = value * i\n",
    "    return value\n",
    "V = multiply(1,2,3,4,5)\n",
    "print(V)"
   ]
  },
  {
   "cell_type": "code",
   "execution_count": 6,
   "id": "76181338",
   "metadata": {},
   "outputs": [
    {
     "name": "stdout",
     "output_type": "stream",
     "text": [
      "5\n"
     ]
    }
   ],
   "source": [
    "d = {1:2, 'abc':5, 'def':7}\n",
    "print(d.get(0,5))"
   ]
  },
  {
   "cell_type": "code",
   "execution_count": 7,
   "id": "7afbb7f6",
   "metadata": {},
   "outputs": [
    {
     "ename": "AttributeError",
     "evalue": "'dict' object has no attribute 'add'",
     "output_type": "error",
     "traceback": [
      "\u001b[1;31m---------------------------------------------------------------------------\u001b[0m",
      "\u001b[1;31mAttributeError\u001b[0m                            Traceback (most recent call last)",
      "Input \u001b[1;32mIn [7]\u001b[0m, in \u001b[0;36m<cell line: 2>\u001b[1;34m()\u001b[0m\n\u001b[0;32m      1\u001b[0m s \u001b[38;5;241m=\u001b[39m {}\n\u001b[1;32m----> 2\u001b[0m \u001b[43ms\u001b[49m\u001b[38;5;241;43m.\u001b[39;49m\u001b[43madd\u001b[49m(\u001b[38;5;241m4\u001b[39m)\n\u001b[0;32m      3\u001b[0m s\u001b[38;5;241m.\u001b[39madd(\u001b[38;5;241m4\u001b[39m)\n\u001b[0;32m      4\u001b[0m \u001b[38;5;28mprint\u001b[39m(\u001b[38;5;28mlen\u001b[39m(s))\n",
      "\u001b[1;31mAttributeError\u001b[0m: 'dict' object has no attribute 'add'"
     ]
    }
   ],
   "source": [
    "s = {}\n",
    "s.add(4)\n",
    "s.add(4)\n",
    "print(len(s))"
   ]
  },
  {
   "cell_type": "code",
   "execution_count": 9,
   "id": "7209ef38",
   "metadata": {},
   "outputs": [
    {
     "name": "stdout",
     "output_type": "stream",
     "text": [
      "12 13\n",
      "12\n",
      "13\n"
     ]
    }
   ],
   "source": [
    "n, m = input().split()\n",
    "print(n)\n",
    "print(m)"
   ]
  },
  {
   "cell_type": "code",
   "execution_count": null,
   "id": "1e8fc593",
   "metadata": {},
   "outputs": [],
   "source": []
  },
  {
   "cell_type": "code",
   "execution_count": null,
   "id": "6af24bbc",
   "metadata": {},
   "outputs": [],
   "source": []
  },
  {
   "cell_type": "code",
   "execution_count": 21,
   "id": "550903f4",
   "metadata": {},
   "outputs": [
    {
     "data": {
      "text/plain": [
       "[5, 4, 3, 2, 1]"
      ]
     },
     "execution_count": 21,
     "metadata": {},
     "output_type": "execute_result"
    }
   ],
   "source": [
    "lis = list(range(5, 0, -1))\n",
    "lis"
   ]
  },
  {
   "cell_type": "code",
   "execution_count": 20,
   "id": "9180e3af",
   "metadata": {},
   "outputs": [
    {
     "data": {
      "text/plain": [
       "[3, 2, 1, 0]"
      ]
     },
     "execution_count": 20,
     "metadata": {},
     "output_type": "execute_result"
    }
   ],
   "source": [
    "list(range(3, -1, -1))"
   ]
  },
  {
   "cell_type": "code",
   "execution_count": 15,
   "id": "bd52e2de",
   "metadata": {},
   "outputs": [
    {
     "ename": "ValueError",
     "evalue": "max() arg is an empty sequence",
     "output_type": "error",
     "traceback": [
      "\u001b[1;31m---------------------------------------------------------------------------\u001b[0m",
      "\u001b[1;31mValueError\u001b[0m                                Traceback (most recent call last)",
      "Input \u001b[1;32mIn [15]\u001b[0m, in \u001b[0;36m<cell line: 1>\u001b[1;34m()\u001b[0m\n\u001b[1;32m----> 1\u001b[0m \u001b[38;5;28;43mmax\u001b[39;49m\u001b[43m(\u001b[49m\u001b[43m[\u001b[49m\u001b[43m]\u001b[49m\u001b[43m)\u001b[49m\n",
      "\u001b[1;31mValueError\u001b[0m: max() arg is an empty sequence"
     ]
    }
   ],
   "source": [
    "max([])"
   ]
  },
  {
   "cell_type": "code",
   "execution_count": 16,
   "id": "fd5f1e78",
   "metadata": {},
   "outputs": [],
   "source": [
    "lis_sam = []\n",
    "lis_sam.append('500')"
   ]
  },
  {
   "cell_type": "code",
   "execution_count": 17,
   "id": "00f205b1",
   "metadata": {},
   "outputs": [
    {
     "data": {
      "text/plain": [
       "['500']"
      ]
     },
     "execution_count": 17,
     "metadata": {},
     "output_type": "execute_result"
    }
   ],
   "source": [
    "lis_sam"
   ]
  },
  {
   "cell_type": "code",
   "execution_count": 18,
   "id": "9ad3a4cb",
   "metadata": {},
   "outputs": [],
   "source": [
    "lis_sam.append('500')"
   ]
  },
  {
   "cell_type": "code",
   "execution_count": 19,
   "id": "52e7e778",
   "metadata": {},
   "outputs": [
    {
     "data": {
      "text/plain": [
       "['500', '500']"
      ]
     },
     "execution_count": 19,
     "metadata": {},
     "output_type": "execute_result"
    }
   ],
   "source": [
    "lis_sam"
   ]
  },
  {
   "cell_type": "code",
   "execution_count": 22,
   "id": "972f8426",
   "metadata": {},
   "outputs": [
    {
     "name": "stdout",
     "output_type": "stream",
     "text": [
      "3\n",
      "3 2 1\n",
      "3 2 1\n"
     ]
    }
   ],
   "source": [
    "# Leaders in array\n",
    "## Read input as specified in the question.\n",
    "## Print output as specified in the question.\n",
    "\n",
    "n = int(input())\n",
    "\n",
    "arr = list(map(int, input().split()))\n",
    "\n",
    "last_ele = arr[-1]\n",
    "\n",
    "leaders = [str(last_ele)]\n",
    "\n",
    "for i in range(n-2, -1, -1):\n",
    "    if arr[i] >= last_ele:\n",
    "        last_ele = arr[i]\n",
    "        leaders.append(str(last_ele))\n",
    "        \n",
    "\n",
    "print(' '.join(leaders[::-1]))\n"
   ]
  },
  {
   "cell_type": "code",
   "execution_count": 23,
   "id": "6003869e",
   "metadata": {},
   "outputs": [
    {
     "name": "stdout",
     "output_type": "stream",
     "text": [
      "a ab cde fgh i\n",
      "a\n"
     ]
    }
   ],
   "source": [
    "# Min length word\n",
    "## Read input as specified in the question.\n",
    "## Print output as specified in the question.\n",
    "\n",
    "input_str = input()\n",
    "\n",
    "arr_str = input_str.split(' ')\n",
    "\n",
    "min_len_word = arr_str[0]\n",
    "\n",
    "for word in arr_str:\n",
    "    if len(min_len_word) > len(word):\n",
    "        min_len_word = word\n",
    "    \n",
    "print(min_len_word)\n"
   ]
  },
  {
   "cell_type": "code",
   "execution_count": 24,
   "id": "b38e3de3",
   "metadata": {},
   "outputs": [
    {
     "name": "stdout",
     "output_type": "stream",
     "text": [
      "1 1\n",
      "1 2 3\n",
      "1 2 3\n"
     ]
    }
   ],
   "source": [
    "# Print 2D Array\n",
    "## Read input as specified in the question.\n",
    "## Print output as specified in the question.\n",
    "n, m = input().split()\n",
    "n = int(n)\n",
    "m = int(m)\n",
    "\n",
    "for i in range(n):\n",
    "    inputStr = input()\n",
    "    for _ in range(n - i):\n",
    "        print(inputStr)\n"
   ]
  },
  {
   "cell_type": "code",
   "execution_count": null,
   "id": "24dd19e2",
   "metadata": {},
   "outputs": [],
   "source": []
  },
  {
   "cell_type": "code",
   "execution_count": null,
   "id": "9f8016c7",
   "metadata": {},
   "outputs": [],
   "source": []
  },
  {
   "cell_type": "code",
   "execution_count": null,
   "id": "b3e0a085",
   "metadata": {},
   "outputs": [],
   "source": []
  },
  {
   "cell_type": "code",
   "execution_count": null,
   "id": "d2b8584d",
   "metadata": {},
   "outputs": [],
   "source": []
  },
  {
   "cell_type": "code",
   "execution_count": null,
   "id": "2d55dc8b",
   "metadata": {},
   "outputs": [],
   "source": []
  },
  {
   "cell_type": "code",
   "execution_count": null,
   "id": "d9d3b55c",
   "metadata": {},
   "outputs": [],
   "source": []
  },
  {
   "cell_type": "code",
   "execution_count": null,
   "id": "d5fb8db6",
   "metadata": {},
   "outputs": [],
   "source": []
  },
  {
   "cell_type": "code",
   "execution_count": null,
   "id": "08380162",
   "metadata": {},
   "outputs": [],
   "source": []
  },
  {
   "cell_type": "code",
   "execution_count": null,
   "id": "15322f3f",
   "metadata": {},
   "outputs": [],
   "source": []
  },
  {
   "cell_type": "code",
   "execution_count": null,
   "id": "06075657",
   "metadata": {},
   "outputs": [],
   "source": []
  },
  {
   "cell_type": "code",
   "execution_count": null,
   "id": "c58f085c",
   "metadata": {},
   "outputs": [],
   "source": []
  },
  {
   "cell_type": "code",
   "execution_count": null,
   "id": "698107c4",
   "metadata": {},
   "outputs": [],
   "source": []
  },
  {
   "cell_type": "code",
   "execution_count": null,
   "id": "5d1d7ffd",
   "metadata": {},
   "outputs": [],
   "source": []
  },
  {
   "cell_type": "code",
   "execution_count": null,
   "id": "71cf13ff",
   "metadata": {},
   "outputs": [],
   "source": []
  },
  {
   "cell_type": "code",
   "execution_count": null,
   "id": "c86f6da7",
   "metadata": {},
   "outputs": [],
   "source": []
  },
  {
   "cell_type": "code",
   "execution_count": null,
   "id": "1ec1414c",
   "metadata": {},
   "outputs": [],
   "source": []
  },
  {
   "cell_type": "code",
   "execution_count": null,
   "id": "29e659af",
   "metadata": {},
   "outputs": [],
   "source": []
  },
  {
   "cell_type": "code",
   "execution_count": null,
   "id": "72b360e9",
   "metadata": {},
   "outputs": [],
   "source": []
  },
  {
   "cell_type": "code",
   "execution_count": null,
   "id": "fe00c47d",
   "metadata": {},
   "outputs": [],
   "source": []
  },
  {
   "cell_type": "code",
   "execution_count": null,
   "id": "bed3d3e6",
   "metadata": {},
   "outputs": [],
   "source": []
  },
  {
   "cell_type": "code",
   "execution_count": null,
   "id": "39f5a195",
   "metadata": {},
   "outputs": [],
   "source": []
  },
  {
   "cell_type": "code",
   "execution_count": null,
   "id": "3cb957c6",
   "metadata": {},
   "outputs": [],
   "source": []
  }
 ],
 "metadata": {
  "kernelspec": {
   "display_name": "Python 3 (ipykernel)",
   "language": "python",
   "name": "python3"
  },
  "language_info": {
   "codemirror_mode": {
    "name": "ipython",
    "version": 3
   },
   "file_extension": ".py",
   "mimetype": "text/x-python",
   "name": "python",
   "nbconvert_exporter": "python",
   "pygments_lexer": "ipython3",
   "version": "3.10.2"
  }
 },
 "nbformat": 4,
 "nbformat_minor": 5
}
