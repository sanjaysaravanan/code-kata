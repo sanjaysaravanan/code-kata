{
 "cells": [
  {
   "cell_type": "code",
   "execution_count": 2,
   "id": "aa331484",
   "metadata": {},
   "outputs": [],
   "source": [
    "# Power Of A Number"
   ]
  },
  {
   "cell_type": "code",
   "execution_count": 6,
   "id": "a053f479",
   "metadata": {},
   "outputs": [
    {
     "name": "stdout",
     "output_type": "stream",
     "text": [
      "3 4\n",
      "81\n"
     ]
    }
   ],
   "source": [
    "x, n = list(map(int, input().split()))\n",
    "\n",
    "print(x ** n)"
   ]
  },
  {
   "cell_type": "code",
   "execution_count": 9,
   "id": "b0add5da",
   "metadata": {},
   "outputs": [
    {
     "name": "stdout",
     "output_type": "stream",
     "text": [
      "0 2\n",
      "0\n"
     ]
    }
   ],
   "source": [
    "x, n = list(map(int, input().split()))\n",
    "\n",
    "res_num = 1\n",
    "\n",
    "for i in range(n):\n",
    "    res_num *= x \n",
    "    \n",
    "print(res_num)\n",
    "\n"
   ]
  },
  {
   "cell_type": "code",
   "execution_count": 1,
   "id": "201e781c",
   "metadata": {},
   "outputs": [
    {
     "name": "stdout",
     "output_type": "stream",
     "text": [
      "16\n"
     ]
    }
   ],
   "source": [
    "def fun(n):\n",
    "    if(n == 4):\n",
    "        return n\n",
    "    else:\n",
    "        return 2*fun(n+1)\n",
    "`\n",
    "\n",
    "print(fun(2))"
   ]
  },
  {
   "cell_type": "code",
   "execution_count": 2,
   "id": "26dc3421",
   "metadata": {},
   "outputs": [],
   "source": [
    "# Last Index Of Number Question"
   ]
  },
  {
   "cell_type": "code",
   "execution_count": 1,
   "id": "a265c6d5",
   "metadata": {},
   "outputs": [
    {
     "name": "stdout",
     "output_type": "stream",
     "text": [
      "4\n",
      "9 8 10 8\n",
      "8\n",
      "3\n"
     ]
    }
   ],
   "source": [
    "## Read input as specified in the question.\n",
    "## Print output as specified in the question.\n",
    "n = int(input())\n",
    "\n",
    "arr = list(map(int, input().split()))\n",
    "\n",
    "num = int(input())\n",
    "\n",
    "def findLastIndexOfNum(arr, i, x, lastIndex = -1):\n",
    "    \n",
    "    if i == n:\n",
    "        return lastIndex\n",
    "    \n",
    "    if arr[i] == x:\n",
    "        return findLastIndexOfNum(arr, i+1, x, i)\n",
    "    \n",
    "    return findLastIndexOfNum(arr, i+1, x, lastIndex)\n",
    "\n",
    "print(findLastIndexOfNum(arr, 0, num, -1))\n",
    "    "
   ]
  },
  {
   "cell_type": "code",
   "execution_count": 1,
   "id": "a7bf3384",
   "metadata": {},
   "outputs": [
    {
     "name": "stdout",
     "output_type": "stream",
     "text": [
      "xxxxx\n",
      "xxxxx\n"
     ]
    }
   ],
   "source": [
    "# Problem: Remove x from string\n",
    "def removeX(string):\n",
    "    \n",
    "    return string.replace('x', '')\n",
    "\n",
    "# Main\n",
    "string = input()\n",
    "print(removeX(string))\n"
   ]
  },
  {
   "cell_type": "code",
   "execution_count": 3,
   "id": "4e120bab",
   "metadata": {},
   "outputs": [
    {
     "data": {
      "text/plain": [
       "''"
      ]
     },
     "execution_count": 3,
     "metadata": {},
     "output_type": "execute_result"
    }
   ],
   "source": [
    "\"xxxx\".replace('x', '')"
   ]
  },
  {
   "cell_type": "code",
   "execution_count": 7,
   "id": "07b47f88",
   "metadata": {},
   "outputs": [
    {
     "name": "stdout",
     "output_type": "stream",
     "text": [
      "aabccba\n",
      "abcba\n"
     ]
    }
   ],
   "source": [
    "# Problem ID 91, removeConsecutiveDuplicates\n",
    "def removeConsecutiveDuplicates(string):\n",
    "    # Please add your code here\n",
    "    res_str = string[0]\n",
    "    curr_char = string[0]\n",
    "    for c in string:\n",
    "        if curr_char != c:\n",
    "            res_str += c\n",
    "            curr_char = c\n",
    "    return res_str\n",
    "\n",
    "# Main\n",
    "string = input().strip()\n",
    "print(removeConsecutiveDuplicates(string))\n"
   ]
  },
  {
   "cell_type": "code",
   "execution_count": 2,
   "id": "c7ac3567",
   "metadata": {},
   "outputs": [
    {
     "name": "stdout",
     "output_type": "stream",
     "text": [
      "6\n",
      "2 6 8 5 4 3\n",
      "2 3 4 5 6 8\n"
     ]
    }
   ],
   "source": [
    "def mergeSort(arr):\n",
    "    if len(arr) > 1:\n",
    "  \n",
    "         # Finding the mid of the array\n",
    "        mid = len(arr)//2\n",
    "  \n",
    "        # Dividing the array elements\n",
    "        L = arr[:mid]\n",
    "  \n",
    "        # into 2 halves\n",
    "        R = arr[mid:]\n",
    "  \n",
    "        # Sorting the first half\n",
    "        mergeSort(L)\n",
    "  \n",
    "        # Sorting the second half\n",
    "        mergeSort(R)\n",
    "  \n",
    "        i = j = k = 0\n",
    "  \n",
    "        # Copy data to temp arrays L[] and R[]\n",
    "        while i < len(L) and j < len(R):\n",
    "            if L[i] < R[j]:\n",
    "                arr[k] = L[i]\n",
    "                i += 1\n",
    "            else:\n",
    "                arr[k] = R[j]\n",
    "                j += 1\n",
    "            k += 1\n",
    "  \n",
    "        # Checking if any element was left\n",
    "        while i < len(L):\n",
    "            arr[k] = L[i]\n",
    "            i += 1\n",
    "            k += 1\n",
    "  \n",
    "        while j < len(R):\n",
    "            arr[k] = R[j]\n",
    "            j += 1\n",
    "            k += 1\n",
    "\n",
    "n=int(input())\n",
    "arr=list(int(i) for i in input().strip().split(' '))\n",
    "mergeSort(arr)\n",
    "print(*arr)\n"
   ]
  },
  {
   "cell_type": "code",
   "execution_count": 3,
   "id": "3718be1a",
   "metadata": {},
   "outputs": [
    {
     "name": "stdout",
     "output_type": "stream",
     "text": [
      "6\n",
      "2 6 8 5 4 3\n",
      "2 3 4 5 6 8\n"
     ]
    }
   ],
   "source": [
    "# Function to find the partition position\n",
    "def partition(array, low, high):\n",
    "  \n",
    "  # Choose the rightmost element as pivot\n",
    "  pivot = array[high]\n",
    "  \n",
    "  # Pointer for greater element\n",
    "  i = low - 1\n",
    "  \n",
    "  # Traverse through all elements\n",
    "  # compare each element with pivot\n",
    "  for j in range(low, high):\n",
    "    if array[j] <= pivot:\n",
    "      # If element smaller than pivot is found\n",
    "      # swap it with the greater element pointed by i\n",
    "      i = i + 1\n",
    "  \n",
    "      # Swapping element at i with element at j\n",
    "      (array[i], array[j]) = (array[j], array[i])\n",
    "  \n",
    "  # Swap the pivot element with the greater element specified by i\n",
    "  (array[i + 1], array[high]) = (array[high], array[i + 1])\n",
    "  \n",
    "  # Return the position from where partition is done\n",
    "  return i + 1\n",
    "  \n",
    "# Function to perform quicksort\n",
    "def quick_sort(array, low, high):\n",
    "  if low < high:\n",
    "  \n",
    "    # Find pivot element such that\n",
    "    # element smaller than pivot are on the left\n",
    "    # element greater than pivot are on the right\n",
    "    pi = partition(array, low, high)\n",
    "  \n",
    "    # Recursive call on the left of pivot\n",
    "    quick_sort(array, low, pi - 1)\n",
    "  \n",
    "    # Recursive call on the right of pivot\n",
    "    quick_sort(array, pi + 1, high)\n",
    "\n",
    "n=int(input())\n",
    "arr=list(int(i) for i in input().strip().split(' '))\n",
    "quick_sort(arr, 0, n - 1)\n",
    "print(*arr)\n"
   ]
  },
  {
   "cell_type": "code",
   "execution_count": null,
   "id": "d8b8fc36",
   "metadata": {},
   "outputs": [],
   "source": [
    "# Recursive Python function to solve the Tower of Hanoi\n",
    "def TowerOfHanoi(n,src, dest, aux):\n",
    "    if n==1: #Base Case\n",
    "        print(\"Move disk 1 from source\",src,\"to destination\",dest)\n",
    "        return\n",
    "    TowerOfHanoi(n-1, src, aux, dest) #Recursive Call 1\n",
    "    print (\"Move disk\",n,\"from source\",src,\"to destination\",dest)\n",
    "    TowerOfHanoi(n-1, aux, dest, src) #Recursive Call 2\n",
    "n = 0\n",
    "TowerOfHanoi(n,'A','B','C')\n",
    "# A, B, C are the name of rods"
   ]
  },
  {
   "cell_type": "code",
   "execution_count": null,
   "id": "715cba3b",
   "metadata": {},
   "outputs": [],
   "source": []
  },
  {
   "cell_type": "code",
   "execution_count": null,
   "id": "f0357a22",
   "metadata": {},
   "outputs": [],
   "source": [
    "def towerofhanoi(n, source, dest, aux):\n",
    "    if n==1: #Base Case\n",
    "        print(source,dest)\n",
    "        return\n",
    "    towerofhanoi(n-1, source, aux, dest) #Recursive Call 1\n",
    "    print(source,dest)\n",
    "    towerofhanoi(n-1, aux, dest, source) #Recursive Call 2\n",
    "\n",
    "n=int(input())\n",
    "towerofhanoi(n, 'a', 'b', 'c')\n"
   ]
  },
  {
   "cell_type": "code",
   "execution_count": 1,
   "id": "6886d117",
   "metadata": {},
   "outputs": [
    {
     "name": "stdout",
     "output_type": "stream",
     "text": [
      "12345\n",
      "15\n"
     ]
    }
   ],
   "source": [
    "def getDigitSum(index, num_str):\n",
    "    if index == len(num_str):\n",
    "        return 0\n",
    "    return int(num_str[index]) + getDigitSum(index + 1, num_str)\n",
    "\n",
    "inp_str = input()\n",
    "print(getDigitSum(0, inp_str))"
   ]
  },
  {
   "cell_type": "code",
   "execution_count": 4,
   "id": "13d4727e",
   "metadata": {},
   "outputs": [
    {
     "name": "stdout",
     "output_type": "stream",
     "text": [
      "0\n",
      "5\n",
      "0\n"
     ]
    }
   ],
   "source": [
    "def getMultiplication(index, operand):\n",
    "    if index == 0 or operand == 0:\n",
    "        return 0\n",
    "    return operand + getMultiplication(index - 1, operand)\n",
    "\n",
    "inp1 = int(input())\n",
    "inp2 = int(input())\n",
    "print(getMultiplication(inp1, inp2))"
   ]
  },
  {
   "cell_type": "code",
   "execution_count": 7,
   "id": "c32e8249",
   "metadata": {},
   "outputs": [
    {
     "name": "stdout",
     "output_type": "stream",
     "text": [
      "3\n"
     ]
    },
    {
     "data": {
      "text/plain": [
       "'1.87500'"
      ]
     },
     "execution_count": 7,
     "metadata": {},
     "output_type": "execute_result"
    }
   ],
   "source": [
    "def getGeometricSum(i, num):\n",
    "    if i > num:\n",
    "        return 0\n",
    "    return 1/(2 ** i) + getGeometricSum(i+1, num)\n",
    "\n",
    "n = int(input())\n",
    "\"{:.5f}\".format(getGeometricSum(0, n))"
   ]
  },
  {
   "cell_type": "code",
   "execution_count": null,
   "id": "cb4d0a3b",
   "metadata": {},
   "outputs": [],
   "source": []
  },
  {
   "cell_type": "code",
   "execution_count": null,
   "id": "1fa0ee88",
   "metadata": {},
   "outputs": [],
   "source": []
  },
  {
   "cell_type": "code",
   "execution_count": null,
   "id": "e33227f9",
   "metadata": {},
   "outputs": [],
   "source": []
  },
  {
   "cell_type": "code",
   "execution_count": null,
   "id": "9dc05b43",
   "metadata": {},
   "outputs": [],
   "source": []
  },
  {
   "cell_type": "code",
   "execution_count": null,
   "id": "e80bbc5d",
   "metadata": {},
   "outputs": [],
   "source": []
  },
  {
   "cell_type": "code",
   "execution_count": null,
   "id": "32fe78f7",
   "metadata": {},
   "outputs": [],
   "source": []
  },
  {
   "cell_type": "code",
   "execution_count": 1,
   "id": "f9bf7d3a",
   "metadata": {},
   "outputs": [
    {
     "data": {
      "text/plain": [
       "1"
      ]
     },
     "execution_count": 1,
     "metadata": {},
     "output_type": "execute_result"
    }
   ],
   "source": [
    "2 ** 0"
   ]
  },
  {
   "cell_type": "code",
   "execution_count": null,
   "id": "1b9d2c59",
   "metadata": {},
   "outputs": [],
   "source": []
  },
  {
   "cell_type": "code",
   "execution_count": null,
   "id": "4e54ec78",
   "metadata": {},
   "outputs": [],
   "source": []
  },
  {
   "cell_type": "code",
   "execution_count": null,
   "id": "4532bfc7",
   "metadata": {},
   "outputs": [],
   "source": []
  },
  {
   "cell_type": "code",
   "execution_count": null,
   "id": "f0d47827",
   "metadata": {},
   "outputs": [],
   "source": []
  },
  {
   "cell_type": "code",
   "execution_count": null,
   "id": "41bb2dcb",
   "metadata": {},
   "outputs": [],
   "source": []
  },
  {
   "cell_type": "code",
   "execution_count": null,
   "id": "48e3892c",
   "metadata": {},
   "outputs": [],
   "source": []
  },
  {
   "cell_type": "code",
   "execution_count": null,
   "id": "bf683275",
   "metadata": {},
   "outputs": [],
   "source": []
  },
  {
   "cell_type": "code",
   "execution_count": null,
   "id": "bc780e6b",
   "metadata": {},
   "outputs": [],
   "source": []
  },
  {
   "cell_type": "code",
   "execution_count": null,
   "id": "d49bd9e6",
   "metadata": {},
   "outputs": [],
   "source": []
  },
  {
   "cell_type": "code",
   "execution_count": 4,
   "id": "a7282b4f",
   "metadata": {},
   "outputs": [
    {
     "data": {
      "text/plain": [
       "'x'"
      ]
     },
     "execution_count": 4,
     "metadata": {},
     "output_type": "execute_result"
    }
   ],
   "source": [
    "\"xsds\"[0]"
   ]
  },
  {
   "cell_type": "code",
   "execution_count": null,
   "id": "0c46a502",
   "metadata": {},
   "outputs": [],
   "source": [
    "source"
   ]
  },
  {
   "cell_type": "code",
   "execution_count": null,
   "id": "f50c5adf",
   "metadata": {},
   "outputs": [],
   "source": []
  },
  {
   "cell_type": "code",
   "execution_count": null,
   "id": "e5ccf651",
   "metadata": {},
   "outputs": [],
   "source": []
  },
  {
   "cell_type": "code",
   "execution_count": null,
   "id": "954b4aae",
   "metadata": {},
   "outputs": [],
   "source": []
  },
  {
   "cell_type": "code",
   "execution_count": null,
   "id": "b8658ee9",
   "metadata": {},
   "outputs": [],
   "source": []
  },
  {
   "cell_type": "code",
   "execution_count": null,
   "id": "305f4f67",
   "metadata": {},
   "outputs": [],
   "source": []
  },
  {
   "cell_type": "code",
   "execution_count": null,
   "id": "9b9f1c6b",
   "metadata": {},
   "outputs": [],
   "source": []
  },
  {
   "cell_type": "code",
   "execution_count": null,
   "id": "60011114",
   "metadata": {},
   "outputs": [],
   "source": []
  }
 ],
 "metadata": {
  "kernelspec": {
   "display_name": "Python 3 (ipykernel)",
   "language": "python",
   "name": "python3"
  },
  "language_info": {
   "codemirror_mode": {
    "name": "ipython",
    "version": 3
   },
   "file_extension": ".py",
   "mimetype": "text/x-python",
   "name": "python",
   "nbconvert_exporter": "python",
   "pygments_lexer": "ipython3",
   "version": "3.10.2"
  }
 },
 "nbformat": 4,
 "nbformat_minor": 5
}
