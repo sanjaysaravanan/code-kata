{
 "cells": [
  {
   "cell_type": "code",
   "execution_count": null,
   "id": "f4c9e5d3",
   "metadata": {
    "collapsed": true
   },
   "outputs": [],
   "source": [
    "def findLargest(arr, nRows, nCols):\n",
    "    max_value = -2147483648\n",
    "    max_dir = 'row'\n",
    "    \n",
    "    for i in range(nRows):\n",
    "        for j in range()\n",
    "    "
   ]
  }
 ],
 "metadata": {
  "kernelspec": {
   "display_name": "Python 3 (ipykernel)",
   "language": "python",
   "name": "python3"
  },
  "language_info": {
   "codemirror_mode": {
    "name": "ipython",
    "version": 3
   },
   "file_extension": ".py",
   "mimetype": "text/x-python",
   "name": "python",
   "nbconvert_exporter": "python",
   "pygments_lexer": "ipython3",
   "version": "3.8.10"
  }
 },
 "nbformat": 4,
 "nbformat_minor": 5
}
