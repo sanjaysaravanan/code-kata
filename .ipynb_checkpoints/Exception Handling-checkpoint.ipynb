{
 "cells": [
  {
   "cell_type": "code",
   "execution_count": 1,
   "id": "6940a4f7",
   "metadata": {},
   "outputs": [],
   "source": [
    "# Exception Handling"
   ]
  },
  {
   "cell_type": "code",
   "execution_count": 7,
   "id": "853de7ba",
   "metadata": {},
   "outputs": [
    {
     "name": "stdout",
     "output_type": "stream",
     "text": [
      "('division by zero',)\n",
      "['__cause__', '__class__', '__context__', '__delattr__', '__dict__', '__dir__', '__doc__', '__eq__', '__format__', '__ge__', '__getattribute__', '__gt__', '__hash__', '__init__', '__init_subclass__', '__le__', '__lt__', '__ne__', '__new__', '__reduce__', '__reduce_ex__', '__repr__', '__setattr__', '__setstate__', '__sizeof__', '__str__', '__subclasshook__', '__suppress_context__', '__traceback__', 'args', 'with_traceback']\n"
     ]
    }
   ],
   "source": [
    "try:\n",
    "    print(1/0)\n",
    "except Exception as ex:\n",
    "    print(ex.args)\n",
    "    print(dir(ex))"
   ]
  },
  {
   "cell_type": "code",
   "execution_count": 8,
   "id": "499718a9",
   "metadata": {},
   "outputs": [
    {
     "name": "stdout",
     "output_type": "stream",
     "text": [
      "could not convert string to float: 'Message'\n"
     ]
    }
   ],
   "source": [
    "try:\n",
    "    float('Message')\n",
    "except Exception as e:\n",
    "    print(e)"
   ]
  },
  {
   "cell_type": "code",
   "execution_count": 11,
   "id": "1c922e90",
   "metadata": {},
   "outputs": [],
   "source": [
    "def attempt_float(value):\n",
    "    try:\n",
    "        return float(value)\n",
    "    except Exception as e:\n",
    "        return print(e)"
   ]
  },
  {
   "cell_type": "code",
   "execution_count": null,
   "id": "7bd80477",
   "metadata": {},
   "outputs": [],
   "source": []
  },
  {
   "cell_type": "code",
   "execution_count": null,
   "id": "d4989ce8",
   "metadata": {},
   "outputs": [],
   "source": []
  },
  {
   "cell_type": "code",
   "execution_count": 12,
   "id": "ef3f8a5d",
   "metadata": {},
   "outputs": [
    {
     "name": "stdout",
     "output_type": "stream",
     "text": [
      "could not convert string to float: 'Message'\n"
     ]
    }
   ],
   "source": [
    "attempt_float('Message')"
   ]
  },
  {
   "cell_type": "code",
   "execution_count": 13,
   "id": "ae48f899",
   "metadata": {},
   "outputs": [
    {
     "data": {
      "text/plain": [
       "12.43234234"
      ]
     },
     "execution_count": 13,
     "metadata": {},
     "output_type": "execute_result"
    }
   ],
   "source": [
    "float(12.43234234)"
   ]
  },
  {
   "cell_type": "code",
   "execution_count": 14,
   "id": "6770230f",
   "metadata": {},
   "outputs": [
    {
     "ename": "TypeError",
     "evalue": "float() argument must be a string or a real number, not 'tuple'",
     "output_type": "error",
     "traceback": [
      "\u001b[1;31m---------------------------------------------------------------------------\u001b[0m",
      "\u001b[1;31mTypeError\u001b[0m                                 Traceback (most recent call last)",
      "Input \u001b[1;32mIn [14]\u001b[0m, in \u001b[0;36m<cell line: 1>\u001b[1;34m()\u001b[0m\n\u001b[1;32m----> 1\u001b[0m \u001b[38;5;28;43mfloat\u001b[39;49m\u001b[43m(\u001b[49m\u001b[43m(\u001b[49m\u001b[38;5;241;43m1\u001b[39;49m\u001b[43m,\u001b[49m\u001b[38;5;241;43m2\u001b[39;49m\u001b[43m,\u001b[49m\u001b[43m)\u001b[49m\u001b[43m)\u001b[49m\n",
      "\u001b[1;31mTypeError\u001b[0m: float() argument must be a string or a real number, not 'tuple'"
     ]
    }
   ],
   "source": [
    "float((1,2,))"
   ]
  },
  {
   "cell_type": "code",
   "execution_count": 15,
   "id": "b08ef9d8",
   "metadata": {},
   "outputs": [
    {
     "name": "stdout",
     "output_type": "stream",
     "text": [
      "float() argument must be a string or a real number, not 'tuple'\n"
     ]
    }
   ],
   "source": [
    "attempt_float((1,2))"
   ]
  },
  {
   "cell_type": "code",
   "execution_count": 17,
   "id": "fa8f1393",
   "metadata": {},
   "outputs": [],
   "source": [
    "def attempt_float2(value):\n",
    "    try:\n",
    "        return float(value)\n",
    "    except ValueError:\n",
    "        return 'Improper input value'\n",
    "    except TypeError:\n",
    "        return 'Improper Type Value'"
   ]
  },
  {
   "cell_type": "code",
   "execution_count": 18,
   "id": "c2972702",
   "metadata": {},
   "outputs": [
    {
     "data": {
      "text/plain": [
       "123.45545"
      ]
     },
     "execution_count": 18,
     "metadata": {},
     "output_type": "execute_result"
    }
   ],
   "source": [
    "attempt_float2('123.45545')"
   ]
  },
  {
   "cell_type": "code",
   "execution_count": 19,
   "id": "881a5550",
   "metadata": {},
   "outputs": [
    {
     "data": {
      "text/plain": [
       "'Improper input value'"
      ]
     },
     "execution_count": 19,
     "metadata": {},
     "output_type": "execute_result"
    }
   ],
   "source": [
    "attempt_float2('Measagasd')"
   ]
  },
  {
   "cell_type": "code",
   "execution_count": 21,
   "id": "ccfe46d8",
   "metadata": {},
   "outputs": [
    {
     "data": {
      "text/plain": [
       "'Improper Type Value'"
      ]
     },
     "execution_count": 21,
     "metadata": {},
     "output_type": "execute_result"
    }
   ],
   "source": [
    "attempt_float2(['Afasdfasd'])"
   ]
  },
  {
   "cell_type": "code",
   "execution_count": 23,
   "id": "52a964f1",
   "metadata": {},
   "outputs": [],
   "source": [
    "def attempt_float3(value):\n",
    "    try:\n",
    "        return float(value)\n",
    "    except (ValueError, TypeError):\n",
    "        return 'Improper input value'"
   ]
  },
  {
   "cell_type": "code",
   "execution_count": 24,
   "id": "4334f614",
   "metadata": {},
   "outputs": [
    {
     "data": {
      "text/plain": [
       "'Improper input value'"
      ]
     },
     "execution_count": 24,
     "metadata": {},
     "output_type": "execute_result"
    }
   ],
   "source": [
    "attempt_float3('message')"
   ]
  },
  {
   "cell_type": "code",
   "execution_count": 25,
   "id": "3b566980",
   "metadata": {},
   "outputs": [],
   "source": [
    "def attempt_float3(value):\n",
    "    try:\n",
    "        return float(value)\n",
    "    except (ValueError, TypeError):\n",
    "        return 'Improper input value'\n",
    "    finally:\n",
    "        print('We have tried please see the above details foe the result')"
   ]
  },
  {
   "cell_type": "code",
   "execution_count": 26,
   "id": "4586ebde",
   "metadata": {},
   "outputs": [
    {
     "name": "stdout",
     "output_type": "stream",
     "text": [
      "We have tried please see the above details foe the result\n"
     ]
    },
    {
     "data": {
      "text/plain": [
       "1.298"
      ]
     },
     "execution_count": 26,
     "metadata": {},
     "output_type": "execute_result"
    }
   ],
   "source": [
    "attempt_float3('1.298')"
   ]
  },
  {
   "cell_type": "code",
   "execution_count": 27,
   "id": "4293ce51",
   "metadata": {},
   "outputs": [],
   "source": [
    "# Execute a code block regardless of whether 'try: block' succeeds or not\n",
    "# By using finally: block\n",
    "# for example: generating logs or cleaning up the python objects\n",
    "# In such situations, we might also prefer to 'not suppress exceptions'"
   ]
  },
  {
   "cell_type": "code",
   "execution_count": 32,
   "id": "6678789a",
   "metadata": {},
   "outputs": [],
   "source": [
    "f1 = open('temp.txt', 'w') # writing mode\n",
    "try:\n",
    "    f1.write('Started Cleaning the Content for analytics\\n')\n",
    "except Exception as e:\n",
    "    f1.write('Some error {0}', e)\n",
    "finally:\n",
    "    f1.write('Done Cleaing the Content Please have a look at the log file for more details')\n",
    "    f1.close()\n"
   ]
  },
  {
   "cell_type": "code",
   "execution_count": null,
   "id": "20b5f9ac",
   "metadata": {},
   "outputs": [],
   "source": []
  },
  {
   "cell_type": "code",
   "execution_count": null,
   "id": "d9d226c2",
   "metadata": {},
   "outputs": [],
   "source": []
  },
  {
   "cell_type": "code",
   "execution_count": 38,
   "id": "7c8cad54",
   "metadata": {},
   "outputs": [
    {
     "data": {
      "text/plain": [
       "'Started Cleaning the Content for analytics\\nDone Cleaing the Content Please have a look at the log file for more detailsStarted Cleaning the Content for analytics\\nDone Cleaing the Content Please have a look at the log file for more detailsStarted Cleaning the Content for analytics\\nDone Cleaing the Content Please have a look at the log file for more detailsStarted Cleaning the Content for analytics\\nSuccessfullyDone Cleaing the Content Please have a look at the log file for more details'"
      ]
     },
     "execution_count": 38,
     "metadata": {},
     "output_type": "execute_result"
    }
   ],
   "source": [
    "fr1 = open('temp.txt', 'r') # read a file\n",
    "fr1.read()"
   ]
  },
  {
   "cell_type": "code",
   "execution_count": null,
   "id": "b3a6119e",
   "metadata": {},
   "outputs": [],
   "source": []
  },
  {
   "cell_type": "code",
   "execution_count": null,
   "id": "3dceef42",
   "metadata": {},
   "outputs": [],
   "source": []
  },
  {
   "cell_type": "code",
   "execution_count": 36,
   "id": "682824e9",
   "metadata": {},
   "outputs": [],
   "source": [
    "f2 = open('temp.txt', 'a') # appending Mode\n",
    "try:\n",
    "    f2.write('Started Cleaning the Content for analytics\\n')\n",
    "except Exception as e:\n",
    "    f2.write('Some error {0}', e)\n",
    "    print('Failed')\n",
    "else:\n",
    "    f2.write('Successfully')\n",
    "    print(\"Success\")\n",
    "finally:\n",
    "    f2.write('Done Cleaing the Content Please have a look at the log file for more details')\n",
    "    f2.close()"
   ]
  },
  {
   "cell_type": "code",
   "execution_count": null,
   "id": "4b0e3cd3",
   "metadata": {},
   "outputs": [],
   "source": []
  },
  {
   "cell_type": "code",
   "execution_count": null,
   "id": "4311be51",
   "metadata": {},
   "outputs": [],
   "source": [
    "# File Handling"
   ]
  },
  {
   "cell_type": "code",
   "execution_count": 39,
   "id": "f2aac6ec",
   "metadata": {},
   "outputs": [
    {
     "ename": "FileNotFoundError",
     "evalue": "[Errno 2] No such file or directory: 'temp1.txt'",
     "output_type": "error",
     "traceback": [
      "\u001b[1;31m---------------------------------------------------------------------------\u001b[0m",
      "\u001b[1;31mFileNotFoundError\u001b[0m                         Traceback (most recent call last)",
      "Input \u001b[1;32mIn [39]\u001b[0m, in \u001b[0;36m<cell line: 3>\u001b[1;34m()\u001b[0m\n\u001b[0;32m      1\u001b[0m \u001b[38;5;66;03m# Open\u001b[39;00m\n\u001b[0;32m      2\u001b[0m path \u001b[38;5;241m=\u001b[39m \u001b[38;5;124m'\u001b[39m\u001b[38;5;124mtemp1.txt\u001b[39m\u001b[38;5;124m'\u001b[39m\n\u001b[1;32m----> 3\u001b[0m fl3 \u001b[38;5;241m=\u001b[39m \u001b[38;5;28;43mopen\u001b[39;49m\u001b[43m(\u001b[49m\u001b[43mpath\u001b[49m\u001b[43m)\u001b[49m\n",
      "\u001b[1;31mFileNotFoundError\u001b[0m: [Errno 2] No such file or directory: 'temp1.txt'"
     ]
    }
   ],
   "source": [
    "# Open\n",
    "path = 'temp1.txt'\n",
    "fl3 = open(path)"
   ]
  },
  {
   "cell_type": "code",
   "execution_count": null,
   "id": "274851db",
   "metadata": {},
   "outputs": [],
   "source": [
    "# No File ----> file not found error"
   ]
  },
  {
   "cell_type": "code",
   "execution_count": 40,
   "id": "12276b49",
   "metadata": {},
   "outputs": [],
   "source": [
    "path = 'temp.txt'\n",
    "fl3 = open(path, 'r')"
   ]
  },
  {
   "cell_type": "code",
   "execution_count": 41,
   "id": "0cd43943",
   "metadata": {},
   "outputs": [
    {
     "data": {
      "text/plain": [
       "'Started Cleaning the Content for analytics\\nDone Cleaing the Content Please have a look at the log file for more detailsStarted Cleaning the Content for analytics\\nDone Cleaing the Content Please have a look at the log file for more detailsStarted Cleaning the Content for analytics\\nDone Cleaing the Content Please have a look at the log file for more detailsStarted Cleaning the Content for analytics\\nSuccessfullyDone Cleaing the Content Please have a look at the log file for more details'"
      ]
     },
     "execution_count": 41,
     "metadata": {},
     "output_type": "execute_result"
    }
   ],
   "source": [
    "fl3.read()"
   ]
  },
  {
   "cell_type": "code",
   "execution_count": 43,
   "id": "40766169",
   "metadata": {},
   "outputs": [
    {
     "data": {
      "text/plain": [
       "''"
      ]
     },
     "execution_count": 43,
     "metadata": {},
     "output_type": "execute_result"
    }
   ],
   "source": [
    "fl3.read() # empty when the file is already read means the EOF ---> End Of File"
   ]
  },
  {
   "cell_type": "code",
   "execution_count": null,
   "id": "d9c95ff5",
   "metadata": {},
   "outputs": [],
   "source": []
  },
  {
   "cell_type": "code",
   "execution_count": 46,
   "id": "0c9016a2",
   "metadata": {},
   "outputs": [],
   "source": [
    "fl3 = open(path, 'r')"
   ]
  },
  {
   "cell_type": "code",
   "execution_count": null,
   "id": "70e26364",
   "metadata": {},
   "outputs": [],
   "source": []
  },
  {
   "cell_type": "code",
   "execution_count": 45,
   "id": "b8d88163",
   "metadata": {},
   "outputs": [
    {
     "data": {
      "text/plain": [
       "'Started Cleaning the Content for analytics\\nDone Cleaing the Content Please have a look at the log file for more detailsStarted Cleaning the Content for analytics\\nDone Cleaing the Content Please have a look at the log file for more detailsStarted Cleaning the Content for analytics\\nDone Cleaing the Content Please have a look at the log file for more detailsStarted Cleaning the Content for analytics\\nSuccessfullyDone Cleaing the Content Please have a look at the log file for more details'"
      ]
     },
     "execution_count": 45,
     "metadata": {},
     "output_type": "execute_result"
    }
   ],
   "source": [
    "fl3.read()"
   ]
  },
  {
   "cell_type": "code",
   "execution_count": null,
   "id": "7de21ac1",
   "metadata": {},
   "outputs": [],
   "source": []
  },
  {
   "cell_type": "code",
   "execution_count": null,
   "id": "1a3d4c34",
   "metadata": {},
   "outputs": [],
   "source": []
  },
  {
   "cell_type": "code",
   "execution_count": 47,
   "id": "d1ab6971",
   "metadata": {},
   "outputs": [],
   "source": [
    "fl3.close() # close file"
   ]
  },
  {
   "cell_type": "code",
   "execution_count": 48,
   "id": "4b6b4d79",
   "metadata": {},
   "outputs": [
    {
     "ename": "ValueError",
     "evalue": "I/O operation on closed file.",
     "output_type": "error",
     "traceback": [
      "\u001b[1;31m---------------------------------------------------------------------------\u001b[0m",
      "\u001b[1;31mValueError\u001b[0m                                Traceback (most recent call last)",
      "Input \u001b[1;32mIn [48]\u001b[0m, in \u001b[0;36m<cell line: 1>\u001b[1;34m()\u001b[0m\n\u001b[1;32m----> 1\u001b[0m \u001b[43mfl3\u001b[49m\u001b[38;5;241;43m.\u001b[39;49m\u001b[43mread\u001b[49m\u001b[43m(\u001b[49m\u001b[43m)\u001b[49m\n",
      "\u001b[1;31mValueError\u001b[0m: I/O operation on closed file."
     ]
    }
   ],
   "source": [
    "fl3.read() # reading on a closed file I/O Operation on a close file error valueerror"
   ]
  },
  {
   "cell_type": "code",
   "execution_count": 49,
   "id": "e1f4adb8",
   "metadata": {},
   "outputs": [],
   "source": [
    "# Iterating over the lines in a file\n",
    "# By treating the file handle as a list"
   ]
  },
  {
   "cell_type": "code",
   "execution_count": 51,
   "id": "37b4b4af",
   "metadata": {},
   "outputs": [],
   "source": [
    "fl4 = open(path)\n",
    "for line in fl4:\n",
    "    pass\n"
   ]
  },
  {
   "cell_type": "code",
   "execution_count": 53,
   "id": "bcb1989e",
   "metadata": {},
   "outputs": [
    {
     "name": "stdout",
     "output_type": "stream",
     "text": [
      "Started Cleaning the Content for analytics\n",
      "\n",
      "Done Cleaing the Content Please have a look at the log file for more detailsStarted Cleaning the Content for analytics\n",
      "\n",
      "Done Cleaing the Content Please have a look at the log file for more detailsStarted Cleaning the Content for analytics\n",
      "\n",
      "Done Cleaing the Content Please have a look at the log file for more detailsStarted Cleaning the Content for analytics\n",
      "\n",
      "SuccessfullyDone Cleaing the Content Please have a look at the log file for more details\n"
     ]
    }
   ],
   "source": [
    "fl4 = open(path)\n",
    "for line in fl4:\n",
    "    print(line)"
   ]
  },
  {
   "cell_type": "code",
   "execution_count": 54,
   "id": "3b69cc4a",
   "metadata": {},
   "outputs": [
    {
     "data": {
      "text/plain": [
       "False"
      ]
     },
     "execution_count": 54,
     "metadata": {},
     "output_type": "execute_result"
    }
   ],
   "source": [
    "fl4.closed # Test if a file is closed"
   ]
  },
  {
   "cell_type": "code",
   "execution_count": 55,
   "id": "e92b28b8",
   "metadata": {},
   "outputs": [],
   "source": [
    "fl4.close()"
   ]
  },
  {
   "cell_type": "code",
   "execution_count": 56,
   "id": "4e39ea9c",
   "metadata": {},
   "outputs": [
    {
     "data": {
      "text/plain": [
       "True"
      ]
     },
     "execution_count": 56,
     "metadata": {},
     "output_type": "execute_result"
    }
   ],
   "source": [
    "fl4.closed"
   ]
  },
  {
   "cell_type": "code",
   "execution_count": 57,
   "id": "e224ae46",
   "metadata": {},
   "outputs": [
    {
     "data": {
      "text/plain": [
       "['Started Cleaning the Content for analytics',\n",
       " 'Done Cleaing the Content Please have a look at the log file for more detailsStarted Cleaning the Content for analytics',\n",
       " 'Done Cleaing the Content Please have a look at the log file for more detailsStarted Cleaning the Content for analytics',\n",
       " 'Done Cleaing the Content Please have a look at the log file for more detailsStarted Cleaning the Content for analytics',\n",
       " 'SuccessfullyDone Cleaing the Content Please have a look at the log file for more details']"
      ]
     },
     "execution_count": 57,
     "metadata": {},
     "output_type": "execute_result"
    }
   ],
   "source": [
    "# EOL free list of line\n",
    "[line.rstrip() for line in open(path)]"
   ]
  },
  {
   "cell_type": "code",
   "execution_count": 58,
   "id": "e5e9ebda",
   "metadata": {},
   "outputs": [],
   "source": [
    "# Cleaning up open files \n",
    "# using with keyword: automatic clean up of resources like file objects after the execution "
   ]
  },
  {
   "cell_type": "code",
   "execution_count": 61,
   "id": "18bcb0b3",
   "metadata": {},
   "outputs": [],
   "source": [
    "with open(path) as fl5:\n",
    "    [line.rstrip() for line in fl5]\n"
   ]
  },
  {
   "cell_type": "code",
   "execution_count": 64,
   "id": "d9677912",
   "metadata": {},
   "outputs": [
    {
     "data": {
      "text/plain": [
       "True"
      ]
     },
     "execution_count": 64,
     "metadata": {},
     "output_type": "execute_result"
    }
   ],
   "source": [
    "fl5.closed"
   ]
  },
  {
   "cell_type": "code",
   "execution_count": 65,
   "id": "8759a535",
   "metadata": {},
   "outputs": [
    {
     "ename": "ValueError",
     "evalue": "I/O operation on closed file.",
     "output_type": "error",
     "traceback": [
      "\u001b[1;31m---------------------------------------------------------------------------\u001b[0m",
      "\u001b[1;31mValueError\u001b[0m                                Traceback (most recent call last)",
      "Input \u001b[1;32mIn [65]\u001b[0m, in \u001b[0;36m<cell line: 1>\u001b[1;34m()\u001b[0m\n\u001b[1;32m----> 1\u001b[0m \u001b[43mfl5\u001b[49m\u001b[38;5;241;43m.\u001b[39;49m\u001b[43mread\u001b[49m\u001b[43m(\u001b[49m\u001b[43m)\u001b[49m\n",
      "\u001b[1;31mValueError\u001b[0m: I/O operation on closed file."
     ]
    }
   ],
   "source": [
    "fl5.read()"
   ]
  },
  {
   "cell_type": "code",
   "execution_count": null,
   "id": "7e16ad26",
   "metadata": {},
   "outputs": [],
   "source": [
    "# File Modes in Python for writing: Should be used carefully"
   ]
  },
  {
   "cell_type": "code",
   "execution_count": 80,
   "id": "8d562d83",
   "metadata": {},
   "outputs": [
    {
     "data": {
      "text/plain": [
       "6"
      ]
     },
     "execution_count": 80,
     "metadata": {},
     "output_type": "execute_result"
    }
   ],
   "source": [
    "# 'w' is write-only mode: creates a new file (erasing the data for any file with the same name)\n",
    "# 'x' is write-only mode: creates a new file if the file path doesn't already exist\n",
    "# 'a' is append to existing file (create the file if it does not already exist)\n",
    "fl6 = open('temp5.txt', 'a')\n",
    "fl6.write('append')"
   ]
  },
  {
   "cell_type": "code",
   "execution_count": 81,
   "id": "c61ec746",
   "metadata": {},
   "outputs": [],
   "source": [
    "fl6.close()"
   ]
  },
  {
   "cell_type": "code",
   "execution_count": null,
   "id": "10f74562",
   "metadata": {},
   "outputs": [],
   "source": []
  },
  {
   "cell_type": "code",
   "execution_count": 67,
   "id": "295cb4db",
   "metadata": {},
   "outputs": [
    {
     "ename": "UnsupportedOperation",
     "evalue": "not readable",
     "output_type": "error",
     "traceback": [
      "\u001b[1;31m---------------------------------------------------------------------------\u001b[0m",
      "\u001b[1;31mUnsupportedOperation\u001b[0m                      Traceback (most recent call last)",
      "Input \u001b[1;32mIn [67]\u001b[0m, in \u001b[0;36m<cell line: 1>\u001b[1;34m()\u001b[0m\n\u001b[1;32m----> 1\u001b[0m \u001b[43mfl6\u001b[49m\u001b[38;5;241;43m.\u001b[39;49m\u001b[43mread\u001b[49m\u001b[43m(\u001b[49m\u001b[43m)\u001b[49m\n",
      "\u001b[1;31mUnsupportedOperation\u001b[0m: not readable"
     ]
    }
   ],
   "source": [
    "fl6.read() # wrong mode opened "
   ]
  },
  {
   "cell_type": "code",
   "execution_count": 68,
   "id": "bf66ee52",
   "metadata": {},
   "outputs": [
    {
     "data": {
      "text/plain": [
       "'Started Cleaning the Content for analytics\\nDone Cleaing the Content Please have a look at the log file for more detailsStarted Cleaning the Content for analytics\\nDone Cleaing the Content Please have a look at the log file for more detailsStarted Cleaning the Content for analytics\\nDone Cleaing the Content Please have a look at the log file for more detailsStarted Cleaning the Content for analytics\\nSuccessfullyDone Cleaing the Content Please have a look at the log file for more detailsappend'"
      ]
     },
     "execution_count": 68,
     "metadata": {},
     "output_type": "execute_result"
    }
   ],
   "source": [
    "fl6 = open('temp.txt', 'r')\n",
    "fl6.read()"
   ]
  },
  {
   "cell_type": "code",
   "execution_count": 74,
   "id": "833c532a",
   "metadata": {},
   "outputs": [
    {
     "data": {
      "text/plain": [
       "7"
      ]
     },
     "execution_count": 74,
     "metadata": {},
     "output_type": "execute_result"
    }
   ],
   "source": [
    "fl7 = open('temp3.txt', 'x')\n",
    "fl7.write('sdfasda') # returns the number of chars written in the file"
   ]
  },
  {
   "cell_type": "code",
   "execution_count": 75,
   "id": "9a0e010e",
   "metadata": {},
   "outputs": [],
   "source": [
    "fl7.close()"
   ]
  },
  {
   "cell_type": "code",
   "execution_count": 76,
   "id": "79307c03",
   "metadata": {},
   "outputs": [],
   "source": [
    "with open('temp.txt') as fl8:\n",
    "    lines = fl8.readlines()"
   ]
  },
  {
   "cell_type": "code",
   "execution_count": 77,
   "id": "3b3ee5c0",
   "metadata": {},
   "outputs": [
    {
     "data": {
      "text/plain": [
       "['Started Cleaning the Content for analytics\\n',\n",
       " 'Done Cleaing the Content Please have a look at the log file for more detailsStarted Cleaning the Content for analytics\\n',\n",
       " 'Done Cleaing the Content Please have a look at the log file for more detailsStarted Cleaning the Content for analytics\\n',\n",
       " 'Done Cleaing the Content Please have a look at the log file for more detailsStarted Cleaning the Content for analytics\\n',\n",
       " 'SuccessfullyDone Cleaing the Content Please have a look at the log file for more detailsappend']"
      ]
     },
     "execution_count": 77,
     "metadata": {},
     "output_type": "execute_result"
    }
   ],
   "source": [
    "lines"
   ]
  },
  {
   "cell_type": "code",
   "execution_count": 78,
   "id": "fbf6ccbe",
   "metadata": {},
   "outputs": [],
   "source": [
    "with open(path) as fl9:\n",
    "    lines = [line.rstrip() for line in fl9]"
   ]
  },
  {
   "cell_type": "code",
   "execution_count": 79,
   "id": "65d99c42",
   "metadata": {},
   "outputs": [
    {
     "data": {
      "text/plain": [
       "['Started Cleaning the Content for analytics',\n",
       " 'Done Cleaing the Content Please have a look at the log file for more detailsStarted Cleaning the Content for analytics',\n",
       " 'Done Cleaing the Content Please have a look at the log file for more detailsStarted Cleaning the Content for analytics',\n",
       " 'Done Cleaing the Content Please have a look at the log file for more detailsStarted Cleaning the Content for analytics',\n",
       " 'SuccessfullyDone Cleaing the Content Please have a look at the log file for more detailsappend']"
      ]
     },
     "execution_count": 79,
     "metadata": {},
     "output_type": "execute_result"
    }
   ],
   "source": [
    "lines"
   ]
  },
  {
   "cell_type": "code",
   "execution_count": 82,
   "id": "cccafdcf",
   "metadata": {},
   "outputs": [],
   "source": [
    "# Read Method Read the number of the bytes specified and retuns the number of the bytes that is read"
   ]
  },
  {
   "cell_type": "code",
   "execution_count": 90,
   "id": "dc904d52",
   "metadata": {},
   "outputs": [
    {
     "data": {
      "text/plain": [
       "'Started C'"
      ]
     },
     "execution_count": 90,
     "metadata": {},
     "output_type": "execute_result"
    }
   ],
   "source": [
    "fl10 = open('temp.txt', 'r') # normal read\n",
    "fl10.read(9)\n"
   ]
  },
  {
   "cell_type": "code",
   "execution_count": 92,
   "id": "3a1f71e4",
   "metadata": {},
   "outputs": [
    {
     "data": {
      "text/plain": [
       "b'Started C'"
      ]
     },
     "execution_count": 92,
     "metadata": {},
     "output_type": "execute_result"
    }
   ],
   "source": [
    "fl10 = open('temp.txt', 'rb') # To Read raw bytes rb mode is used for that\n",
    "fl10.read(9)"
   ]
  },
  {
   "cell_type": "code",
   "execution_count": 100,
   "id": "16684abb",
   "metadata": {},
   "outputs": [
    {
     "data": {
      "text/plain": [
       "9"
      ]
     },
     "execution_count": 100,
     "metadata": {},
     "output_type": "execute_result"
    }
   ],
   "source": [
    "fl10.tell() # tells the current cursor position used to determine the next read area"
   ]
  },
  {
   "cell_type": "code",
   "execution_count": 101,
   "id": "a2c7b95b",
   "metadata": {},
   "outputs": [
    {
     "data": {
      "text/plain": [
       "1"
      ]
     },
     "execution_count": 101,
     "metadata": {},
     "output_type": "execute_result"
    }
   ],
   "source": [
    "fl10.seek(1) # Change the cursoer position in the read mode"
   ]
  },
  {
   "cell_type": "code",
   "execution_count": 102,
   "id": "d4cb14c5",
   "metadata": {},
   "outputs": [
    {
     "data": {
      "text/plain": [
       "1"
      ]
     },
     "execution_count": 102,
     "metadata": {},
     "output_type": "execute_result"
    }
   ],
   "source": [
    "fl10.tell()"
   ]
  },
  {
   "cell_type": "code",
   "execution_count": null,
   "id": "9a6fbfe5",
   "metadata": {},
   "outputs": [],
   "source": []
  },
  {
   "cell_type": "code",
   "execution_count": 95,
   "id": "6ea91281",
   "metadata": {},
   "outputs": [],
   "source": [
    "# Check the default encoding \n",
    "# By using 'sys'module"
   ]
  },
  {
   "cell_type": "code",
   "execution_count": 96,
   "id": "66bdfaa8",
   "metadata": {},
   "outputs": [
    {
     "data": {
      "text/plain": [
       "'utf-8'"
      ]
     },
     "execution_count": 96,
     "metadata": {},
     "output_type": "execute_result"
    }
   ],
   "source": [
    "import sys\n",
    "sys.getdefaultencoding()"
   ]
  },
  {
   "cell_type": "code",
   "execution_count": 98,
   "id": "d788746e",
   "metadata": {},
   "outputs": [
    {
     "ename": "FileNotFoundError",
     "evalue": "[Errno 2] No such file or directory: 'temp100.txt'",
     "output_type": "error",
     "traceback": [
      "\u001b[1;31m---------------------------------------------------------------------------\u001b[0m",
      "\u001b[1;31mFileNotFoundError\u001b[0m                         Traceback (most recent call last)",
      "Input \u001b[1;32mIn [98]\u001b[0m, in \u001b[0;36m<cell line: 1>\u001b[1;34m()\u001b[0m\n\u001b[1;32m----> 1\u001b[0m fl11 \u001b[38;5;241m=\u001b[39m \u001b[38;5;28;43mopen\u001b[39;49m\u001b[43m(\u001b[49m\u001b[38;5;124;43m'\u001b[39;49m\u001b[38;5;124;43mtemp100.txt\u001b[39;49m\u001b[38;5;124;43m'\u001b[39;49m\u001b[43m,\u001b[49m\u001b[43m \u001b[49m\u001b[38;5;124;43m'\u001b[39;49m\u001b[38;5;124;43mr\u001b[39;49m\u001b[38;5;124;43m'\u001b[39;49m\u001b[43m)\u001b[49m\n",
      "\u001b[1;31mFileNotFoundError\u001b[0m: [Errno 2] No such file or directory: 'temp100.txt'"
     ]
    }
   ],
   "source": [
    "fl11 = open('temp100.txt', 'r') # Reading a file that does not exist"
   ]
  },
  {
   "cell_type": "code",
   "execution_count": 99,
   "id": "bbf49af1",
   "metadata": {},
   "outputs": [],
   "source": [
    "# Encoding ---> default encoding UTF-8"
   ]
  },
  {
   "cell_type": "code",
   "execution_count": 103,
   "id": "6fbdbf4e",
   "metadata": {},
   "outputs": [
    {
     "data": {
      "text/plain": [
       "['Started Cleaning the Content for analytics\\n',\n",
       " 'Done Cleaing the Content Please have a look at the log file for more detailsStarted Cleaning the Content for analytics\\n',\n",
       " 'Done Cleaing the Content Please have a look at the log file for more detailsStarted Cleaning the Content for analytics\\n',\n",
       " 'Done Cleaing the Content Please have a look at the log file for more detailsStarted Cleaning the Content for analytics\\n',\n",
       " 'SuccessfullyDone Cleaing the Content Please have a look at the log file for more detailsappend']"
      ]
     },
     "execution_count": 103,
     "metadata": {},
     "output_type": "execute_result"
    }
   ],
   "source": [
    "[x for x in open('temp.txt')]"
   ]
  },
  {
   "cell_type": "code",
   "execution_count": 107,
   "id": "610b2154",
   "metadata": {},
   "outputs": [],
   "source": [
    "# Writeline and readlines\n",
    "path1 = 'temp.txt'\n",
    "with open('temp2.txt', 'w') as fl12:\n",
    "    fl12.writelines(x for x in open(path1) if len(x) < 100)"
   ]
  },
  {
   "cell_type": "code",
   "execution_count": null,
   "id": "75cc33bc",
   "metadata": {},
   "outputs": [],
   "source": []
  },
  {
   "cell_type": "code",
   "execution_count": 108,
   "id": "2db45ded",
   "metadata": {},
   "outputs": [
    {
     "data": {
      "text/plain": [
       "'Started Cleaning the Content for analytics\\nSuccessfullyDone Cleaing the Content Please have a look at the log file for more detailsappend'"
      ]
     },
     "execution_count": 108,
     "metadata": {},
     "output_type": "execute_result"
    }
   ],
   "source": [
    "fl12 = open('temp2.txt', 'r')\n",
    "fl12.read()"
   ]
  },
  {
   "cell_type": "code",
   "execution_count": 109,
   "id": "5f41acf6",
   "metadata": {},
   "outputs": [],
   "source": [
    "# Bytes and Unicode with Files\n",
    "# UTF-8 is a variable-length unicode encoding\n",
    "# when requested for some no of chars the python will read the enough bytes that are required to decode the that many characters"
   ]
  },
  {
   "cell_type": "code",
   "execution_count": 112,
   "id": "263f0cc1",
   "metadata": {},
   "outputs": [],
   "source": [
    "with open('temp5.txt', 'rb') as fl13:\n",
    "    raw = fl13.read(3)"
   ]
  },
  {
   "cell_type": "code",
   "execution_count": null,
   "id": "20a72b7b",
   "metadata": {},
   "outputs": [],
   "source": []
  },
  {
   "cell_type": "code",
   "execution_count": 113,
   "id": "4d01283e",
   "metadata": {},
   "outputs": [
    {
     "data": {
      "text/plain": [
       "b'app'"
      ]
     },
     "execution_count": 113,
     "metadata": {},
     "output_type": "execute_result"
    }
   ],
   "source": [
    "raw"
   ]
  },
  {
   "cell_type": "code",
   "execution_count": 115,
   "id": "f1130e3a",
   "metadata": {},
   "outputs": [
    {
     "data": {
      "text/plain": [
       "'app'"
      ]
     },
     "execution_count": 115,
     "metadata": {},
     "output_type": "execute_result"
    }
   ],
   "source": [
    "raw.decode('utf8') # decode to a str will work when it the encoding unique chars are fully formed (fail if one char take more no of bytes )"
   ]
  },
  {
   "cell_type": "code",
   "execution_count": 116,
   "id": "152efcef",
   "metadata": {},
   "outputs": [
    {
     "data": {
      "text/plain": [
       "'ap'"
      ]
     },
     "execution_count": 116,
     "metadata": {},
     "output_type": "execute_result"
    }
   ],
   "source": [
    "raw[:2].decode()"
   ]
  },
  {
   "cell_type": "code",
   "execution_count": null,
   "id": "07290e40",
   "metadata": {},
   "outputs": [],
   "source": [
    "path2 = 'temp7.txt'\n",
    "with open(path2, 'w') fl14:\n",
    "    fl14.write('naïve or Brontë')"
   ]
  },
  {
   "cell_type": "code",
   "execution_count": null,
   "id": "cc7bda02",
   "metadata": {},
   "outputs": [],
   "source": []
  },
  {
   "cell_type": "code",
   "execution_count": null,
   "id": "63e5b9ed",
   "metadata": {},
   "outputs": [],
   "source": []
  },
  {
   "cell_type": "code",
   "execution_count": null,
   "id": "9ac8fc34",
   "metadata": {},
   "outputs": [],
   "source": []
  },
  {
   "cell_type": "code",
   "execution_count": null,
   "id": "90854bb2",
   "metadata": {},
   "outputs": [],
   "source": []
  },
  {
   "cell_type": "code",
   "execution_count": null,
   "id": "c1971740",
   "metadata": {},
   "outputs": [],
   "source": []
  },
  {
   "cell_type": "code",
   "execution_count": null,
   "id": "847b6a76",
   "metadata": {},
   "outputs": [],
   "source": []
  },
  {
   "cell_type": "code",
   "execution_count": null,
   "id": "3ebef54f",
   "metadata": {},
   "outputs": [],
   "source": []
  },
  {
   "cell_type": "code",
   "execution_count": null,
   "id": "ca3f4cca",
   "metadata": {},
   "outputs": [],
   "source": []
  },
  {
   "cell_type": "code",
   "execution_count": 89,
   "id": "d0d49f3b",
   "metadata": {},
   "outputs": [
    {
     "data": {
      "text/plain": [
       "b'Started Cleaning the '"
      ]
     },
     "execution_count": 89,
     "metadata": {},
     "output_type": "execute_result"
    }
   ],
   "source": []
  },
  {
   "cell_type": "code",
   "execution_count": null,
   "id": "6959e1b7",
   "metadata": {},
   "outputs": [],
   "source": []
  },
  {
   "cell_type": "code",
   "execution_count": null,
   "id": "691d849d",
   "metadata": {},
   "outputs": [],
   "source": []
  },
  {
   "cell_type": "code",
   "execution_count": null,
   "id": "c8d79ea9",
   "metadata": {},
   "outputs": [],
   "source": []
  },
  {
   "cell_type": "code",
   "execution_count": null,
   "id": "966dfab3",
   "metadata": {},
   "outputs": [],
   "source": []
  },
  {
   "cell_type": "code",
   "execution_count": null,
   "id": "5072f541",
   "metadata": {},
   "outputs": [],
   "source": []
  },
  {
   "cell_type": "code",
   "execution_count": null,
   "id": "184db5f7",
   "metadata": {},
   "outputs": [],
   "source": []
  },
  {
   "cell_type": "code",
   "execution_count": null,
   "id": "003e0699",
   "metadata": {},
   "outputs": [],
   "source": []
  },
  {
   "cell_type": "code",
   "execution_count": null,
   "id": "61d9825b",
   "metadata": {},
   "outputs": [],
   "source": []
  },
  {
   "cell_type": "code",
   "execution_count": null,
   "id": "d2d56559",
   "metadata": {},
   "outputs": [],
   "source": []
  },
  {
   "cell_type": "code",
   "execution_count": null,
   "id": "a367e20c",
   "metadata": {},
   "outputs": [],
   "source": []
  },
  {
   "cell_type": "code",
   "execution_count": 63,
   "id": "149f1d4a",
   "metadata": {},
   "outputs": [
    {
     "data": {
      "text/plain": [
       "True"
      ]
     },
     "execution_count": 63,
     "metadata": {},
     "output_type": "execute_result"
    }
   ],
   "source": []
  },
  {
   "cell_type": "code",
   "execution_count": null,
   "id": "dfd87d98",
   "metadata": {},
   "outputs": [],
   "source": []
  },
  {
   "cell_type": "code",
   "execution_count": null,
   "id": "7493bf89",
   "metadata": {},
   "outputs": [],
   "source": []
  },
  {
   "cell_type": "code",
   "execution_count": null,
   "id": "59ac0393",
   "metadata": {},
   "outputs": [],
   "source": []
  },
  {
   "cell_type": "code",
   "execution_count": null,
   "id": "4a34e4a6",
   "metadata": {},
   "outputs": [],
   "source": []
  },
  {
   "cell_type": "code",
   "execution_count": null,
   "id": "87ce1bb8",
   "metadata": {},
   "outputs": [],
   "source": []
  },
  {
   "cell_type": "code",
   "execution_count": null,
   "id": "07b019f1",
   "metadata": {},
   "outputs": [],
   "source": []
  },
  {
   "cell_type": "code",
   "execution_count": null,
   "id": "270e9770",
   "metadata": {},
   "outputs": [],
   "source": []
  },
  {
   "cell_type": "code",
   "execution_count": null,
   "id": "aa0dd59d",
   "metadata": {},
   "outputs": [],
   "source": []
  },
  {
   "cell_type": "code",
   "execution_count": null,
   "id": "92584b77",
   "metadata": {},
   "outputs": [],
   "source": []
  },
  {
   "cell_type": "code",
   "execution_count": null,
   "id": "8b59b2e9",
   "metadata": {},
   "outputs": [],
   "source": []
  },
  {
   "cell_type": "code",
   "execution_count": null,
   "id": "3471e2b8",
   "metadata": {},
   "outputs": [],
   "source": []
  },
  {
   "cell_type": "code",
   "execution_count": null,
   "id": "fa960d9b",
   "metadata": {},
   "outputs": [],
   "source": []
  }
 ],
 "metadata": {
  "kernelspec": {
   "display_name": "Python 3 (ipykernel)",
   "language": "python",
   "name": "python3"
  },
  "language_info": {
   "codemirror_mode": {
    "name": "ipython",
    "version": 3
   },
   "file_extension": ".py",
   "mimetype": "text/x-python",
   "name": "python",
   "nbconvert_exporter": "python",
   "pygments_lexer": "ipython3",
   "version": "3.10.2"
  }
 },
 "nbformat": 4,
 "nbformat_minor": 5
}
