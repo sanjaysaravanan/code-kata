{
 "cells": [
  {
   "cell_type": "code",
   "execution_count": 2,
   "id": "85cd5a8b",
   "metadata": {},
   "outputs": [
    {
     "name": "stdout",
     "output_type": "stream",
     "text": [
      "3 7 11 15 "
     ]
    }
   ],
   "source": [
    "def rowWiseSum(mat, nRows, mCols):\n",
    "    for ele in mat:\n",
    "        res_sum = 0\n",
    "        for num in ele:\n",
    "            res_sum += num\n",
    "        print(res_sum, end=\" \")\n",
    "        \n",
    "        \n",
    "rowWiseSum([[1,2], [3,4], [5,6], [7,8]], 4, 2)"
   ]
  },
  {
   "cell_type": "code",
   "execution_count": null,
   "id": "b0e48c3a",
   "metadata": {},
   "outputs": [],
   "source": [
    "def findLargest(arr, nRows, mCols):\n",
    "    "
   ]
  },
  {
   "cell_type": "code",
   "execution_count": null,
   "id": "584391de",
   "metadata": {},
   "outputs": [],
   "source": []
  }
 ],
 "metadata": {
  "kernelspec": {
   "display_name": "Python 3 (ipykernel)",
   "language": "python",
   "name": "python3"
  },
  "language_info": {
   "codemirror_mode": {
    "name": "ipython",
    "version": 3
   },
   "file_extension": ".py",
   "mimetype": "text/x-python",
   "name": "python",
   "nbconvert_exporter": "python",
   "pygments_lexer": "ipython3",
   "version": "3.10.2"
  }
 },
 "nbformat": 4,
 "nbformat_minor": 5
}
