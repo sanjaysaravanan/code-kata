{
 "cells": [
  {
   "cell_type": "code",
   "execution_count": 7,
   "id": "2170dd66",
   "metadata": {},
   "outputs": [
    {
     "name": "stdout",
     "output_type": "stream",
     "text": [
      "{'a': 3, 'c': 3, 'b': 3}\n"
     ]
    },
    {
     "data": {
      "text/plain": [
       "'a'"
      ]
     },
     "execution_count": 7,
     "metadata": {},
     "output_type": "execute_result"
    }
   ],
   "source": [
    "def highestOccuringChar(string):\n",
    "    char_dict = {}\n",
    "    \n",
    "    for i in string:\n",
    "        if i in char_dict:\n",
    "            char_dict[i] += 1\n",
    "        else:\n",
    "            char_dict[i] = 1\n",
    "    max_char, max_char_count = '', 0\n",
    "    print(char_dict)\n",
    "    \n",
    "    for i in char_dict:\n",
    "        if max_char_count < char_dict[i]:\n",
    "            max_char = i\n",
    "            max_char_count = char_dict[i]\n",
    "        \n",
    "        \n",
    "    return max_char\n",
    "\n",
    "highestOccuringChar('acccbbaba')"
   ]
  },
  {
   "cell_type": "code",
   "execution_count": 9,
   "id": "11c43895",
   "metadata": {},
   "outputs": [
    {
     "data": {
      "text/plain": [
       "False"
      ]
     },
     "execution_count": 9,
     "metadata": {},
     "output_type": "execute_result"
    }
   ],
   "source": [
    "'''\n",
    "Input 1:\n",
    "abcde\n",
    "baedc\n",
    "Output 1:\n",
    "true\n",
    "Input 2:\n",
    "abc\n",
    "Output 2:\n",
    "cbd\n",
    "'''\n",
    "def isPermutation(string1, string2) :\n",
    "    if string1 == '' or string === '':\n",
    "        return False\n",
    "    for i in string1:\n",
    "        if i not in string2:\n",
    "            return False\n",
    "    return True\n",
    "\n",
    "isPermutation('abc', 'cbd')"
   ]
  },
  {
   "cell_type": "code",
   "execution_count": 12,
   "id": "629a9b81",
   "metadata": {},
   "outputs": [
    {
     "data": {
      "text/plain": [
       "0"
      ]
     },
     "execution_count": 12,
     "metadata": {},
     "output_type": "execute_result"
    }
   ],
   "source": [
    "'dir(str)'.count('x')"
   ]
  },
  {
   "cell_type": "code",
   "execution_count": 14,
   "id": "24491e12",
   "metadata": {},
   "outputs": [
    {
     "data": {
      "text/plain": [
       "'bddddf'"
      ]
     },
     "execution_count": 14,
     "metadata": {},
     "output_type": "execute_result"
    }
   ],
   "source": [
    "string = 'aaabddddfaaa'\n",
    "string.replace('a', '')"
   ]
  },
  {
   "cell_type": "code",
   "execution_count": 30,
   "id": "48ac0d8a",
   "metadata": {},
   "outputs": [
    {
     "name": "stdout",
     "output_type": "stream",
     "text": [
      "0\n"
     ]
    },
    {
     "data": {
      "text/plain": [
       "'a3b2c2dsa'"
      ]
     },
     "execution_count": 30,
     "metadata": {},
     "output_type": "execute_result"
    }
   ],
   "source": [
    "'''\n",
    "Get Compressed String\n",
    "Input 1:\n",
    "aaabbccdsa\n",
    "Output 1:\n",
    "a3b2c2dsa\n",
    "Input 2:\n",
    "aaabbcddeeeee\n",
    "Output 2:\n",
    "a3b2cd2e5\n",
    "'''\n",
    "\n",
    "def getCompressedString(inputStr) :\n",
    "    result_arr = []\n",
    "    \n",
    "    curr_char = None\n",
    "    char_count = 0\n",
    "    inc = 0\n",
    "    for i in inputStr:\n",
    "        inc += 1\n",
    "        if curr_char == None:\n",
    "            curr_char = i\n",
    "        elif i == curr_char and char_count == 0:\n",
    "            char_count = 2\n",
    "        elif i == curr_char:\n",
    "            char_count += 1\n",
    "        elif i != curr_char:\n",
    "            result_arr.append(curr_char + str(char_count) if char_count > 0 else curr_char)\n",
    "            char_count = 0\n",
    "            curr_char = i\n",
    "        \n",
    "        if inc == (len(inputStr)):\n",
    "            print(char_count)\n",
    "            result_arr.append(curr_char + str(char_count) if char_count > 0 else curr_char)\n",
    "\n",
    "        \n",
    "        \n",
    "    \n",
    "    return ''.join(result_arr)\n",
    "\n",
    "getCompressedString('aaabbccdsa')\n"
   ]
  },
  {
   "cell_type": "code",
   "execution_count": 33,
   "id": "b12699d6",
   "metadata": {},
   "outputs": [
    {
     "data": {
      "text/plain": [
       "'xyzx'"
      ]
     },
     "execution_count": 33,
     "metadata": {},
     "output_type": "execute_result"
    }
   ],
   "source": [
    "'''\n",
    "Get Compressed String\n",
    "Input 1:\n",
    "aabccbaa\n",
    "Output 1:\n",
    "abcba\n",
    "Input 2:\n",
    "xxyyzxx\n",
    "Output 2:\n",
    "xyzx\n",
    "'''\n",
    "\n",
    "def removeConsecutiveDuplicates(string) :\n",
    "    result_arr = []\n",
    "    \n",
    "    curr_char = None\n",
    "    inc = 0\n",
    "    for i in string:\n",
    "        inc += 1\n",
    "        if curr_char == None:\n",
    "            curr_char = i\n",
    "        if i != curr_char:\n",
    "            result_arr.append(curr_char)\n",
    "            curr_char = i     \n",
    "        if inc == len(string):\n",
    "            result_arr.append(i)\n",
    "        \n",
    "    \n",
    "    return ''.join(result_arr)\n",
    "\n",
    "removeConsecutiveDuplicates('xxyyzxx')\n"
   ]
  },
  {
   "cell_type": "code",
   "execution_count": 36,
   "id": "37d121b4",
   "metadata": {},
   "outputs": [
    {
     "data": {
      "text/plain": [
       "'emocleW ot gnidoC sajniN'"
      ]
     },
     "execution_count": 36,
     "metadata": {},
     "output_type": "execute_result"
    }
   ],
   "source": [
    "'''\n",
    "Reverse Each Word\n",
    "Input 1:\n",
    "Welcome to Coding Ninjas\n",
    "Output 1:\n",
    "emocleW ot gnidoC sajniN\n",
    "Input 2:\n",
    "Always indent your code\n",
    "'''\n",
    "def reverseEachWord(string):\n",
    "    arr = string.split()\n",
    "    res_arr = []\n",
    "    for word in arr:\n",
    "        res_arr.append(word[::-1])\n",
    "    return ' '.join(res_arr)\n",
    "reverseEachWord('Welcome to Coding Ninjas')"
   ]
  },
  {
   "cell_type": "code",
   "execution_count": null,
   "id": "8470ca3f",
   "metadata": {},
   "outputs": [],
   "source": []
  },
  {
   "cell_type": "code",
   "execution_count": null,
   "id": "bf8643dd",
   "metadata": {},
   "outputs": [],
   "source": []
  },
  {
   "cell_type": "code",
   "execution_count": null,
   "id": "68cac1a9",
   "metadata": {},
   "outputs": [],
   "source": []
  },
  {
   "cell_type": "code",
   "execution_count": null,
   "id": "5d47db43",
   "metadata": {},
   "outputs": [],
   "source": []
  },
  {
   "cell_type": "code",
   "execution_count": null,
   "id": "769078fc",
   "metadata": {},
   "outputs": [],
   "source": []
  },
  {
   "cell_type": "code",
   "execution_count": null,
   "id": "0032b424",
   "metadata": {},
   "outputs": [],
   "source": []
  },
  {
   "cell_type": "code",
   "execution_count": null,
   "id": "ff393fb6",
   "metadata": {},
   "outputs": [],
   "source": []
  },
  {
   "cell_type": "code",
   "execution_count": null,
   "id": "7fb715f9",
   "metadata": {},
   "outputs": [],
   "source": []
  },
  {
   "cell_type": "code",
   "execution_count": null,
   "id": "b832ba06",
   "metadata": {},
   "outputs": [],
   "source": []
  },
  {
   "cell_type": "code",
   "execution_count": null,
   "id": "821e5553",
   "metadata": {},
   "outputs": [],
   "source": []
  },
  {
   "cell_type": "code",
   "execution_count": null,
   "id": "a865351d",
   "metadata": {},
   "outputs": [],
   "source": []
  },
  {
   "cell_type": "code",
   "execution_count": null,
   "id": "1a7e15c0",
   "metadata": {},
   "outputs": [],
   "source": []
  },
  {
   "cell_type": "code",
   "execution_count": null,
   "id": "0f152cd3",
   "metadata": {},
   "outputs": [],
   "source": []
  },
  {
   "cell_type": "code",
   "execution_count": null,
   "id": "7fe9b567",
   "metadata": {},
   "outputs": [],
   "source": []
  },
  {
   "cell_type": "code",
   "execution_count": null,
   "id": "6551a636",
   "metadata": {},
   "outputs": [],
   "source": []
  },
  {
   "cell_type": "code",
   "execution_count": null,
   "id": "f2df9781",
   "metadata": {},
   "outputs": [],
   "source": []
  },
  {
   "cell_type": "code",
   "execution_count": null,
   "id": "9a594ee8",
   "metadata": {},
   "outputs": [],
   "source": []
  },
  {
   "cell_type": "code",
   "execution_count": null,
   "id": "c9131264",
   "metadata": {},
   "outputs": [],
   "source": []
  },
  {
   "cell_type": "code",
   "execution_count": null,
   "id": "448ddda3",
   "metadata": {},
   "outputs": [],
   "source": []
  },
  {
   "cell_type": "code",
   "execution_count": null,
   "id": "6351f688",
   "metadata": {},
   "outputs": [],
   "source": []
  },
  {
   "cell_type": "code",
   "execution_count": null,
   "id": "423f7ac7",
   "metadata": {},
   "outputs": [],
   "source": []
  },
  {
   "cell_type": "code",
   "execution_count": null,
   "id": "23030c95",
   "metadata": {},
   "outputs": [],
   "source": []
  },
  {
   "cell_type": "code",
   "execution_count": null,
   "id": "a5dd8917",
   "metadata": {},
   "outputs": [],
   "source": []
  },
  {
   "cell_type": "code",
   "execution_count": null,
   "id": "3d066067",
   "metadata": {},
   "outputs": [],
   "source": []
  },
  {
   "cell_type": "code",
   "execution_count": null,
   "id": "00c44ff7",
   "metadata": {},
   "outputs": [],
   "source": []
  },
  {
   "cell_type": "code",
   "execution_count": null,
   "id": "5c6f7816",
   "metadata": {},
   "outputs": [],
   "source": []
  },
  {
   "cell_type": "code",
   "execution_count": null,
   "id": "b6d389b8",
   "metadata": {},
   "outputs": [],
   "source": []
  },
  {
   "cell_type": "code",
   "execution_count": null,
   "id": "9e1ebb73",
   "metadata": {},
   "outputs": [],
   "source": []
  },
  {
   "cell_type": "code",
   "execution_count": null,
   "id": "2f20ea13",
   "metadata": {},
   "outputs": [],
   "source": []
  },
  {
   "cell_type": "code",
   "execution_count": null,
   "id": "6d18e03e",
   "metadata": {},
   "outputs": [],
   "source": []
  }
 ],
 "metadata": {
  "kernelspec": {
   "display_name": "Python 3 (ipykernel)",
   "language": "python",
   "name": "python3"
  },
  "language_info": {
   "codemirror_mode": {
    "name": "ipython",
    "version": 3
   },
   "file_extension": ".py",
   "mimetype": "text/x-python",
   "name": "python",
   "nbconvert_exporter": "python",
   "pygments_lexer": "ipython3",
   "version": "3.8.10"
  }
 },
 "nbformat": 4,
 "nbformat_minor": 5
}
