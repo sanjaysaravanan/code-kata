{
 "cells": [
  {
   "cell_type": "code",
   "execution_count": 1,
   "id": "fd7e1d15",
   "metadata": {},
   "outputs": [
    {
     "data": {
      "text/plain": [
       "'\\nFind the Unique Element occured only once\\nInput: \\nTestcase\\nN\\nArr\\n\\n1\\n7\\n2 3 1 6 3 6 2\\n\\nOutput:\\nUnique Element\\n\\n1\\n'"
      ]
     },
     "execution_count": 1,
     "metadata": {},
     "output_type": "execute_result"
    }
   ],
   "source": [
    "'''\n",
    "Find the Unique Element occured only once\n",
    "Input: \n",
    "Testcase\n",
    "N\n",
    "Arr\n",
    "\n",
    "1\n",
    "7\n",
    "2 3 1 6 3 6 2\n",
    "\n",
    "Output:\n",
    "Unique Element\n",
    "\n",
    "1\n",
    "'''"
   ]
  },
  {
   "cell_type": "code",
   "execution_count": 6,
   "id": "44afb7c5",
   "metadata": {},
   "outputs": [
    {
     "name": "stdout",
     "output_type": "stream",
     "text": [
      "1\n",
      "7\n",
      "2 3 1 6 3 6 2\n",
      "1\n"
     ]
    }
   ],
   "source": [
    "t = int(input())\n",
    "\n",
    "for i in range(t):\n",
    "    \n",
    "    n = int(input())\n",
    "    arr = input().split()\n",
    "    res_dict = {}\n",
    "    for c in arr:\n",
    "        \n",
    "        if c in res_dict:    \n",
    "            res_dict[c] += 1\n",
    "        else:\n",
    "            res_dict[c] = 1\n",
    "    \n",
    "    for key, value  in res_dict.items():\n",
    "        if value == 1:\n",
    "            print(key)\n",
    "            break\n",
    " \n"
   ]
  },
  {
   "cell_type": "code",
   "execution_count": null,
   "id": "0ab36dcc",
   "metadata": {},
   "outputs": [],
   "source": []
  },
  {
   "cell_type": "code",
   "execution_count": 5,
   "id": "18696414",
   "metadata": {},
   "outputs": [
    {
     "name": "stdout",
     "output_type": "stream",
     "text": [
      "Sanjay\n"
     ]
    }
   ],
   "source": [
    "li_dict = {\"name\": 'Sanjay'}\n",
    "for key, value  in li_dict.items():\n",
    "    print(value)"
   ]
  },
  {
   "cell_type": "code",
   "execution_count": 7,
   "id": "72cd71a0",
   "metadata": {},
   "outputs": [
    {
     "data": {
      "text/plain": [
       "'\\nFind the Unique Element occured only once\\nInput: \\nTestcase\\nN\\nArr\\n\\n1\\n7\\n2 3 1 6 3 6 2\\n\\nOutput:\\nUnique Element\\n\\n1\\n'"
      ]
     },
     "execution_count": 7,
     "metadata": {},
     "output_type": "execute_result"
    }
   ],
   "source": [
    "'''\n",
    "Find the Unique Element occured only once\n",
    "Input: \n",
    "Testcase\n",
    "N\n",
    "Arr\n",
    "\n",
    "1\n",
    "7\n",
    "2 3 1 6 3 6 2\n",
    "\n",
    "Output:\n",
    "Unique Element\n",
    "\n",
    "1\n",
    "'''"
   ]
  },
  {
   "cell_type": "code",
   "execution_count": 8,
   "id": "3206be66",
   "metadata": {},
   "outputs": [
    {
     "name": "stdout",
     "output_type": "stream",
     "text": [
      "1\n",
      "9\n",
      "0 7 2 5 4 7 1 3 6\n",
      "7\n"
     ]
    }
   ],
   "source": [
    "t = int(input())\n",
    "\n",
    "for i in range(t):\n",
    "    \n",
    "    n = int(input())\n",
    "    arr = input().split()\n",
    "    res_dict = {}\n",
    "    for c in arr:\n",
    "        \n",
    "        if c in res_dict:    \n",
    "            res_dict[c] += 1\n",
    "        else:\n",
    "            res_dict[c] = 1\n",
    "    \n",
    "    for key, value  in res_dict.items():\n",
    "        if value > 1:\n",
    "            print(key)\n",
    "            break"
   ]
  },
  {
   "cell_type": "code",
   "execution_count": 24,
   "id": "cd3d8334",
   "metadata": {},
   "outputs": [
    {
     "data": {
      "text/plain": [
       "[0, 0, 1, 1]"
      ]
     },
     "execution_count": 24,
     "metadata": {},
     "output_type": "execute_result"
    }
   ],
   "source": [
    "li = [0, 1, 0, 1, 1]\n",
    "li.sort()\n",
    "li.remove(1)\n",
    "li"
   ]
  },
  {
   "cell_type": "code",
   "execution_count": null,
   "id": "0b62308c",
   "metadata": {},
   "outputs": [],
   "source": []
  },
  {
   "cell_type": "code",
   "execution_count": null,
   "id": "5ae6fd4e",
   "metadata": {},
   "outputs": [],
   "source": []
  },
  {
   "cell_type": "code",
   "execution_count": null,
   "id": "81681a1f",
   "metadata": {},
   "outputs": [],
   "source": []
  },
  {
   "cell_type": "code",
   "execution_count": 10,
   "id": "3dc3541e",
   "metadata": {},
   "outputs": [
    {
     "data": {
      "text/plain": [
       "'\\nYou have been given two integer arrays/list(ARR1 and ARR2) of size N and M, respectively. You need to print their intersection; \\nAn intersection for this problem can be defined when both the arrays/lists contain a particular value or to put it in other \\nords, when there is a common value that exists in both the arrays/lists.\\nInput:\\n2\\n6\\n2 6 8 5 4 3\\n4\\n2 3 4 7 \\n2\\n10 10\\n1\\n10\\nOutput:\\n2 4 3\\n10\\n'"
      ]
     },
     "execution_count": 10,
     "metadata": {},
     "output_type": "execute_result"
    }
   ],
   "source": [
    "'''\n",
    "You have been given two integer arrays/list(ARR1 and ARR2) of size N and M, respectively. You need to print their intersection; \n",
    "An intersection for this problem can be defined when both the arrays/lists contain a particular value or to put it in other \n",
    "ords, when there is a common value that exists in both the arrays/lists.\n",
    "Input:\n",
    "2\n",
    "6\n",
    "2 6 8 5 4 3\n",
    "4\n",
    "2 3 4 7 \n",
    "2\n",
    "10 10\n",
    "1\n",
    "10\n",
    "Output:\n",
    "2 4 3\n",
    "10\n",
    "'''"
   ]
  },
  {
   "cell_type": "code",
   "execution_count": 23,
   "id": "221747bb",
   "metadata": {},
   "outputs": [
    {
     "name": "stdout",
     "output_type": "stream",
     "text": [
      "1\n",
      "6\n",
      "2 6 8 5 4 3\n",
      "4\n",
      "2 3 4 7\n",
      "2 4 3\n"
     ]
    }
   ],
   "source": [
    "t = int(input())\n",
    "for _ in range(t):\n",
    "    intersection_list = []\n",
    "    N = int(input())\n",
    "    n_list = input().split()\n",
    "    M = int(input())\n",
    "    m_list = input().split()\n",
    "    \n",
    "    for i in n_list:\n",
    "        \n",
    "        if i in m_list and i not in intersection_list:\n",
    "            intersection_list.append(i)\n",
    "    \n",
    "    print(' '.join(intersection_list))\n",
    "            \n",
    "        \n",
    "        \n"
   ]
  },
  {
   "cell_type": "code",
   "execution_count": null,
   "id": "1bc42f4e",
   "metadata": {},
   "outputs": [],
   "source": []
  },
  {
   "cell_type": "code",
   "execution_count": 22,
   "id": "15b0a0fa",
   "metadata": {},
   "outputs": [
    {
     "name": "stdout",
     "output_type": "stream",
     "text": [
      "1\n",
      "6\n",
      "2 6 8 5 4 3\n",
      "4\n",
      "2 3 4 7\n",
      "<map object at 0x000001DEDE51FE20>\n",
      "\n"
     ]
    }
   ],
   "source": [
    "t = int(input())\n",
    "for _ in range(t):\n",
    "    intersection_list = []\n",
    "    N = int(input())\n",
    "    n_list = map(int, input().split())\n",
    "    M = int(input())\n",
    "    m_list = map(int, input().split())\n",
    "    \n",
    "    max_list = None\n",
    "    min_list = None\n",
    "    if N >= M:\n",
    "        max_list = n_list\n",
    "        min_list = m_list\n",
    "    else:\n",
    "        max_list = n_list\n",
    "        min_list = m_list\n",
    "        \n",
    "    print(max_list)\n",
    "    \n",
    "#     for i in max_list:\n",
    "#         if i in min_list and i not in intersection_list:\n",
    "#             intersection_list.append(i)\n",
    "    # print(' '.join(intersection_list))\n",
    "#     for res in intersection_list:\n",
    "#         print(res, end=\" \")\n",
    "    print()"
   ]
  },
  {
   "cell_type": "code",
   "execution_count": null,
   "id": "b7c58577",
   "metadata": {},
   "outputs": [],
   "source": [
    "'''\n",
    "You have been given an integer array/list(ARR) and a number X. \n",
    "Find and return the total number of pairs in the array/list which sum to X.\n",
    "Input:\n",
    "1\n",
    "9\n",
    "1 3 6 2 5 4 3 2 4\n",
    "7\n",
    "Output:\n",
    "7\n",
    "'''\n",
    "t = int(input())\n",
    "pair_count = 0\n",
    "for _ in range(t):\n",
    "    N = int(input())\n",
    "    arr = []\n",
    "    if N > 0:\n",
    "        arr = list(map(int, input().split()))\n",
    "    pair_sum = int(input())\n",
    "    for i in range(N):\n",
    "        for j in range(i + 1, N):\n",
    "            if (arr[i] + arr[j]) == pair_sum:\n",
    "                pair_count += 1\n",
    "    print(pair_count)\n",
    "    \n",
    "\n"
   ]
  },
  {
   "cell_type": "code",
   "execution_count": null,
   "id": "7781ab06",
   "metadata": {},
   "outputs": [],
   "source": []
  },
  {
   "cell_type": "code",
   "execution_count": null,
   "id": "4e555441",
   "metadata": {},
   "outputs": [],
   "source": []
  },
  {
   "cell_type": "code",
   "execution_count": null,
   "id": "eff1a942",
   "metadata": {},
   "outputs": [],
   "source": []
  },
  {
   "cell_type": "code",
   "execution_count": null,
   "id": "a2c0978b",
   "metadata": {},
   "outputs": [],
   "source": []
  },
  {
   "cell_type": "code",
   "execution_count": null,
   "id": "9254e1da",
   "metadata": {},
   "outputs": [],
   "source": []
  },
  {
   "cell_type": "code",
   "execution_count": null,
   "id": "0c6ee229",
   "metadata": {},
   "outputs": [],
   "source": []
  },
  {
   "cell_type": "code",
   "execution_count": null,
   "id": "6efb322e",
   "metadata": {},
   "outputs": [],
   "source": []
  },
  {
   "cell_type": "code",
   "execution_count": null,
   "id": "74ba2423",
   "metadata": {},
   "outputs": [],
   "source": []
  },
  {
   "cell_type": "code",
   "execution_count": null,
   "id": "074fb1ad",
   "metadata": {},
   "outputs": [],
   "source": []
  },
  {
   "cell_type": "code",
   "execution_count": null,
   "id": "1436f86d",
   "metadata": {},
   "outputs": [],
   "source": []
  },
  {
   "cell_type": "code",
   "execution_count": null,
   "id": "05aef301",
   "metadata": {},
   "outputs": [],
   "source": []
  },
  {
   "cell_type": "code",
   "execution_count": null,
   "id": "fa80c512",
   "metadata": {},
   "outputs": [],
   "source": []
  },
  {
   "cell_type": "code",
   "execution_count": null,
   "id": "d74c3069",
   "metadata": {},
   "outputs": [],
   "source": []
  },
  {
   "cell_type": "code",
   "execution_count": null,
   "id": "6b86b95d",
   "metadata": {},
   "outputs": [],
   "source": []
  }
 ],
 "metadata": {
  "kernelspec": {
   "display_name": "Python 3 (ipykernel)",
   "language": "python",
   "name": "python3"
  },
  "language_info": {
   "codemirror_mode": {
    "name": "ipython",
    "version": 3
   },
   "file_extension": ".py",
   "mimetype": "text/x-python",
   "name": "python",
   "nbconvert_exporter": "python",
   "pygments_lexer": "ipython3",
   "version": "3.10.2"
  }
 },
 "nbformat": 4,
 "nbformat_minor": 5
}
