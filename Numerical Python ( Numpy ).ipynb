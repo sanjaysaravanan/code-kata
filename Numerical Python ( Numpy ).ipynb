{
 "cells": [
  {
   "cell_type": "code",
   "execution_count": 1,
   "id": "1d60ddb2",
   "metadata": {},
   "outputs": [],
   "source": [
    "import numpy as np"
   ]
  },
  {
   "cell_type": "code",
   "execution_count": 2,
   "id": "63ea7cb2",
   "metadata": {},
   "outputs": [],
   "source": [
    "# Numpy (Numerical Python)\n",
    "# Used for typical numeric data processing \n",
    "# Faster execution and efficient memory utilization in comparision to python built-in capabilities"
   ]
  },
  {
   "cell_type": "code",
   "execution_count": 3,
   "id": "e896960f",
   "metadata": {},
   "outputs": [],
   "source": [
    "# N Dimensional Array object\n",
    "# A generic multi dimensional container for elements of the same type: suitable for large datasets"
   ]
  },
  {
   "cell_type": "code",
   "execution_count": 6,
   "id": "85bac446",
   "metadata": {},
   "outputs": [],
   "source": [
    "arr = np.array([1, 2.1, 3, 4.1, 5]) # 1D Array"
   ]
  },
  {
   "cell_type": "code",
   "execution_count": null,
   "id": "e0f14c01",
   "metadata": {},
   "outputs": [],
   "source": []
  },
  {
   "cell_type": "code",
   "execution_count": null,
   "id": "9b00ede8",
   "metadata": {},
   "outputs": [],
   "source": []
  },
  {
   "cell_type": "code",
   "execution_count": null,
   "id": "a4840cf4",
   "metadata": {},
   "outputs": [],
   "source": []
  },
  {
   "cell_type": "code",
   "execution_count": 8,
   "id": "2c64413d",
   "metadata": {},
   "outputs": [
    {
     "data": {
      "text/plain": [
       "array([1. , 2.1, 3. , 4.1, 5. ])"
      ]
     },
     "execution_count": 8,
     "metadata": {},
     "output_type": "execute_result"
    }
   ],
   "source": [
    "arr"
   ]
  },
  {
   "cell_type": "code",
   "execution_count": 10,
   "id": "68d241a7",
   "metadata": {},
   "outputs": [],
   "source": [
    "# Conversion of nested sequences of same lenght into a multidimensional Array\n",
    "arr2 = np.array([[1,2,3,4], [5,6,7, 9.2]])"
   ]
  },
  {
   "cell_type": "code",
   "execution_count": 11,
   "id": "bfb38328",
   "metadata": {},
   "outputs": [
    {
     "data": {
      "text/plain": [
       "array([[1. , 2. , 3. , 4. ],\n",
       "       [5. , 6. , 7. , 9.2]])"
      ]
     },
     "execution_count": 11,
     "metadata": {},
     "output_type": "execute_result"
    }
   ],
   "source": [
    "arr2"
   ]
  },
  {
   "cell_type": "code",
   "execution_count": 14,
   "id": "dec6792f",
   "metadata": {},
   "outputs": [],
   "source": [
    "# Conversion of nested sequences of same lenght into a multidimensional Array\n",
    "arr3 = np.array([[1,2,3,4], [5,6,7, 9]])"
   ]
  },
  {
   "cell_type": "code",
   "execution_count": null,
   "id": "b153675e",
   "metadata": {},
   "outputs": [],
   "source": []
  },
  {
   "cell_type": "code",
   "execution_count": 15,
   "id": "be68a131",
   "metadata": {},
   "outputs": [
    {
     "data": {
      "text/plain": [
       "array([[1, 2, 3, 4],\n",
       "       [5, 6, 7, 9]])"
      ]
     },
     "execution_count": 15,
     "metadata": {},
     "output_type": "execute_result"
    }
   ],
   "source": [
    "arr2"
   ]
  },
  {
   "cell_type": "code",
   "execution_count": 17,
   "id": "d8541e93",
   "metadata": {},
   "outputs": [
    {
     "data": {
      "text/plain": [
       "array([[1, 2, 3, 4],\n",
       "       [5, 6, 7, 9]])"
      ]
     },
     "execution_count": 17,
     "metadata": {},
     "output_type": "execute_result"
    }
   ],
   "source": [
    "# Conversion of nested sequences of same lenght into a multidimensional Array\n",
    "arr4 = np.array([[1,2,3,4], [5.5,6.6,7.7, 9.2]], dtype=int)\n",
    "arr4"
   ]
  },
  {
   "cell_type": "code",
   "execution_count": 22,
   "id": "e2608dd8",
   "metadata": {},
   "outputs": [
    {
     "data": {
      "text/plain": [
       "array([[ 1.,  2.,  3.,  4.],\n",
       "       [ 5.,  6.,  7.,  9.],\n",
       "       [10., 11., 12., 13.]])"
      ]
     },
     "execution_count": 22,
     "metadata": {},
     "output_type": "execute_result"
    }
   ],
   "source": [
    "# Conversion of nested sequences of same lenght into a multidimensional Array\n",
    "arr5 = np.array([[1,2,3,4], [5,6,7, 9], [10, 11,12,13]], dtype=float)\n",
    "arr5"
   ]
  },
  {
   "cell_type": "code",
   "execution_count": null,
   "id": "8259e254",
   "metadata": {},
   "outputs": [],
   "source": []
  },
  {
   "cell_type": "code",
   "execution_count": 24,
   "id": "df766b43",
   "metadata": {},
   "outputs": [
    {
     "data": {
      "text/plain": [
       "1"
      ]
     },
     "execution_count": 24,
     "metadata": {},
     "output_type": "execute_result"
    }
   ],
   "source": [
    "arr.ndim # ndim prop gives the dimension of the numpy array"
   ]
  },
  {
   "cell_type": "code",
   "execution_count": null,
   "id": "f1fd436e",
   "metadata": {},
   "outputs": [],
   "source": []
  },
  {
   "cell_type": "code",
   "execution_count": 21,
   "id": "a549ad25",
   "metadata": {},
   "outputs": [
    {
     "data": {
      "text/plain": [
       "2"
      ]
     },
     "execution_count": 21,
     "metadata": {},
     "output_type": "execute_result"
    }
   ],
   "source": [
    "arr2.ndim"
   ]
  },
  {
   "cell_type": "code",
   "execution_count": 23,
   "id": "04ccbc53",
   "metadata": {},
   "outputs": [
    {
     "data": {
      "text/plain": [
       "2"
      ]
     },
     "execution_count": 23,
     "metadata": {},
     "output_type": "execute_result"
    }
   ],
   "source": [
    "arr5.ndim"
   ]
  },
  {
   "cell_type": "code",
   "execution_count": 26,
   "id": "1b841374",
   "metadata": {},
   "outputs": [
    {
     "data": {
      "text/plain": [
       "(5,)"
      ]
     },
     "execution_count": 26,
     "metadata": {},
     "output_type": "execute_result"
    }
   ],
   "source": [
    "arr.shape # number of elements and size of the dimension"
   ]
  },
  {
   "cell_type": "code",
   "execution_count": 28,
   "id": "3e76cb60",
   "metadata": {},
   "outputs": [
    {
     "data": {
      "text/plain": [
       "(3, 4)"
      ]
     },
     "execution_count": 28,
     "metadata": {},
     "output_type": "execute_result"
    }
   ],
   "source": [
    "arr5.shape # number of elements in the row and size (no of rows) of the dimension"
   ]
  },
  {
   "cell_type": "code",
   "execution_count": 29,
   "id": "df66cbaf",
   "metadata": {},
   "outputs": [
    {
     "data": {
      "text/plain": [
       "dtype('float64')"
      ]
     },
     "execution_count": 29,
     "metadata": {},
     "output_type": "execute_result"
    }
   ],
   "source": [
    "arr5.dtype"
   ]
  },
  {
   "cell_type": "code",
   "execution_count": 30,
   "id": "52d8db32",
   "metadata": {},
   "outputs": [
    {
     "data": {
      "text/plain": [
       "dtype('int32')"
      ]
     },
     "execution_count": 30,
     "metadata": {},
     "output_type": "execute_result"
    }
   ],
   "source": [
    "arr2.dtype"
   ]
  },
  {
   "cell_type": "code",
   "execution_count": 35,
   "id": "5b90d011",
   "metadata": {},
   "outputs": [],
   "source": [
    "arr6 = np.zeros(5, int)"
   ]
  },
  {
   "cell_type": "code",
   "execution_count": 36,
   "id": "57b28524",
   "metadata": {},
   "outputs": [
    {
     "data": {
      "text/plain": [
       "dtype('int32')"
      ]
     },
     "execution_count": 36,
     "metadata": {},
     "output_type": "execute_result"
    }
   ],
   "source": [
    "arr6.dtype"
   ]
  },
  {
   "cell_type": "code",
   "execution_count": null,
   "id": "b316bb6a",
   "metadata": {},
   "outputs": [],
   "source": []
  },
  {
   "cell_type": "code",
   "execution_count": 34,
   "id": "94c863ad",
   "metadata": {},
   "outputs": [],
   "source": [
    "# By Default the dtype for a numpy array is taken as float"
   ]
  },
  {
   "cell_type": "code",
   "execution_count": 38,
   "id": "73689877",
   "metadata": {},
   "outputs": [],
   "source": [
    "arr7 = np.zeros(5)"
   ]
  },
  {
   "cell_type": "code",
   "execution_count": 39,
   "id": "12e98da2",
   "metadata": {},
   "outputs": [
    {
     "data": {
      "text/plain": [
       "dtype('float64')"
      ]
     },
     "execution_count": 39,
     "metadata": {},
     "output_type": "execute_result"
    }
   ],
   "source": [
    "arr7.dtype"
   ]
  },
  {
   "cell_type": "code",
   "execution_count": null,
   "id": "a3360dfd",
   "metadata": {},
   "outputs": [],
   "source": []
  },
  {
   "cell_type": "code",
   "execution_count": 42,
   "id": "d9204614",
   "metadata": {},
   "outputs": [],
   "source": [
    "arr8 = np.zeros((4, 5)) # specification of both the row and col value for the zeros prop"
   ]
  },
  {
   "cell_type": "code",
   "execution_count": null,
   "id": "ff5801ec",
   "metadata": {},
   "outputs": [],
   "source": []
  },
  {
   "cell_type": "code",
   "execution_count": 41,
   "id": "5ef77eb5",
   "metadata": {},
   "outputs": [
    {
     "data": {
      "text/plain": [
       "array([[0., 0., 0., 0., 0.],\n",
       "       [0., 0., 0., 0., 0.],\n",
       "       [0., 0., 0., 0., 0.],\n",
       "       [0., 0., 0., 0., 0.]])"
      ]
     },
     "execution_count": 41,
     "metadata": {},
     "output_type": "execute_result"
    }
   ],
   "source": [
    "arr8"
   ]
  },
  {
   "cell_type": "code",
   "execution_count": 44,
   "id": "5e775d9f",
   "metadata": {},
   "outputs": [],
   "source": [
    "arr9 = np.zeros((4, 5, 6), dtype=int)"
   ]
  },
  {
   "cell_type": "code",
   "execution_count": 45,
   "id": "6168838e",
   "metadata": {},
   "outputs": [
    {
     "data": {
      "text/plain": [
       "array([[[0, 0, 0, 0, 0, 0],\n",
       "        [0, 0, 0, 0, 0, 0],\n",
       "        [0, 0, 0, 0, 0, 0],\n",
       "        [0, 0, 0, 0, 0, 0],\n",
       "        [0, 0, 0, 0, 0, 0]],\n",
       "\n",
       "       [[0, 0, 0, 0, 0, 0],\n",
       "        [0, 0, 0, 0, 0, 0],\n",
       "        [0, 0, 0, 0, 0, 0],\n",
       "        [0, 0, 0, 0, 0, 0],\n",
       "        [0, 0, 0, 0, 0, 0]],\n",
       "\n",
       "       [[0, 0, 0, 0, 0, 0],\n",
       "        [0, 0, 0, 0, 0, 0],\n",
       "        [0, 0, 0, 0, 0, 0],\n",
       "        [0, 0, 0, 0, 0, 0],\n",
       "        [0, 0, 0, 0, 0, 0]],\n",
       "\n",
       "       [[0, 0, 0, 0, 0, 0],\n",
       "        [0, 0, 0, 0, 0, 0],\n",
       "        [0, 0, 0, 0, 0, 0],\n",
       "        [0, 0, 0, 0, 0, 0],\n",
       "        [0, 0, 0, 0, 0, 0]]])"
      ]
     },
     "execution_count": 45,
     "metadata": {},
     "output_type": "execute_result"
    }
   ],
   "source": [
    "arr9"
   ]
  },
  {
   "cell_type": "code",
   "execution_count": 47,
   "id": "631a7086",
   "metadata": {},
   "outputs": [],
   "source": [
    "arr10 = np.zeros((2, 3, 4, 5), dtype=int)"
   ]
  },
  {
   "cell_type": "code",
   "execution_count": 95,
   "id": "84bf4c0b",
   "metadata": {},
   "outputs": [
    {
     "data": {
      "text/plain": [
       "array([[[[0, 0, 0, 0, 0],\n",
       "         [0, 0, 0, 0, 0],\n",
       "         [0, 0, 0, 0, 0],\n",
       "         [0, 0, 0, 0, 0]],\n",
       "\n",
       "        [[0, 0, 0, 0, 0],\n",
       "         [0, 0, 0, 0, 0],\n",
       "         [0, 0, 0, 0, 0],\n",
       "         [0, 0, 0, 0, 0]],\n",
       "\n",
       "        [[0, 0, 0, 0, 0],\n",
       "         [0, 0, 0, 0, 0],\n",
       "         [0, 0, 0, 0, 0],\n",
       "         [0, 0, 0, 0, 0]]],\n",
       "\n",
       "\n",
       "       [[[0, 0, 0, 0, 0],\n",
       "         [0, 0, 0, 0, 0],\n",
       "         [0, 0, 0, 0, 0],\n",
       "         [0, 0, 0, 0, 0]],\n",
       "\n",
       "        [[0, 0, 0, 0, 0],\n",
       "         [0, 0, 0, 0, 0],\n",
       "         [0, 0, 0, 0, 0],\n",
       "         [0, 0, 0, 0, 0]],\n",
       "\n",
       "        [[0, 0, 0, 0, 0],\n",
       "         [0, 0, 0, 0, 0],\n",
       "         [0, 0, 0, 0, 0],\n",
       "         [0, 0, 0, 0, 0]]]])"
      ]
     },
     "execution_count": 95,
     "metadata": {},
     "output_type": "execute_result"
    }
   ],
   "source": [
    "arr10"
   ]
  },
  {
   "cell_type": "code",
   "execution_count": 96,
   "id": "1766006b",
   "metadata": {},
   "outputs": [
    {
     "data": {
      "text/plain": [
       "(2, 3, 4, 5)"
      ]
     },
     "execution_count": 96,
     "metadata": {},
     "output_type": "execute_result"
    }
   ],
   "source": [
    "arr10.shape"
   ]
  },
  {
   "cell_type": "code",
   "execution_count": 117,
   "id": "e89cd01f",
   "metadata": {},
   "outputs": [
    {
     "data": {
      "text/plain": [
       "0"
      ]
     },
     "execution_count": 117,
     "metadata": {},
     "output_type": "execute_result"
    }
   ],
   "source": [
    "arr10[1, 1, 1, 1]"
   ]
  },
  {
   "cell_type": "code",
   "execution_count": 135,
   "id": "adfd9c77",
   "metadata": {},
   "outputs": [
    {
     "data": {
      "text/plain": [
       "4"
      ]
     },
     "execution_count": 135,
     "metadata": {},
     "output_type": "execute_result"
    }
   ],
   "source": [
    "arr10.ndim"
   ]
  },
  {
   "cell_type": "code",
   "execution_count": null,
   "id": "0adc72e3",
   "metadata": {},
   "outputs": [],
   "source": []
  },
  {
   "cell_type": "code",
   "execution_count": null,
   "id": "e992314f",
   "metadata": {},
   "outputs": [],
   "source": []
  },
  {
   "cell_type": "code",
   "execution_count": 49,
   "id": "00673fb4",
   "metadata": {},
   "outputs": [],
   "source": [
    "# Ones functions\n",
    "arr11 = np.ones(8)"
   ]
  },
  {
   "cell_type": "code",
   "execution_count": 50,
   "id": "9330a614",
   "metadata": {},
   "outputs": [
    {
     "data": {
      "text/plain": [
       "array([1., 1., 1., 1., 1., 1., 1., 1.])"
      ]
     },
     "execution_count": 50,
     "metadata": {},
     "output_type": "execute_result"
    }
   ],
   "source": [
    "arr11"
   ]
  },
  {
   "cell_type": "code",
   "execution_count": 51,
   "id": "9b18e14b",
   "metadata": {},
   "outputs": [
    {
     "data": {
      "text/plain": [
       "array([[1, 1, 1, 1],\n",
       "       [1, 1, 1, 1]])"
      ]
     },
     "execution_count": 51,
     "metadata": {},
     "output_type": "execute_result"
    }
   ],
   "source": [
    "arr12 = np.ones((2, 4), dtype=int)\n",
    "arr12"
   ]
  },
  {
   "cell_type": "code",
   "execution_count": 52,
   "id": "a869c0d0",
   "metadata": {},
   "outputs": [
    {
     "data": {
      "text/plain": [
       "array([0, 1, 2, 3, 4, 5])"
      ]
     },
     "execution_count": 52,
     "metadata": {},
     "output_type": "execute_result"
    }
   ],
   "source": [
    "# arange function\n",
    "arr13 = np.arange(6) # similar to built in range in the python\n",
    "arr13"
   ]
  },
  {
   "cell_type": "code",
   "execution_count": 54,
   "id": "4dbfb92f",
   "metadata": {},
   "outputs": [
    {
     "data": {
      "text/plain": [
       "array([5, 6, 7])"
      ]
     },
     "execution_count": 54,
     "metadata": {},
     "output_type": "execute_result"
    }
   ],
   "source": [
    "arr14 = np.arange(5, 8) # arange with start and stop \n",
    "arr14"
   ]
  },
  {
   "cell_type": "code",
   "execution_count": 56,
   "id": "6390bad1",
   "metadata": {},
   "outputs": [
    {
     "data": {
      "text/plain": [
       "array([ 5,  7,  9, 11, 13])"
      ]
     },
     "execution_count": 56,
     "metadata": {},
     "output_type": "execute_result"
    }
   ],
   "source": [
    "arr15 = np.arange(5, 15, 2) # arange with start and stop \n",
    "arr15"
   ]
  },
  {
   "cell_type": "code",
   "execution_count": 58,
   "id": "c4853b59",
   "metadata": {},
   "outputs": [
    {
     "data": {
      "text/plain": [
       "array([ 5.,  7.,  9., 11., 13.])"
      ]
     },
     "execution_count": 58,
     "metadata": {},
     "output_type": "execute_result"
    }
   ],
   "source": [
    "arr16 = np.arange(5, 15, 2, dtype=float) # arange with start, stop, step, dtype\n",
    "arr16"
   ]
  },
  {
   "cell_type": "code",
   "execution_count": 59,
   "id": "a4d865e4",
   "metadata": {},
   "outputs": [],
   "source": [
    "# Numpy's supported data types:\n",
    "# floating point, complex, integer, boolean, integer, boolean, string, or general python object\n",
    "\n",
    "# casting an array from one data type into another\n",
    "# using 'astype' method\n",
    "\n",
    "\n",
    "\n"
   ]
  },
  {
   "cell_type": "code",
   "execution_count": 74,
   "id": "c12840d1",
   "metadata": {},
   "outputs": [],
   "source": [
    "arr16 = np.array([1,2,3,4])"
   ]
  },
  {
   "cell_type": "code",
   "execution_count": 75,
   "id": "a4504d84",
   "metadata": {},
   "outputs": [
    {
     "data": {
      "text/plain": [
       "array([1, 2, 3, 4])"
      ]
     },
     "execution_count": 75,
     "metadata": {},
     "output_type": "execute_result"
    }
   ],
   "source": [
    "arr16"
   ]
  },
  {
   "cell_type": "code",
   "execution_count": null,
   "id": "4648c154",
   "metadata": {},
   "outputs": [],
   "source": []
  },
  {
   "cell_type": "code",
   "execution_count": null,
   "id": "722b4106",
   "metadata": {},
   "outputs": [],
   "source": []
  },
  {
   "cell_type": "code",
   "execution_count": 72,
   "id": "1e228e5c",
   "metadata": {},
   "outputs": [],
   "source": [
    "arr16 = arr16.astype(np.int64)"
   ]
  },
  {
   "cell_type": "code",
   "execution_count": 73,
   "id": "9ace998d",
   "metadata": {},
   "outputs": [
    {
     "data": {
      "text/plain": [
       "array([1, 2, 3, 4], dtype=int64)"
      ]
     },
     "execution_count": 73,
     "metadata": {},
     "output_type": "execute_result"
    }
   ],
   "source": [
    "arr16"
   ]
  },
  {
   "cell_type": "code",
   "execution_count": null,
   "id": "a9ca9c96",
   "metadata": {},
   "outputs": [],
   "source": []
  },
  {
   "cell_type": "code",
   "execution_count": 70,
   "id": "82119b0a",
   "metadata": {},
   "outputs": [
    {
     "data": {
      "text/plain": [
       "array(8, dtype=int64)"
      ]
     },
     "execution_count": 70,
     "metadata": {},
     "output_type": "execute_result"
    }
   ],
   "source": [
    "arr16"
   ]
  },
  {
   "cell_type": "code",
   "execution_count": 80,
   "id": "4655ed96",
   "metadata": {},
   "outputs": [],
   "source": [
    "arr17 = np.array(['1.1', '2.2', '3.3'])"
   ]
  },
  {
   "cell_type": "code",
   "execution_count": null,
   "id": "df8baab3",
   "metadata": {},
   "outputs": [],
   "source": []
  },
  {
   "cell_type": "code",
   "execution_count": 81,
   "id": "5788f406",
   "metadata": {},
   "outputs": [
    {
     "data": {
      "text/plain": [
       "array(['1.1', '2.2', '3.3'], dtype='<U3')"
      ]
     },
     "execution_count": 81,
     "metadata": {},
     "output_type": "execute_result"
    }
   ],
   "source": [
    "arr17"
   ]
  },
  {
   "cell_type": "code",
   "execution_count": 82,
   "id": "bd44db27",
   "metadata": {},
   "outputs": [
    {
     "data": {
      "text/plain": [
       "array(['1.1', '-2.2', '3.3'], dtype='<U4')"
      ]
     },
     "execution_count": 82,
     "metadata": {},
     "output_type": "execute_result"
    }
   ],
   "source": [
    "arr18 = np.array(['1.1', '-2.2', '3.3'])\n",
    "arr18"
   ]
  },
  {
   "cell_type": "code",
   "execution_count": 84,
   "id": "393f05d1",
   "metadata": {},
   "outputs": [
    {
     "data": {
      "text/plain": [
       "array(['1.1', '-2.2', '3.3'], dtype='<U4')"
      ]
     },
     "execution_count": 84,
     "metadata": {},
     "output_type": "execute_result"
    }
   ],
   "source": [
    "arr19 = np.array(['1.1', '-2.2', '3.3'])\n",
    "arr19"
   ]
  },
  {
   "cell_type": "code",
   "execution_count": 85,
   "id": "a9d6e0ec",
   "metadata": {},
   "outputs": [
    {
     "data": {
      "text/plain": [
       "array([ 1.1, -2.2,  3.3])"
      ]
     },
     "execution_count": 85,
     "metadata": {},
     "output_type": "execute_result"
    }
   ],
   "source": [
    "arr19.astype(float)"
   ]
  },
  {
   "cell_type": "code",
   "execution_count": 86,
   "id": "0052768e",
   "metadata": {},
   "outputs": [
    {
     "data": {
      "text/plain": [
       "array(['1.111268162868634', '-2.2', '3.3'], dtype='<U17')"
      ]
     },
     "execution_count": 86,
     "metadata": {},
     "output_type": "execute_result"
    }
   ],
   "source": [
    "arr20 = np.array(['1.111268162868634', '-2.2', '3.3'])\n",
    "arr20"
   ]
  },
  {
   "cell_type": "code",
   "execution_count": 88,
   "id": "751260fb",
   "metadata": {},
   "outputs": [
    {
     "data": {
      "text/plain": [
       "array([ 1.11126816, -2.2       ,  3.3       ])"
      ]
     },
     "execution_count": 88,
     "metadata": {},
     "output_type": "execute_result"
    }
   ],
   "source": [
    "arr21 = arr20.astype(float)\n",
    "arr21"
   ]
  },
  {
   "cell_type": "code",
   "execution_count": 89,
   "id": "7a83f035",
   "metadata": {},
   "outputs": [
    {
     "data": {
      "text/plain": [
       "array([ 1.     ,  1.11212, -5.5    ,  9.     ])"
      ]
     },
     "execution_count": 89,
     "metadata": {},
     "output_type": "execute_result"
    }
   ],
   "source": [
    "arr22 = np.array([1, 1.11212, -5.5, 9])\n",
    "arr22"
   ]
  },
  {
   "cell_type": "code",
   "execution_count": 92,
   "id": "7f728cdc",
   "metadata": {},
   "outputs": [
    {
     "data": {
      "text/plain": [
       "array([b'1.0', b'1.11212', b'-5.5', b'9.0'], dtype='|S32')"
      ]
     },
     "execution_count": 92,
     "metadata": {},
     "output_type": "execute_result"
    }
   ],
   "source": [
    "arr22.astype(np.string_) # float to string conversion"
   ]
  },
  {
   "cell_type": "code",
   "execution_count": 93,
   "id": "419641d0",
   "metadata": {},
   "outputs": [],
   "source": [
    "# Shorthand type codes \n",
    "# to create a 4 byte long string using empty function"
   ]
  },
  {
   "cell_type": "code",
   "execution_count": 94,
   "id": "3492f82f",
   "metadata": {},
   "outputs": [
    {
     "data": {
      "text/plain": [
       "array([      0,       1,       0,     534,     952,       0,     768,\n",
       "             0, 7471215], dtype=uint32)"
      ]
     },
     "execution_count": 94,
     "metadata": {},
     "output_type": "execute_result"
    }
   ],
   "source": [
    "arr23 = np.empty(9, 'u4')\n",
    "arr23"
   ]
  },
  {
   "cell_type": "code",
   "execution_count": null,
   "id": "c4b84578",
   "metadata": {},
   "outputs": [],
   "source": []
  },
  {
   "cell_type": "code",
   "execution_count": null,
   "id": "e2f3576f",
   "metadata": {},
   "outputs": [],
   "source": []
  },
  {
   "cell_type": "code",
   "execution_count": null,
   "id": "2cc2ecff",
   "metadata": {},
   "outputs": [],
   "source": []
  },
  {
   "cell_type": "code",
   "execution_count": null,
   "id": "88ecb348",
   "metadata": {},
   "outputs": [],
   "source": []
  },
  {
   "cell_type": "code",
   "execution_count": null,
   "id": "4dd8187d",
   "metadata": {},
   "outputs": [],
   "source": []
  },
  {
   "cell_type": "code",
   "execution_count": null,
   "id": "c9f3716a",
   "metadata": {},
   "outputs": [],
   "source": []
  },
  {
   "cell_type": "code",
   "execution_count": null,
   "id": "3e0735b5",
   "metadata": {},
   "outputs": [],
   "source": []
  },
  {
   "cell_type": "code",
   "execution_count": 63,
   "id": "bc24e14e",
   "metadata": {},
   "outputs": [
    {
     "data": {
      "text/plain": [
       "array([4, 5])"
      ]
     },
     "execution_count": 63,
     "metadata": {},
     "output_type": "execute_result"
    }
   ],
   "source": [
    "arr3"
   ]
  },
  {
   "cell_type": "code",
   "execution_count": 97,
   "id": "25cb17c9",
   "metadata": {},
   "outputs": [],
   "source": [
    "# Numpy array operations\n",
    "# Vectorization ---> using numpy arrays, element wise operations can be performed between the arrays of same size\n",
    "# Arithematic Operations\n"
   ]
  },
  {
   "cell_type": "code",
   "execution_count": 98,
   "id": "411ffc18",
   "metadata": {},
   "outputs": [
    {
     "data": {
      "text/plain": [
       "array([[ 1,  2,  3,  4,  5],\n",
       "       [ 6,  7,  8,  9, 10]])"
      ]
     },
     "execution_count": 98,
     "metadata": {},
     "output_type": "execute_result"
    }
   ],
   "source": [
    "new_arr = np.array([[1,2,3,4,5], [6,7,8,9,10]])\n",
    "new_arr"
   ]
  },
  {
   "cell_type": "code",
   "execution_count": 99,
   "id": "3845d1ed",
   "metadata": {},
   "outputs": [
    {
     "data": {
      "text/plain": [
       "array([[  1,   4,   9,  16,  25],\n",
       "       [ 36,  49,  64,  81, 100]])"
      ]
     },
     "execution_count": 99,
     "metadata": {},
     "output_type": "execute_result"
    }
   ],
   "source": [
    "# Multiplication by itself\n",
    "new_arr * new_arr"
   ]
  },
  {
   "cell_type": "code",
   "execution_count": 101,
   "id": "50d8066d",
   "metadata": {},
   "outputs": [
    {
     "data": {
      "text/plain": [
       "array([[ 11,  22,  33,  44,  55],\n",
       "       [ 66,  77,  88,  99, 110]])"
      ]
     },
     "execution_count": 101,
     "metadata": {},
     "output_type": "execute_result"
    }
   ],
   "source": [
    "# Addition\n",
    "new_arr + np.array([[10, 20, 30, 40, 50], [60, 70, 80, 90, 100]])"
   ]
  },
  {
   "cell_type": "code",
   "execution_count": 102,
   "id": "0e8b0d24",
   "metadata": {},
   "outputs": [
    {
     "data": {
      "text/plain": [
       "array([[ -9, -18, -27, -36, -45],\n",
       "       [-54, -63, -72, -81, -90]])"
      ]
     },
     "execution_count": 102,
     "metadata": {},
     "output_type": "execute_result"
    }
   ],
   "source": [
    "# subtraction \n",
    "new_arr - np.array([[10, 20, 30, 40, 50], [60, 70, 80, 90, 100]])"
   ]
  },
  {
   "cell_type": "code",
   "execution_count": 103,
   "id": "4dd1cb7b",
   "metadata": {},
   "outputs": [
    {
     "data": {
      "text/plain": [
       "array([[  1,   4,   9,  16,  25],\n",
       "       [ 36,  49,  64,  81, 100]])"
      ]
     },
     "execution_count": 103,
     "metadata": {},
     "output_type": "execute_result"
    }
   ],
   "source": [
    "# Power/Exponential\n",
    "new_arr ** 2"
   ]
  },
  {
   "cell_type": "code",
   "execution_count": 105,
   "id": "1f3e00e4",
   "metadata": {},
   "outputs": [
    {
     "data": {
      "text/plain": [
       "array([[ True,  True,  True,  True,  True],\n",
       "       [ True,  True,  True, False,  True]])"
      ]
     },
     "execution_count": 105,
     "metadata": {},
     "output_type": "execute_result"
    }
   ],
   "source": [
    "# Power/Exponential\n",
    "new_arr == np.array([[ 1,  2,  3,  4,  5], [ 6,  7,  8,  9999, 10]])"
   ]
  },
  {
   "cell_type": "code",
   "execution_count": 106,
   "id": "01480b7f",
   "metadata": {},
   "outputs": [
    {
     "data": {
      "text/plain": [
       "array([[1.        , 0.5       , 0.33333333, 0.25      , 0.2       ],\n",
       "       [0.16666667, 0.14285714, 0.125     , 0.11111111, 0.1       ]])"
      ]
     },
     "execution_count": 106,
     "metadata": {},
     "output_type": "execute_result"
    }
   ],
   "source": [
    "# Division\n",
    "1/new_arr"
   ]
  },
  {
   "cell_type": "code",
   "execution_count": 107,
   "id": "bf57969d",
   "metadata": {},
   "outputs": [
    {
     "data": {
      "text/plain": [
       "array([[False,  True,  True,  True],\n",
       "       [ True,  True,  True,  True]])"
      ]
     },
     "execution_count": 107,
     "metadata": {},
     "output_type": "execute_result"
    }
   ],
   "source": [
    "arr2 > 1/arr2"
   ]
  },
  {
   "cell_type": "code",
   "execution_count": 108,
   "id": "b38cc2f4",
   "metadata": {},
   "outputs": [
    {
     "data": {
      "text/plain": [
       "array([[ 1,  2,  3,  4,  5],\n",
       "       [ 6,  7,  8,  9, 10]])"
      ]
     },
     "execution_count": 108,
     "metadata": {},
     "output_type": "execute_result"
    }
   ],
   "source": [
    "# Indexing \n",
    "# First index denote the no of the row and second index indicates the no of columns\n",
    "# like a coordinate along the first dimension\n",
    "# second index is like a coordinate along the second dimension\n",
    "new_arr"
   ]
  },
  {
   "cell_type": "code",
   "execution_count": 113,
   "id": "522b0521",
   "metadata": {},
   "outputs": [
    {
     "data": {
      "text/plain": [
       "array([1, 2, 3, 4, 5])"
      ]
     },
     "execution_count": 113,
     "metadata": {},
     "output_type": "execute_result"
    }
   ],
   "source": [
    "new_arr[0]"
   ]
  },
  {
   "cell_type": "code",
   "execution_count": 114,
   "id": "9ab84047",
   "metadata": {},
   "outputs": [
    {
     "data": {
      "text/plain": [
       "2"
      ]
     },
     "execution_count": 114,
     "metadata": {},
     "output_type": "execute_result"
    }
   ],
   "source": [
    "new_arr[0, 1]"
   ]
  },
  {
   "cell_type": "code",
   "execution_count": 115,
   "id": "e4686c98",
   "metadata": {},
   "outputs": [
    {
     "data": {
      "text/plain": [
       "9"
      ]
     },
     "execution_count": 115,
     "metadata": {},
     "output_type": "execute_result"
    }
   ],
   "source": [
    "new_arr[1, 3]"
   ]
  },
  {
   "cell_type": "code",
   "execution_count": 118,
   "id": "2cfc878a",
   "metadata": {},
   "outputs": [
    {
     "data": {
      "text/plain": [
       "array([[1, 2, 3, 4],\n",
       "       [5, 6, 7, 8]])"
      ]
     },
     "execution_count": 118,
     "metadata": {},
     "output_type": "execute_result"
    }
   ],
   "source": [
    "# SLicing an array is different from Python built-in lists \n",
    "# Modifications in the sliced array will reflect in the source array \n",
    "# slices are views and not copies \n",
    "new_arr2 = np.array([[1,2,3,4], [5,6,7,8]])\n",
    "new_arr2"
   ]
  },
  {
   "cell_type": "code",
   "execution_count": 121,
   "id": "a7ae9f06",
   "metadata": {},
   "outputs": [
    {
     "data": {
      "text/plain": [
       "array([[1, 2, 3, 4]])"
      ]
     },
     "execution_count": 121,
     "metadata": {},
     "output_type": "execute_result"
    }
   ],
   "source": [
    "new_arr2[0:1]"
   ]
  },
  {
   "cell_type": "code",
   "execution_count": 122,
   "id": "91cdf71e",
   "metadata": {},
   "outputs": [
    {
     "data": {
      "text/plain": [
       "array([1, 2, 3, 4])"
      ]
     },
     "execution_count": 122,
     "metadata": {},
     "output_type": "execute_result"
    }
   ],
   "source": [
    "new_arr3 = np.array([1,2,3,4])\n",
    "new_arr3"
   ]
  },
  {
   "cell_type": "code",
   "execution_count": 123,
   "id": "51020fb0",
   "metadata": {},
   "outputs": [
    {
     "data": {
      "text/plain": [
       "array([2, 3])"
      ]
     },
     "execution_count": 123,
     "metadata": {},
     "output_type": "execute_result"
    }
   ],
   "source": [
    "new_arr3[1:3]"
   ]
  },
  {
   "cell_type": "code",
   "execution_count": 124,
   "id": "e44471b0",
   "metadata": {},
   "outputs": [
    {
     "data": {
      "text/plain": [
       "2"
      ]
     },
     "execution_count": 124,
     "metadata": {},
     "output_type": "execute_result"
    }
   ],
   "source": [
    "new_arr3[1]"
   ]
  },
  {
   "cell_type": "code",
   "execution_count": 125,
   "id": "364b9825",
   "metadata": {},
   "outputs": [
    {
     "data": {
      "text/plain": [
       "array([1, 2, 3, 4])"
      ]
     },
     "execution_count": 125,
     "metadata": {},
     "output_type": "execute_result"
    }
   ],
   "source": [
    "new_arr3[:]"
   ]
  },
  {
   "cell_type": "code",
   "execution_count": 126,
   "id": "d3194f19",
   "metadata": {},
   "outputs": [],
   "source": [
    "new_arr3[:] = 0.5"
   ]
  },
  {
   "cell_type": "code",
   "execution_count": 127,
   "id": "4b6d9204",
   "metadata": {},
   "outputs": [
    {
     "data": {
      "text/plain": [
       "array([0, 0, 0, 0])"
      ]
     },
     "execution_count": 127,
     "metadata": {},
     "output_type": "execute_result"
    }
   ],
   "source": [
    "new_arr3"
   ]
  },
  {
   "cell_type": "code",
   "execution_count": null,
   "id": "2a9934e1",
   "metadata": {},
   "outputs": [],
   "source": [
    "# np array's higher dimensional position always contains an array"
   ]
  },
  {
   "cell_type": "code",
   "execution_count": 140,
   "id": "72e13f66",
   "metadata": {},
   "outputs": [],
   "source": [
    "new_arr4 = np.array([[1,2,3], [123, 2, 3], [4,5,6]])"
   ]
  },
  {
   "cell_type": "code",
   "execution_count": null,
   "id": "41ac57eb",
   "metadata": {},
   "outputs": [],
   "source": []
  },
  {
   "cell_type": "code",
   "execution_count": 141,
   "id": "80953039",
   "metadata": {},
   "outputs": [
    {
     "data": {
      "text/plain": [
       "2"
      ]
     },
     "execution_count": 141,
     "metadata": {},
     "output_type": "execute_result"
    }
   ],
   "source": [
    "new_arr4.ndim"
   ]
  },
  {
   "cell_type": "code",
   "execution_count": null,
   "id": "d0e182c4",
   "metadata": {},
   "outputs": [],
   "source": []
  },
  {
   "cell_type": "code",
   "execution_count": 142,
   "id": "1ae98c66",
   "metadata": {},
   "outputs": [
    {
     "data": {
      "text/plain": [
       "(3, 3)"
      ]
     },
     "execution_count": 142,
     "metadata": {},
     "output_type": "execute_result"
    }
   ],
   "source": [
    "new_arr4.shape"
   ]
  },
  {
   "cell_type": "code",
   "execution_count": 143,
   "id": "f950be32",
   "metadata": {},
   "outputs": [],
   "source": [
    "new_arr5 = np.array([[[1,2,3]], [[123, 2, 3]], [[4,5,6]]])"
   ]
  },
  {
   "cell_type": "code",
   "execution_count": 144,
   "id": "40eadf97",
   "metadata": {},
   "outputs": [
    {
     "data": {
      "text/plain": [
       "3"
      ]
     },
     "execution_count": 144,
     "metadata": {},
     "output_type": "execute_result"
    }
   ],
   "source": [
    "new_arr5.ndim"
   ]
  },
  {
   "cell_type": "code",
   "execution_count": 145,
   "id": "eb59ae95",
   "metadata": {},
   "outputs": [
    {
     "data": {
      "text/plain": [
       "(3, 1, 3)"
      ]
     },
     "execution_count": 145,
     "metadata": {},
     "output_type": "execute_result"
    }
   ],
   "source": [
    "new_arr5.shape"
   ]
  },
  {
   "cell_type": "code",
   "execution_count": 154,
   "id": "fa535c5b",
   "metadata": {},
   "outputs": [],
   "source": [
    "new_arr6 = np.array([[[1,2,3]], [[4,5,6]], [[6,7,9]]])"
   ]
  },
  {
   "cell_type": "code",
   "execution_count": null,
   "id": "16fc3af4",
   "metadata": {},
   "outputs": [],
   "source": []
  },
  {
   "cell_type": "code",
   "execution_count": 155,
   "id": "79fc2dd8",
   "metadata": {},
   "outputs": [
    {
     "data": {
      "text/plain": [
       "array([1, 2, 3])"
      ]
     },
     "execution_count": 155,
     "metadata": {},
     "output_type": "execute_result"
    }
   ],
   "source": [
    "new_arr6[0][0]"
   ]
  },
  {
   "cell_type": "code",
   "execution_count": 156,
   "id": "003180ef",
   "metadata": {},
   "outputs": [],
   "source": [
    "new_arr6_0 = new_arr6.copy()"
   ]
  },
  {
   "cell_type": "code",
   "execution_count": null,
   "id": "8a2ece87",
   "metadata": {},
   "outputs": [],
   "source": []
  },
  {
   "cell_type": "code",
   "execution_count": 159,
   "id": "c2a0210c",
   "metadata": {},
   "outputs": [
    {
     "data": {
      "text/plain": [
       "array([[[55, 55, 55]],\n",
       "\n",
       "       [[ 4,  5,  6]],\n",
       "\n",
       "       [[ 6,  7,  9]]])"
      ]
     },
     "execution_count": 159,
     "metadata": {},
     "output_type": "execute_result"
    }
   ],
   "source": [
    "new_arr6[0] = 55\n",
    "new_arr6"
   ]
  },
  {
   "cell_type": "code",
   "execution_count": 160,
   "id": "7c89e104",
   "metadata": {},
   "outputs": [
    {
     "data": {
      "text/plain": [
       "array([[[1, 2, 3]],\n",
       "\n",
       "       [[4, 5, 6]],\n",
       "\n",
       "       [[6, 7, 9]]])"
      ]
     },
     "execution_count": 160,
     "metadata": {},
     "output_type": "execute_result"
    }
   ],
   "source": [
    "new_arr6_0"
   ]
  },
  {
   "cell_type": "code",
   "execution_count": 161,
   "id": "d91a0f54",
   "metadata": {},
   "outputs": [],
   "source": [
    "new_arr6_0[1, 0] = np.array([99, 88, 77])"
   ]
  },
  {
   "cell_type": "code",
   "execution_count": 162,
   "id": "3457e0be",
   "metadata": {},
   "outputs": [
    {
     "data": {
      "text/plain": [
       "array([[[ 1,  2,  3]],\n",
       "\n",
       "       [[99, 88, 77]],\n",
       "\n",
       "       [[ 6,  7,  9]]])"
      ]
     },
     "execution_count": 162,
     "metadata": {},
     "output_type": "execute_result"
    }
   ],
   "source": [
    "new_arr6_0"
   ]
  },
  {
   "cell_type": "code",
   "execution_count": 163,
   "id": "aad6f4ab",
   "metadata": {},
   "outputs": [
    {
     "data": {
      "text/plain": [
       "array([[[1, 2, 3]]])"
      ]
     },
     "execution_count": 163,
     "metadata": {},
     "output_type": "execute_result"
    }
   ],
   "source": [
    "new_arr6_0[:1]"
   ]
  },
  {
   "cell_type": "code",
   "execution_count": 164,
   "id": "a3566f15",
   "metadata": {},
   "outputs": [
    {
     "data": {
      "text/plain": [
       "3"
      ]
     },
     "execution_count": 164,
     "metadata": {},
     "output_type": "execute_result"
    }
   ],
   "source": [
    "new_arr6_0[:1].ndim"
   ]
  },
  {
   "cell_type": "code",
   "execution_count": 165,
   "id": "ed9f52f1",
   "metadata": {},
   "outputs": [
    {
     "data": {
      "text/plain": [
       "array([[[ 1,  2,  3]],\n",
       "\n",
       "       [[99, 88, 77]],\n",
       "\n",
       "       [[ 6,  7,  9]]])"
      ]
     },
     "execution_count": 165,
     "metadata": {},
     "output_type": "execute_result"
    }
   ],
   "source": [
    "# Multiple Slices\n",
    "# First index denotes the slicing along the first dimension and\n",
    "# second index denotes the sliciong along the second dimension\n",
    "new_arr6_0"
   ]
  },
  {
   "cell_type": "code",
   "execution_count": 175,
   "id": "beb8a3e2",
   "metadata": {},
   "outputs": [
    {
     "data": {
      "text/plain": [
       "array([[[ 1,  2]],\n",
       "\n",
       "       [[99, 88]]])"
      ]
     },
     "execution_count": 175,
     "metadata": {},
     "output_type": "execute_result"
    }
   ],
   "source": [
    "new_arr6_0[:2, :1, :2]"
   ]
  },
  {
   "cell_type": "code",
   "execution_count": 177,
   "id": "e469d841",
   "metadata": {},
   "outputs": [
    {
     "data": {
      "text/plain": [
       "array([[[ 1,  2]],\n",
       "\n",
       "       [[99, 88]],\n",
       "\n",
       "       [[ 6,  7]]])"
      ]
     },
     "execution_count": 177,
     "metadata": {},
     "output_type": "execute_result"
    }
   ],
   "source": [
    "new_arr6_0[:, :1, :2]"
   ]
  },
  {
   "cell_type": "code",
   "execution_count": 181,
   "id": "44b079bd",
   "metadata": {},
   "outputs": [
    {
     "data": {
      "text/plain": [
       "array([[[ 2,  3]],\n",
       "\n",
       "       [[88, 77]]])"
      ]
     },
     "execution_count": 181,
     "metadata": {},
     "output_type": "execute_result"
    }
   ],
   "source": [
    "new_arr6_0[:2, :2, 1:3]"
   ]
  },
  {
   "cell_type": "code",
   "execution_count": 182,
   "id": "42caa144",
   "metadata": {},
   "outputs": [],
   "source": [
    "new_arr6_0[:2, :2, 1:3] = 0"
   ]
  },
  {
   "cell_type": "code",
   "execution_count": 184,
   "id": "d5c25403",
   "metadata": {},
   "outputs": [
    {
     "data": {
      "text/plain": [
       "array([[[ 1,  0,  0]],\n",
       "\n",
       "       [[99,  0,  0]],\n",
       "\n",
       "       [[ 6,  7,  9]]])"
      ]
     },
     "execution_count": 184,
     "metadata": {},
     "output_type": "execute_result"
    }
   ],
   "source": [
    "new_arr6_0"
   ]
  },
  {
   "cell_type": "code",
   "execution_count": 188,
   "id": "5e0bc82c",
   "metadata": {},
   "outputs": [
    {
     "data": {
      "text/plain": [
       "3"
      ]
     },
     "execution_count": 188,
     "metadata": {},
     "output_type": "execute_result"
    }
   ],
   "source": [
    "new_arr6_0[:2, :2, 1:3].ndim"
   ]
  },
  {
   "cell_type": "code",
   "execution_count": 189,
   "id": "acfa771e",
   "metadata": {},
   "outputs": [
    {
     "data": {
      "text/plain": [
       "array([[[0, 0]],\n",
       "\n",
       "       [[0, 0]]])"
      ]
     },
     "execution_count": 189,
     "metadata": {},
     "output_type": "execute_result"
    }
   ],
   "source": [
    "new_arr6_0[:2, :2, 1:3]"
   ]
  },
  {
   "cell_type": "code",
   "execution_count": 191,
   "id": "c8b93472",
   "metadata": {},
   "outputs": [
    {
     "ename": "IndexError",
     "evalue": "too many indices for array: array is 3-dimensional, but 4 were indexed",
     "output_type": "error",
     "traceback": [
      "\u001b[1;31m---------------------------------------------------------------------------\u001b[0m",
      "\u001b[1;31mIndexError\u001b[0m                                Traceback (most recent call last)",
      "Input \u001b[1;32mIn [191]\u001b[0m, in \u001b[0;36m<cell line: 1>\u001b[1;34m()\u001b[0m\n\u001b[1;32m----> 1\u001b[0m \u001b[43mnew_arr6_0\u001b[49m\u001b[43m[\u001b[49m\u001b[43m:\u001b[49m\u001b[38;5;241;43m2\u001b[39;49m\u001b[43m,\u001b[49m\u001b[43m \u001b[49m\u001b[43m:\u001b[49m\u001b[38;5;241;43m2\u001b[39;49m\u001b[43m,\u001b[49m\u001b[43m \u001b[49m\u001b[38;5;241;43m1\u001b[39;49m\u001b[43m:\u001b[49m\u001b[38;5;241;43m3\u001b[39;49m\u001b[43m,\u001b[49m\u001b[43m \u001b[49m\u001b[43m:\u001b[49m\u001b[38;5;241;43m1\u001b[39;49m\u001b[43m]\u001b[49m\n",
      "\u001b[1;31mIndexError\u001b[0m: too many indices for array: array is 3-dimensional, but 4 were indexed"
     ]
    }
   ],
   "source": [
    "new_arr6_0[:2, :2, 1:3, :1]"
   ]
  },
  {
   "cell_type": "code",
   "execution_count": null,
   "id": "b114b7c8",
   "metadata": {},
   "outputs": [],
   "source": []
  },
  {
   "cell_type": "code",
   "execution_count": 187,
   "id": "1b7aab48",
   "metadata": {},
   "outputs": [
    {
     "data": {
      "text/plain": [
       "(2, 1, 2)"
      ]
     },
     "execution_count": 187,
     "metadata": {},
     "output_type": "execute_result"
    }
   ],
   "source": [
    "new_arr6_0[:2, :2, 1:3].shape"
   ]
  },
  {
   "cell_type": "code",
   "execution_count": 190,
   "id": "a6d4222e",
   "metadata": {},
   "outputs": [
    {
     "data": {
      "text/plain": [
       "array([], shape=(0, 1, 2), dtype=int32)"
      ]
     },
     "execution_count": 190,
     "metadata": {},
     "output_type": "execute_result"
    }
   ],
   "source": [
    "new_arr6_0[3:2, :2, 1:3]"
   ]
  },
  {
   "cell_type": "code",
   "execution_count": 192,
   "id": "dcf5b8df",
   "metadata": {},
   "outputs": [],
   "source": [
    "# Example: some random normally distributed data in a 2d array"
   ]
  },
  {
   "cell_type": "code",
   "execution_count": 193,
   "id": "a38b6fab",
   "metadata": {},
   "outputs": [
    {
     "data": {
      "text/plain": [
       "array([[-1.54554726,  0.52275766, -0.48775589],\n",
       "       [ 0.57329699, -0.04882581,  0.08242442],\n",
       "       [ 1.92635752,  0.73338017, -1.80891248],\n",
       "       [-1.31530039, -1.13553377,  0.20598682],\n",
       "       [-1.92688831,  2.0650893 , -0.11263763]])"
      ]
     },
     "execution_count": 193,
     "metadata": {},
     "output_type": "execute_result"
    }
   ],
   "source": [
    "arr2d1 = np.random.randn(5, 3)\n",
    "arr2d1"
   ]
  },
  {
   "cell_type": "code",
   "execution_count": 194,
   "id": "065be9ba",
   "metadata": {},
   "outputs": [
    {
     "data": {
      "text/plain": [
       "(5, 3)"
      ]
     },
     "execution_count": 194,
     "metadata": {},
     "output_type": "execute_result"
    }
   ],
   "source": [
    "arr2d1.shape"
   ]
  },
  {
   "cell_type": "code",
   "execution_count": 195,
   "id": "93d40f27",
   "metadata": {},
   "outputs": [],
   "source": [
    "# a boolean array\n",
    "terms = np.array(['alpha', 'beta', 'gamma', 'alpha', 'sigma'])"
   ]
  },
  {
   "cell_type": "code",
   "execution_count": 196,
   "id": "4885b5bd",
   "metadata": {},
   "outputs": [
    {
     "data": {
      "text/plain": [
       "(5,)"
      ]
     },
     "execution_count": 196,
     "metadata": {},
     "output_type": "execute_result"
    }
   ],
   "source": [
    "terms.shape"
   ]
  },
  {
   "cell_type": "code",
   "execution_count": 197,
   "id": "776918e4",
   "metadata": {},
   "outputs": [
    {
     "data": {
      "text/plain": [
       "array([ True, False, False,  True, False])"
      ]
     },
     "execution_count": 197,
     "metadata": {},
     "output_type": "execute_result"
    }
   ],
   "source": [
    "# Comparison\n",
    "terms == 'alpha'"
   ]
  },
  {
   "cell_type": "code",
   "execution_count": 198,
   "id": "8090e448",
   "metadata": {},
   "outputs": [
    {
     "data": {
      "text/plain": [
       "array([[-1.54554726,  0.52275766, -0.48775589],\n",
       "       [-1.31530039, -1.13553377,  0.20598682]])"
      ]
     },
     "execution_count": 198,
     "metadata": {},
     "output_type": "execute_result"
    }
   ],
   "source": [
    "arr2d1[terms == 'alpha']"
   ]
  },
  {
   "cell_type": "code",
   "execution_count": 200,
   "id": "31ff25c9",
   "metadata": {},
   "outputs": [
    {
     "data": {
      "text/plain": [
       "array([[-0.48775589],\n",
       "       [ 0.20598682]])"
      ]
     },
     "execution_count": 200,
     "metadata": {},
     "output_type": "execute_result"
    }
   ],
   "source": [
    "arr2d1[terms == 'alpha', 2:] # condition plus slicing"
   ]
  },
  {
   "cell_type": "code",
   "execution_count": 201,
   "id": "877b8f00",
   "metadata": {},
   "outputs": [
    {
     "data": {
      "text/plain": [
       "array([ 0.52275766, -1.13553377])"
      ]
     },
     "execution_count": 201,
     "metadata": {},
     "output_type": "execute_result"
    }
   ],
   "source": [
    "arr2d1[terms == 'alpha', 1] # condition plus pick a particular element from the second dimension"
   ]
  },
  {
   "cell_type": "code",
   "execution_count": 202,
   "id": "7391d5e3",
   "metadata": {},
   "outputs": [
    {
     "data": {
      "text/plain": [
       "array([False,  True,  True, False,  True])"
      ]
     },
     "execution_count": 202,
     "metadata": {},
     "output_type": "execute_result"
    }
   ],
   "source": [
    "terms != 'alpha' # condition"
   ]
  },
  {
   "cell_type": "code",
   "execution_count": 208,
   "id": "9679e984",
   "metadata": {},
   "outputs": [
    {
     "data": {
      "text/plain": [
       "array([[ 0.57329699, -0.04882581,  0.08242442],\n",
       "       [ 1.92635752,  0.73338017, -1.80891248],\n",
       "       [-1.92688831,  2.0650893 , -0.11263763]])"
      ]
     },
     "execution_count": 208,
     "metadata": {},
     "output_type": "execute_result"
    }
   ],
   "source": [
    "arr2d1[terms != 'alpha']"
   ]
  },
  {
   "cell_type": "code",
   "execution_count": 210,
   "id": "abf1e35c",
   "metadata": {},
   "outputs": [
    {
     "data": {
      "text/plain": [
       "array([False,  True,  True, False,  True])"
      ]
     },
     "execution_count": 210,
     "metadata": {},
     "output_type": "execute_result"
    }
   ],
   "source": [
    "~(terms == 'alpha')"
   ]
  },
  {
   "cell_type": "code",
   "execution_count": 206,
   "id": "f664dcf8",
   "metadata": {},
   "outputs": [
    {
     "data": {
      "text/plain": [
       "array([[ 0.57329699, -0.04882581,  0.08242442],\n",
       "       [ 1.92635752,  0.73338017, -1.80891248],\n",
       "       [-1.92688831,  2.0650893 , -0.11263763]])"
      ]
     },
     "execution_count": 206,
     "metadata": {},
     "output_type": "execute_result"
    }
   ],
   "source": [
    "arr2d1[~(terms == 'alpha')]"
   ]
  },
  {
   "cell_type": "code",
   "execution_count": 212,
   "id": "9f055a1f",
   "metadata": {},
   "outputs": [
    {
     "data": {
      "text/plain": [
       "array([ True, False, False,  True,  True])"
      ]
     },
     "execution_count": 212,
     "metadata": {},
     "output_type": "execute_result"
    }
   ],
   "source": [
    "# Combining multiple conditions returning booleans\n",
    "# by using & and | operations\n",
    "(terms == 'alpha') | (terms == 'sigma')"
   ]
  },
  {
   "cell_type": "code",
   "execution_count": 213,
   "id": "a8422f91",
   "metadata": {},
   "outputs": [
    {
     "data": {
      "text/plain": [
       "array([[-1.54554726,  0.52275766, -0.48775589],\n",
       "       [-1.31530039, -1.13553377,  0.20598682],\n",
       "       [-1.92688831,  2.0650893 , -0.11263763]])"
      ]
     },
     "execution_count": 213,
     "metadata": {},
     "output_type": "execute_result"
    }
   ],
   "source": [
    "arr2d1[(terms == 'alpha') | (terms == 'sigma')]"
   ]
  },
  {
   "cell_type": "code",
   "execution_count": 214,
   "id": "a25a8bbf",
   "metadata": {},
   "outputs": [
    {
     "data": {
      "text/plain": [
       "array([[ True, False,  True],\n",
       "       [False,  True, False],\n",
       "       [False, False,  True],\n",
       "       [ True,  True, False],\n",
       "       [ True, False,  True]])"
      ]
     },
     "execution_count": 214,
     "metadata": {},
     "output_type": "execute_result"
    }
   ],
   "source": [
    "arr2d1 < 0"
   ]
  },
  {
   "cell_type": "code",
   "execution_count": 215,
   "id": "ad7119d5",
   "metadata": {},
   "outputs": [
    {
     "data": {
      "text/plain": [
       "array([-1.54554726, -0.48775589, -0.04882581, -1.80891248, -1.31530039,\n",
       "       -1.13553377, -1.92688831, -0.11263763])"
      ]
     },
     "execution_count": 215,
     "metadata": {},
     "output_type": "execute_result"
    }
   ],
   "source": [
    "arr2d1[arr2d1 < 0]"
   ]
  },
  {
   "cell_type": "code",
   "execution_count": 216,
   "id": "e4941c43",
   "metadata": {},
   "outputs": [],
   "source": [
    "arr2d1[arr2d1 < 0] = 0"
   ]
  },
  {
   "cell_type": "code",
   "execution_count": 217,
   "id": "35c564b6",
   "metadata": {},
   "outputs": [
    {
     "data": {
      "text/plain": [
       "array([[0.        , 0.52275766, 0.        ],\n",
       "       [0.57329699, 0.        , 0.08242442],\n",
       "       [1.92635752, 0.73338017, 0.        ],\n",
       "       [0.        , 0.        , 0.20598682],\n",
       "       [0.        , 2.0650893 , 0.        ]])"
      ]
     },
     "execution_count": 217,
     "metadata": {},
     "output_type": "execute_result"
    }
   ],
   "source": [
    "arr2d1"
   ]
  },
  {
   "cell_type": "code",
   "execution_count": 219,
   "id": "93156123",
   "metadata": {},
   "outputs": [],
   "source": [
    "arr2d1[terms != 'beta'] = 2"
   ]
  },
  {
   "cell_type": "code",
   "execution_count": 220,
   "id": "39f2a799",
   "metadata": {},
   "outputs": [
    {
     "data": {
      "text/plain": [
       "array([[2.        , 2.        , 2.        ],\n",
       "       [0.57329699, 0.        , 0.08242442],\n",
       "       [2.        , 2.        , 2.        ],\n",
       "       [2.        , 2.        , 2.        ],\n",
       "       [2.        , 2.        , 2.        ]])"
      ]
     },
     "execution_count": 220,
     "metadata": {},
     "output_type": "execute_result"
    }
   ],
   "source": [
    "arr2d1"
   ]
  },
  {
   "cell_type": "code",
   "execution_count": 222,
   "id": "dbe7de5f",
   "metadata": {},
   "outputs": [
    {
     "data": {
      "text/plain": [
       "array([[2.        , 2.        , 2.        ],\n",
       "       [0.57329699, 0.        , 0.08242442],\n",
       "       [2.        , 2.        , 2.        ],\n",
       "       [2.        , 2.        , 2.        ],\n",
       "       [2.        , 2.        , 2.        ]])"
      ]
     },
     "execution_count": 222,
     "metadata": {},
     "output_type": "execute_result"
    }
   ],
   "source": [
    "arr2d2 = np.empty((5,3))\n",
    "arr2d2"
   ]
  },
  {
   "cell_type": "code",
   "execution_count": 225,
   "id": "96f77657",
   "metadata": {},
   "outputs": [],
   "source": [
    "arr2d3 = np.empty((5,5))"
   ]
  },
  {
   "cell_type": "code",
   "execution_count": 226,
   "id": "3f252868",
   "metadata": {},
   "outputs": [
    {
     "data": {
      "text/plain": [
       "array([[2.41907520e-312, 1.06099790e-312, 1.03977794e-312,\n",
       "        8.48798317e-313, 2.14321575e-312],\n",
       "       [2.31297541e-312, 6.79038654e-313, 1.29441743e-312,\n",
       "        8.27578359e-313, 2.29175545e-312],\n",
       "       [2.20687562e-312, 8.27578359e-313, 6.79038653e-313,\n",
       "        6.79038654e-313, 2.46151512e-312],\n",
       "       [2.41907520e-312, 2.44029516e-312, 1.29441743e-312,\n",
       "        6.79038653e-313, 2.44029516e-312],\n",
       "       [2.18565567e-312, 2.05833592e-312, 8.70018274e-313,\n",
       "        1.04718096e-142, 6.80103729e-310]])"
      ]
     },
     "execution_count": 226,
     "metadata": {},
     "output_type": "execute_result"
    }
   ],
   "source": [
    "arr2d3"
   ]
  },
  {
   "cell_type": "code",
   "execution_count": 227,
   "id": "236ca013",
   "metadata": {},
   "outputs": [],
   "source": [
    "for x in range(5):\n",
    "    arr2d3[x] = x"
   ]
  },
  {
   "cell_type": "code",
   "execution_count": 228,
   "id": "7f987984",
   "metadata": {},
   "outputs": [
    {
     "data": {
      "text/plain": [
       "array([[0., 0., 0., 0., 0.],\n",
       "       [1., 1., 1., 1., 1.],\n",
       "       [2., 2., 2., 2., 2.],\n",
       "       [3., 3., 3., 3., 3.],\n",
       "       [4., 4., 4., 4., 4.]])"
      ]
     },
     "execution_count": 228,
     "metadata": {},
     "output_type": "execute_result"
    }
   ],
   "source": [
    "arr2d3"
   ]
  },
  {
   "cell_type": "code",
   "execution_count": 232,
   "id": "83dad06b",
   "metadata": {},
   "outputs": [
    {
     "data": {
      "text/plain": [
       "array([[4., 4., 4., 4., 4.],\n",
       "       [2., 2., 2., 2., 2.],\n",
       "       [0., 0., 0., 0., 0.]])"
      ]
     },
     "execution_count": 232,
     "metadata": {},
     "output_type": "execute_result"
    }
   ],
   "source": [
    "arr2d3[[4, 2, 0]]"
   ]
  },
  {
   "cell_type": "code",
   "execution_count": 231,
   "id": "117fbb32",
   "metadata": {},
   "outputs": [
    {
     "data": {
      "text/plain": [
       "array([[4., 4., 4., 4., 4.],\n",
       "       [3., 3., 3., 3., 3.],\n",
       "       [2., 2., 2., 2., 2.],\n",
       "       [1., 1., 1., 1., 1.],\n",
       "       [0., 0., 0., 0., 0.]])"
      ]
     },
     "execution_count": 231,
     "metadata": {},
     "output_type": "execute_result"
    }
   ],
   "source": [
    "arr2d3[[4, 3, 2, 1, 0]]"
   ]
  },
  {
   "cell_type": "code",
   "execution_count": 233,
   "id": "823b6e78",
   "metadata": {},
   "outputs": [
    {
     "data": {
      "text/plain": [
       "array([[1., 1., 1., 1., 1.],\n",
       "       [3., 3., 3., 3., 3.],\n",
       "       [0., 0., 0., 0., 0.]])"
      ]
     },
     "execution_count": 233,
     "metadata": {},
     "output_type": "execute_result"
    }
   ],
   "source": [
    "arr2d3[[-4, -2, 0]]"
   ]
  },
  {
   "cell_type": "code",
   "execution_count": 234,
   "id": "2c4344f7",
   "metadata": {},
   "outputs": [],
   "source": [
    "# Reshape --> reshape an array to the desired dimension"
   ]
  },
  {
   "cell_type": "code",
   "execution_count": 235,
   "id": "1bb68450",
   "metadata": {},
   "outputs": [],
   "source": [
    "arr2d4 = np.arange(10)"
   ]
  },
  {
   "cell_type": "code",
   "execution_count": 241,
   "id": "2a0d362d",
   "metadata": {},
   "outputs": [
    {
     "data": {
      "text/plain": [
       "array([[[0, 1]],\n",
       "\n",
       "       [[2, 3]],\n",
       "\n",
       "       [[4, 5]],\n",
       "\n",
       "       [[6, 7]],\n",
       "\n",
       "       [[8, 9]]])"
      ]
     },
     "execution_count": 241,
     "metadata": {},
     "output_type": "execute_result"
    }
   ],
   "source": [
    "arr2d4.reshape((5, 1, 2))"
   ]
  },
  {
   "cell_type": "code",
   "execution_count": 242,
   "id": "dd52d347",
   "metadata": {},
   "outputs": [
    {
     "data": {
      "text/plain": [
       "array([0, 1, 2, 3, 4, 5, 6, 7, 8, 9])"
      ]
     },
     "execution_count": 242,
     "metadata": {},
     "output_type": "execute_result"
    }
   ],
   "source": [
    "arr2d4"
   ]
  },
  {
   "cell_type": "code",
   "execution_count": 243,
   "id": "7488625c",
   "metadata": {},
   "outputs": [],
   "source": [
    "arr2d4 = arr2d4.reshape((2, 5))"
   ]
  },
  {
   "cell_type": "code",
   "execution_count": 244,
   "id": "dda6f2c0",
   "metadata": {},
   "outputs": [
    {
     "data": {
      "text/plain": [
       "array([[0, 1, 2, 3, 4],\n",
       "       [5, 6, 7, 8, 9]])"
      ]
     },
     "execution_count": 244,
     "metadata": {},
     "output_type": "execute_result"
    }
   ],
   "source": [
    "arr2d4"
   ]
  },
  {
   "cell_type": "code",
   "execution_count": 247,
   "id": "d557fed2",
   "metadata": {},
   "outputs": [
    {
     "data": {
      "text/plain": [
       "array([3, 9])"
      ]
     },
     "execution_count": 247,
     "metadata": {},
     "output_type": "execute_result"
    }
   ],
   "source": [
    "arr2d4[[0, 1], [3, 4]] # first element index for the first dimension and second element index for the second element"
   ]
  },
  {
   "cell_type": "code",
   "execution_count": 248,
   "id": "feced0b5",
   "metadata": {},
   "outputs": [],
   "source": [
    "x = np.arange(4).reshape((2,2))"
   ]
  },
  {
   "cell_type": "code",
   "execution_count": 249,
   "id": "217cd709",
   "metadata": {},
   "outputs": [
    {
     "data": {
      "text/plain": [
       "array([[0, 1],\n",
       "       [2, 3]])"
      ]
     },
     "execution_count": 249,
     "metadata": {},
     "output_type": "execute_result"
    }
   ],
   "source": [
    "x"
   ]
  },
  {
   "cell_type": "code",
   "execution_count": 254,
   "id": "bc2ddb73",
   "metadata": {},
   "outputs": [],
   "source": [
    "# Transpose a numpy array \n",
    "# Transpose can be done witht the following options"
   ]
  },
  {
   "cell_type": "code",
   "execution_count": 255,
   "id": "e3706902",
   "metadata": {},
   "outputs": [
    {
     "data": {
      "text/plain": [
       "array([[0, 2],\n",
       "       [1, 3]])"
      ]
     },
     "execution_count": 255,
     "metadata": {},
     "output_type": "execute_result"
    }
   ],
   "source": [
    "x.T"
   ]
  },
  {
   "cell_type": "code",
   "execution_count": 258,
   "id": "e0c0c3f5",
   "metadata": {},
   "outputs": [
    {
     "data": {
      "text/plain": [
       "array([[0, 2],\n",
       "       [1, 3]])"
      ]
     },
     "execution_count": 258,
     "metadata": {},
     "output_type": "execute_result"
    }
   ],
   "source": [
    "x.transpose()"
   ]
  },
  {
   "cell_type": "code",
   "execution_count": 260,
   "id": "e00e93b1",
   "metadata": {},
   "outputs": [
    {
     "data": {
      "text/plain": [
       "array([[0, 2],\n",
       "       [1, 3]])"
      ]
     },
     "execution_count": 260,
     "metadata": {},
     "output_type": "execute_result"
    }
   ],
   "source": [
    "x.transpose(1, 0)"
   ]
  },
  {
   "cell_type": "code",
   "execution_count": 261,
   "id": "b58bc41e",
   "metadata": {},
   "outputs": [
    {
     "data": {
      "text/plain": [
       "array([[0, 1],\n",
       "       [2, 3]])"
      ]
     },
     "execution_count": 261,
     "metadata": {},
     "output_type": "execute_result"
    }
   ],
   "source": [
    "x.transpose(0, 1)"
   ]
  },
  {
   "cell_type": "code",
   "execution_count": 257,
   "id": "01dd4218",
   "metadata": {},
   "outputs": [
    {
     "data": {
      "text/plain": [
       "array([[0, 2],\n",
       "       [1, 3]])"
      ]
     },
     "execution_count": 257,
     "metadata": {},
     "output_type": "execute_result"
    }
   ],
   "source": [
    "np.transpose(x)"
   ]
  },
  {
   "cell_type": "code",
   "execution_count": 262,
   "id": "4799f08b",
   "metadata": {},
   "outputs": [],
   "source": [
    "x = np.random.randn(6, 3)"
   ]
  },
  {
   "cell_type": "code",
   "execution_count": 263,
   "id": "e7a7c54f",
   "metadata": {},
   "outputs": [
    {
     "data": {
      "text/plain": [
       "array([[-0.93812709, -1.29533761, -0.88792098],\n",
       "       [-0.1180622 , -1.1086935 ,  2.07062233],\n",
       "       [-1.0471065 , -0.52826606,  1.42535984],\n",
       "       [-0.1759838 ,  0.65736952, -0.49343611],\n",
       "       [-0.20093618,  0.4386745 , -0.55065284],\n",
       "       [-0.35201918, -1.79467197,  2.41055139]])"
      ]
     },
     "execution_count": 263,
     "metadata": {},
     "output_type": "execute_result"
    }
   ],
   "source": [
    "x"
   ]
  },
  {
   "cell_type": "code",
   "execution_count": 264,
   "id": "e0c81f56",
   "metadata": {},
   "outputs": [
    {
     "data": {
      "text/plain": [
       "array([[-0.93812709, -0.1180622 , -1.0471065 , -0.1759838 , -0.20093618,\n",
       "        -0.35201918],\n",
       "       [-1.29533761, -1.1086935 , -0.52826606,  0.65736952,  0.4386745 ,\n",
       "        -1.79467197],\n",
       "       [-0.88792098,  2.07062233,  1.42535984, -0.49343611, -0.55065284,\n",
       "         2.41055139]])"
      ]
     },
     "execution_count": 264,
     "metadata": {},
     "output_type": "execute_result"
    }
   ],
   "source": [
    "x.transpose()"
   ]
  },
  {
   "cell_type": "code",
   "execution_count": 265,
   "id": "2249a530",
   "metadata": {},
   "outputs": [
    {
     "data": {
      "text/plain": [
       "(3, 6)"
      ]
     },
     "execution_count": 265,
     "metadata": {},
     "output_type": "execute_result"
    }
   ],
   "source": [
    "x.transpose().shape"
   ]
  },
  {
   "cell_type": "code",
   "execution_count": 266,
   "id": "7762a5fe",
   "metadata": {},
   "outputs": [],
   "source": [
    "# Dot Multiplication"
   ]
  },
  {
   "cell_type": "code",
   "execution_count": 267,
   "id": "25044ded",
   "metadata": {},
   "outputs": [
    {
     "data": {
      "text/plain": [
       "30"
      ]
     },
     "execution_count": 267,
     "metadata": {},
     "output_type": "execute_result"
    }
   ],
   "source": [
    "np.dot(np.arange(1, 5), np.arange(1, 5))"
   ]
  },
  {
   "cell_type": "code",
   "execution_count": 268,
   "id": "82ec9bb8",
   "metadata": {},
   "outputs": [
    {
     "data": {
      "text/plain": [
       "array([[ 2.1857163 ,  2.32716392, -1.55506055],\n",
       "       [ 2.32716392,  7.03158329, -6.79057351],\n",
       "       [-1.55506055, -6.79057351, 13.46498691]])"
      ]
     },
     "execution_count": 268,
     "metadata": {},
     "output_type": "execute_result"
    }
   ],
   "source": [
    "np.dot(x.T, x)"
   ]
  },
  {
   "cell_type": "code",
   "execution_count": 272,
   "id": "c2bb9e2c",
   "metadata": {},
   "outputs": [],
   "source": [
    "arr3d4 = np.arange(20).reshape(2, 5, 2 )"
   ]
  },
  {
   "cell_type": "code",
   "execution_count": 273,
   "id": "7fb8b48b",
   "metadata": {},
   "outputs": [
    {
     "data": {
      "text/plain": [
       "array([[[ 0,  1],\n",
       "        [ 2,  3],\n",
       "        [ 4,  5],\n",
       "        [ 6,  7],\n",
       "        [ 8,  9]],\n",
       "\n",
       "       [[10, 11],\n",
       "        [12, 13],\n",
       "        [14, 15],\n",
       "        [16, 17],\n",
       "        [18, 19]]])"
      ]
     },
     "execution_count": 273,
     "metadata": {},
     "output_type": "execute_result"
    }
   ],
   "source": [
    "arr3d4"
   ]
  },
  {
   "cell_type": "code",
   "execution_count": 274,
   "id": "94cd82d0",
   "metadata": {},
   "outputs": [
    {
     "data": {
      "text/plain": [
       "array([[[ 0, 10],\n",
       "        [ 2, 12],\n",
       "        [ 4, 14],\n",
       "        [ 6, 16],\n",
       "        [ 8, 18]],\n",
       "\n",
       "       [[ 1, 11],\n",
       "        [ 3, 13],\n",
       "        [ 5, 15],\n",
       "        [ 7, 17],\n",
       "        [ 9, 19]]])"
      ]
     },
     "execution_count": 274,
     "metadata": {},
     "output_type": "execute_result"
    }
   ],
   "source": [
    "arr3d4.T"
   ]
  },
  {
   "cell_type": "code",
   "execution_count": 280,
   "id": "99a2a102",
   "metadata": {},
   "outputs": [
    {
     "data": {
      "text/plain": [
       "(2, 5, 2)"
      ]
     },
     "execution_count": 280,
     "metadata": {},
     "output_type": "execute_result"
    }
   ],
   "source": [
    "arr3d4.T.shape"
   ]
  },
  {
   "cell_type": "code",
   "execution_count": 281,
   "id": "33050b31",
   "metadata": {},
   "outputs": [
    {
     "data": {
      "text/plain": [
       "array([[[ 0,  1],\n",
       "        [ 2,  3],\n",
       "        [ 4,  5],\n",
       "        [ 6,  7],\n",
       "        [ 8,  9]],\n",
       "\n",
       "       [[10, 11],\n",
       "        [12, 13],\n",
       "        [14, 15],\n",
       "        [16, 17],\n",
       "        [18, 19]]])"
      ]
     },
     "execution_count": 281,
     "metadata": {},
     "output_type": "execute_result"
    }
   ],
   "source": [
    "arr3d4"
   ]
  },
  {
   "cell_type": "code",
   "execution_count": 282,
   "id": "c8f61a3b",
   "metadata": {},
   "outputs": [
    {
     "data": {
      "text/plain": [
       "array([[[ 0,  1],\n",
       "        [10, 11]],\n",
       "\n",
       "       [[ 2,  3],\n",
       "        [12, 13]],\n",
       "\n",
       "       [[ 4,  5],\n",
       "        [14, 15]],\n",
       "\n",
       "       [[ 6,  7],\n",
       "        [16, 17]],\n",
       "\n",
       "       [[ 8,  9],\n",
       "        [18, 19]]])"
      ]
     },
     "execution_count": 282,
     "metadata": {},
     "output_type": "execute_result"
    }
   ],
   "source": [
    "arr3d4.transpose(1, 0, 2) # first param first axis, second param second axis, third param third axis"
   ]
  },
  {
   "cell_type": "code",
   "execution_count": 283,
   "id": "afc1de5b",
   "metadata": {},
   "outputs": [
    {
     "data": {
      "text/plain": [
       "array([[[ 0,  1],\n",
       "        [ 2,  3],\n",
       "        [ 4,  5],\n",
       "        [ 6,  7],\n",
       "        [ 8,  9]],\n",
       "\n",
       "       [[10, 11],\n",
       "        [12, 13],\n",
       "        [14, 15],\n",
       "        [16, 17],\n",
       "        [18, 19]]])"
      ]
     },
     "execution_count": 283,
     "metadata": {},
     "output_type": "execute_result"
    }
   ],
   "source": [
    "arr3d4"
   ]
  },
  {
   "cell_type": "code",
   "execution_count": 287,
   "id": "182d5d99",
   "metadata": {},
   "outputs": [
    {
     "data": {
      "text/plain": [
       "array([[[ 0,  2,  4,  6,  8],\n",
       "        [ 1,  3,  5,  7,  9]],\n",
       "\n",
       "       [[10, 12, 14, 16, 18],\n",
       "        [11, 13, 15, 17, 19]]])"
      ]
     },
     "execution_count": 287,
     "metadata": {},
     "output_type": "execute_result"
    }
   ],
   "source": [
    "arr3d4.swapaxes(1, 2)"
   ]
  },
  {
   "cell_type": "code",
   "execution_count": 288,
   "id": "b24902b1",
   "metadata": {},
   "outputs": [
    {
     "data": {
      "text/plain": [
       "(2, 5, 2)"
      ]
     },
     "execution_count": 288,
     "metadata": {},
     "output_type": "execute_result"
    }
   ],
   "source": [
    "arr3d4.shape"
   ]
  },
  {
   "cell_type": "code",
   "execution_count": 285,
   "id": "09216dc2",
   "metadata": {},
   "outputs": [
    {
     "data": {
      "text/plain": [
       "(2, 2, 5)"
      ]
     },
     "execution_count": 285,
     "metadata": {},
     "output_type": "execute_result"
    }
   ],
   "source": [
    "arr3d4.swapaxes(1, 2).shape"
   ]
  },
  {
   "cell_type": "code",
   "execution_count": 289,
   "id": "e102ef94",
   "metadata": {},
   "outputs": [],
   "source": [
    "arr9 = np.arange(10)"
   ]
  },
  {
   "cell_type": "code",
   "execution_count": 290,
   "id": "5a2df61b",
   "metadata": {},
   "outputs": [
    {
     "data": {
      "text/plain": [
       "array([0, 1, 2, 3, 4, 5, 6, 7, 8, 9])"
      ]
     },
     "execution_count": 290,
     "metadata": {},
     "output_type": "execute_result"
    }
   ],
   "source": [
    "arr9"
   ]
  },
  {
   "cell_type": "code",
   "execution_count": 291,
   "id": "17ff5870",
   "metadata": {},
   "outputs": [
    {
     "data": {
      "text/plain": [
       "array([0.        , 1.        , 1.41421356, 1.73205081, 2.        ,\n",
       "       2.23606798, 2.44948974, 2.64575131, 2.82842712, 3.        ])"
      ]
     },
     "execution_count": 291,
     "metadata": {},
     "output_type": "execute_result"
    }
   ],
   "source": [
    "np.sqrt(arr9)"
   ]
  },
  {
   "cell_type": "code",
   "execution_count": 292,
   "id": "0c1e32f9",
   "metadata": {},
   "outputs": [
    {
     "data": {
      "text/plain": [
       "array([1.00000000e+00, 2.71828183e+00, 7.38905610e+00, 2.00855369e+01,\n",
       "       5.45981500e+01, 1.48413159e+02, 4.03428793e+02, 1.09663316e+03,\n",
       "       2.98095799e+03, 8.10308393e+03])"
      ]
     },
     "execution_count": 292,
     "metadata": {},
     "output_type": "execute_result"
    }
   ],
   "source": [
    "np.exp(arr9)"
   ]
  },
  {
   "cell_type": "code",
   "execution_count": 293,
   "id": "8cae2ed6",
   "metadata": {},
   "outputs": [
    {
     "data": {
      "text/plain": [
       "array([ 0.12431383,  0.682155  , -0.02989854, -0.0312235 ,  0.5126953 ,\n",
       "        0.55805674,  1.23813058, -0.15582182,  0.67031463,  0.15686426])"
      ]
     },
     "execution_count": 293,
     "metadata": {},
     "output_type": "execute_result"
    }
   ],
   "source": [
    "arr10 = np.random.randn(10)\n",
    "arr10"
   ]
  },
  {
   "cell_type": "code",
   "execution_count": 295,
   "id": "7bec17c7",
   "metadata": {},
   "outputs": [
    {
     "data": {
      "text/plain": [
       "array([ 0.84647082, -0.18179937,  0.87014728, -1.92436888,  1.14108551,\n",
       "       -1.07171359,  0.18627243,  1.88622986, -0.70748459,  0.08863646])"
      ]
     },
     "execution_count": 295,
     "metadata": {},
     "output_type": "execute_result"
    }
   ],
   "source": [
    "arr11 = np.random.randn(10)\n",
    "arr11"
   ]
  },
  {
   "cell_type": "code",
   "execution_count": 297,
   "id": "2dbe81f3",
   "metadata": {},
   "outputs": [
    {
     "data": {
      "text/plain": [
       "array([ 0.84647082,  0.682155  ,  0.87014728, -0.0312235 ,  1.14108551,\n",
       "        0.55805674,  1.23813058,  1.88622986,  0.67031463,  0.15686426])"
      ]
     },
     "execution_count": 297,
     "metadata": {},
     "output_type": "execute_result"
    }
   ],
   "source": [
    "np.maximum(arr10, arr11) # maximum of two numbers"
   ]
  },
  {
   "cell_type": "code",
   "execution_count": 298,
   "id": "0f20b454",
   "metadata": {},
   "outputs": [
    {
     "data": {
      "text/plain": [
       "array([ 0.12431383,  0.682155  , -0.02989854, -0.0312235 ,  0.5126953 ,\n",
       "        0.55805674,  1.23813058, -0.15582182,  0.67031463,  0.15686426])"
      ]
     },
     "execution_count": 298,
     "metadata": {},
     "output_type": "execute_result"
    }
   ],
   "source": [
    "arr10"
   ]
  },
  {
   "cell_type": "code",
   "execution_count": 299,
   "id": "9a83030f",
   "metadata": {},
   "outputs": [],
   "source": [
    "decimal, whole = np.modf(arr10)"
   ]
  },
  {
   "cell_type": "code",
   "execution_count": 301,
   "id": "747bc74d",
   "metadata": {},
   "outputs": [
    {
     "data": {
      "text/plain": [
       "array([ 0.12431383,  0.682155  , -0.02989854, -0.0312235 ,  0.5126953 ,\n",
       "        0.55805674,  0.23813058, -0.15582182,  0.67031463,  0.15686426])"
      ]
     },
     "execution_count": 301,
     "metadata": {},
     "output_type": "execute_result"
    }
   ],
   "source": [
    "decimal # returns the decimal part of the np array"
   ]
  },
  {
   "cell_type": "code",
   "execution_count": 302,
   "id": "f50cd10a",
   "metadata": {},
   "outputs": [
    {
     "data": {
      "text/plain": [
       "array([ 0.,  0., -0., -0.,  0.,  0.,  1., -0.,  0.,  0.])"
      ]
     },
     "execution_count": 302,
     "metadata": {},
     "output_type": "execute_result"
    }
   ],
   "source": [
    "whole"
   ]
  },
  {
   "cell_type": "code",
   "execution_count": 304,
   "id": "253b1559",
   "metadata": {},
   "outputs": [
    {
     "data": {
      "text/plain": [
       "array([0, 1, 2, 3, 4, 5, 6, 7, 8, 9])"
      ]
     },
     "execution_count": 304,
     "metadata": {},
     "output_type": "execute_result"
    }
   ],
   "source": [
    "arr9"
   ]
  },
  {
   "cell_type": "code",
   "execution_count": 319,
   "id": "50251917",
   "metadata": {},
   "outputs": [],
   "source": [
    "arr11 = np.empty(10)"
   ]
  },
  {
   "cell_type": "code",
   "execution_count": 320,
   "id": "a72397c2",
   "metadata": {},
   "outputs": [
    {
     "data": {
      "text/plain": [
       "array([0.        , 1.        , 1.41421356, 1.73205081, 2.        ,\n",
       "       2.23606798, 2.44948974, 2.64575131, 2.82842712, 3.        ])"
      ]
     },
     "execution_count": 320,
     "metadata": {},
     "output_type": "execute_result"
    }
   ],
   "source": [
    "arr11"
   ]
  },
  {
   "cell_type": "code",
   "execution_count": 321,
   "id": "0d7b9231",
   "metadata": {},
   "outputs": [
    {
     "data": {
      "text/plain": [
       "array([0.        , 1.        , 1.41421356, 1.73205081, 2.        ,\n",
       "       2.23606798, 2.44948974, 2.64575131, 2.82842712, 3.        ])"
      ]
     },
     "execution_count": 321,
     "metadata": {},
     "output_type": "execute_result"
    }
   ],
   "source": [
    "np.sqrt(arr9)"
   ]
  },
  {
   "cell_type": "code",
   "execution_count": 322,
   "id": "aa57b727",
   "metadata": {},
   "outputs": [
    {
     "data": {
      "text/plain": [
       "array([0.        , 1.        , 1.41421356, 1.73205081, 2.        ,\n",
       "       2.23606798, 2.44948974, 2.64575131, 2.82842712, 3.        ])"
      ]
     },
     "execution_count": 322,
     "metadata": {},
     "output_type": "execute_result"
    }
   ],
   "source": [
    "np.sqrt(arr9, arr11)"
   ]
  },
  {
   "cell_type": "code",
   "execution_count": 323,
   "id": "ce261a73",
   "metadata": {},
   "outputs": [
    {
     "data": {
      "text/plain": [
       "array([0.        , 1.        , 1.41421356, 1.73205081, 2.        ,\n",
       "       2.23606798, 2.44948974, 2.64575131, 2.82842712, 3.        ])"
      ]
     },
     "execution_count": 323,
     "metadata": {},
     "output_type": "execute_result"
    }
   ],
   "source": [
    "arr11"
   ]
  },
  {
   "cell_type": "code",
   "execution_count": 326,
   "id": "7b3b50a3",
   "metadata": {},
   "outputs": [
    {
     "data": {
      "text/plain": [
       "array([-5. , -4.5, -4. , -3.5, -3. , -2.5, -2. , -1.5, -1. , -0.5,  0. ,\n",
       "        0.5,  1. ,  1.5,  2. ,  2.5,  3. ,  3.5,  4. ,  4.5])"
      ]
     },
     "execution_count": 326,
     "metadata": {},
     "output_type": "execute_result"
    }
   ],
   "source": []
  },
  {
   "cell_type": "code",
   "execution_count": 328,
   "id": "30164cd9",
   "metadata": {},
   "outputs": [
    {
     "data": {
      "text/plain": [
       "array([-5.00000000e+00, -4.95000000e+00, -4.90000000e+00, -4.85000000e+00,\n",
       "       -4.80000000e+00, -4.75000000e+00, -4.70000000e+00, -4.65000000e+00,\n",
       "       -4.60000000e+00, -4.55000000e+00, -4.50000000e+00, -4.45000000e+00,\n",
       "       -4.40000000e+00, -4.35000000e+00, -4.30000000e+00, -4.25000000e+00,\n",
       "       -4.20000000e+00, -4.15000000e+00, -4.10000000e+00, -4.05000000e+00,\n",
       "       -4.00000000e+00, -3.95000000e+00, -3.90000000e+00, -3.85000000e+00,\n",
       "       -3.80000000e+00, -3.75000000e+00, -3.70000000e+00, -3.65000000e+00,\n",
       "       -3.60000000e+00, -3.55000000e+00, -3.50000000e+00, -3.45000000e+00,\n",
       "       -3.40000000e+00, -3.35000000e+00, -3.30000000e+00, -3.25000000e+00,\n",
       "       -3.20000000e+00, -3.15000000e+00, -3.10000000e+00, -3.05000000e+00,\n",
       "       -3.00000000e+00, -2.95000000e+00, -2.90000000e+00, -2.85000000e+00,\n",
       "       -2.80000000e+00, -2.75000000e+00, -2.70000000e+00, -2.65000000e+00,\n",
       "       -2.60000000e+00, -2.55000000e+00, -2.50000000e+00, -2.45000000e+00,\n",
       "       -2.40000000e+00, -2.35000000e+00, -2.30000000e+00, -2.25000000e+00,\n",
       "       -2.20000000e+00, -2.15000000e+00, -2.10000000e+00, -2.05000000e+00,\n",
       "       -2.00000000e+00, -1.95000000e+00, -1.90000000e+00, -1.85000000e+00,\n",
       "       -1.80000000e+00, -1.75000000e+00, -1.70000000e+00, -1.65000000e+00,\n",
       "       -1.60000000e+00, -1.55000000e+00, -1.50000000e+00, -1.45000000e+00,\n",
       "       -1.40000000e+00, -1.35000000e+00, -1.30000000e+00, -1.25000000e+00,\n",
       "       -1.20000000e+00, -1.15000000e+00, -1.10000000e+00, -1.05000000e+00,\n",
       "       -1.00000000e+00, -9.50000000e-01, -9.00000000e-01, -8.50000000e-01,\n",
       "       -8.00000000e-01, -7.50000000e-01, -7.00000000e-01, -6.50000000e-01,\n",
       "       -6.00000000e-01, -5.50000000e-01, -5.00000000e-01, -4.50000000e-01,\n",
       "       -4.00000000e-01, -3.50000000e-01, -3.00000000e-01, -2.50000000e-01,\n",
       "       -2.00000000e-01, -1.50000000e-01, -1.00000000e-01, -5.00000000e-02,\n",
       "       -1.77635684e-14,  5.00000000e-02,  1.00000000e-01,  1.50000000e-01,\n",
       "        2.00000000e-01,  2.50000000e-01,  3.00000000e-01,  3.50000000e-01,\n",
       "        4.00000000e-01,  4.50000000e-01,  5.00000000e-01,  5.50000000e-01,\n",
       "        6.00000000e-01,  6.50000000e-01,  7.00000000e-01,  7.50000000e-01,\n",
       "        8.00000000e-01,  8.50000000e-01,  9.00000000e-01,  9.50000000e-01,\n",
       "        1.00000000e+00,  1.05000000e+00,  1.10000000e+00,  1.15000000e+00,\n",
       "        1.20000000e+00,  1.25000000e+00,  1.30000000e+00,  1.35000000e+00,\n",
       "        1.40000000e+00,  1.45000000e+00,  1.50000000e+00,  1.55000000e+00,\n",
       "        1.60000000e+00,  1.65000000e+00,  1.70000000e+00,  1.75000000e+00,\n",
       "        1.80000000e+00,  1.85000000e+00,  1.90000000e+00,  1.95000000e+00,\n",
       "        2.00000000e+00,  2.05000000e+00,  2.10000000e+00,  2.15000000e+00,\n",
       "        2.20000000e+00,  2.25000000e+00,  2.30000000e+00,  2.35000000e+00,\n",
       "        2.40000000e+00,  2.45000000e+00,  2.50000000e+00,  2.55000000e+00,\n",
       "        2.60000000e+00,  2.65000000e+00,  2.70000000e+00,  2.75000000e+00,\n",
       "        2.80000000e+00,  2.85000000e+00,  2.90000000e+00,  2.95000000e+00,\n",
       "        3.00000000e+00,  3.05000000e+00,  3.10000000e+00,  3.15000000e+00,\n",
       "        3.20000000e+00,  3.25000000e+00,  3.30000000e+00,  3.35000000e+00,\n",
       "        3.40000000e+00,  3.45000000e+00,  3.50000000e+00,  3.55000000e+00,\n",
       "        3.60000000e+00,  3.65000000e+00,  3.70000000e+00,  3.75000000e+00,\n",
       "        3.80000000e+00,  3.85000000e+00,  3.90000000e+00,  3.95000000e+00,\n",
       "        4.00000000e+00,  4.05000000e+00,  4.10000000e+00,  4.15000000e+00,\n",
       "        4.20000000e+00,  4.25000000e+00,  4.30000000e+00,  4.35000000e+00,\n",
       "        4.40000000e+00,  4.45000000e+00,  4.50000000e+00,  4.55000000e+00,\n",
       "        4.60000000e+00,  4.65000000e+00,  4.70000000e+00,  4.75000000e+00,\n",
       "        4.80000000e+00,  4.85000000e+00,  4.90000000e+00,  4.95000000e+00])"
      ]
     },
     "execution_count": 328,
     "metadata": {},
     "output_type": "execute_result"
    }
   ],
   "source": [
    "## Vectorized array operations\n",
    "## Example: evaluate sqrt(Vx^2 + Vy^2)\n",
    "# let's create two coordinate vectors (1darrays)\n",
    "\n",
    "x = np.arange(-5, 5, 0.05)\n",
    "y = x\n",
    "y\n",
    "x"
   ]
  },
  {
   "cell_type": "code",
   "execution_count": 329,
   "id": "955b69a8",
   "metadata": {},
   "outputs": [
    {
     "data": {
      "text/plain": [
       "(200,)"
      ]
     },
     "execution_count": 329,
     "metadata": {},
     "output_type": "execute_result"
    }
   ],
   "source": [
    "x.shape"
   ]
  },
  {
   "cell_type": "code",
   "execution_count": 330,
   "id": "bfda7d8d",
   "metadata": {},
   "outputs": [
    {
     "data": {
      "text/plain": [
       "(200,)"
      ]
     },
     "execution_count": 330,
     "metadata": {},
     "output_type": "execute_result"
    }
   ],
   "source": [
    "y.shape"
   ]
  },
  {
   "cell_type": "code",
   "execution_count": 331,
   "id": "f2af5988",
   "metadata": {},
   "outputs": [],
   "source": [
    "Vx, Vy = np.meshgrid(x, y)"
   ]
  },
  {
   "cell_type": "code",
   "execution_count": 332,
   "id": "b9567316",
   "metadata": {},
   "outputs": [
    {
     "data": {
      "text/plain": [
       "array([[-5.  , -4.95, -4.9 , ...,  4.85,  4.9 ,  4.95],\n",
       "       [-5.  , -4.95, -4.9 , ...,  4.85,  4.9 ,  4.95],\n",
       "       [-5.  , -4.95, -4.9 , ...,  4.85,  4.9 ,  4.95],\n",
       "       ...,\n",
       "       [-5.  , -4.95, -4.9 , ...,  4.85,  4.9 ,  4.95],\n",
       "       [-5.  , -4.95, -4.9 , ...,  4.85,  4.9 ,  4.95],\n",
       "       [-5.  , -4.95, -4.9 , ...,  4.85,  4.9 ,  4.95]])"
      ]
     },
     "execution_count": 332,
     "metadata": {},
     "output_type": "execute_result"
    }
   ],
   "source": [
    "Vx"
   ]
  },
  {
   "cell_type": "code",
   "execution_count": 333,
   "id": "70ca57a8",
   "metadata": {},
   "outputs": [
    {
     "data": {
      "text/plain": [
       "array([[-5.  , -5.  , -5.  , ..., -5.  , -5.  , -5.  ],\n",
       "       [-4.95, -4.95, -4.95, ..., -4.95, -4.95, -4.95],\n",
       "       [-4.9 , -4.9 , -4.9 , ..., -4.9 , -4.9 , -4.9 ],\n",
       "       ...,\n",
       "       [ 4.85,  4.85,  4.85, ...,  4.85,  4.85,  4.85],\n",
       "       [ 4.9 ,  4.9 ,  4.9 , ...,  4.9 ,  4.9 ,  4.9 ],\n",
       "       [ 4.95,  4.95,  4.95, ...,  4.95,  4.95,  4.95]])"
      ]
     },
     "execution_count": 333,
     "metadata": {},
     "output_type": "execute_result"
    }
   ],
   "source": [
    "Vy"
   ]
  },
  {
   "cell_type": "code",
   "execution_count": 334,
   "id": "1e8cd639",
   "metadata": {},
   "outputs": [
    {
     "data": {
      "text/plain": [
       "(200, 200)"
      ]
     },
     "execution_count": 334,
     "metadata": {},
     "output_type": "execute_result"
    }
   ],
   "source": [
    "Vx.shape"
   ]
  },
  {
   "cell_type": "code",
   "execution_count": 335,
   "id": "59de3edf",
   "metadata": {},
   "outputs": [
    {
     "data": {
      "text/plain": [
       "(200, 200)"
      ]
     },
     "execution_count": 335,
     "metadata": {},
     "output_type": "execute_result"
    }
   ],
   "source": [
    "Vy.shape"
   ]
  },
  {
   "cell_type": "code",
   "execution_count": 336,
   "id": "c453e3ac",
   "metadata": {},
   "outputs": [],
   "source": [
    "V = np.sqrt(Vx ** 2 + Vy ** 2)"
   ]
  },
  {
   "cell_type": "code",
   "execution_count": 337,
   "id": "65df3aa7",
   "metadata": {},
   "outputs": [
    {
     "data": {
      "text/plain": [
       "array([[7.07106781, 7.0358013 , 7.00071425, ..., 6.96580936, 7.00071425,\n",
       "        7.0358013 ],\n",
       "       [7.0358013 , 7.00035713, 6.96509153, ..., 6.93000722, 6.96509153,\n",
       "        7.00035713],\n",
       "       [7.00071425, 6.96509153, 6.92964646, ..., 6.89438177, 6.92964646,\n",
       "        6.96509153],\n",
       "       ...,\n",
       "       [6.96580936, 6.93000722, 6.89438177, ..., 6.85893578, 6.89438177,\n",
       "        6.93000722],\n",
       "       [7.00071425, 6.96509153, 6.92964646, ..., 6.89438177, 6.92964646,\n",
       "        6.96509153],\n",
       "       [7.0358013 , 7.00035713, 6.96509153, ..., 6.93000722, 6.96509153,\n",
       "        7.00035713]])"
      ]
     },
     "execution_count": 337,
     "metadata": {},
     "output_type": "execute_result"
    }
   ],
   "source": [
    "V"
   ]
  },
  {
   "cell_type": "code",
   "execution_count": 339,
   "id": "1972b330",
   "metadata": {},
   "outputs": [
    {
     "data": {
      "text/plain": [
       "(200, 200)"
      ]
     },
     "execution_count": 339,
     "metadata": {},
     "output_type": "execute_result"
    }
   ],
   "source": [
    "V.shape"
   ]
  },
  {
   "cell_type": "code",
   "execution_count": 341,
   "id": "0956ea9e",
   "metadata": {},
   "outputs": [],
   "source": [
    "x1 = np.array([1,2,3,4,5])\n",
    "y1 = np.array([6,7,8,9,10])\n",
    "b1 = np.array([True, False, True, True, False])"
   ]
  },
  {
   "cell_type": "code",
   "execution_count": 342,
   "id": "12d77808",
   "metadata": {},
   "outputs": [
    {
     "data": {
      "text/plain": [
       "array([ 1,  7,  3,  4, 10])"
      ]
     },
     "execution_count": 342,
     "metadata": {},
     "output_type": "execute_result"
    }
   ],
   "source": [
    "np.where(b1, x1, y1)"
   ]
  },
  {
   "cell_type": "code",
   "execution_count": 343,
   "id": "e66dede7",
   "metadata": {},
   "outputs": [
    {
     "data": {
      "text/plain": [
       "array([False, False, False,  True,  True])"
      ]
     },
     "execution_count": 343,
     "metadata": {},
     "output_type": "execute_result"
    }
   ],
   "source": [
    "x1 > 3"
   ]
  },
  {
   "cell_type": "code",
   "execution_count": 344,
   "id": "43721eb4",
   "metadata": {},
   "outputs": [
    {
     "data": {
      "text/plain": [
       "array([-2, -2,  2,  2,  2])"
      ]
     },
     "execution_count": 344,
     "metadata": {},
     "output_type": "execute_result"
    }
   ],
   "source": [
    "np.where(x1>2, 2, -2)"
   ]
  },
  {
   "cell_type": "code",
   "execution_count": 346,
   "id": "60afa725",
   "metadata": {},
   "outputs": [
    {
     "data": {
      "text/plain": [
       "array([2, 2, 3, 4, 5])"
      ]
     },
     "execution_count": 346,
     "metadata": {},
     "output_type": "execute_result"
    }
   ],
   "source": [
    "np.where(x1<2, 2, x1)"
   ]
  },
  {
   "cell_type": "code",
   "execution_count": 347,
   "id": "f6458bc6",
   "metadata": {},
   "outputs": [
    {
     "data": {
      "text/plain": [
       "3.0"
      ]
     },
     "execution_count": 347,
     "metadata": {},
     "output_type": "execute_result"
    }
   ],
   "source": [
    "x1.mean()"
   ]
  },
  {
   "cell_type": "code",
   "execution_count": 348,
   "id": "0bc62372",
   "metadata": {},
   "outputs": [
    {
     "data": {
      "text/plain": [
       "3.0"
      ]
     },
     "execution_count": 348,
     "metadata": {},
     "output_type": "execute_result"
    }
   ],
   "source": [
    "np.mean(x1)"
   ]
  },
  {
   "cell_type": "code",
   "execution_count": 349,
   "id": "7fbcdf91",
   "metadata": {},
   "outputs": [],
   "source": [
    "x2 = np.array([[1,2,3,4,5], [6,7,8,9,10]])"
   ]
  },
  {
   "cell_type": "code",
   "execution_count": 350,
   "id": "69bf6b57",
   "metadata": {},
   "outputs": [
    {
     "data": {
      "text/plain": [
       "array([[ 1,  2,  3,  4,  5],\n",
       "       [ 6,  7,  8,  9, 10]])"
      ]
     },
     "execution_count": 350,
     "metadata": {},
     "output_type": "execute_result"
    }
   ],
   "source": [
    "x2"
   ]
  },
  {
   "cell_type": "code",
   "execution_count": 351,
   "id": "317b41b8",
   "metadata": {},
   "outputs": [
    {
     "data": {
      "text/plain": [
       "5.5"
      ]
     },
     "execution_count": 351,
     "metadata": {},
     "output_type": "execute_result"
    }
   ],
   "source": [
    "x2.mean()"
   ]
  },
  {
   "cell_type": "code",
   "execution_count": 352,
   "id": "81c453ab",
   "metadata": {},
   "outputs": [
    {
     "data": {
      "text/plain": [
       "55"
      ]
     },
     "execution_count": 352,
     "metadata": {},
     "output_type": "execute_result"
    }
   ],
   "source": [
    "x2.sum()"
   ]
  },
  {
   "cell_type": "code",
   "execution_count": 354,
   "id": "d8596e6d",
   "metadata": {},
   "outputs": [
    {
     "data": {
      "text/plain": [
       "array([4, 9])"
      ]
     },
     "execution_count": 354,
     "metadata": {},
     "output_type": "execute_result"
    }
   ],
   "source": [
    "x2[:, 3]"
   ]
  },
  {
   "cell_type": "code",
   "execution_count": 356,
   "id": "08480247",
   "metadata": {},
   "outputs": [
    {
     "data": {
      "text/plain": [
       "array([3., 8.])"
      ]
     },
     "execution_count": 356,
     "metadata": {},
     "output_type": "execute_result"
    }
   ],
   "source": [
    "x2.mean(axis=1)"
   ]
  },
  {
   "cell_type": "code",
   "execution_count": 357,
   "id": "cbbe315b",
   "metadata": {},
   "outputs": [
    {
     "data": {
      "text/plain": [
       "array([ 1,  3,  6, 10, 15, 21, 28, 36, 45, 55])"
      ]
     },
     "execution_count": 357,
     "metadata": {},
     "output_type": "execute_result"
    }
   ],
   "source": [
    "x2.cumsum()"
   ]
  },
  {
   "cell_type": "code",
   "execution_count": 359,
   "id": "aec5b5e7",
   "metadata": {},
   "outputs": [
    {
     "data": {
      "text/plain": [
       "array([[ 1,  2,  3,  4,  5],\n",
       "       [ 7,  9, 11, 13, 15]])"
      ]
     },
     "execution_count": 359,
     "metadata": {},
     "output_type": "execute_result"
    }
   ],
   "source": [
    "x2.cumsum(axis=0)"
   ]
  },
  {
   "cell_type": "code",
   "execution_count": 360,
   "id": "19836376",
   "metadata": {},
   "outputs": [
    {
     "data": {
      "text/plain": [
       "array([      1,       2,       6,      24,     120,     720,    5040,\n",
       "         40320,  362880, 3628800])"
      ]
     },
     "execution_count": 360,
     "metadata": {},
     "output_type": "execute_result"
    }
   ],
   "source": [
    "x2.cumprod()"
   ]
  },
  {
   "cell_type": "code",
   "execution_count": 361,
   "id": "5ff1b7f2",
   "metadata": {},
   "outputs": [
    {
     "data": {
      "text/plain": [
       "array([[ 1,  2,  3,  4,  5],\n",
       "       [ 6, 14, 24, 36, 50]])"
      ]
     },
     "execution_count": 361,
     "metadata": {},
     "output_type": "execute_result"
    }
   ],
   "source": [
    "x2.cumprod(axis=0)"
   ]
  },
  {
   "cell_type": "code",
   "execution_count": 362,
   "id": "ea726345",
   "metadata": {},
   "outputs": [
    {
     "data": {
      "text/plain": [
       "array([[    1,     2,     6,    24,   120],\n",
       "       [    6,    42,   336,  3024, 30240]])"
      ]
     },
     "execution_count": 362,
     "metadata": {},
     "output_type": "execute_result"
    }
   ],
   "source": [
    "x2.cumprod(axis=1)"
   ]
  },
  {
   "cell_type": "code",
   "execution_count": 368,
   "id": "681eee1d",
   "metadata": {},
   "outputs": [
    {
     "data": {
      "text/plain": [
       "array([[9, 8, 7],\n",
       "       [4, 5, 6],\n",
       "       [3, 2, 1]])"
      ]
     },
     "execution_count": 368,
     "metadata": {},
     "output_type": "execute_result"
    }
   ],
   "source": [
    "x3 = np.array([[9, 8, 7], [4, 5, 6], [3,2,1]])\n",
    "x3"
   ]
  },
  {
   "cell_type": "code",
   "execution_count": 364,
   "id": "80d9ff65",
   "metadata": {},
   "outputs": [],
   "source": [
    "x3.sort()"
   ]
  },
  {
   "cell_type": "code",
   "execution_count": 365,
   "id": "4bbfc039",
   "metadata": {},
   "outputs": [
    {
     "data": {
      "text/plain": [
       "array([[7, 8, 9],\n",
       "       [4, 5, 6],\n",
       "       [1, 2, 3]])"
      ]
     },
     "execution_count": 365,
     "metadata": {},
     "output_type": "execute_result"
    }
   ],
   "source": [
    "x3"
   ]
  },
  {
   "cell_type": "code",
   "execution_count": 367,
   "id": "64dc0b80",
   "metadata": {},
   "outputs": [
    {
     "data": {
      "text/plain": [
       "array([[1, 2, 3],\n",
       "       [4, 5, 6],\n",
       "       [7, 8, 9]])"
      ]
     },
     "execution_count": 367,
     "metadata": {},
     "output_type": "execute_result"
    }
   ],
   "source": [
    "x3.sort(axis=0)\n",
    "x3"
   ]
  },
  {
   "cell_type": "code",
   "execution_count": 369,
   "id": "794b57c7",
   "metadata": {},
   "outputs": [
    {
     "data": {
      "text/plain": [
       "array([[7, 8, 9],\n",
       "       [4, 5, 6],\n",
       "       [1, 2, 3]])"
      ]
     },
     "execution_count": 369,
     "metadata": {},
     "output_type": "execute_result"
    }
   ],
   "source": [
    "x3.sort(axis=1)\n",
    "x3"
   ]
  },
  {
   "cell_type": "code",
   "execution_count": null,
   "id": "68720047",
   "metadata": {},
   "outputs": [],
   "source": [
    "terms"
   ]
  },
  {
   "cell_type": "code",
   "execution_count": 372,
   "id": "edfd264a",
   "metadata": {},
   "outputs": [],
   "source": [
    "arr1d1 = np.array([5,5,5,4, 2,3])"
   ]
  },
  {
   "cell_type": "code",
   "execution_count": 373,
   "id": "ba7e47e6",
   "metadata": {},
   "outputs": [],
   "source": [
    "# using np.save we can save the numpy array in a file"
   ]
  },
  {
   "cell_type": "code",
   "execution_count": 374,
   "id": "7794d62d",
   "metadata": {},
   "outputs": [],
   "source": [
    "np.save('arr1d1.npy', arr1d1)"
   ]
  },
  {
   "cell_type": "code",
   "execution_count": 375,
   "id": "8872a92c",
   "metadata": {},
   "outputs": [
    {
     "name": "stdout",
     "output_type": "stream",
     "text": [
      " Volume in drive C has no label.\n",
      " Volume Serial Number is 1E76-1025\n",
      "\n",
      " Directory of C:\\Users\\Encora\\personal\\code-kata\n",
      "\n",
      "09/22/2022  10:39 PM    <DIR>          .\n",
      "09/22/2022  10:39 PM    <DIR>          ..\n",
      "09/22/2022  12:01 PM    <DIR>          .ipynb_checkpoints\n",
      "08/19/2022  08:22 PM             1,333 2-D-Array.ipynb\n",
      "08/23/2022  09:29 PM            18,900 2D-Array-2.0.ipynb\n",
      "09/22/2022  10:39 PM               152 arr1d1.npy\n",
      "08/25/2022  02:27 PM             3,307 Code-Challenge.ipynb\n",
      "09/22/2022  11:36 AM            53,131 Exception Handling.ipynb\n",
      "07/19/2022  11:02 AM               242 ids-prisoners\n",
      "09/01/2022  11:08 PM    <DIR>          Logics\n",
      "09/21/2022  11:43 PM            77,035 NPTEL.ipynb\n",
      "08/17/2022  10:42 AM             4,010 NPTEL-Week-3.ipynb\n",
      "09/22/2022  10:38 PM            95,597 Numerical Python ( Numpy ).ipynb\n",
      "08/08/2022  11:25 AM    <DIR>          patterns-1\n",
      "09/15/2022  08:53 PM            14,837 Recursion.ipynb\n",
      "09/22/2022  01:44 AM               498 temp.txt\n",
      "09/22/2022  02:08 AM               138 temp2.txt\n",
      "09/22/2022  01:46 AM                 7 temp3.txt\n",
      "09/22/2022  01:54 AM                 6 temp5.txt\n",
      "09/22/2022  02:25 AM                15 temp67.txt\n",
      "09/22/2022  02:26 AM                17 temp68.txt\n",
      "09/22/2022  02:16 AM                15 temp7.txt\n",
      "09/22/2022  03:16 PM            28,297 Untitled.ipynb\n",
      "              18 File(s)        297,537 bytes\n",
      "               5 Dir(s)  16,478,212,096 bytes free\n"
     ]
    }
   ],
   "source": [
    "%ls"
   ]
  },
  {
   "cell_type": "code",
   "execution_count": 376,
   "id": "2b2663aa",
   "metadata": {},
   "outputs": [
    {
     "name": "stdout",
     "output_type": "stream",
     "text": [
      "“NUMPY\u0001\u0000v\u0000{'descr': '<i4', 'fortran_order': False, 'shape': (6,), }                                                            \n",
      "\u0005\u0000\u0000\u0000\u0005\u0000\u0000\u0000\u0005\u0000\u0000\u0000\u0004\u0000\u0000\u0000\u0002\u0000\u0000\u0000\u0003\u0000\u0000\u0000\n"
     ]
    }
   ],
   "source": [
    "with open('arr1d1.npy') as fl2:\n",
    "    print(fl2.read())"
   ]
  },
  {
   "cell_type": "code",
   "execution_count": 377,
   "id": "36866419",
   "metadata": {},
   "outputs": [],
   "source": [
    "arr2d2 = np.load('arr1d1.npy')"
   ]
  },
  {
   "cell_type": "code",
   "execution_count": 378,
   "id": "30164efd",
   "metadata": {},
   "outputs": [
    {
     "data": {
      "text/plain": [
       "array([5, 5, 5, 4, 2, 3])"
      ]
     },
     "execution_count": 378,
     "metadata": {},
     "output_type": "execute_result"
    }
   ],
   "source": [
    "arr2d2"
   ]
  },
  {
   "cell_type": "code",
   "execution_count": 381,
   "id": "f037f443",
   "metadata": {},
   "outputs": [],
   "source": [
    "# Saving Multiple arrays in an uncompressed archive: <archive_name>.npz on disk\n",
    "# using np.savez function\n",
    "arr3d3 = np.array([[1,2,3], [4,5,6]])"
   ]
  },
  {
   "cell_type": "code",
   "execution_count": 382,
   "id": "18ca3ac3",
   "metadata": {},
   "outputs": [],
   "source": [
    "np.savez('array_archive.npz', a=arr1d1, b=arr3d3)"
   ]
  },
  {
   "cell_type": "code",
   "execution_count": 383,
   "id": "928ce3b5",
   "metadata": {},
   "outputs": [
    {
     "name": "stdout",
     "output_type": "stream",
     "text": [
      " Volume in drive C has no label.\n",
      " Volume Serial Number is 1E76-1025\n",
      "\n",
      " Directory of C:\\Users\\Encora\\personal\\code-kata\n",
      "\n",
      "09/22/2022  10:45 PM    <DIR>          .\n",
      "09/22/2022  10:45 PM    <DIR>          ..\n",
      "09/22/2022  12:01 PM    <DIR>          .ipynb_checkpoints\n",
      "08/19/2022  08:22 PM             1,333 2-D-Array.ipynb\n",
      "08/23/2022  09:29 PM            18,900 2D-Array-2.0.ipynb\n",
      "09/22/2022  10:39 PM               152 arr1d1.npy\n",
      "09/22/2022  10:45 PM               538 array_archive.npz\n",
      "08/25/2022  02:27 PM             3,307 Code-Challenge.ipynb\n",
      "09/22/2022  11:36 AM            53,131 Exception Handling.ipynb\n",
      "07/19/2022  11:02 AM               242 ids-prisoners\n",
      "09/01/2022  11:08 PM    <DIR>          Logics\n",
      "09/21/2022  11:43 PM            77,035 NPTEL.ipynb\n",
      "08/17/2022  10:42 AM             4,010 NPTEL-Week-3.ipynb\n",
      "09/22/2022  10:44 PM            97,890 Numerical Python ( Numpy ).ipynb\n",
      "08/08/2022  11:25 AM    <DIR>          patterns-1\n",
      "09/15/2022  08:53 PM            14,837 Recursion.ipynb\n",
      "09/22/2022  01:44 AM               498 temp.txt\n",
      "09/22/2022  02:08 AM               138 temp2.txt\n",
      "09/22/2022  01:46 AM                 7 temp3.txt\n",
      "09/22/2022  01:54 AM                 6 temp5.txt\n",
      "09/22/2022  02:25 AM                15 temp67.txt\n",
      "09/22/2022  02:26 AM                17 temp68.txt\n",
      "09/22/2022  02:16 AM                15 temp7.txt\n",
      "09/22/2022  03:16 PM            28,297 Untitled.ipynb\n",
      "              19 File(s)        300,368 bytes\n",
      "               5 Dir(s)  16,475,394,048 bytes free\n"
     ]
    }
   ],
   "source": [
    "%ls"
   ]
  },
  {
   "cell_type": "code",
   "execution_count": 384,
   "id": "d3347703",
   "metadata": {},
   "outputs": [],
   "source": [
    "arch = np.load('array_archive.npz')"
   ]
  },
  {
   "cell_type": "code",
   "execution_count": 385,
   "id": "b1781d26",
   "metadata": {},
   "outputs": [
    {
     "data": {
      "text/plain": [
       "array([[1, 2, 3],\n",
       "       [4, 5, 6]])"
      ]
     },
     "execution_count": 385,
     "metadata": {},
     "output_type": "execute_result"
    }
   ],
   "source": [
    "arch['b']"
   ]
  },
  {
   "cell_type": "code",
   "execution_count": 388,
   "id": "5256a2f9",
   "metadata": {},
   "outputs": [
    {
     "data": {
      "text/plain": [
       "array([[-1.55631562, -0.67906719,  0.82213031,  1.50065669,  1.2944771 ],\n",
       "       [-0.66793675, -0.51196332, -0.2376416 , -1.29093363,  2.48117667],\n",
       "       [-0.51633284,  1.10434771,  0.09160888, -0.02314844,  2.07171863],\n",
       "       [ 1.5408842 ,  1.01318406,  1.29137423,  0.5934322 ,  1.06386187],\n",
       "       [ 1.15434391,  0.11395404,  0.67139937,  1.46375326, -0.17280992]])"
      ]
     },
     "execution_count": 388,
     "metadata": {},
     "output_type": "execute_result"
    }
   ],
   "source": [
    "## using linear algebra libraries\n",
    "from numpy.linalg import inv, qr\n",
    "\n",
    "mat = np.random.randn(5, 5)\n",
    "mat"
   ]
  },
  {
   "cell_type": "code",
   "execution_count": 389,
   "id": "95ff4f58",
   "metadata": {},
   "outputs": [
    {
     "data": {
      "text/plain": [
       "array([[-1.55631562, -0.66793675, -0.51633284,  1.5408842 ,  1.15434391],\n",
       "       [-0.67906719, -0.51196332,  1.10434771,  1.01318406,  0.11395404],\n",
       "       [ 0.82213031, -0.2376416 ,  0.09160888,  1.29137423,  0.67139937],\n",
       "       [ 1.50065669, -1.29093363, -0.02314844,  0.5934322 ,  1.46375326],\n",
       "       [ 1.2944771 ,  2.48117667,  2.07171863,  1.06386187, -0.17280992]])"
      ]
     },
     "execution_count": 389,
     "metadata": {},
     "output_type": "execute_result"
    }
   ],
   "source": [
    "mat.T"
   ]
  },
  {
   "cell_type": "code",
   "execution_count": 390,
   "id": "a37f0fc3",
   "metadata": {},
   "outputs": [
    {
     "data": {
      "text/plain": [
       "array([[ 6.84169141,  2.52133246,  1.59681855,  1.14280381, -3.30177452],\n",
       "       [ 2.52133246,  2.98235001,  1.04945857,  0.38435665,  1.19678486],\n",
       "       [ 1.59681855,  1.04945857,  2.85918849,  3.28750035,  1.92220523],\n",
       "       [ 1.14280381,  0.38435665,  3.28750035,  6.41375137, -0.93004693],\n",
       "       [-3.30177452,  1.19678486,  1.92220523, -0.93004693, 13.28559201]])"
      ]
     },
     "execution_count": 390,
     "metadata": {},
     "output_type": "execute_result"
    }
   ],
   "source": [
    "mat1 = mat.T.dot(mat)\n",
    "mat1"
   ]
  },
  {
   "cell_type": "code",
   "execution_count": 391,
   "id": "0f8a780e",
   "metadata": {},
   "outputs": [
    {
     "data": {
      "text/plain": [
       "array([[ 0.61471384, -0.37507295, -1.00356519,  0.48032852,  0.36538187],\n",
       "       [-0.37507295,  0.66149238,  0.245804  , -0.12741056, -0.19728544],\n",
       "       [-1.00356519,  0.245804  ,  3.30667492, -1.6563856 , -0.86592639],\n",
       "       [ 0.48032852, -0.12741056, -1.6563856 ,  0.99076302,  0.43985911],\n",
       "       [ 0.36538187, -0.19728544, -0.86592639,  0.43985911,  0.33992423]])"
      ]
     },
     "execution_count": 391,
     "metadata": {},
     "output_type": "execute_result"
    }
   ],
   "source": [
    "inv(mat1)"
   ]
  },
  {
   "cell_type": "code",
   "execution_count": 392,
   "id": "e6ba4ba9",
   "metadata": {},
   "outputs": [
    {
     "data": {
      "text/plain": [
       "array([[ 1.00000000e+00,  4.45962947e-16,  7.01560121e-16,\n",
       "         3.07974365e-16, -2.47569749e-16],\n",
       "       [-3.11220048e-16,  1.00000000e+00,  7.44048881e-16,\n",
       "         1.21090045e-15, -1.15491200e-16],\n",
       "       [ 2.00799566e-16, -2.81267599e-17,  1.00000000e+00,\n",
       "         2.38816686e-16,  1.60018147e-16],\n",
       "       [-3.85311288e-16,  1.43989340e-16,  7.80262175e-16,\n",
       "         1.00000000e+00,  5.42025712e-17],\n",
       "       [ 1.27957843e-15, -8.18775852e-16,  8.28674911e-17,\n",
       "         3.12999511e-16,  1.00000000e+00]])"
      ]
     },
     "execution_count": 392,
     "metadata": {},
     "output_type": "execute_result"
    }
   ],
   "source": [
    "mat1.dot(inv(mat1))"
   ]
  },
  {
   "cell_type": "code",
   "execution_count": 396,
   "id": "84038809",
   "metadata": {},
   "outputs": [],
   "source": [
    "# compute QR decomposition\n",
    "q, r = qr(mat1)"
   ]
  },
  {
   "cell_type": "code",
   "execution_count": 397,
   "id": "a4ae912e",
   "metadata": {},
   "outputs": [
    {
     "data": {
      "text/plain": [
       "array([[-8.30144627e-01, -6.62089960e-02,  3.65302531e-02,\n",
       "         4.43525358e-01,  3.29282651e-01],\n",
       "       [-3.05928822e-01, -6.67592554e-01,  3.27634130e-01,\n",
       "        -5.67250330e-01, -1.77793917e-01],\n",
       "       [-1.93751846e-01, -1.59866368e-01, -5.21824237e-01,\n",
       "         2.35836273e-01, -7.80374067e-01],\n",
       "       [-1.38663437e-01,  4.67370583e-04, -7.63322913e-01,\n",
       "        -4.90893167e-01,  3.96401642e-01],\n",
       "       [ 4.00624672e-01, -7.24140232e-01, -1.90680396e-01,\n",
       "         4.30020315e-01,  3.06340190e-01]])"
      ]
     },
     "execution_count": 397,
     "metadata": {},
     "output_type": "execute_result"
    }
   ],
   "source": [
    "q"
   ]
  },
  {
   "cell_type": "code",
   "execution_count": 398,
   "id": "b5b57ea1",
   "metadata": {},
   "outputs": [
    {
     "data": {
      "text/plain": [
       "array([[ -8.24156561,  -2.78262663,  -1.88639627,  -2.96519004,\n",
       "          7.45388803],\n",
       "       [  0.        ,  -3.19216311,  -2.65383223,  -0.18133627,\n",
       "        -10.50871982],\n",
       "       [  0.        ,   0.        ,  -3.96577442,  -6.26624376,\n",
       "         -2.55493618],\n",
       "       [  0.        ,   0.        ,   0.        ,  -2.48425793,\n",
       "          4.47965653],\n",
       "       [  0.        ,   0.        ,   0.        ,   0.        ,\n",
       "          0.90120139]])"
      ]
     },
     "execution_count": 398,
     "metadata": {},
     "output_type": "execute_result"
    }
   ],
   "source": [
    "r"
   ]
  },
  {
   "cell_type": "code",
   "execution_count": 399,
   "id": "74b740ba",
   "metadata": {},
   "outputs": [],
   "source": [
    "# Pseudo-random number generation\n",
    "# generated by an algorithm with deterministic behavior based on the seed of the random number generator"
   ]
  },
  {
   "cell_type": "code",
   "execution_count": 400,
   "id": "155fa86d",
   "metadata": {},
   "outputs": [],
   "source": [
    "# using numpy.random"
   ]
  },
  {
   "cell_type": "code",
   "execution_count": 401,
   "id": "98135f9c",
   "metadata": {},
   "outputs": [],
   "source": [
    "# generation of samples from the normal distribution"
   ]
  },
  {
   "cell_type": "code",
   "execution_count": 403,
   "id": "d9835395",
   "metadata": {},
   "outputs": [],
   "source": [
    "# using normal function (default: standard normal distribution)\n",
    "# e.g. for 4 x 4 array"
   ]
  },
  {
   "cell_type": "code",
   "execution_count": 404,
   "id": "a3b10097",
   "metadata": {},
   "outputs": [
    {
     "data": {
      "text/plain": [
       "array([[ 0.07913864,  0.9660986 , -1.13358607,  0.71247852],\n",
       "       [ 0.01196927,  0.6483455 , -1.2604049 , -0.06658913],\n",
       "       [-2.279844  , -0.4354923 , -1.05627928,  1.15900573],\n",
       "       [ 0.74598473,  0.71154188, -1.04239361,  1.92053761]])"
      ]
     },
     "execution_count": 404,
     "metadata": {},
     "output_type": "execute_result"
    }
   ],
   "source": [
    "samp = np.random.normal(size=(4,4))\n",
    "samp"
   ]
  },
  {
   "cell_type": "code",
   "execution_count": 406,
   "id": "412864db",
   "metadata": {},
   "outputs": [],
   "source": [
    "# using python's built-in random module\n",
    "# samples only one value at a time\n",
    "from random import normalvariate"
   ]
  },
  {
   "cell_type": "code",
   "execution_count": 407,
   "id": "8fd5486d",
   "metadata": {},
   "outputs": [],
   "source": [
    "samp1 = [normalvariate(0, 1) for _ in range(1000)]"
   ]
  },
  {
   "cell_type": "code",
   "execution_count": 408,
   "id": "b0727e69",
   "metadata": {},
   "outputs": [
    {
     "data": {
      "text/plain": [
       "[0.46876408093226435,\n",
       " -0.22122693137639646,\n",
       " -0.2872095817307948,\n",
       " 1.6514480319694143,\n",
       " -0.8594439283367946,\n",
       " 0.991286920901628,\n",
       " 1.1809230435041067,\n",
       " 0.24687168530798148,\n",
       " 0.1780577751923735,\n",
       " -0.9695213957743931,\n",
       " -1.5940180569660303,\n",
       " 0.0385452712773646,\n",
       " -0.48600214553564736,\n",
       " -0.07400697427183008,\n",
       " -0.8286332453264608,\n",
       " 1.611426301553135,\n",
       " 0.5714254707014483,\n",
       " 0.5439082541280358,\n",
       " 0.6346766877305904,\n",
       " 0.7562405530568627,\n",
       " 0.4678595491036734,\n",
       " 0.6081887088137395,\n",
       " -1.4558098528039891,\n",
       " -0.9436401621729404,\n",
       " -1.1093912749518566,\n",
       " 0.17712743763096084,\n",
       " -1.318202015893884,\n",
       " -0.6858744005456163,\n",
       " -0.13274030660134667,\n",
       " -0.46790120048912465,\n",
       " -0.17537070485723516,\n",
       " -0.6894314832035073,\n",
       " -1.1503607627511176,\n",
       " -0.5525670595295402,\n",
       " -1.443717740065367,\n",
       " -0.5045253759340417,\n",
       " -0.4083032432504609,\n",
       " -0.4984060761623144,\n",
       " -0.6199261846324057,\n",
       " 0.5525092449881039,\n",
       " 1.4966955221200868,\n",
       " 0.38201076798154443,\n",
       " 0.6742638215201525,\n",
       " -0.6171759700524235,\n",
       " 1.180092612788854,\n",
       " 0.45039136324136736,\n",
       " 3.2114530541171318,\n",
       " 1.037911883933717,\n",
       " -0.962802997601908,\n",
       " 0.05425111173513241,\n",
       " -0.1371688546503543,\n",
       " -2.228467473829816,\n",
       " 0.37777695667823935,\n",
       " 1.5485009555756741,\n",
       " 0.7814163317314338,\n",
       " 1.6863365158500887,\n",
       " -0.43836431071576615,\n",
       " 0.555817914343754,\n",
       " 0.369128065076649,\n",
       " 0.18367231385703148,\n",
       " 0.21730364358815515,\n",
       " -0.058465088337259274,\n",
       " -2.0972782546501065,\n",
       " 0.360090141416622,\n",
       " 1.544188193821683,\n",
       " 1.1977955235453295,\n",
       " 1.5718517906550726,\n",
       " 1.793793708902979,\n",
       " 0.20422464652578612,\n",
       " -1.7143234186301075,\n",
       " 0.489692302619468,\n",
       " 2.70635915707483,\n",
       " 0.49506706037971865,\n",
       " -0.46186620883337265,\n",
       " -2.0199006416513066,\n",
       " 0.2834632811617282,\n",
       " -0.3844844781977593,\n",
       " -1.5135197521803962,\n",
       " -0.4093142295211526,\n",
       " -0.887073540278424,\n",
       " -0.2563216698753642,\n",
       " 0.9676965587126906,\n",
       " 2.030933101452847,\n",
       " -0.3813356378684987,\n",
       " -1.0506746583420417,\n",
       " -0.03931106711280864,\n",
       " 0.11276571440161684,\n",
       " 0.17518873640882518,\n",
       " 1.6834212065087428,\n",
       " 0.43138160907858125,\n",
       " 1.4873219481913094,\n",
       " 0.37804365412098745,\n",
       " -0.4774380407708121,\n",
       " -1.1902008497978764,\n",
       " -2.8178598268161203,\n",
       " -2.0114801260758237,\n",
       " 1.2654508148126515,\n",
       " -0.8811587288712571,\n",
       " -0.8932212088132239,\n",
       " -0.6017955236920708,\n",
       " -1.3537610535213978,\n",
       " 0.2990539515109045,\n",
       " 0.29376548996819474,\n",
       " -0.0019799123841627076,\n",
       " 0.2644029275979612,\n",
       " -0.07584756443995756,\n",
       " 0.5415024241715216,\n",
       " -1.1916133588531044,\n",
       " 1.0435616053059718,\n",
       " -0.2225312563310481,\n",
       " 0.2991932227578962,\n",
       " -0.9086327507509064,\n",
       " 0.8138572659529429,\n",
       " -0.6923186249435489,\n",
       " -0.7354674033071404,\n",
       " 0.4002183000521434,\n",
       " -1.059311801989828,\n",
       " 0.6396304453393088,\n",
       " -1.5039719534961271,\n",
       " 0.0436210378109583,\n",
       " -1.4976389450078642,\n",
       " 0.2644659949919335,\n",
       " -0.37231237550833585,\n",
       " 0.5731387123221312,\n",
       " -0.9761254797493761,\n",
       " -1.336368698200293,\n",
       " 0.10233185351935037,\n",
       " 0.4719466982413648,\n",
       " 0.323849070306016,\n",
       " -0.9327378303163045,\n",
       " 1.2271635919927275,\n",
       " 1.63377691080965,\n",
       " -0.6060186974290526,\n",
       " 0.9432449983996279,\n",
       " -1.8351053499631205,\n",
       " -1.082254414785538,\n",
       " -1.1155101757077786,\n",
       " -0.18518208245189532,\n",
       " 0.42193710546800456,\n",
       " 0.9528068733894826,\n",
       " -0.7567583702663568,\n",
       " -1.320224674849802,\n",
       " 0.6164751238345382,\n",
       " -0.612376676012849,\n",
       " -1.9530147458970177,\n",
       " -1.4889064535475027,\n",
       " -0.9636308830302858,\n",
       " 0.8118578979890471,\n",
       " 1.2045623771805043,\n",
       " -0.06132335369710961,\n",
       " -0.37558019751427324,\n",
       " 1.0881591040778,\n",
       " -0.5204938131073263,\n",
       " 1.1045531835719624,\n",
       " 0.6930606163629475,\n",
       " 0.19682720237250753,\n",
       " 0.8247787171956827,\n",
       " 1.4787862897913644,\n",
       " -1.326483483553515,\n",
       " -1.4863316161623472,\n",
       " 2.632103583859042,\n",
       " -0.09397034109904505,\n",
       " -0.08630650643078881,\n",
       " 0.1918039699938481,\n",
       " 0.24507096277571278,\n",
       " 0.7044413095690313,\n",
       " 0.47788202423683956,\n",
       " -0.511088313585569,\n",
       " -0.84179116632775,\n",
       " -0.08966472826494562,\n",
       " 0.0009485473815757247,\n",
       " -0.7955652833778316,\n",
       " -0.5707839712618576,\n",
       " 0.029020331247251976,\n",
       " 0.949814353947376,\n",
       " -0.07142107834516813,\n",
       " 0.5647502602780602,\n",
       " 0.22947747757963058,\n",
       " -0.7880761070272897,\n",
       " -1.6220131944274434,\n",
       " -0.6462858789401763,\n",
       " -0.050869054766429195,\n",
       " 0.2632353697435436,\n",
       " -0.5524348843721554,\n",
       " -1.5911659065588228,\n",
       " 0.04267354903639645,\n",
       " -0.9016185738926664,\n",
       " 1.0099741865922374,\n",
       " -0.796128922291453,\n",
       " -0.5018119540704364,\n",
       " 0.3819648717493542,\n",
       " 1.893281923123799,\n",
       " 0.6710576873611642,\n",
       " 1.2665631791604859,\n",
       " -0.8907077811185844,\n",
       " -0.22731871997701514,\n",
       " -0.4476759869951872,\n",
       " 0.4567869440063126,\n",
       " -0.28108809003118346,\n",
       " -0.5748173767845176,\n",
       " -0.1998152298674358,\n",
       " 0.12442297183588574,\n",
       " -0.01648648141483121,\n",
       " -1.180923504149024,\n",
       " -1.213733662302159,\n",
       " 0.1525370498875427,\n",
       " 0.5502132980533991,\n",
       " -0.3660694860434391,\n",
       " -1.0258010466677951,\n",
       " -0.8162690190460574,\n",
       " -1.032602326116428,\n",
       " -0.07017716485668132,\n",
       " -0.1872536010514528,\n",
       " -0.1764301887084421,\n",
       " 3.1971250888166334,\n",
       " 0.654636956889926,\n",
       " -1.4927689892271336,\n",
       " -0.5500028211530765,\n",
       " -1.4561955293604831,\n",
       " -0.7911102430276765,\n",
       " 0.6281821209879551,\n",
       " 1.201932241299414,\n",
       " -1.5285896601928748,\n",
       " -0.9718363080643646,\n",
       " 0.50307682099251,\n",
       " -1.5603322036638971,\n",
       " -0.08323793130689099,\n",
       " -0.42665692672629113,\n",
       " 0.42810216478270835,\n",
       " -2.0144276034862068,\n",
       " -0.4787244213795819,\n",
       " -0.5003721780162108,\n",
       " -0.06648943175500148,\n",
       " 0.13950684612349754,\n",
       " 0.5532086950587229,\n",
       " 0.8416181224216315,\n",
       " -1.3593456015089826,\n",
       " -0.31597534524596177,\n",
       " -0.9761658862689463,\n",
       " -0.010473217153923037,\n",
       " 0.4874601978042538,\n",
       " 1.0791202501752557,\n",
       " -1.2541336575687136,\n",
       " -1.467167960415861,\n",
       " -0.44566071655144807,\n",
       " -0.5973101100447489,\n",
       " 0.4684349877575005,\n",
       " 0.6082692000672513,\n",
       " 1.1166514091864361,\n",
       " -2.5677068555548206,\n",
       " -0.27622234703084914,\n",
       " 2.030066433084751,\n",
       " 0.3283789603708478,\n",
       " -0.5002209962377155,\n",
       " -0.04085580787097966,\n",
       " -0.5155946434694245,\n",
       " 0.652601459645534,\n",
       " -0.24862647258378498,\n",
       " 0.7348045504289438,\n",
       " 1.263856877673779,\n",
       " 0.4542748723826829,\n",
       " 1.1167071595403175,\n",
       " -1.6765654755821138,\n",
       " -0.2381309483115017,\n",
       " 0.1536119071170139,\n",
       " -0.46335169422646205,\n",
       " -0.11214978891786058,\n",
       " -0.6736871333403465,\n",
       " 0.7466949930608507,\n",
       " 0.040556570635527235,\n",
       " -0.30667780818029045,\n",
       " -1.02650201533575,\n",
       " 0.6549620111285909,\n",
       " 0.4353460567811008,\n",
       " 1.768566320320149,\n",
       " 1.084762202079566,\n",
       " 0.5028859686845369,\n",
       " -1.1183265156387059,\n",
       " 0.27555323553679695,\n",
       " -0.1404973922051989,\n",
       " -0.2339957390391972,\n",
       " -0.06210756909915145,\n",
       " -0.441816095657674,\n",
       " 1.29482273641636,\n",
       " 1.0831110505486323,\n",
       " 0.18278017855793166,\n",
       " 0.33664986383170264,\n",
       " -1.3520760538983563,\n",
       " -1.5669039136730225,\n",
       " 0.41387777538337345,\n",
       " -1.9211356179559664,\n",
       " 0.06734805448384483,\n",
       " -1.0727385404595748,\n",
       " -1.0351069317586814,\n",
       " -0.38051236488102164,\n",
       " 0.11144713737710585,\n",
       " -0.9990512784354999,\n",
       " -1.075645334589527,\n",
       " 0.19235475963521287,\n",
       " 1.2220795436462268,\n",
       " -0.6730010121403696,\n",
       " 1.3761429205557747,\n",
       " 0.4011277094058142,\n",
       " 1.914269948080826,\n",
       " -0.13945162138666853,\n",
       " -1.5604212971434797,\n",
       " 1.475708244109058,\n",
       " 1.2674218318483363,\n",
       " -1.2215143942428965,\n",
       " -2.0919520967996097,\n",
       " 1.6631582163193703,\n",
       " -1.322391881154216,\n",
       " 0.18262217177722503,\n",
       " 0.021404007322775948,\n",
       " 0.6281685517779548,\n",
       " -1.9660898565320208,\n",
       " 1.820463585304688,\n",
       " -2.2629733119204456,\n",
       " -1.5927555679307577,\n",
       " 0.5790505595611742,\n",
       " -0.14936214605518605,\n",
       " -0.5549072800746021,\n",
       " 1.2604125866567006,\n",
       " -0.5625093491572872,\n",
       " -0.37861408864794727,\n",
       " -0.5714214594869268,\n",
       " -0.011269736873007773,\n",
       " -2.1533867450152595,\n",
       " -0.522744391709432,\n",
       " -0.36801406743874443,\n",
       " 0.6598844904708591,\n",
       " -1.494136010858394,\n",
       " -0.20208121810834886,\n",
       " 0.2151336025537913,\n",
       " -0.6270621669725271,\n",
       " -0.6414616282867335,\n",
       " -0.20863706098823387,\n",
       " -0.40613045480697263,\n",
       " 0.8147987260862285,\n",
       " 0.11804717594115259,\n",
       " 0.8672618976300845,\n",
       " 0.32785741689683207,\n",
       " 1.6202702741542372,\n",
       " 0.4275724031039265,\n",
       " 0.15934996944878482,\n",
       " 0.3815433986425462,\n",
       " 1.3476213881612322,\n",
       " -1.0948528006374014,\n",
       " 0.408853135291796,\n",
       " -0.3431673716705849,\n",
       " 0.29790709838288726,\n",
       " 0.9807959122577564,\n",
       " 0.31223737276705726,\n",
       " 1.0287276670712275,\n",
       " -1.715863857560724,\n",
       " 1.7210928018304492,\n",
       " 0.21212161932088086,\n",
       " 0.9080339555634195,\n",
       " -0.49693205621215814,\n",
       " -1.770105248273952,\n",
       " 1.748616774394143,\n",
       " 0.7631488070816105,\n",
       " 0.9091207687066579,\n",
       " -0.4105557060594633,\n",
       " 0.7377416718365032,\n",
       " 1.7012981633231463,\n",
       " 1.4497853933643852,\n",
       " -1.6443791176802371,\n",
       " -0.14282409654074626,\n",
       " -0.8720686188159856,\n",
       " 0.5867077718729531,\n",
       " 1.4054469882981826,\n",
       " -0.7569219074485907,\n",
       " -0.9989526504220944,\n",
       " -1.0017345277421483,\n",
       " 1.2579196816524825,\n",
       " 0.7871589523083709,\n",
       " -0.13211360246080167,\n",
       " -0.9895744243372311,\n",
       " -0.4127164375672669,\n",
       " -0.9366476190665435,\n",
       " 0.6440475215242566,\n",
       " -0.7442899509571538,\n",
       " -1.4819437264761848,\n",
       " 0.20999256992850637,\n",
       " 0.11754652758629087,\n",
       " -0.4595079726458795,\n",
       " 1.0650203601999915,\n",
       " -2.863967457385617,\n",
       " 0.3061584760529829,\n",
       " 1.2072361229407218,\n",
       " 0.4135291863136061,\n",
       " 0.7881530956144367,\n",
       " -1.8199380581162474,\n",
       " -0.3636832101044214,\n",
       " 0.1429889782653701,\n",
       " 0.1713219615070219,\n",
       " 0.3139569378514011,\n",
       " 1.3074360065313775,\n",
       " -0.7578508379066968,\n",
       " 0.16364325849165243,\n",
       " 0.1440566461587396,\n",
       " 0.5978562375361615,\n",
       " 0.6381006912081255,\n",
       " 0.5931024956335579,\n",
       " -1.3963001870337612,\n",
       " -0.16076240279918363,\n",
       " -0.4024188420647976,\n",
       " -1.1117307190035095,\n",
       " -0.6299305411074181,\n",
       " -0.31171383538275343,\n",
       " -0.5200729007288661,\n",
       " 1.5756739409374163,\n",
       " -1.353462344713924,\n",
       " -0.5579711524861293,\n",
       " -2.233279077503241,\n",
       " 0.8058041979111826,\n",
       " 0.6048097219158498,\n",
       " 1.0118346750260228,\n",
       " 0.6724079842114365,\n",
       " 0.34283946623385125,\n",
       " 0.19222952011681788,\n",
       " 0.7742829915054318,\n",
       " 0.9839753403462511,\n",
       " -0.20364741654617696,\n",
       " -0.7725770386081059,\n",
       " 0.9553372100266968,\n",
       " 0.0032703215103300756,\n",
       " -1.0378227286513348,\n",
       " 0.5026869716095543,\n",
       " -0.564733444064649,\n",
       " -1.6076149883663173,\n",
       " 1.761237697191325,\n",
       " 0.19154910837647843,\n",
       " -1.2904138728220895,\n",
       " -0.5031289940043475,\n",
       " -0.5533556326529635,\n",
       " -0.7004253993736321,\n",
       " 0.24330950181410346,\n",
       " 1.4324526505469182,\n",
       " -0.3142434981164215,\n",
       " 1.4289169418698189,\n",
       " 0.7422488695418531,\n",
       " 0.5772147981203849,\n",
       " -0.8738833215382673,\n",
       " 0.8493882599427913,\n",
       " -0.04379884769442606,\n",
       " 0.496278043483296,\n",
       " 0.3482975476041513,\n",
       " 0.16533326002924598,\n",
       " 0.13565475391140294,\n",
       " 1.6265814905903415,\n",
       " 1.3739118682883054,\n",
       " -1.1311684837529787,\n",
       " -0.41043866488981084,\n",
       " 1.3743579709567983,\n",
       " -0.3061092624530166,\n",
       " 0.46297965102949307,\n",
       " 0.5252464184680916,\n",
       " -0.7043757799079602,\n",
       " -1.5538854372894264,\n",
       " 2.222197151654614,\n",
       " 0.9564606909114988,\n",
       " -0.007874910613989998,\n",
       " -0.41977202230660593,\n",
       " 0.6212115339566986,\n",
       " -0.2555063327989392,\n",
       " 0.34500080844849984,\n",
       " 1.358401711911637,\n",
       " 1.2780428064584808,\n",
       " 1.1358255691217445,\n",
       " -0.3368363809739651,\n",
       " -0.7901129244166072,\n",
       " -0.8338977259975907,\n",
       " 0.38198218462270683,\n",
       " -0.09060205365349534,\n",
       " 1.1805214399642328,\n",
       " 1.0949640807235046,\n",
       " -2.201936925199622,\n",
       " 0.03828240747291573,\n",
       " -0.5970935897618611,\n",
       " -0.9773121095321796,\n",
       " -0.5356754260480682,\n",
       " 0.20471602123429702,\n",
       " 0.8735226332691969,\n",
       " 0.6805993272595249,\n",
       " 0.24347441265992983,\n",
       " -1.0344810140010032,\n",
       " 2.457552144001976,\n",
       " -0.3280886976689177,\n",
       " 0.02405671830230393,\n",
       " 0.4112466885458398,\n",
       " 1.145780874183593,\n",
       " -1.4074450091604929,\n",
       " 1.0564919961421333,\n",
       " -0.7856572594945054,\n",
       " 1.5411969042953002,\n",
       " 1.5523517653112269,\n",
       " -0.4882061100336462,\n",
       " 1.174882517265076,\n",
       " -1.2258696715078248,\n",
       " 0.01720955399522789,\n",
       " 0.8332264489048947,\n",
       " -1.3606121592018425,\n",
       " -0.6498623581907327,\n",
       " -1.2057459364208527,\n",
       " 1.601569594980566,\n",
       " 0.4691814763106248,\n",
       " 0.6946628276882764,\n",
       " -1.7886376903066603,\n",
       " 0.28071188645148804,\n",
       " 2.71335122054756,\n",
       " -0.026397440442631644,\n",
       " 0.21885259455628092,\n",
       " -0.6020658764907169,\n",
       " -1.7361246067327372,\n",
       " 1.0829519390074882,\n",
       " -0.050808580741882055,\n",
       " -0.6231175327223673,\n",
       " 0.561705041388876,\n",
       " 0.3377436230382452,\n",
       " -2.0970712780237095,\n",
       " -0.5482718899508066,\n",
       " -0.28904022975751187,\n",
       " 2.193315477188121,\n",
       " 1.6056086333275508,\n",
       " 0.42567914139282753,\n",
       " -1.145615394727894,\n",
       " -0.17001208591439806,\n",
       " 1.6874814337075068,\n",
       " -1.695273667228432,\n",
       " 0.7765160686785122,\n",
       " 0.8516162983958288,\n",
       " 0.4970745630620311,\n",
       " -1.6282467406672663,\n",
       " 0.4711463101219768,\n",
       " -1.1381919346678513,\n",
       " -0.17616958341709874,\n",
       " -1.2173999035642282,\n",
       " -0.08557861493062713,\n",
       " -0.29382822014051885,\n",
       " -0.17894732091125662,\n",
       " -1.5469515381482495,\n",
       " -0.3557554095640601,\n",
       " -0.051746572751250525,\n",
       " -2.263683120048606,\n",
       " -0.20328890708046432,\n",
       " 0.8959655770003643,\n",
       " -0.679047465933866,\n",
       " 0.7311436827455087,\n",
       " 1.1350290697272851,\n",
       " 0.34054547512647454,\n",
       " 1.2161685287213813,\n",
       " 1.158725511349769,\n",
       " 1.8486317288928922,\n",
       " 0.8832159981336933,\n",
       " -0.9710652005557718,\n",
       " 0.4317676226408176,\n",
       " -1.1385911496588135,\n",
       " -1.6023522388661426,\n",
       " 1.9635362114716801,\n",
       " -1.4855792177031752,\n",
       " 2.034792937889798,\n",
       " 0.3196527441516804,\n",
       " 0.337737610410128,\n",
       " 0.743475180245505,\n",
       " -0.9731949566193919,\n",
       " 0.8274355586213146,\n",
       " 1.22519616697665,\n",
       " 1.5602554854148847,\n",
       " -0.7182571892771575,\n",
       " -1.1772551335381756,\n",
       " -0.7069822732790706,\n",
       " 0.05273708943724516,\n",
       " -1.10119803884453,\n",
       " 1.1468435774718069,\n",
       " -0.5538784356227138,\n",
       " -0.5703912418386747,\n",
       " 0.9653717272159676,\n",
       " -0.021202947710855253,\n",
       " 0.18234492629406743,\n",
       " 0.015562639643164202,\n",
       " 0.26074336135210224,\n",
       " -0.05837133598332343,\n",
       " -1.7327944213568516,\n",
       " 1.7444151225959976,\n",
       " -1.9774065496541327,\n",
       " 0.08834195449810599,\n",
       " -1.0223335342650928,\n",
       " -1.6904070949467291,\n",
       " -1.0477451323651703,\n",
       " -0.3520099888959514,\n",
       " -0.6458089674240961,\n",
       " 1.2628469960454205,\n",
       " 0.4348106830394423,\n",
       " -1.6397479168441325,\n",
       " -0.7590225782938697,\n",
       " -0.6506067626099584,\n",
       " -0.22357919539413515,\n",
       " -0.06349772738631179,\n",
       " 0.9645023338000321,\n",
       " 0.40114649648502626,\n",
       " 1.3840879063651859,\n",
       " -0.1690872909529308,\n",
       " 1.4832270794305946,\n",
       " 0.7962539506483923,\n",
       " -1.710256751216319,\n",
       " 1.3588447639968153,\n",
       " 1.5669945136510923,\n",
       " -0.9236150158710257,\n",
       " -1.575711972529905,\n",
       " 0.15297443493041082,\n",
       " -0.3259502122361752,\n",
       " 0.3414285839587908,\n",
       " 0.2259932867138866,\n",
       " -0.7918922115842012,\n",
       " 0.7917661234336669,\n",
       " 0.34653446122676906,\n",
       " 1.0678158655947352,\n",
       " 0.388559622643082,\n",
       " 1.0243642500237018,\n",
       " 0.6756520473704717,\n",
       " 1.4123615470906532,\n",
       " -1.899957345395554,\n",
       " 0.05166052059221955,\n",
       " -0.11737299589552576,\n",
       " 1.1750712119021702,\n",
       " -0.10614856261338267,\n",
       " 1.0133443818825487,\n",
       " -0.09088702420612496,\n",
       " 0.5486196523810621,\n",
       " -0.5655194239250282,\n",
       " -0.6586577124471122,\n",
       " -0.6170071301832282,\n",
       " 0.4633532440334077,\n",
       " -0.9101815822953601,\n",
       " -0.439044534308902,\n",
       " 0.11360269185741834,\n",
       " -0.18833056029696763,\n",
       " 0.7865299850743535,\n",
       " -0.6255123013706304,\n",
       " 0.6605939534536726,\n",
       " -0.1417132929522668,\n",
       " 1.6078210206804244,\n",
       " 0.28624720863344494,\n",
       " -0.8558528192405401,\n",
       " 0.3689727503761205,\n",
       " -1.7416269957805626,\n",
       " 0.900727863449907,\n",
       " -1.1847511502125254,\n",
       " -0.6452708309565759,\n",
       " 1.5026271536009301,\n",
       " -0.07479584586305961,\n",
       " 0.7605800498340554,\n",
       " 0.7532752141276978,\n",
       " -0.5406737694348357,\n",
       " 0.8514202913134109,\n",
       " 1.6666975490432736,\n",
       " -0.13005304470671147,\n",
       " -1.47563806422386,\n",
       " 0.27026318380594067,\n",
       " -0.310333015729151,\n",
       " 1.6105925325507215,\n",
       " 0.27780039003088175,\n",
       " -0.15641860908147626,\n",
       " -0.18876560943819157,\n",
       " -0.1381853367741753,\n",
       " -1.3163471138323657,\n",
       " -0.5566684367194952,\n",
       " -0.913665266347779,\n",
       " 0.7477368335460184,\n",
       " 1.0366797117637225,\n",
       " 1.2518322821845964,\n",
       " -0.7488856920784022,\n",
       " 0.6568921728042975,\n",
       " 1.5307188338301112,\n",
       " -1.3860832876191203,\n",
       " 1.0342614392492593,\n",
       " -0.3148526252161419,\n",
       " -0.5695922464437162,\n",
       " -0.9506557469386353,\n",
       " -0.0731313164465607,\n",
       " -1.630923929741422,\n",
       " 0.31309157893169937,\n",
       " -0.36374601707181525,\n",
       " 0.011283586123940018,\n",
       " -3.751040859010189,\n",
       " -0.568312103416987,\n",
       " 1.5124536289724402,\n",
       " -1.3272218123944182,\n",
       " -0.1251371749190515,\n",
       " 0.39314705139180334,\n",
       " -0.06506824864656754,\n",
       " 0.15372321494045774,\n",
       " -0.046321303645711784,\n",
       " 0.2608531138622353,\n",
       " -0.21720268010985996,\n",
       " 1.5139687217677733,\n",
       " 0.23365528656934045,\n",
       " 0.38254089583015854,\n",
       " 0.20291021878851476,\n",
       " 1.9772138670209771,\n",
       " 0.7138404868325741,\n",
       " 0.28811902097533015,\n",
       " 1.2279638685489025,\n",
       " -1.0338013835468207,\n",
       " 0.18970024163321314,\n",
       " 0.8176111578333298,\n",
       " 0.477630772909007,\n",
       " -1.3768405332053786,\n",
       " -0.17851008361516144,\n",
       " 2.5860427059657685,\n",
       " -0.025803813849632172,\n",
       " 0.48958516628235116,\n",
       " 0.6800833406472633,\n",
       " 1.6792262514200642,\n",
       " 0.6987024053838137,\n",
       " -0.8885217017013218,\n",
       " -0.5109758977292242,\n",
       " 0.8423485831899524,\n",
       " 1.2019522452801301,\n",
       " -0.07292448057690705,\n",
       " 0.7050222626227572,\n",
       " -0.6112029760249252,\n",
       " -0.3167011035726395,\n",
       " -0.6288481819491254,\n",
       " 1.3140315914671699,\n",
       " 0.5630724087231069,\n",
       " -0.90835259031646,\n",
       " 0.7163260800951794,\n",
       " 1.897991233642182,\n",
       " 0.0632040293613679,\n",
       " -0.4396294438948679,\n",
       " -0.23928949716513628,\n",
       " -0.1597026711957987,\n",
       " -0.48343910375766624,\n",
       " 0.698361865911304,\n",
       " -0.8684481274126093,\n",
       " -0.8687058530157957,\n",
       " -1.8861544189707105,\n",
       " 1.297232555303762,\n",
       " -0.5341097364397497,\n",
       " -1.381081339496409,\n",
       " 0.7696946317980228,\n",
       " 0.07067247735003751,\n",
       " 0.15615949632988818,\n",
       " -0.8125163912240869,\n",
       " 0.09483014943159525,\n",
       " 0.5936032060822715,\n",
       " 0.18243519074887835,\n",
       " -1.180302388604103,\n",
       " -2.5906218040536766,\n",
       " 0.20706593250726238,\n",
       " -0.3812227450803898,\n",
       " -0.42395315342162887,\n",
       " 0.9664766008461961,\n",
       " 0.3658136480817884,\n",
       " 0.18569617096017182,\n",
       " -0.6693431031457854,\n",
       " 0.34649886132948465,\n",
       " -0.6552258642239198,\n",
       " -0.8791845847537048,\n",
       " -0.989449376078707,\n",
       " 0.8330278665684105,\n",
       " 2.083872860452105,\n",
       " -0.5389097749326782,\n",
       " 0.5101840904087187,\n",
       " 1.3358633474669848,\n",
       " -0.032384066374272394,\n",
       " 0.4948545038368034,\n",
       " -0.10778034656454002,\n",
       " 1.3529484600125539,\n",
       " -1.629227669566207,\n",
       " 0.0920171554504046,\n",
       " 1.1708060836802603,\n",
       " -0.06747704268598544,\n",
       " -0.7820320622866429,\n",
       " -1.1791863432726444,\n",
       " -1.000743081263432,\n",
       " -0.5158740038210644,\n",
       " 1.200926836330635,\n",
       " 1.138550085282598,\n",
       " -0.4873689939376053,\n",
       " 1.0367212495245701,\n",
       " 0.6151278877428148,\n",
       " 1.1165793521713585,\n",
       " 1.8512482798113652,\n",
       " 1.4620359894537975,\n",
       " 0.04157828287942146,\n",
       " -1.5724615279658753,\n",
       " -1.1891979971933808,\n",
       " -0.506231740652044,\n",
       " -0.48694810312718967,\n",
       " -0.8319530552267858,\n",
       " 1.4054991069038645,\n",
       " 0.4764580078181672,\n",
       " 0.7405412780977766,\n",
       " -0.0799435588133261,\n",
       " 0.6406900625205845,\n",
       " -1.7142771275285753,\n",
       " -0.01710883131807405,\n",
       " 0.15700779409927423,\n",
       " -0.3479568101640638,\n",
       " -0.8367265110006271,\n",
       " -1.3224397974459488,\n",
       " -0.26663130076076597,\n",
       " 1.0807375001874802,\n",
       " 0.10500456429925971,\n",
       " -0.38474920174122385,\n",
       " -0.7362461729454729,\n",
       " -0.7472818039071764,\n",
       " -0.7687419567177538,\n",
       " 2.818814057570901,\n",
       " 0.6371491102012748,\n",
       " -0.32306276327431577,\n",
       " 0.8470235806668417,\n",
       " -0.6096926079607808,\n",
       " 0.5352512539350249,\n",
       " 1.1247246040399432,\n",
       " -1.4480088309125663,\n",
       " -0.2016765455719559,\n",
       " -1.456231948894035,\n",
       " 0.4617835204822065,\n",
       " 1.8464961004940572,\n",
       " 0.5818651446185005,\n",
       " 1.6862917140903815,\n",
       " -0.5482800145553328,\n",
       " 1.0467481366835951,\n",
       " -0.015558325719049533,\n",
       " -1.0557618567026565,\n",
       " -0.34288556325948555,\n",
       " 0.9414116379180713,\n",
       " -1.261783762348783,\n",
       " 0.8803510630338983,\n",
       " 0.09297303038029651,\n",
       " -0.0621086535848745,\n",
       " 0.42027028625702667,\n",
       " -1.6695516111245614,\n",
       " -0.48049500288366753,\n",
       " 0.2625655759647278,\n",
       " -0.08040494146468131,\n",
       " -0.40877415858498284,\n",
       " -0.7333313881398427,\n",
       " -1.58051604507999,\n",
       " -0.5306346872453195,\n",
       " -0.39162073423301214,\n",
       " 1.0992150663771407,\n",
       " 1.2679510962569045,\n",
       " -0.18848722220491856,\n",
       " 0.9935323005500205,\n",
       " -0.06000407531133313,\n",
       " -0.49255116371692764,\n",
       " 0.12359148256027329,\n",
       " -0.5676146359254205,\n",
       " -1.2119228377366038,\n",
       " 0.315657971036631,\n",
       " 0.7929041592212408,\n",
       " -0.5811244772810531,\n",
       " 0.7714296949711243,\n",
       " -0.09086108549554907,\n",
       " -0.2914552635114805,\n",
       " 0.0638748273879669,\n",
       " 1.3984792257359653,\n",
       " 0.7824292236478788,\n",
       " -0.22239061868923576,\n",
       " 0.023728238214982725,\n",
       " 0.1949775955272587,\n",
       " 1.0495270750333119,\n",
       " 0.1246271625110611,\n",
       " 0.6553402361268151,\n",
       " 0.5991350229803594,\n",
       " -0.4256360142258637,\n",
       " -1.4990665998514536,\n",
       " -0.19066890865642813,\n",
       " 0.5015935830827588,\n",
       " 3.120569759540956,\n",
       " -0.5776952261744592,\n",
       " 0.6395184523525901,\n",
       " -1.4669585001518586,\n",
       " -0.0811419854985643,\n",
       " 0.6240847943869545,\n",
       " -0.21996144959822944,\n",
       " 0.45022009526979356,\n",
       " 1.6361145919380184,\n",
       " -0.5793990830275377,\n",
       " 0.22677971788474574,\n",
       " -2.281015476305921,\n",
       " -1.5253283479885538,\n",
       " -0.35720181421833325,\n",
       " -0.03633473724591829,\n",
       " 1.0389791266776602,\n",
       " 0.9277634967161954,\n",
       " 1.776560870052809,\n",
       " 1.0373832251748993,\n",
       " -1.5325799873496952,\n",
       " 0.18725740198756,\n",
       " -0.6554916256796104,\n",
       " -0.13660632155541622,\n",
       " 1.0159039249372877,\n",
       " -0.7373239263410899,\n",
       " -0.9449473186091223,\n",
       " 0.9171731440278796,\n",
       " 0.1852665718696388,\n",
       " 0.972785008713211,\n",
       " -0.24066274323239487,\n",
       " -0.926360680634248,\n",
       " -1.0557252380372948,\n",
       " -1.5959298416079153,\n",
       " 0.48792295378962514,\n",
       " -0.5722839583638516,\n",
       " -0.7517486996996458,\n",
       " 1.0306247257768004,\n",
       " -1.387438733235849,\n",
       " 1.7609094786622306,\n",
       " -0.46496059391599287,\n",
       " -1.3877525394406933,\n",
       " -1.0433947851841414,\n",
       " -0.2973504972399888,\n",
       " -0.6757796787140337,\n",
       " -0.9593071999437441,\n",
       " -1.4058514757936462,\n",
       " -0.33328666866649187,\n",
       " 0.10570721388638335,\n",
       " -1.9693713105078943,\n",
       " 0.3138932917387485,\n",
       " 0.4393729329076253,\n",
       " 0.5687553814612981,\n",
       " -0.08408688341174028,\n",
       " 0.3502216331846674,\n",
       " 0.40163096039214935,\n",
       " -0.23865418725752455,\n",
       " -1.268110059711093,\n",
       " 0.5338641372703263,\n",
       " -0.22567516729357776,\n",
       " 1.73981778679205,\n",
       " -0.17193678033596874,\n",
       " -0.9502538303966376,\n",
       " 1.2408015380279478,\n",
       " 0.4462185789885689,\n",
       " -0.3519102164557439,\n",
       " 1.426643940854846,\n",
       " 1.8228376589678803,\n",
       " 1.0617837136550674,\n",
       " 0.2374750157374346,\n",
       " -0.7187260140242437,\n",
       " 1.7311885968708736,\n",
       " 0.5545541170203964,\n",
       " -0.17511210082936185,\n",
       " 0.15034667714044,\n",
       " 1.398215234549944,\n",
       " -1.3519008743502468,\n",
       " -0.7122637513272504,\n",
       " 1.4242473790575287,\n",
       " 0.7550488842162515,\n",
       " -1.4081102830329728,\n",
       " 0.1736324222149183,\n",
       " -0.3450835443016141,\n",
       " 0.2803822661164854,\n",
       " 0.4464556807908899,\n",
       " -0.6043743796285739,\n",
       " 0.3354889555389475,\n",
       " 0.6983590013934426,\n",
       " 0.5065403224044761,\n",
       " 0.5815174770469087,\n",
       " 0.07116666160570351,\n",
       " 0.750559662103841,\n",
       " 1.5233409808221312,\n",
       " -1.3433027885571203,\n",
       " 1.4014332282324609,\n",
       " -0.03291350907824903,\n",
       " 1.1659143091303747,\n",
       " -1.0607265798221548,\n",
       " 1.0670222243207068,\n",
       " 2.5539992816727106,\n",
       " -0.39612743376422216,\n",
       " -1.3764522638290257,\n",
       " -1.2953867492128732,\n",
       " -0.46253051403648576,\n",
       " -0.272609510980767,\n",
       " 1.1861750418374548,\n",
       " -1.2717127995455155,\n",
       " 0.6844026668659504,\n",
       " -0.1440345323409911,\n",
       " 0.23750384917232448,\n",
       " 1.5197095416087891,\n",
       " 1.1106095719868145,\n",
       " 0.5104711496971306,\n",
       " -0.7273808050764137,\n",
       " -0.9010801259512277,\n",
       " 0.3749857723376949,\n",
       " 0.36996473255337403,\n",
       " 0.00705103555240296,\n",
       " -1.5186684728535673,\n",
       " 0.8971755871281106,\n",
       " -0.9209539551028298,\n",
       " -0.9444033785808372,\n",
       " -0.2397490026254196,\n",
       " -0.46054286295019303,\n",
       " -0.4406949368253103,\n",
       " -1.729950545924024]"
      ]
     },
     "execution_count": 408,
     "metadata": {},
     "output_type": "execute_result"
    }
   ],
   "source": [
    "samp1"
   ]
  },
  {
   "cell_type": "code",
   "execution_count": 410,
   "id": "1e6d57df",
   "metadata": {},
   "outputs": [],
   "source": [
    "# change random number generation seed\n",
    "# using seed function"
   ]
  },
  {
   "cell_type": "code",
   "execution_count": 418,
   "id": "244c5b9f",
   "metadata": {},
   "outputs": [],
   "source": [
    "samp2 = np.random.seed(12)\n",
    "samp2"
   ]
  },
  {
   "cell_type": "code",
   "execution_count": 419,
   "id": "164da078",
   "metadata": {},
   "outputs": [
    {
     "data": {
      "text/plain": [
       "array([ 0.47298583, -0.68142588,  0.2424395 , -1.70073563,  0.75314283,\n",
       "       -1.53472134,  0.00512708, -0.12022767, -0.80698188,  2.87181939])"
      ]
     },
     "execution_count": 419,
     "metadata": {},
     "output_type": "execute_result"
    }
   ],
   "source": [
    "np.random.randn(10)"
   ]
  },
  {
   "cell_type": "code",
   "execution_count": 420,
   "id": "8b0b258e",
   "metadata": {},
   "outputs": [
    {
     "data": {
      "text/plain": [
       "('MT19937',\n",
       " array([2752380201,  991603648, 3240864687, 1865652587, 2236641957,\n",
       "        3283679253,  235836025, 1291714636,  223794552, 2808761495,\n",
       "        3955623706, 4037652907, 4255839183, 2283468978,  784450198,\n",
       "        3143581686, 2995161677,  924122018, 2707313524, 1452970692,\n",
       "        3178697032, 2920404492, 2859826189, 3404544927,  957870877,\n",
       "        3155561666,  822522396, 1864367803, 2403722151, 1906148338,\n",
       "         134899124, 2074272773, 2861260966,  862365746, 3189537696,\n",
       "        3445258596, 3763625904,  610993021, 4059994792, 2521760415,\n",
       "        1597634565, 2489249105, 3972269359,    9932763, 3202392314,\n",
       "        4161239583, 2542858865,  577389939, 3804457880, 1186162430,\n",
       "         396549305, 1515794530, 2809291581, 4174562459, 3761112100,\n",
       "        2895099134, 1816905577, 3643517631,  732658533,  279210070,\n",
       "        3137360761,  817646188,  458291501, 3313094280, 4040522414,\n",
       "        1712875716, 4108251235,  387424722, 1197887942, 1084976957,\n",
       "         847499631,  301269786, 3784002108, 1061983727,  911417923,\n",
       "        1250472401,  655718549, 1783707579,   11075415, 1672661234,\n",
       "         468630962, 2739656082, 1522690238,  198550009, 1217774073,\n",
       "        3969431532, 2627436110, 1986056665,   18056432, 3737470079,\n",
       "        2912624441, 3644090313,  303755981, 2375780980, 2021873258,\n",
       "         875501799, 3088630707, 1431975253, 4261245683, 1779532262,\n",
       "        1752694750, 3399377820, 2218578574, 1626172117, 3136239473,\n",
       "         561007062, 1749416676,  215086762, 2760324670, 2753628682,\n",
       "        1336029712,  526110312, 4075787441, 3307044182, 3077040986,\n",
       "          16952359, 4130319986, 3589862969, 2311666261,  880710523,\n",
       "        2381366400,  965282993, 1779446554, 1571868889, 2529681322,\n",
       "         844062961, 3297767698, 4147242821,  875166147, 4091406680,\n",
       "        4124769519, 2122072194, 3522410021,  503353823,   78522402,\n",
       "         962237351,  408999453,  422779733,  534247319, 2736350569,\n",
       "        1352397478,  974993440, 2962999704, 3678006383, 3721915615,\n",
       "         107589834, 1412805736,  235465994, 2201778022,  475408121,\n",
       "        4233078444, 1970707802, 4158538559, 1024742342, 1926354411,\n",
       "        1400026336, 1226105684, 2703612467,  434456971,  784831262,\n",
       "        1782612212, 2439932001,  290360495, 1113825956, 3955106895,\n",
       "         838898771, 3150315506,  434442765, 2149202638, 1370035218,\n",
       "         400587497,  630267991, 1439826493, 2887545609, 3113193296,\n",
       "        3559343310, 1397577925, 1082101241, 3173597790, 4153414403,\n",
       "        3253164486, 4271286521,  239673860, 1210266348, 1552975862,\n",
       "          10068649, 3062637299, 1313974247, 1985704740, 2613795453,\n",
       "         563940213, 4123603037, 1825490950, 1511711638, 1542935315,\n",
       "        4076207889, 2799554381,   15916285, 1534304012,  584431985,\n",
       "         702461329, 4062583832, 1336875314,  388533392, 4278603307,\n",
       "        1764922373, 3371818473, 3365573618,  656359050,  198147832,\n",
       "        2552003165,   82119852, 2831270944, 2653812829,  647578117,\n",
       "        1208561061, 2816905825,  455250737,  310388796,  375469819,\n",
       "        2657235809, 3456168043, 2174404156,  588113506, 1988079656,\n",
       "        3119714447,  269105837, 3893620959, 2770088863, 1977951445,\n",
       "        4143071288,  496146200, 2407958563,  371702202, 3540529143,\n",
       "        2480885307, 3740382093,  991914517, 3332188561, 2071108892,\n",
       "        3498159614, 1237851724, 3913885029, 2255531316,   25486152,\n",
       "        1425456975, 2628522447, 2053215392, 2231100654, 1386717036,\n",
       "          63490712, 3373638415, 1547002087, 1198207130, 1285817515,\n",
       "        2084230559, 4097829774, 3871685238, 3090220631,  567286700,\n",
       "          77432076,  990906324, 3746004681, 3223241589, 2128577014,\n",
       "        3911089908, 1782410358,  249553724,  868180621, 2567957374,\n",
       "        1453724945, 3188624576,  206556175, 3053487429,  341042611,\n",
       "         952475942, 1752010876, 3386264970,  466013405, 4108322495,\n",
       "        1316547218, 3526178015, 3655226652, 3810697948, 3935508652,\n",
       "        3641205729, 2682505215,  490977142, 4016548534, 2332052942,\n",
       "        2631194845, 3393533877, 1877658408, 3845720268, 3879938612,\n",
       "        1355124439, 2262126086, 2861644171, 1908448560,  729732572,\n",
       "        1991050064, 1351419342, 1965450554, 3460904918, 3905868352,\n",
       "        3706480236,  856428887,  380016129, 1559894681, 1034486810,\n",
       "         584108027, 2269965915, 3521388876, 1790809413, 2754238880,\n",
       "        3018178785, 1643587396, 3661969857, 3447700195, 1500362586,\n",
       "         570326680,  981204017, 4070361115,  122166607, 2190680966,\n",
       "        1617917501,  399040064, 3892254933, 3605838951, 3006292770,\n",
       "        1143177441,  763394162, 1769190748, 1127974909, 1465188728,\n",
       "        3931998169,  199521566, 1515302096, 2785090782, 2599284483,\n",
       "        3356731841, 3655323267, 1490151345, 3938825896, 1500397128,\n",
       "        2083095520, 3891583296,  348696843,   28221236, 3274614303,\n",
       "        3291281847,  427052610, 1901634880, 2624839219,  883945419,\n",
       "        3412854248,  464790492, 3619030389,  766472719, 3888697712,\n",
       "         185833263,  728106311, 1734255227, 1996564474, 1851084914,\n",
       "        2541161860, 3859978274, 1775165673, 2040300561, 2443686038,\n",
       "        4231260573,  588477771, 3519800569, 3411764798, 1456701468,\n",
       "        3903336105,  135650787, 3383188819, 1421161809, 1471743783,\n",
       "        3901713349, 3315852553, 3906615791, 1407733892, 1082761689,\n",
       "         768852001, 1210452981, 3910135040, 2827575821, 2213843553,\n",
       "        1665345935,  181187480, 4015791325, 1700626986,  652966454,\n",
       "         319159726, 1262300870,  203608194, 4252788241, 2819085712,\n",
       "         113709332, 3963489768, 1277886320, 2515683910,  731518167,\n",
       "        1325248137, 1425028143, 4057900909, 3729615119, 3724863529,\n",
       "        1240857110, 2125566598,  922978328,  302171258, 2915874586,\n",
       "         586455739,  101034281, 4222811999, 3268749168, 4017915804,\n",
       "        1901300520, 2260642860, 2153467226,  162676623, 2905390439,\n",
       "        2027086082,  692340351,  983870157, 1582575845, 1551160691,\n",
       "        3320179288,  993262796, 2113866150, 3641290945,  402071595,\n",
       "        3988404250,  193627968, 4132633989,  477952362, 3984044927,\n",
       "         961722581, 1036525621, 3539398839, 2115396018,   34158204,\n",
       "        1279380455, 2332401506,    7387022, 4170775784,  584427169,\n",
       "        2358454870,   48313116, 3334797041, 4226164418, 1550389843,\n",
       "        3514461857, 1796970968, 3220325017, 2286556333,  421523606,\n",
       "        1804706666, 1961178753, 1898522315, 2156681859, 2463148964,\n",
       "        4210603742,  336380030,  755271050, 3556577778, 1077131864,\n",
       "          10668798, 4002154261, 2198764555, 1817209457, 3917153101,\n",
       "         225946219, 1102566991, 1471596481,  408571767, 3195533592,\n",
       "        3192415152,  358514846, 4013679514,  903444058, 3349567370,\n",
       "        2000435710,  904240792,  894429044, 1055838507, 2563620834,\n",
       "        2120043078, 1459529444, 3080201692, 1709126601, 4167640846,\n",
       "        1989479577, 1564407776, 2669436709, 2874870691,  732473862,\n",
       "        2519227775, 3257856664, 1119979377, 2548157247,  286001080,\n",
       "        3224595657, 3750039160, 3163319171,  183888553,  534360122,\n",
       "        4072887091, 3233104871, 2349727748, 4258638346, 1430457742,\n",
       "        3863467628, 1486326648,   66504224, 2303001392,   86087216,\n",
       "        4253044963, 3386562724, 1304036959, 3992223253, 3150696883,\n",
       "         359906740,  197978130, 4155430287, 1184106101, 1843194346,\n",
       "        1587894288, 1336232198, 1765852116, 2062948638, 3617975213,\n",
       "        3761370459, 2909255864, 3470883215, 2034604699, 2342277032,\n",
       "        4003651736,  516061428,  514113496,  625312119, 1201428273,\n",
       "        1081581426,  170083253,   71169221, 1673749536, 4046508243,\n",
       "        3689477360, 2104582482, 3789661321, 4166597894, 1066793991,\n",
       "         855201340, 1301297010, 1610101859, 2891776716, 2217932841,\n",
       "        4221843464,  850461032, 3005899352,  591585505, 1034046931,\n",
       "        1153053078,  867607410, 3691931139,  378546775, 3719792200,\n",
       "        3514181990, 2541098988,  539041555, 3724291774, 1358341478,\n",
       "         835320341, 2766302572, 1274141786,  671689420, 3615390277,\n",
       "        2135964517, 1849255936, 1962443277, 1618574775, 2512435932,\n",
       "        1320023138, 3140373252, 1875188064,  597505859,  341624923,\n",
       "        1889788800, 1541906232, 4076649718, 1160700200, 3882864388,\n",
       "        3840631384, 3793686246,  970143792,  417680531, 1355179056,\n",
       "        2956356556, 4056283290,  610581907, 4291534824, 1176678238,\n",
       "        3984720181, 4068853262, 3756586747, 4229896272,  526211243,\n",
       "        2214591656, 2179244632, 1063327706, 1037830944, 3303341039,\n",
       "         638807011, 2276302173,  632717513, 3635923583, 1740475650,\n",
       "         972281444,  887913419, 4038781138, 2150850701], dtype=uint32),\n",
       " 36,\n",
       " 0,\n",
       " 0.0)"
      ]
     },
     "execution_count": 420,
     "metadata": {},
     "output_type": "execute_result"
    }
   ],
   "source": [
    "np.random.get_state()"
   ]
  },
  {
   "cell_type": "code",
   "execution_count": 421,
   "id": "932bfe52",
   "metadata": {},
   "outputs": [
    {
     "data": {
      "text/plain": [
       "('MT19937',\n",
       " array([2752380201,  991603648, 3240864687, 1865652587, 2236641957,\n",
       "        3283679253,  235836025, 1291714636,  223794552, 2808761495,\n",
       "        3955623706, 4037652907, 4255839183, 2283468978,  784450198,\n",
       "        3143581686, 2995161677,  924122018, 2707313524, 1452970692,\n",
       "        3178697032, 2920404492, 2859826189, 3404544927,  957870877,\n",
       "        3155561666,  822522396, 1864367803, 2403722151, 1906148338,\n",
       "         134899124, 2074272773, 2861260966,  862365746, 3189537696,\n",
       "        3445258596, 3763625904,  610993021, 4059994792, 2521760415,\n",
       "        1597634565, 2489249105, 3972269359,    9932763, 3202392314,\n",
       "        4161239583, 2542858865,  577389939, 3804457880, 1186162430,\n",
       "         396549305, 1515794530, 2809291581, 4174562459, 3761112100,\n",
       "        2895099134, 1816905577, 3643517631,  732658533,  279210070,\n",
       "        3137360761,  817646188,  458291501, 3313094280, 4040522414,\n",
       "        1712875716, 4108251235,  387424722, 1197887942, 1084976957,\n",
       "         847499631,  301269786, 3784002108, 1061983727,  911417923,\n",
       "        1250472401,  655718549, 1783707579,   11075415, 1672661234,\n",
       "         468630962, 2739656082, 1522690238,  198550009, 1217774073,\n",
       "        3969431532, 2627436110, 1986056665,   18056432, 3737470079,\n",
       "        2912624441, 3644090313,  303755981, 2375780980, 2021873258,\n",
       "         875501799, 3088630707, 1431975253, 4261245683, 1779532262,\n",
       "        1752694750, 3399377820, 2218578574, 1626172117, 3136239473,\n",
       "         561007062, 1749416676,  215086762, 2760324670, 2753628682,\n",
       "        1336029712,  526110312, 4075787441, 3307044182, 3077040986,\n",
       "          16952359, 4130319986, 3589862969, 2311666261,  880710523,\n",
       "        2381366400,  965282993, 1779446554, 1571868889, 2529681322,\n",
       "         844062961, 3297767698, 4147242821,  875166147, 4091406680,\n",
       "        4124769519, 2122072194, 3522410021,  503353823,   78522402,\n",
       "         962237351,  408999453,  422779733,  534247319, 2736350569,\n",
       "        1352397478,  974993440, 2962999704, 3678006383, 3721915615,\n",
       "         107589834, 1412805736,  235465994, 2201778022,  475408121,\n",
       "        4233078444, 1970707802, 4158538559, 1024742342, 1926354411,\n",
       "        1400026336, 1226105684, 2703612467,  434456971,  784831262,\n",
       "        1782612212, 2439932001,  290360495, 1113825956, 3955106895,\n",
       "         838898771, 3150315506,  434442765, 2149202638, 1370035218,\n",
       "         400587497,  630267991, 1439826493, 2887545609, 3113193296,\n",
       "        3559343310, 1397577925, 1082101241, 3173597790, 4153414403,\n",
       "        3253164486, 4271286521,  239673860, 1210266348, 1552975862,\n",
       "          10068649, 3062637299, 1313974247, 1985704740, 2613795453,\n",
       "         563940213, 4123603037, 1825490950, 1511711638, 1542935315,\n",
       "        4076207889, 2799554381,   15916285, 1534304012,  584431985,\n",
       "         702461329, 4062583832, 1336875314,  388533392, 4278603307,\n",
       "        1764922373, 3371818473, 3365573618,  656359050,  198147832,\n",
       "        2552003165,   82119852, 2831270944, 2653812829,  647578117,\n",
       "        1208561061, 2816905825,  455250737,  310388796,  375469819,\n",
       "        2657235809, 3456168043, 2174404156,  588113506, 1988079656,\n",
       "        3119714447,  269105837, 3893620959, 2770088863, 1977951445,\n",
       "        4143071288,  496146200, 2407958563,  371702202, 3540529143,\n",
       "        2480885307, 3740382093,  991914517, 3332188561, 2071108892,\n",
       "        3498159614, 1237851724, 3913885029, 2255531316,   25486152,\n",
       "        1425456975, 2628522447, 2053215392, 2231100654, 1386717036,\n",
       "          63490712, 3373638415, 1547002087, 1198207130, 1285817515,\n",
       "        2084230559, 4097829774, 3871685238, 3090220631,  567286700,\n",
       "          77432076,  990906324, 3746004681, 3223241589, 2128577014,\n",
       "        3911089908, 1782410358,  249553724,  868180621, 2567957374,\n",
       "        1453724945, 3188624576,  206556175, 3053487429,  341042611,\n",
       "         952475942, 1752010876, 3386264970,  466013405, 4108322495,\n",
       "        1316547218, 3526178015, 3655226652, 3810697948, 3935508652,\n",
       "        3641205729, 2682505215,  490977142, 4016548534, 2332052942,\n",
       "        2631194845, 3393533877, 1877658408, 3845720268, 3879938612,\n",
       "        1355124439, 2262126086, 2861644171, 1908448560,  729732572,\n",
       "        1991050064, 1351419342, 1965450554, 3460904918, 3905868352,\n",
       "        3706480236,  856428887,  380016129, 1559894681, 1034486810,\n",
       "         584108027, 2269965915, 3521388876, 1790809413, 2754238880,\n",
       "        3018178785, 1643587396, 3661969857, 3447700195, 1500362586,\n",
       "         570326680,  981204017, 4070361115,  122166607, 2190680966,\n",
       "        1617917501,  399040064, 3892254933, 3605838951, 3006292770,\n",
       "        1143177441,  763394162, 1769190748, 1127974909, 1465188728,\n",
       "        3931998169,  199521566, 1515302096, 2785090782, 2599284483,\n",
       "        3356731841, 3655323267, 1490151345, 3938825896, 1500397128,\n",
       "        2083095520, 3891583296,  348696843,   28221236, 3274614303,\n",
       "        3291281847,  427052610, 1901634880, 2624839219,  883945419,\n",
       "        3412854248,  464790492, 3619030389,  766472719, 3888697712,\n",
       "         185833263,  728106311, 1734255227, 1996564474, 1851084914,\n",
       "        2541161860, 3859978274, 1775165673, 2040300561, 2443686038,\n",
       "        4231260573,  588477771, 3519800569, 3411764798, 1456701468,\n",
       "        3903336105,  135650787, 3383188819, 1421161809, 1471743783,\n",
       "        3901713349, 3315852553, 3906615791, 1407733892, 1082761689,\n",
       "         768852001, 1210452981, 3910135040, 2827575821, 2213843553,\n",
       "        1665345935,  181187480, 4015791325, 1700626986,  652966454,\n",
       "         319159726, 1262300870,  203608194, 4252788241, 2819085712,\n",
       "         113709332, 3963489768, 1277886320, 2515683910,  731518167,\n",
       "        1325248137, 1425028143, 4057900909, 3729615119, 3724863529,\n",
       "        1240857110, 2125566598,  922978328,  302171258, 2915874586,\n",
       "         586455739,  101034281, 4222811999, 3268749168, 4017915804,\n",
       "        1901300520, 2260642860, 2153467226,  162676623, 2905390439,\n",
       "        2027086082,  692340351,  983870157, 1582575845, 1551160691,\n",
       "        3320179288,  993262796, 2113866150, 3641290945,  402071595,\n",
       "        3988404250,  193627968, 4132633989,  477952362, 3984044927,\n",
       "         961722581, 1036525621, 3539398839, 2115396018,   34158204,\n",
       "        1279380455, 2332401506,    7387022, 4170775784,  584427169,\n",
       "        2358454870,   48313116, 3334797041, 4226164418, 1550389843,\n",
       "        3514461857, 1796970968, 3220325017, 2286556333,  421523606,\n",
       "        1804706666, 1961178753, 1898522315, 2156681859, 2463148964,\n",
       "        4210603742,  336380030,  755271050, 3556577778, 1077131864,\n",
       "          10668798, 4002154261, 2198764555, 1817209457, 3917153101,\n",
       "         225946219, 1102566991, 1471596481,  408571767, 3195533592,\n",
       "        3192415152,  358514846, 4013679514,  903444058, 3349567370,\n",
       "        2000435710,  904240792,  894429044, 1055838507, 2563620834,\n",
       "        2120043078, 1459529444, 3080201692, 1709126601, 4167640846,\n",
       "        1989479577, 1564407776, 2669436709, 2874870691,  732473862,\n",
       "        2519227775, 3257856664, 1119979377, 2548157247,  286001080,\n",
       "        3224595657, 3750039160, 3163319171,  183888553,  534360122,\n",
       "        4072887091, 3233104871, 2349727748, 4258638346, 1430457742,\n",
       "        3863467628, 1486326648,   66504224, 2303001392,   86087216,\n",
       "        4253044963, 3386562724, 1304036959, 3992223253, 3150696883,\n",
       "         359906740,  197978130, 4155430287, 1184106101, 1843194346,\n",
       "        1587894288, 1336232198, 1765852116, 2062948638, 3617975213,\n",
       "        3761370459, 2909255864, 3470883215, 2034604699, 2342277032,\n",
       "        4003651736,  516061428,  514113496,  625312119, 1201428273,\n",
       "        1081581426,  170083253,   71169221, 1673749536, 4046508243,\n",
       "        3689477360, 2104582482, 3789661321, 4166597894, 1066793991,\n",
       "         855201340, 1301297010, 1610101859, 2891776716, 2217932841,\n",
       "        4221843464,  850461032, 3005899352,  591585505, 1034046931,\n",
       "        1153053078,  867607410, 3691931139,  378546775, 3719792200,\n",
       "        3514181990, 2541098988,  539041555, 3724291774, 1358341478,\n",
       "         835320341, 2766302572, 1274141786,  671689420, 3615390277,\n",
       "        2135964517, 1849255936, 1962443277, 1618574775, 2512435932,\n",
       "        1320023138, 3140373252, 1875188064,  597505859,  341624923,\n",
       "        1889788800, 1541906232, 4076649718, 1160700200, 3882864388,\n",
       "        3840631384, 3793686246,  970143792,  417680531, 1355179056,\n",
       "        2956356556, 4056283290,  610581907, 4291534824, 1176678238,\n",
       "        3984720181, 4068853262, 3756586747, 4229896272,  526211243,\n",
       "        2214591656, 2179244632, 1063327706, 1037830944, 3303341039,\n",
       "         638807011, 2276302173,  632717513, 3635923583, 1740475650,\n",
       "         972281444,  887913419, 4038781138, 2150850701], dtype=uint32),\n",
       " 36,\n",
       " 0,\n",
       " 0.0)"
      ]
     },
     "execution_count": 421,
     "metadata": {},
     "output_type": "execute_result"
    }
   ],
   "source": [
    "np.random.get_state()"
   ]
  },
  {
   "cell_type": "code",
   "execution_count": 422,
   "id": "33ebcb4d",
   "metadata": {},
   "outputs": [],
   "source": [
    "# numpy.random function uses the 'global state'\n",
    "\n",
    "# if wish to manage/alter the state manually, a random number generator isolated from the global state can be created\n",
    "# by using RandomState function\n",
    "# to create a random number generator (rng) and use it for further calls"
   ]
  },
  {
   "cell_type": "code",
   "execution_count": 423,
   "id": "9f6d392c",
   "metadata": {},
   "outputs": [],
   "source": [
    "rng = np.random.RandomState(12345)"
   ]
  },
  {
   "cell_type": "code",
   "execution_count": 424,
   "id": "a5c5833d",
   "metadata": {},
   "outputs": [
    {
     "data": {
      "text/plain": [
       "array([-0.20470766,  0.47894334, -0.51943872, -0.5557303 ,  1.96578057,\n",
       "        1.39340583,  0.09290788,  0.28174615,  0.76902257,  1.24643474])"
      ]
     },
     "execution_count": 424,
     "metadata": {},
     "output_type": "execute_result"
    }
   ],
   "source": [
    "rng.randn(10)"
   ]
  },
  {
   "cell_type": "code",
   "execution_count": 425,
   "id": "cd6534be",
   "metadata": {},
   "outputs": [
    {
     "data": {
      "text/plain": [
       "('MT19937',\n",
       " array([1421064939, 1816320966, 3158733292, 2835703408, 2148341571,\n",
       "        1571424867, 1008047323, 4182378715, 2834253016, 3022959481,\n",
       "        1215346198, 2867824964, 3460157558,  237044801, 1700285951,\n",
       "        1637241690,  491904828, 2135991073, 2260794300,  147276533,\n",
       "         669182807, 2959376638, 3970424116, 3263559299, 1229117086,\n",
       "        2894869291, 3899440393, 2025675388, 2760592978, 1808606601,\n",
       "        4029999156, 2449298927,  646005228,  105067616, 2958066425,\n",
       "          89706929, 3819666764,  565109920, 2547381519, 1858669889,\n",
       "        2641003417, 1653283934, 3042040209, 2170530056,  750456079,\n",
       "        1541289590,  121447182, 1552440630, 2919201091, 3440327510,\n",
       "        3726597651, 2826016502, 3004151064,   66178359, 3856604377,\n",
       "        2546436826, 4079442005, 1751829597, 2853454219, 2896191746,\n",
       "        1462841239, 3415896396, 1280239624, 1613353612, 1572848789,\n",
       "         420346229,  431119827, 1549981252, 3828596596, 4016100855,\n",
       "        1260369986, 2185661387,  906856130, 2638887619,  329987294,\n",
       "         271912793, 2727656724,  220137690, 1788926742,  724175710,\n",
       "        1980991063, 1785048888, 1233624537,  376442967,  535251329,\n",
       "         610386602, 2699262066, 1227241057,  623764229, 1991019541,\n",
       "        2008926754, 2510655337,  328333979,  621697005, 1536446999,\n",
       "        4217424823,   23740149, 2196782666, 3251541262, 1208759418,\n",
       "        2245363113,   96578317, 2959814724, 3873740774, 1005695010,\n",
       "         769531078,  601278207, 2097121896, 3992608264, 3680600550,\n",
       "         419113090,  262159739, 1756459412,   14876927,  930680015,\n",
       "        2586630460,  582074825, 2901564300, 3114705294, 2211344873,\n",
       "         459312225, 3196639592, 4053677324,  599506216,  556156890,\n",
       "         448712668, 3320607413,  192669606, 2923602590, 3937190159,\n",
       "          94428511, 2539113028, 1314695211, 2414497728, 2850833908,\n",
       "        1240968211,  719650756,  352997926, 2340974245, 3239391537,\n",
       "         579183946,  423012192, 2888719891, 2135744069, 2222276686,\n",
       "        3906565974, 3484029273, 2331695912, 1055299513, 2051254346,\n",
       "        2593943357,  172548055, 3890496685,  929828586, 2968028607,\n",
       "        1481569499, 2860030124, 3558856907,  942209967, 2080205391,\n",
       "         482613104, 2924589773, 2023804015,  517563516, 3772204179,\n",
       "          64614855,  262910262,  355388886, 1981735775, 2640419896,\n",
       "        3524474664, 1892319392, 1342610512, 4017687574, 2001074495,\n",
       "        1620782230,  872168237, 1698368152, 2018837094, 3241973584,\n",
       "         604843579, 3114861849, 4176544216,  752538794,  209206536,\n",
       "        3347851481, 4288580162, 1149959575, 3502886606,  553448506,\n",
       "        3339948606,   87940876, 2530311478, 1839513812,  478546635,\n",
       "         465889441, 2608787060, 4071105295, 2925045843,  748931328,\n",
       "        3861316105, 2033266723, 3944416103, 2762025975, 3116125008,\n",
       "         402086189, 1178215927, 1636379283, 2844342124, 2266057472,\n",
       "         180901984, 2140070598, 1769715977, 2055337356, 1040868802,\n",
       "         440495122,  310332481, 4158294589, 2034498429, 1363934534,\n",
       "        4245696103, 4206967669, 4087873794, 1415987501,  423203270,\n",
       "         900109862, 4081720287, 1077666253, 3990300521,  340008038,\n",
       "        1460310072, 3232893153, 2959608959, 1526757412, 3107601285,\n",
       "        3686031145, 3394734496, 2839909032,  750602791, 1643277055,\n",
       "        3394836309, 2985394429, 1370939655, 2326890302,  366607576,\n",
       "         833202185, 2398585191, 2666671111, 1206393251, 3796840435,\n",
       "        2026376796, 2090843872, 3461268839, 2142605563, 2092140175,\n",
       "        3091953933, 4292164269,  984065086, 3613044023,  349799510,\n",
       "        1723133596,   28980359, 2907678310, 3622810592, 1071234995,\n",
       "        3984876944, 1210509234, 2020002804, 3228093505, 2326934998,\n",
       "        2400015669, 1776725307, 3368980389, 2208256294,  905579388,\n",
       "         547660786, 2531529054, 2442803467,   67937066, 3314956622,\n",
       "         150856730, 3754903703, 3933980081, 1301526013, 3438605059,\n",
       "        2645419775, 3182136068, 1596695929, 1237774309, 3440862982,\n",
       "        1405491509, 3775091211, 2153228445, 3775686815, 3155276726,\n",
       "        3004176772, 1939810412, 3890064774,  138783784, 2402074089,\n",
       "        1606410019, 3672445118,  479896828, 3006904485, 3976845069,\n",
       "        1359334871,  162530095, 3716129897, 3607249848, 1534121167,\n",
       "        2520661185, 2356053573,  566009692, 2176565465, 1084429734,\n",
       "         355499556,  537161444, 1159088278, 2854823231, 3868574433,\n",
       "        2459160971,   29056302, 1479407734, 1528523816,  266369094,\n",
       "        1535063109,  126830181, 4162163155, 1423902675, 3183751807,\n",
       "        2117489621, 3200463497,  586931675, 1708649036, 3652211953,\n",
       "        3823216206, 1488542591, 4009568771, 4101159552, 1361540170,\n",
       "         143319820,  185726533, 2439294700, 1289543400, 3932911475,\n",
       "        2614794694, 3807017668, 4077028610,  656706157, 1331810736,\n",
       "        4258902190, 2211114362, 3609959781,  665646444, 2154478454,\n",
       "         917568526, 4112109727,  644162524, 2529001553, 1274798038,\n",
       "         147932058, 1460616272, 3117538075,  430118989, 1946924087,\n",
       "        1490208707, 4180663638, 3607267901, 2928472511, 2676285610,\n",
       "         808821313, 3055374848, 3688483685, 1976103178, 1578784427,\n",
       "        3270240121, 3768941410,   96844544, 1125896744, 4057905652,\n",
       "        3190631406, 2094250771, 1073548983, 1970589440, 3052588966,\n",
       "        3475670143, 2793534935, 4259071421,  427545038,  646518683,\n",
       "        2268367012,  590724504,  689482716, 3202532599, 3228508169,\n",
       "        2815929437, 2867093650, 2040981884, 2338867014,  428907952,\n",
       "        1782457057, 3731217059, 4164315505, 2880763750, 1779897721,\n",
       "        1556873206, 2556166115,  431240272, 2243064239,  582382005,\n",
       "        1470448565, 3093460588, 1775631507, 3248350938,   35685192,\n",
       "        2951942824,  369474555, 1917757257, 3922805421, 3875968987,\n",
       "          83558517, 2999538718, 4141717076, 3070115602, 3038748965,\n",
       "        2842459444, 2457217191, 2535384218, 1232361643, 1007019822,\n",
       "        3633962986, 1331161881, 2859482100, 1819752128, 1102898092,\n",
       "        1814159025, 2431106647,  231932750, 4049521176, 2679944280,\n",
       "        2950239252, 3911096624,  661488707, 4031365566, 1962280092,\n",
       "        2507157262, 2387149753,  248766255,  414035108, 2675667406,\n",
       "        1711682365, 2444915965,  159988399, 1369801634, 2924746016,\n",
       "        2910131050, 3702340375, 3320880090, 3977527624,  751434469,\n",
       "        1263145974, 3002586948,  395167569, 1659115266, 1347457443,\n",
       "         125644202,  886628647, 3688813175,  637847926, 3209097470,\n",
       "        1826571183,  940727658, 1096938551, 1608110274, 2158569669,\n",
       "         321004926,  320348310, 1505698061,   18153170,  535957881,\n",
       "        1674862131,   17605041, 2708149783, 4179884697, 3389400634,\n",
       "        3568298349, 3724844883, 2264504398, 2372771149, 1866942514,\n",
       "        3730949791, 1600091679, 3981838101,   57894073, 3561286757,\n",
       "        3146200674, 4257845955,  634128414, 3225447385, 2507164931,\n",
       "        1114163748, 3370022106, 4115726462, 1805510281,  410961648,\n",
       "        3264798653, 3215218227, 2685137860,  386997174, 1018905890,\n",
       "         308329710, 3803591548, 3345138582, 3913146381, 3522959656,\n",
       "        3127582245,  650274817,  466668437,  774611292, 1090429825,\n",
       "        3887029305, 3862140510,  352498902,  242138414, 2949917102,\n",
       "         148316391, 2129248635, 1377701706,  266027633, 3297712979,\n",
       "        2901701705, 2824763526, 4049328361, 1319391556,  544352875,\n",
       "        2612775520, 2728386745, 4157801364, 2864429324, 2528567566,\n",
       "         298615721, 2567086622, 2084780324, 3884551196,  629918807,\n",
       "         509278984,  737214912,  692656046, 2402899525, 3510267744,\n",
       "         772477830, 3712681032, 1619614073, 2513571017, 4144607732,\n",
       "        1283557546, 1620136398, 4061064485, 3927099769, 1152957942,\n",
       "         731097451, 2673312230,  485543510, 1713331682, 3752086717,\n",
       "        1343026844, 2796310320, 1234583516, 3190237622, 2838546325,\n",
       "         316032192, 2745611064, 1351755081,  166998237,  884753791,\n",
       "        2627656974, 2527982302,  616184370, 4052221604,  587521653,\n",
       "        2386673022, 2786157682,  250026596,  133992781, 2169930566,\n",
       "        2690177295, 2132707896, 2166684155, 1355123871, 4041857910,\n",
       "        2598775226, 3586991690, 2978713963, 3704176714, 2363346288,\n",
       "        3521003417, 2995753073, 3184815578, 2684816818, 3500527363,\n",
       "        3788640959, 3956969157, 1745641380, 2215231039,    9622418,\n",
       "          23870470, 2078252670, 1027501146,  176793510, 2736080932,\n",
       "        1121145568,   54235197, 1296629670, 1366612896,   38010754,\n",
       "          66255450, 3523365049, 2605948322, 3693086399,  566090194,\n",
       "         509282964, 3010070209, 2945627791,  431295800], dtype=uint32),\n",
       " 20,\n",
       " 0,\n",
       " 0.0)"
      ]
     },
     "execution_count": 425,
     "metadata": {},
     "output_type": "execute_result"
    }
   ],
   "source": [
    "rng.get_state()"
   ]
  },
  {
   "cell_type": "code",
   "execution_count": 426,
   "id": "eade33aa",
   "metadata": {},
   "outputs": [],
   "source": [
    "# Example: random walks\n",
    "# a simple random walk starting at 0 with steps of 1 and -1 occuring with equal probability"
   ]
  },
  {
   "cell_type": "code",
   "execution_count": 427,
   "id": "30e2265a",
   "metadata": {},
   "outputs": [],
   "source": [
    "# using python built-in capabilities"
   ]
  },
  {
   "cell_type": "code",
   "execution_count": 448,
   "id": "1657eb5c",
   "metadata": {},
   "outputs": [],
   "source": [
    "import random\n",
    "x = 0\n",
    "walk = [x]\n",
    "\n",
    "nsteps = 1000\n",
    "for i in range(nsteps):\n",
    "    step = 1 if random.randint(0,1) else -1\n",
    "    x += step\n",
    "    walk.append(x)"
   ]
  },
  {
   "cell_type": "code",
   "execution_count": 449,
   "id": "719463b1",
   "metadata": {},
   "outputs": [
    {
     "data": {
      "text/plain": [
       "[0,\n",
       " 1,\n",
       " 0,\n",
       " -1,\n",
       " -2,\n",
       " -1,\n",
       " 0,\n",
       " 1,\n",
       " 2,\n",
       " 3,\n",
       " 4,\n",
       " 3,\n",
       " 2,\n",
       " 3,\n",
       " 2,\n",
       " 3,\n",
       " 4,\n",
       " 3,\n",
       " 2,\n",
       " 1,\n",
       " 0,\n",
       " -1,\n",
       " -2,\n",
       " -3,\n",
       " -2,\n",
       " -3,\n",
       " -4,\n",
       " -5,\n",
       " -4,\n",
       " -3,\n",
       " -4,\n",
       " -3,\n",
       " -4,\n",
       " -5,\n",
       " -4,\n",
       " -3,\n",
       " -4,\n",
       " -3,\n",
       " -2,\n",
       " -1,\n",
       " -2,\n",
       " -3,\n",
       " -4,\n",
       " -3,\n",
       " -2,\n",
       " -3,\n",
       " -2,\n",
       " -1,\n",
       " -2,\n",
       " -1,\n",
       " 0,\n",
       " -1,\n",
       " 0,\n",
       " 1,\n",
       " 2,\n",
       " 3,\n",
       " 2,\n",
       " 1,\n",
       " 2,\n",
       " 1,\n",
       " 2,\n",
       " 3,\n",
       " 2,\n",
       " 3,\n",
       " 4,\n",
       " 3,\n",
       " 4,\n",
       " 3,\n",
       " 4,\n",
       " 5,\n",
       " 4,\n",
       " 5,\n",
       " 4,\n",
       " 3,\n",
       " 2,\n",
       " 3,\n",
       " 4,\n",
       " 3,\n",
       " 4,\n",
       " 3,\n",
       " 2,\n",
       " 1,\n",
       " 2,\n",
       " 1,\n",
       " 2,\n",
       " 1,\n",
       " 2,\n",
       " 1,\n",
       " 2,\n",
       " 3,\n",
       " 2,\n",
       " 3,\n",
       " 2,\n",
       " 1,\n",
       " 2,\n",
       " 3,\n",
       " 4,\n",
       " 3,\n",
       " 2,\n",
       " 3,\n",
       " 2,\n",
       " 1,\n",
       " 2,\n",
       " 1,\n",
       " 2,\n",
       " 1,\n",
       " 0,\n",
       " -1,\n",
       " -2,\n",
       " -1,\n",
       " -2,\n",
       " -3,\n",
       " -2,\n",
       " -3,\n",
       " -2,\n",
       " -1,\n",
       " 0,\n",
       " -1,\n",
       " 0,\n",
       " -1,\n",
       " -2,\n",
       " -1,\n",
       " -2,\n",
       " -1,\n",
       " 0,\n",
       " 1,\n",
       " 0,\n",
       " 1,\n",
       " 2,\n",
       " 3,\n",
       " 4,\n",
       " 3,\n",
       " 2,\n",
       " 1,\n",
       " 0,\n",
       " 1,\n",
       " 2,\n",
       " 3,\n",
       " 2,\n",
       " 1,\n",
       " 2,\n",
       " 3,\n",
       " 4,\n",
       " 3,\n",
       " 4,\n",
       " 3,\n",
       " 4,\n",
       " 5,\n",
       " 4,\n",
       " 3,\n",
       " 4,\n",
       " 3,\n",
       " 4,\n",
       " 5,\n",
       " 4,\n",
       " 5,\n",
       " 6,\n",
       " 7,\n",
       " 6,\n",
       " 5,\n",
       " 4,\n",
       " 3,\n",
       " 2,\n",
       " 3,\n",
       " 4,\n",
       " 3,\n",
       " 2,\n",
       " 3,\n",
       " 2,\n",
       " 3,\n",
       " 4,\n",
       " 5,\n",
       " 6,\n",
       " 5,\n",
       " 4,\n",
       " 5,\n",
       " 6,\n",
       " 5,\n",
       " 6,\n",
       " 5,\n",
       " 6,\n",
       " 5,\n",
       " 6,\n",
       " 7,\n",
       " 6,\n",
       " 5,\n",
       " 6,\n",
       " 7,\n",
       " 8,\n",
       " 9,\n",
       " 8,\n",
       " 9,\n",
       " 8,\n",
       " 9,\n",
       " 10,\n",
       " 9,\n",
       " 10,\n",
       " 9,\n",
       " 8,\n",
       " 9,\n",
       " 8,\n",
       " 7,\n",
       " 6,\n",
       " 7,\n",
       " 8,\n",
       " 9,\n",
       " 10,\n",
       " 11,\n",
       " 12,\n",
       " 11,\n",
       " 10,\n",
       " 9,\n",
       " 10,\n",
       " 11,\n",
       " 10,\n",
       " 9,\n",
       " 8,\n",
       " 7,\n",
       " 8,\n",
       " 7,\n",
       " 8,\n",
       " 7,\n",
       " 8,\n",
       " 7,\n",
       " 6,\n",
       " 7,\n",
       " 6,\n",
       " 5,\n",
       " 4,\n",
       " 5,\n",
       " 4,\n",
       " 3,\n",
       " 2,\n",
       " 3,\n",
       " 4,\n",
       " 5,\n",
       " 4,\n",
       " 3,\n",
       " 2,\n",
       " 1,\n",
       " 2,\n",
       " 1,\n",
       " 0,\n",
       " 1,\n",
       " 0,\n",
       " -1,\n",
       " -2,\n",
       " -3,\n",
       " -2,\n",
       " -1,\n",
       " 0,\n",
       " 1,\n",
       " 0,\n",
       " -1,\n",
       " 0,\n",
       " -1,\n",
       " 0,\n",
       " -1,\n",
       " 0,\n",
       " 1,\n",
       " 2,\n",
       " 3,\n",
       " 2,\n",
       " 1,\n",
       " 0,\n",
       " 1,\n",
       " 2,\n",
       " 3,\n",
       " 4,\n",
       " 5,\n",
       " 6,\n",
       " 5,\n",
       " 6,\n",
       " 5,\n",
       " 6,\n",
       " 5,\n",
       " 4,\n",
       " 3,\n",
       " 2,\n",
       " 3,\n",
       " 2,\n",
       " 1,\n",
       " 0,\n",
       " 1,\n",
       " 0,\n",
       " 1,\n",
       " 0,\n",
       " -1,\n",
       " 0,\n",
       " 1,\n",
       " 0,\n",
       " 1,\n",
       " 0,\n",
       " -1,\n",
       " -2,\n",
       " -3,\n",
       " -2,\n",
       " -1,\n",
       " -2,\n",
       " -3,\n",
       " -4,\n",
       " -5,\n",
       " -6,\n",
       " -5,\n",
       " -6,\n",
       " -5,\n",
       " -4,\n",
       " -3,\n",
       " -2,\n",
       " -3,\n",
       " -4,\n",
       " -5,\n",
       " -6,\n",
       " -5,\n",
       " -4,\n",
       " -5,\n",
       " -6,\n",
       " -7,\n",
       " -6,\n",
       " -7,\n",
       " -6,\n",
       " -5,\n",
       " -4,\n",
       " -5,\n",
       " -4,\n",
       " -5,\n",
       " -4,\n",
       " -5,\n",
       " -6,\n",
       " -5,\n",
       " -4,\n",
       " -3,\n",
       " -4,\n",
       " -3,\n",
       " -4,\n",
       " -3,\n",
       " -2,\n",
       " -3,\n",
       " -4,\n",
       " -3,\n",
       " -4,\n",
       " -5,\n",
       " -4,\n",
       " -5,\n",
       " -6,\n",
       " -7,\n",
       " -6,\n",
       " -7,\n",
       " -8,\n",
       " -7,\n",
       " -8,\n",
       " -9,\n",
       " -8,\n",
       " -9,\n",
       " -8,\n",
       " -9,\n",
       " -8,\n",
       " -9,\n",
       " -8,\n",
       " -7,\n",
       " -8,\n",
       " -9,\n",
       " -8,\n",
       " -7,\n",
       " -6,\n",
       " -7,\n",
       " -8,\n",
       " -7,\n",
       " -8,\n",
       " -9,\n",
       " -8,\n",
       " -9,\n",
       " -10,\n",
       " -9,\n",
       " -8,\n",
       " -9,\n",
       " -10,\n",
       " -9,\n",
       " -8,\n",
       " -9,\n",
       " -8,\n",
       " -7,\n",
       " -8,\n",
       " -9,\n",
       " -10,\n",
       " -11,\n",
       " -12,\n",
       " -11,\n",
       " -12,\n",
       " -11,\n",
       " -10,\n",
       " -9,\n",
       " -10,\n",
       " -9,\n",
       " -8,\n",
       " -9,\n",
       " -8,\n",
       " -7,\n",
       " -6,\n",
       " -7,\n",
       " -6,\n",
       " -7,\n",
       " -8,\n",
       " -9,\n",
       " -10,\n",
       " -9,\n",
       " -10,\n",
       " -11,\n",
       " -12,\n",
       " -13,\n",
       " -14,\n",
       " -15,\n",
       " -14,\n",
       " -13,\n",
       " -12,\n",
       " -11,\n",
       " -10,\n",
       " -11,\n",
       " -10,\n",
       " -11,\n",
       " -12,\n",
       " -13,\n",
       " -14,\n",
       " -13,\n",
       " -14,\n",
       " -13,\n",
       " -12,\n",
       " -13,\n",
       " -12,\n",
       " -13,\n",
       " -14,\n",
       " -13,\n",
       " -14,\n",
       " -15,\n",
       " -16,\n",
       " -15,\n",
       " -16,\n",
       " -17,\n",
       " -18,\n",
       " -17,\n",
       " -18,\n",
       " -19,\n",
       " -20,\n",
       " -21,\n",
       " -20,\n",
       " -19,\n",
       " -18,\n",
       " -19,\n",
       " -20,\n",
       " -19,\n",
       " -20,\n",
       " -19,\n",
       " -18,\n",
       " -17,\n",
       " -18,\n",
       " -17,\n",
       " -16,\n",
       " -15,\n",
       " -16,\n",
       " -15,\n",
       " -16,\n",
       " -15,\n",
       " -16,\n",
       " -17,\n",
       " -16,\n",
       " -17,\n",
       " -18,\n",
       " -19,\n",
       " -18,\n",
       " -17,\n",
       " -16,\n",
       " -17,\n",
       " -16,\n",
       " -17,\n",
       " -16,\n",
       " -17,\n",
       " -16,\n",
       " -15,\n",
       " -16,\n",
       " -15,\n",
       " -14,\n",
       " -15,\n",
       " -14,\n",
       " -15,\n",
       " -16,\n",
       " -17,\n",
       " -16,\n",
       " -15,\n",
       " -14,\n",
       " -13,\n",
       " -12,\n",
       " -11,\n",
       " -12,\n",
       " -11,\n",
       " -10,\n",
       " -11,\n",
       " -12,\n",
       " -13,\n",
       " -12,\n",
       " -11,\n",
       " -12,\n",
       " -11,\n",
       " -12,\n",
       " -13,\n",
       " -14,\n",
       " -15,\n",
       " -14,\n",
       " -13,\n",
       " -12,\n",
       " -13,\n",
       " -14,\n",
       " -13,\n",
       " -14,\n",
       " -15,\n",
       " -14,\n",
       " -13,\n",
       " -12,\n",
       " -11,\n",
       " -12,\n",
       " -11,\n",
       " -12,\n",
       " -11,\n",
       " -12,\n",
       " -11,\n",
       " -12,\n",
       " -13,\n",
       " -12,\n",
       " -11,\n",
       " -12,\n",
       " -13,\n",
       " -14,\n",
       " -13,\n",
       " -12,\n",
       " -13,\n",
       " -12,\n",
       " -11,\n",
       " -10,\n",
       " -9,\n",
       " -10,\n",
       " -9,\n",
       " -8,\n",
       " -9,\n",
       " -10,\n",
       " -11,\n",
       " -10,\n",
       " -9,\n",
       " -8,\n",
       " -9,\n",
       " -10,\n",
       " -11,\n",
       " -10,\n",
       " -11,\n",
       " -10,\n",
       " -9,\n",
       " -8,\n",
       " -9,\n",
       " -10,\n",
       " -11,\n",
       " -12,\n",
       " -13,\n",
       " -12,\n",
       " -13,\n",
       " -14,\n",
       " -15,\n",
       " -16,\n",
       " -15,\n",
       " -14,\n",
       " -13,\n",
       " -12,\n",
       " -11,\n",
       " -10,\n",
       " -9,\n",
       " -8,\n",
       " -9,\n",
       " -10,\n",
       " -9,\n",
       " -10,\n",
       " -11,\n",
       " -10,\n",
       " -9,\n",
       " -10,\n",
       " -9,\n",
       " -10,\n",
       " -9,\n",
       " -8,\n",
       " -7,\n",
       " -6,\n",
       " -5,\n",
       " -6,\n",
       " -5,\n",
       " -4,\n",
       " -3,\n",
       " -2,\n",
       " -3,\n",
       " -2,\n",
       " -1,\n",
       " -2,\n",
       " -3,\n",
       " -2,\n",
       " -1,\n",
       " -2,\n",
       " -3,\n",
       " -2,\n",
       " -1,\n",
       " 0,\n",
       " 1,\n",
       " 2,\n",
       " 1,\n",
       " 0,\n",
       " 1,\n",
       " 0,\n",
       " -1,\n",
       " 0,\n",
       " 1,\n",
       " 2,\n",
       " 1,\n",
       " 0,\n",
       " -1,\n",
       " 0,\n",
       " 1,\n",
       " 0,\n",
       " 1,\n",
       " 0,\n",
       " -1,\n",
       " -2,\n",
       " -3,\n",
       " -2,\n",
       " -1,\n",
       " 0,\n",
       " 1,\n",
       " 2,\n",
       " 1,\n",
       " 2,\n",
       " 1,\n",
       " 2,\n",
       " 1,\n",
       " 0,\n",
       " 1,\n",
       " 2,\n",
       " 3,\n",
       " 2,\n",
       " 1,\n",
       " 2,\n",
       " 1,\n",
       " 0,\n",
       " -1,\n",
       " 0,\n",
       " 1,\n",
       " 2,\n",
       " 3,\n",
       " 2,\n",
       " 1,\n",
       " 0,\n",
       " 1,\n",
       " 0,\n",
       " 1,\n",
       " 0,\n",
       " -1,\n",
       " 0,\n",
       " 1,\n",
       " 2,\n",
       " 3,\n",
       " 2,\n",
       " 3,\n",
       " 4,\n",
       " 3,\n",
       " 4,\n",
       " 5,\n",
       " 6,\n",
       " 5,\n",
       " 4,\n",
       " 3,\n",
       " 4,\n",
       " 5,\n",
       " 6,\n",
       " 7,\n",
       " 6,\n",
       " 7,\n",
       " 8,\n",
       " 7,\n",
       " 6,\n",
       " 7,\n",
       " 8,\n",
       " 7,\n",
       " 6,\n",
       " 5,\n",
       " 4,\n",
       " 3,\n",
       " 4,\n",
       " 5,\n",
       " 4,\n",
       " 3,\n",
       " 2,\n",
       " 1,\n",
       " 0,\n",
       " 1,\n",
       " 2,\n",
       " 3,\n",
       " 2,\n",
       " 3,\n",
       " 2,\n",
       " 1,\n",
       " 2,\n",
       " 1,\n",
       " 0,\n",
       " -1,\n",
       " -2,\n",
       " -1,\n",
       " -2,\n",
       " -1,\n",
       " 0,\n",
       " -1,\n",
       " -2,\n",
       " -1,\n",
       " -2,\n",
       " -3,\n",
       " -4,\n",
       " -3,\n",
       " -2,\n",
       " -1,\n",
       " 0,\n",
       " -1,\n",
       " 0,\n",
       " -1,\n",
       " -2,\n",
       " -1,\n",
       " -2,\n",
       " -1,\n",
       " -2,\n",
       " -1,\n",
       " -2,\n",
       " -1,\n",
       " -2,\n",
       " -1,\n",
       " 0,\n",
       " -1,\n",
       " -2,\n",
       " -1,\n",
       " 0,\n",
       " -1,\n",
       " -2,\n",
       " -3,\n",
       " -4,\n",
       " -3,\n",
       " -2,\n",
       " -3,\n",
       " -4,\n",
       " -3,\n",
       " -2,\n",
       " -1,\n",
       " 0,\n",
       " -1,\n",
       " -2,\n",
       " -1,\n",
       " 0,\n",
       " 1,\n",
       " 2,\n",
       " 3,\n",
       " 2,\n",
       " 3,\n",
       " 2,\n",
       " 3,\n",
       " 2,\n",
       " 3,\n",
       " 2,\n",
       " 1,\n",
       " 2,\n",
       " 1,\n",
       " 0,\n",
       " 1,\n",
       " 2,\n",
       " 1,\n",
       " 2,\n",
       " 3,\n",
       " 2,\n",
       " 3,\n",
       " 2,\n",
       " 1,\n",
       " 2,\n",
       " 3,\n",
       " 2,\n",
       " 3,\n",
       " 4,\n",
       " 3,\n",
       " 2,\n",
       " 1,\n",
       " 0,\n",
       " -1,\n",
       " -2,\n",
       " -3,\n",
       " -2,\n",
       " -3,\n",
       " -4,\n",
       " -3,\n",
       " -4,\n",
       " -5,\n",
       " -4,\n",
       " -5,\n",
       " -4,\n",
       " -5,\n",
       " -6,\n",
       " -7,\n",
       " -6,\n",
       " -5,\n",
       " -4,\n",
       " -5,\n",
       " -4,\n",
       " -3,\n",
       " -4,\n",
       " -5,\n",
       " -4,\n",
       " -5,\n",
       " -6,\n",
       " -7,\n",
       " -6,\n",
       " -5,\n",
       " -6,\n",
       " -5,\n",
       " -4,\n",
       " -3,\n",
       " -4,\n",
       " -5,\n",
       " -4,\n",
       " -3,\n",
       " -2,\n",
       " -1,\n",
       " -2,\n",
       " -1,\n",
       " -2,\n",
       " -1,\n",
       " 0,\n",
       " -1,\n",
       " -2,\n",
       " -1,\n",
       " -2,\n",
       " -1,\n",
       " -2,\n",
       " -1,\n",
       " 0,\n",
       " -1,\n",
       " 0,\n",
       " -1,\n",
       " 0,\n",
       " 1,\n",
       " 0,\n",
       " -1,\n",
       " -2,\n",
       " -1,\n",
       " -2,\n",
       " -3,\n",
       " -2,\n",
       " -3,\n",
       " -2,\n",
       " -1,\n",
       " -2,\n",
       " -1,\n",
       " -2,\n",
       " -1,\n",
       " -2,\n",
       " -3,\n",
       " -2,\n",
       " -3,\n",
       " -4,\n",
       " -5,\n",
       " -4,\n",
       " -5,\n",
       " -4,\n",
       " -3,\n",
       " -4,\n",
       " -5,\n",
       " -4,\n",
       " -5,\n",
       " -4,\n",
       " -3,\n",
       " -4,\n",
       " -5,\n",
       " -4,\n",
       " -3,\n",
       " -4,\n",
       " -3,\n",
       " -2,\n",
       " -1,\n",
       " 0,\n",
       " -1,\n",
       " 0,\n",
       " -1,\n",
       " -2,\n",
       " -1,\n",
       " 0,\n",
       " -1,\n",
       " 0,\n",
       " -1,\n",
       " 0,\n",
       " 1,\n",
       " 0,\n",
       " -1,\n",
       " -2,\n",
       " -3,\n",
       " -2,\n",
       " -3,\n",
       " -2,\n",
       " -1,\n",
       " -2,\n",
       " -1,\n",
       " 0,\n",
       " 1,\n",
       " 0,\n",
       " -1,\n",
       " 0,\n",
       " -1,\n",
       " 0,\n",
       " -1,\n",
       " 0,\n",
       " 1,\n",
       " 0,\n",
       " 1,\n",
       " 2,\n",
       " 3,\n",
       " 4,\n",
       " 3,\n",
       " 2,\n",
       " 3,\n",
       " 2,\n",
       " 1,\n",
       " 0,\n",
       " 1,\n",
       " 2,\n",
       " 1,\n",
       " 0,\n",
       " -1,\n",
       " -2,\n",
       " -3,\n",
       " -4,\n",
       " -3,\n",
       " -4,\n",
       " -5,\n",
       " -4,\n",
       " -3,\n",
       " -4,\n",
       " -5,\n",
       " -6,\n",
       " -5,\n",
       " -6,\n",
       " -7,\n",
       " -8,\n",
       " -7,\n",
       " -8,\n",
       " -9,\n",
       " -10,\n",
       " -11,\n",
       " -10,\n",
       " -9,\n",
       " -10,\n",
       " -11,\n",
       " -10,\n",
       " -11,\n",
       " -12,\n",
       " -13,\n",
       " -12,\n",
       " -11,\n",
       " -10,\n",
       " -9,\n",
       " -8,\n",
       " -9,\n",
       " -8,\n",
       " -9,\n",
       " -10,\n",
       " -11,\n",
       " -12,\n",
       " -11,\n",
       " -12,\n",
       " -13,\n",
       " -14,\n",
       " -15,\n",
       " -16,\n",
       " -17,\n",
       " -16,\n",
       " -15,\n",
       " -16,\n",
       " -15,\n",
       " -16,\n",
       " -15,\n",
       " -16,\n",
       " -17,\n",
       " -18,\n",
       " -17,\n",
       " -16,\n",
       " -17,\n",
       " -16,\n",
       " -17,\n",
       " -16,\n",
       " -17,\n",
       " -16,\n",
       " -15,\n",
       " -14,\n",
       " -15,\n",
       " -14,\n",
       " -13,\n",
       " -12,\n",
       " -13,\n",
       " ...]"
      ]
     },
     "execution_count": 449,
     "metadata": {},
     "output_type": "execute_result"
    }
   ],
   "source": [
    "walk"
   ]
  },
  {
   "cell_type": "code",
   "execution_count": 447,
   "id": "7b0401a2",
   "metadata": {},
   "outputs": [
    {
     "data": {
      "text/plain": [
       "0"
      ]
     },
     "execution_count": 447,
     "metadata": {},
     "output_type": "execute_result"
    }
   ],
   "source": [
    "random.randint(0, 1)"
   ]
  },
  {
   "cell_type": "code",
   "execution_count": 452,
   "id": "fe3c0c1d",
   "metadata": {},
   "outputs": [],
   "source": [
    "# Generate Plot\n",
    "%matplotlib inline\n",
    "import matplotlib.pyplot as plt"
   ]
  },
  {
   "cell_type": "code",
   "execution_count": 453,
   "id": "b18c5034",
   "metadata": {},
   "outputs": [
    {
     "data": {
      "text/plain": [
       "[<matplotlib.lines.Line2D at 0x2162ca35900>]"
      ]
     },
     "execution_count": 453,
     "metadata": {},
     "output_type": "execute_result"
    },
    {
     "data": {
      "image/png": "[encoded data removed]",
      "text/plain": [
       "<Figure size 432x288 with 1 Axes>"
      ]
     },
     "metadata": {
      "needs_background": "light"
     },
     "output_type": "display_data"
    }
   ],
   "source": [
    "plt.plot(walk[:100])"
   ]
  },
  {
   "cell_type": "code",
   "execution_count": 457,
   "id": "09955a62",
   "metadata": {},
   "outputs": [],
   "source": [
    "# using np.random module\n",
    "# no loop required\n",
    "draws = np.random.randint(0, 2, size=nsteps) # 0 or 1"
   ]
  },
  {
   "cell_type": "code",
   "execution_count": 459,
   "id": "535c5c12",
   "metadata": {},
   "outputs": [],
   "source": [
    "steps1 = np.where(draws > 0, 1, -1)\n",
    "walk1 = steps1.cumsum()"
   ]
  },
  {
   "cell_type": "code",
   "execution_count": 462,
   "id": "5bab54b0",
   "metadata": {},
   "outputs": [
    {
     "data": {
      "text/plain": [
       "array([  1,   0,  -1,  -2,  -1,  -2,  -3,  -4,  -3,  -4,  -5,  -4,  -5,\n",
       "        -4,  -5,  -4,  -3,  -4,  -3,  -2,  -1,   0,  -1,  -2,  -3,  -4,\n",
       "        -5,  -6,  -5,  -6,  -7,  -6,  -7,  -6,  -5,  -4,  -5,  -6,  -7,\n",
       "        -8,  -9,  -8,  -9, -10,  -9, -10,  -9,  -8,  -7,  -6,  -5,  -4,\n",
       "        -5,  -4,  -3,  -2,  -1,  -2,  -3,  -4,  -5,  -4,  -3,  -2,  -3,\n",
       "        -2,  -1,   0,  -1,   0,   1,   2,   3,   2,   3,   2,   1,   0,\n",
       "         1,   0,  -1,  -2,  -3,  -4,  -3,  -2,  -1,   0,   1,   2,   3,\n",
       "         4,   5,   6,   7,   6,   5,   4,   5,   6,   5,   4,   5,   6,\n",
       "         5,   4,   3,   4,   3,   4,   3,   4,   3,   2,   3,   2,   1,\n",
       "         0,  -1,   0,  -1,  -2,  -1,   0,   1,   2,   3,   2,   1,   0,\n",
       "        -1,  -2,  -1,  -2,  -1,  -2,  -3,  -2,  -1,  -2,  -1,   0,   1,\n",
       "         2,   3,   2,   3,   2,   1,   2,   1,   2,   3,   2,   3,   4,\n",
       "         3,   4,   5,   4,   5,   4,   3,   4,   3,   2,   3,   2,   3,\n",
       "         4,   3,   2,   1,   2,   1,   2,   1,   2,   1,   0,   1,   0,\n",
       "        -1,  -2,  -3,  -4,  -3,  -4,  -5,  -4,  -3,  -2,  -1,  -2,  -1,\n",
       "        -2,  -1,   0,   1,   0,  -1,  -2,  -3,  -2,  -1,  -2,  -1,   0,\n",
       "        -1,   0,  -1,  -2,  -3,  -2,  -1,  -2,  -1,  -2,  -3,  -2,  -1,\n",
       "        -2,  -3,  -4,  -5,  -4,  -3,  -4,  -3,  -2,  -3,  -4,  -3,  -2,\n",
       "        -1,   0,  -1,  -2,  -3,  -2,  -1,  -2,  -1,  -2,  -3,  -2,  -3,\n",
       "        -4,  -5,  -6,  -7,  -6,  -7,  -6,  -5,  -4,  -3,  -2,  -3,  -4,\n",
       "        -3,  -4,  -3,  -4,  -5,  -6,  -5,  -4,  -5,  -4,  -5,  -4,  -3,\n",
       "        -4,  -5,  -6,  -7,  -8,  -7,  -6,  -7,  -8,  -9, -10, -11, -12,\n",
       "       -13, -12, -13, -14, -13, -12, -11, -10, -11, -10, -11, -12, -13,\n",
       "       -14, -15, -14, -13, -12, -13, -14, -13, -12, -11, -12, -13, -14,\n",
       "       -15, -16, -17, -16, -17, -18, -19, -20, -21, -22, -23, -24, -23,\n",
       "       -24, -25, -26, -27, -28, -27, -28, -29, -30, -31, -30, -29, -30,\n",
       "       -31, -30, -31, -32, -33, -32, -33, -32, -31, -32, -31, -30, -31,\n",
       "       -30, -29, -28, -27, -28, -29, -28, -29, -30, -31, -32, -33, -34,\n",
       "       -33, -32, -33, -32, -31, -32, -31, -30, -29, -28, -27, -28, -29,\n",
       "       -28, -29, -28, -29, -30, -31, -32, -33, -34, -35, -34, -33, -32,\n",
       "       -33, -34, -35, -36, -37, -38, -39, -38, -37, -36, -37, -36, -37,\n",
       "       -38, -37, -38, -39, -40, -39, -38, -37, -38, -37, -36, -37, -36,\n",
       "       -35, -36, -35, -34, -35, -34, -33, -34, -35, -34, -35, -34, -35,\n",
       "       -34, -35, -34, -35, -36, -37, -36, -37, -36, -35, -34, -35, -36,\n",
       "       -37, -38, -37, -38, -37, -36, -35, -36, -37, -36, -37, -36, -35,\n",
       "       -36, -35, -34, -33, -34, -33, -34, -35, -36, -35, -34, -33, -32,\n",
       "       -33, -34, -35, -34, -33, -32, -33, -32, -31, -32, -33, -34, -33,\n",
       "       -34, -35, -34, -35, -36, -35, -34, -35, -34, -35, -36, -37, -36,\n",
       "       -35, -36, -35, -34, -33, -32, -33, -32, -33, -32, -33, -34, -33,\n",
       "       -34, -35, -36, -37, -38, -39, -40, -39, -40, -41, -40, -39, -38,\n",
       "       -37, -38, -37, -36, -37, -36, -37, -36, -37, -36, -37, -36, -37,\n",
       "       -36, -35, -36, -35, -36, -37, -36, -37, -36, -35, -36, -35, -34,\n",
       "       -35, -34, -33, -34, -33, -34, -33, -32, -33, -34, -33, -34, -33,\n",
       "       -34, -33, -34, -35, -36, -37, -36, -37, -38, -37, -38, -39, -40,\n",
       "       -39, -40, -39, -40, -41, -42, -41, -42, -41, -42, -41, -42, -43,\n",
       "       -42, -41, -42, -43, -42, -43, -44, -43, -42, -43, -42, -41, -40,\n",
       "       -41, -42, -41, -42, -41, -42, -41, -40, -39, -40, -39, -38, -37,\n",
       "       -36, -35, -34, -33, -34, -33, -32, -31, -32, -33, -32, -31, -32,\n",
       "       -31, -30, -31, -32, -33, -32, -31, -32, -31, -32, -33, -34, -33,\n",
       "       -32, -31, -32, -31, -30, -29, -28, -29, -28, -27, -28, -29, -28,\n",
       "       -27, -28, -29, -28, -27, -26, -25, -26, -25, -26, -27, -28, -27,\n",
       "       -26, -27, -26, -27, -26, -27, -26, -25, -24, -25, -24, -23, -22,\n",
       "       -21, -20, -21, -22, -21, -20, -19, -20, -21, -20, -19, -18, -19,\n",
       "       -18, -19, -20, -19, -18, -19, -18, -17, -18, -17, -16, -17, -16,\n",
       "       -15, -16, -17, -18, -17, -16, -17, -18, -17, -18, -17, -18, -19,\n",
       "       -20, -19, -18, -19, -20, -19, -20, -21, -20, -21, -22, -21, -20,\n",
       "       -19, -20, -21, -20, -19, -20, -21, -22, -21, -22, -23, -22, -21,\n",
       "       -22, -23, -24, -23, -24, -23, -24, -23, -24, -23, -22, -23, -24,\n",
       "       -23, -24, -25, -26, -25, -26, -27, -26, -25, -26, -25, -26, -25,\n",
       "       -24, -23, -24, -25, -26, -25, -24, -23, -24, -23, -24, -25, -24,\n",
       "       -23, -22, -23, -24, -23, -22, -23, -24, -25, -26, -27, -28, -29,\n",
       "       -28, -29, -28, -29, -28, -27, -28, -29, -28, -29, -30, -29, -28,\n",
       "       -29, -30, -31, -30, -31, -32, -31, -30, -31, -30, -29, -28, -29,\n",
       "       -30, -31, -30, -31, -30, -29, -28, -29, -30, -29, -30, -29, -28,\n",
       "       -27, -26, -27, -26, -27, -28, -27, -26, -27, -28, -29, -30, -31,\n",
       "       -32, -33, -34, -35, -36, -35, -36, -35, -34, -33, -34, -35, -36,\n",
       "       -35, -34, -33, -32, -31, -30, -29, -30, -31, -32, -31, -32, -31,\n",
       "       -30, -31, -32, -31, -32, -33, -32, -31, -30, -31, -32, -33, -34,\n",
       "       -35, -34, -33, -34, -35, -34, -35, -36, -35, -36, -37, -36, -37,\n",
       "       -36, -37, -38, -37, -36, -35, -36, -37, -36, -37, -36, -35, -36,\n",
       "       -35, -36, -35, -34, -33, -34, -33, -32, -33, -32, -31, -30, -31,\n",
       "       -30, -31, -30, -31, -32, -33, -32, -33, -32, -33, -32, -33, -32,\n",
       "       -31, -32, -33, -34, -35, -36, -37, -38, -37, -36, -37, -38, -37,\n",
       "       -36, -35, -34, -33, -32, -31, -30, -29, -28, -29, -30, -29, -28,\n",
       "       -29, -30, -29, -30, -29, -30, -29, -28, -29, -30, -31, -30, -29,\n",
       "       -28, -29, -30, -31, -32, -33, -32, -33, -32, -31, -30, -31, -30,\n",
       "       -31, -30, -31, -32, -33, -34, -35, -34, -35, -34, -35, -34])"
      ]
     },
     "execution_count": 462,
     "metadata": {},
     "output_type": "execute_result"
    }
   ],
   "source": [
    "walk1"
   ]
  },
  {
   "cell_type": "code",
   "execution_count": 463,
   "id": "463c0a67",
   "metadata": {},
   "outputs": [
    {
     "data": {
      "text/plain": [
       "[<matplotlib.lines.Line2D at 0x2162cb41810>]"
      ]
     },
     "execution_count": 463,
     "metadata": {},
     "output_type": "execute_result"
    },
    {
     "data": {
      "image/png": "[encoded data removed]",
      "text/plain": [
       "<Figure size 432x288 with 1 Axes>"
      ]
     },
     "metadata": {
      "needs_background": "light"
     },
     "output_type": "display_data"
    }
   ],
   "source": [
    "plt.plot(walk1[:100])"
   ]
  },
  {
   "cell_type": "code",
   "execution_count": 465,
   "id": "50e6448f",
   "metadata": {},
   "outputs": [
    {
     "data": {
      "text/plain": [
       "-44"
      ]
     },
     "execution_count": 465,
     "metadata": {},
     "output_type": "execute_result"
    }
   ],
   "source": [
    "walk1.min() # min value along the walk1's trajectory"
   ]
  },
  {
   "cell_type": "code",
   "execution_count": 466,
   "id": "8a8fdd76",
   "metadata": {},
   "outputs": [
    {
     "data": {
      "text/plain": [
       "7"
      ]
     },
     "execution_count": 466,
     "metadata": {},
     "output_type": "execute_result"
    }
   ],
   "source": [
    "walk1.max() # max value along the walk1's trajectory"
   ]
  },
  {
   "cell_type": "code",
   "execution_count": 467,
   "id": "cf236d18",
   "metadata": {},
   "outputs": [],
   "source": [
    "# first crossing time: step at which the random walk reachhes a particular value\n",
    "# can be done using argmax func\n",
    "# argmax returns the first index of the maximum value in an array"
   ]
  },
  {
   "cell_type": "code",
   "execution_count": 468,
   "id": "31a0b411",
   "metadata": {},
   "outputs": [
    {
     "data": {
      "text/plain": [
       "94"
      ]
     },
     "execution_count": 468,
     "metadata": {},
     "output_type": "execute_result"
    }
   ],
   "source": [
    "walk1.argmax()"
   ]
  },
  {
   "cell_type": "code",
   "execution_count": 469,
   "id": "d2f74d96",
   "metadata": {},
   "outputs": [
    {
     "data": {
      "text/plain": [
       "7"
      ]
     },
     "execution_count": 469,
     "metadata": {},
     "output_type": "execute_result"
    }
   ],
   "source": [
    "walk1[94]"
   ]
  },
  {
   "cell_type": "code",
   "execution_count": 474,
   "id": "b8e688b8",
   "metadata": {},
   "outputs": [
    {
     "data": {
      "text/plain": [
       "43"
      ]
     },
     "execution_count": 474,
     "metadata": {},
     "output_type": "execute_result"
    }
   ],
   "source": [
    "(np.abs(walk1) >= 10).argmax()"
   ]
  },
  {
   "cell_type": "code",
   "execution_count": 475,
   "id": "8a9d667b",
   "metadata": {},
   "outputs": [
    {
     "data": {
      "text/plain": [
       "-10"
      ]
     },
     "execution_count": 475,
     "metadata": {},
     "output_type": "execute_result"
    }
   ],
   "source": [
    "walk1[43]"
   ]
  },
  {
   "cell_type": "code",
   "execution_count": 476,
   "id": "c34f74b7",
   "metadata": {},
   "outputs": [],
   "source": [
    "# multiple random walks \n",
    "# e.g: 50 walks of 1000 steps each\n",
    "nwalks = 50\n",
    "nsteps = 1000\n",
    "draws1 = np.random.randint(0, 2, size=(nwalks, nsteps)) # 0 or 1\n",
    "steps2 = np.where(draws1 > 0, 1, -1)\n",
    "walks2 = steps2.cumsum(1) # along second dimension"
   ]
  },
  {
   "cell_type": "code",
   "execution_count": 477,
   "id": "e4dfa477",
   "metadata": {},
   "outputs": [
    {
     "data": {
      "text/plain": [
       "(50, 1000)"
      ]
     },
     "execution_count": 477,
     "metadata": {},
     "output_type": "execute_result"
    }
   ],
   "source": [
    "steps2.shape"
   ]
  },
  {
   "cell_type": "code",
   "execution_count": 478,
   "id": "02681678",
   "metadata": {},
   "outputs": [
    {
     "data": {
      "text/plain": [
       "array([[ 1, -1, -1, ..., -1,  1,  1],\n",
       "       [-1, -1,  1, ..., -1, -1,  1],\n",
       "       [-1,  1, -1, ...,  1,  1, -1],\n",
       "       ...,\n",
       "       [-1, -1, -1, ...,  1, -1, -1],\n",
       "       [ 1, -1, -1, ...,  1,  1,  1],\n",
       "       [ 1, -1, -1, ..., -1,  1,  1]])"
      ]
     },
     "execution_count": 478,
     "metadata": {},
     "output_type": "execute_result"
    }
   ],
   "source": [
    "steps2"
   ]
  },
  {
   "cell_type": "code",
   "execution_count": 479,
   "id": "089af972",
   "metadata": {},
   "outputs": [
    {
     "data": {
      "text/plain": [
       "array([[  1,   0,  -1, ...,  32,  33,  34],\n",
       "       [ -1,  -2,  -1, ..., -14, -15, -14],\n",
       "       [ -1,   0,  -1, ..., -44, -43, -44],\n",
       "       ...,\n",
       "       [ -1,  -2,  -3, ...,  20,  19,  18],\n",
       "       [  1,   0,  -1, ...,  -6,  -5,  -4],\n",
       "       [  1,   0,  -1, ...,  -2,  -1,   0]])"
      ]
     },
     "execution_count": 479,
     "metadata": {},
     "output_type": "execute_result"
    }
   ],
   "source": [
    "walks2"
   ]
  },
  {
   "cell_type": "code",
   "execution_count": 480,
   "id": "8e8b8dd7",
   "metadata": {},
   "outputs": [
    {
     "data": {
      "text/plain": [
       "(50, 1000)"
      ]
     },
     "execution_count": 480,
     "metadata": {},
     "output_type": "execute_result"
    }
   ],
   "source": [
    "walks2.shape"
   ]
  },
  {
   "cell_type": "code",
   "execution_count": 482,
   "id": "86ee13ba",
   "metadata": {},
   "outputs": [
    {
     "data": {
      "text/plain": [
       "-79"
      ]
     },
     "execution_count": 482,
     "metadata": {},
     "output_type": "execute_result"
    }
   ],
   "source": [
    "walks2.min()"
   ]
  },
  {
   "cell_type": "code",
   "execution_count": 483,
   "id": "9252773e",
   "metadata": {},
   "outputs": [
    {
     "data": {
      "text/plain": [
       "83"
      ]
     },
     "execution_count": 483,
     "metadata": {},
     "output_type": "execute_result"
    }
   ],
   "source": [
    "walks2.max()"
   ]
  },
  {
   "cell_type": "code",
   "execution_count": 485,
   "id": "d5ec3a6c",
   "metadata": {},
   "outputs": [],
   "source": [
    "# min crossing time to reach a particular value by any of the walks\n",
    "# eg: absolute '30' level\n",
    "# first find out which of the walks reach the value\n",
    "hits = (np.abs(walks2) >= 30).any(1)"
   ]
  },
  {
   "cell_type": "code",
   "execution_count": 488,
   "id": "643b8450",
   "metadata": {},
   "outputs": [
    {
     "data": {
      "text/plain": [
       "array([ True,  True,  True,  True,  True, False,  True,  True,  True,\n",
       "        True, False,  True, False,  True,  True,  True,  True, False,\n",
       "       False,  True, False, False, False,  True,  True,  True, False,\n",
       "        True,  True,  True,  True, False,  True,  True,  True,  True,\n",
       "        True,  True,  True,  True, False,  True,  True,  True, False,\n",
       "        True,  True,  True, False, False])"
      ]
     },
     "execution_count": 488,
     "metadata": {},
     "output_type": "execute_result"
    }
   ],
   "source": [
    "hits"
   ]
  },
  {
   "cell_type": "code",
   "execution_count": 489,
   "id": "d83bd195",
   "metadata": {},
   "outputs": [
    {
     "data": {
      "text/plain": [
       "36"
      ]
     },
     "execution_count": 489,
     "metadata": {},
     "output_type": "execute_result"
    }
   ],
   "source": [
    "hits.sum()"
   ]
  },
  {
   "cell_type": "code",
   "execution_count": 491,
   "id": "c7b7f7ac",
   "metadata": {},
   "outputs": [],
   "source": [
    "firsthits = (np.abs(walks2[hits]) >= 30).argmax(1)"
   ]
  },
  {
   "cell_type": "code",
   "execution_count": 492,
   "id": "51f206b5",
   "metadata": {},
   "outputs": [
    {
     "data": {
      "text/plain": [
       "array([307, 387, 175, 929, 547, 327, 285, 657, 541, 225, 341, 285, 583,\n",
       "       585, 471, 767, 671, 565, 279, 195, 343, 719, 357, 225, 445, 421,\n",
       "       475, 257, 371, 883, 643, 279, 825, 681, 509, 317], dtype=int64)"
      ]
     },
     "execution_count": 492,
     "metadata": {},
     "output_type": "execute_result"
    }
   ],
   "source": [
    "firsthits"
   ]
  },
  {
   "cell_type": "code",
   "execution_count": 496,
   "id": "c08cba41",
   "metadata": {},
   "outputs": [
    {
     "data": {
      "text/plain": [
       "175"
      ]
     },
     "execution_count": 496,
     "metadata": {},
     "output_type": "execute_result"
    }
   ],
   "source": [
    "mct = firsthits.min()\n",
    "mct"
   ]
  },
  {
   "cell_type": "code",
   "execution_count": 497,
   "id": "72ce9917",
   "metadata": {},
   "outputs": [
    {
     "data": {
      "text/plain": [
       "2"
      ]
     },
     "execution_count": 497,
     "metadata": {},
     "output_type": "execute_result"
    }
   ],
   "source": [
    "mct_ind = list(firsthits == mct).index(True)\n",
    "mct_ind"
   ]
  },
  {
   "cell_type": "code",
   "execution_count": 501,
   "id": "7e741857",
   "metadata": {},
   "outputs": [],
   "source": [
    "# Index of the true value which is mct_ini + 1th among True values in hits array\n",
    "count_true = 0\n",
    "for i in range(len(hits)):\n",
    "    if count_true <= mct_ind:\n",
    "        if hits[i] == True:\n",
    "            count_true += 1\n",
    "        else:\n",
    "            continue\n",
    "    else:\n",
    "        break"
   ]
  },
  {
   "cell_type": "code",
   "execution_count": 502,
   "id": "68b3d371",
   "metadata": {},
   "outputs": [
    {
     "data": {
      "text/plain": [
       "3"
      ]
     },
     "execution_count": 502,
     "metadata": {},
     "output_type": "execute_result"
    }
   ],
   "source": [
    "count_true"
   ]
  },
  {
   "cell_type": "code",
   "execution_count": 500,
   "id": "a22f2fd1",
   "metadata": {},
   "outputs": [
    {
     "data": {
      "text/plain": [
       "3"
      ]
     },
     "execution_count": 500,
     "metadata": {},
     "output_type": "execute_result"
    }
   ],
   "source": [
    "i"
   ]
  },
  {
   "cell_type": "code",
   "execution_count": 504,
   "id": "63f4db05",
   "metadata": {},
   "outputs": [
    {
     "data": {
      "text/plain": [
       "-30"
      ]
     },
     "execution_count": 504,
     "metadata": {},
     "output_type": "execute_result"
    }
   ],
   "source": [
    "walks2[i-1, mct]"
   ]
  },
  {
   "cell_type": "code",
   "execution_count": 505,
   "id": "788d5d2c",
   "metadata": {},
   "outputs": [],
   "source": [
    "from pandas import Series, DataFrame"
   ]
  },
  {
   "cell_type": "code",
   "execution_count": 506,
   "id": "39c8a20b",
   "metadata": {},
   "outputs": [],
   "source": [
    "import pandas as pd"
   ]
  },
  {
   "cell_type": "code",
   "execution_count": 508,
   "id": "db0acacd",
   "metadata": {},
   "outputs": [],
   "source": [
    "sam_frame = pd.DataFrame([[1,2,3], [1,2,3]])"
   ]
  },
  {
   "cell_type": "code",
   "execution_count": 509,
   "id": "7a7f5536",
   "metadata": {},
   "outputs": [
    {
     "data": {
      "text/html": [
       "<div>\n",
       "<style scoped>\n",
       "    .dataframe tbody tr th:only-of-type {\n",
       "        vertical-align: middle;\n",
       "    }\n",
       "\n",
       "    .dataframe tbody tr th {\n",
       "        vertical-align: top;\n",
       "    }\n",
       "\n",
       "    .dataframe thead th {\n",
       "        text-align: right;\n",
       "    }\n",
       "</style>\n",
       "<table border=\"1\" class=\"dataframe\">\n",
       "  <thead>\n",
       "    <tr style=\"text-align: right;\">\n",
       "      <th></th>\n",
       "      <th>0</th>\n",
       "      <th>1</th>\n",
       "      <th>2</th>\n",
       "    </tr>\n",
       "  </thead>\n",
       "  <tbody>\n",
       "    <tr>\n",
       "      <th>0</th>\n",
       "      <td>1</td>\n",
       "      <td>2</td>\n",
       "      <td>3</td>\n",
       "    </tr>\n",
       "    <tr>\n",
       "      <th>1</th>\n",
       "      <td>1</td>\n",
       "      <td>2</td>\n",
       "      <td>3</td>\n",
       "    </tr>\n",
       "  </tbody>\n",
       "</table>\n",
       "</div>"
      ],
      "text/plain": [
       "   0  1  2\n",
       "0  1  2  3\n",
       "1  1  2  3"
      ]
     },
     "execution_count": 509,
     "metadata": {},
     "output_type": "execute_result"
    }
   ],
   "source": [
    "sam_frame"
   ]
  },
  {
   "cell_type": "code",
   "execution_count": 512,
   "id": "2206a135",
   "metadata": {},
   "outputs": [
    {
     "data": {
      "text/plain": [
       "pandas.core.series.Series"
      ]
     },
     "execution_count": 512,
     "metadata": {},
     "output_type": "execute_result"
    }
   ],
   "source": [
    "type(sam_frame[0])"
   ]
  },
  {
   "cell_type": "code",
   "execution_count": 513,
   "id": "5e9533a3",
   "metadata": {},
   "outputs": [
    {
     "data": {
      "text/plain": [
       "pandas.core.frame.DataFrame"
      ]
     },
     "execution_count": 513,
     "metadata": {},
     "output_type": "execute_result"
    }
   ],
   "source": [
    "type(sam_frame)"
   ]
  },
  {
   "cell_type": "code",
   "execution_count": 515,
   "id": "70f5e7a5",
   "metadata": {},
   "outputs": [
    {
     "data": {
      "text/plain": [
       "0    1\n",
       "1    1\n",
       "Name: 0, dtype: int64"
      ]
     },
     "execution_count": 515,
     "metadata": {},
     "output_type": "execute_result"
    }
   ],
   "source": [
    "sam_frame[0]"
   ]
  },
  {
   "cell_type": "code",
   "execution_count": 518,
   "id": "59d3976e",
   "metadata": {},
   "outputs": [
    {
     "name": "stdout",
     "output_type": "stream",
     "text": [
      "15\n"
     ]
    }
   ],
   "source": [
    "a = np.array([[0, 1, 2], [3, 4, 5]])\n",
    "b = a.sum()\n",
    "print (b)"
   ]
  },
  {
   "cell_type": "code",
   "execution_count": 520,
   "id": "ce366b4e",
   "metadata": {},
   "outputs": [
    {
     "data": {
      "text/plain": [
       "array([1, 1], dtype=int64)"
      ]
     },
     "execution_count": 520,
     "metadata": {},
     "output_type": "execute_result"
    }
   ],
   "source": [
    "sam_frame[0].values"
   ]
  },
  {
   "cell_type": "code",
   "execution_count": 521,
   "id": "e0a453e0",
   "metadata": {},
   "outputs": [],
   "source": [
    "marks_pd = pd.DataFrame({ 'marks': [100, 99, 98, 97, 96], 'subs': ['Maths', 'Science', 'Chemistry', 'Tamil', 'English'] })"
   ]
  },
  {
   "cell_type": "code",
   "execution_count": 522,
   "id": "07d9da07",
   "metadata": {},
   "outputs": [
    {
     "data": {
      "text/html": [
       "<div>\n",
       "<style scoped>\n",
       "    .dataframe tbody tr th:only-of-type {\n",
       "        vertical-align: middle;\n",
       "    }\n",
       "\n",
       "    .dataframe tbody tr th {\n",
       "        vertical-align: top;\n",
       "    }\n",
       "\n",
       "    .dataframe thead th {\n",
       "        text-align: right;\n",
       "    }\n",
       "</style>\n",
       "<table border=\"1\" class=\"dataframe\">\n",
       "  <thead>\n",
       "    <tr style=\"text-align: right;\">\n",
       "      <th></th>\n",
       "      <th>marks</th>\n",
       "      <th>subs</th>\n",
       "    </tr>\n",
       "  </thead>\n",
       "  <tbody>\n",
       "    <tr>\n",
       "      <th>0</th>\n",
       "      <td>100</td>\n",
       "      <td>Maths</td>\n",
       "    </tr>\n",
       "    <tr>\n",
       "      <th>1</th>\n",
       "      <td>99</td>\n",
       "      <td>Science</td>\n",
       "    </tr>\n",
       "    <tr>\n",
       "      <th>2</th>\n",
       "      <td>98</td>\n",
       "      <td>Chemistry</td>\n",
       "    </tr>\n",
       "    <tr>\n",
       "      <th>3</th>\n",
       "      <td>97</td>\n",
       "      <td>Tamil</td>\n",
       "    </tr>\n",
       "    <tr>\n",
       "      <th>4</th>\n",
       "      <td>96</td>\n",
       "      <td>English</td>\n",
       "    </tr>\n",
       "  </tbody>\n",
       "</table>\n",
       "</div>"
      ],
      "text/plain": [
       "   marks       subs\n",
       "0    100      Maths\n",
       "1     99    Science\n",
       "2     98  Chemistry\n",
       "3     97      Tamil\n",
       "4     96    English"
      ]
     },
     "execution_count": 522,
     "metadata": {},
     "output_type": "execute_result"
    }
   ],
   "source": [
    "marks_pd"
   ]
  },
  {
   "cell_type": "code",
   "execution_count": 523,
   "id": "3eb4b4d0",
   "metadata": {},
   "outputs": [
    {
     "data": {
      "text/plain": [
       "0    100\n",
       "1     99\n",
       "2     98\n",
       "3     97\n",
       "4     96\n",
       "Name: marks, dtype: int64"
      ]
     },
     "execution_count": 523,
     "metadata": {},
     "output_type": "execute_result"
    }
   ],
   "source": [
    "marks_pd['marks']"
   ]
  },
  {
   "cell_type": "code",
   "execution_count": 524,
   "id": "67c15dac",
   "metadata": {},
   "outputs": [
    {
     "data": {
      "text/plain": [
       "0        Maths\n",
       "1      Science\n",
       "2    Chemistry\n",
       "3        Tamil\n",
       "4      English\n",
       "Name: subs, dtype: object"
      ]
     },
     "execution_count": 524,
     "metadata": {},
     "output_type": "execute_result"
    }
   ],
   "source": [
    "marks_pd['subs']"
   ]
  },
  {
   "cell_type": "code",
   "execution_count": 525,
   "id": "ac4fb996",
   "metadata": {},
   "outputs": [
    {
     "data": {
      "text/plain": [
       "0    100.0\n",
       "1     99.0\n",
       "2     98.0\n",
       "3     97.0\n",
       "4     96.0\n",
       "Name: marks, dtype: float64"
      ]
     },
     "execution_count": 525,
     "metadata": {},
     "output_type": "execute_result"
    }
   ],
   "source": [
    "marks_pd['marks'].astype(float)"
   ]
  },
  {
   "cell_type": "code",
   "execution_count": 526,
   "id": "eb0c01ba",
   "metadata": {},
   "outputs": [
    {
     "data": {
      "text/plain": [
       "0    100\n",
       "1     99\n",
       "2     98\n",
       "3     97\n",
       "4     96\n",
       "Name: marks, dtype: object"
      ]
     },
     "execution_count": 526,
     "metadata": {},
     "output_type": "execute_result"
    }
   ],
   "source": [
    "marks_pd['marks'].astype(str)"
   ]
  },
  {
   "cell_type": "code",
   "execution_count": 527,
   "id": "595b298b",
   "metadata": {},
   "outputs": [
    {
     "data": {
      "text/plain": [
       "array([100,  99,  98,  97,  96], dtype=int64)"
      ]
     },
     "execution_count": 527,
     "metadata": {},
     "output_type": "execute_result"
    }
   ],
   "source": [
    "marks_pd['marks'].values"
   ]
  },
  {
   "cell_type": "code",
   "execution_count": 529,
   "id": "bb777df0",
   "metadata": {},
   "outputs": [
    {
     "data": {
      "text/plain": [
       "[100, 99, 98, 97, 96]"
      ]
     },
     "execution_count": 529,
     "metadata": {},
     "output_type": "execute_result"
    }
   ],
   "source": [
    "list(marks_pd['marks'])"
   ]
  },
  {
   "cell_type": "code",
   "execution_count": 530,
   "id": "6da7d11c",
   "metadata": {},
   "outputs": [
    {
     "data": {
      "text/plain": [
       "[100, 99, 98, 97, 96]"
      ]
     },
     "execution_count": 530,
     "metadata": {},
     "output_type": "execute_result"
    }
   ],
   "source": [
    "list(marks_pd['marks'].values)"
   ]
  },
  {
   "cell_type": "code",
   "execution_count": 531,
   "id": "bf269aa7",
   "metadata": {},
   "outputs": [
    {
     "data": {
      "text/plain": [
       "RangeIndex(start=0, stop=5, step=1)"
      ]
     },
     "execution_count": 531,
     "metadata": {},
     "output_type": "execute_result"
    }
   ],
   "source": [
    "marks_pd['marks'].index"
   ]
  },
  {
   "cell_type": "code",
   "execution_count": 532,
   "id": "e3e36bf2",
   "metadata": {},
   "outputs": [],
   "source": [
    "series2 = pd.Series([22, 33, 44, 55], index=['a', 'b', 'c', 'd'])"
   ]
  },
  {
   "cell_type": "code",
   "execution_count": 533,
   "id": "1b436e16",
   "metadata": {},
   "outputs": [
    {
     "data": {
      "text/plain": [
       "a    22\n",
       "b    33\n",
       "c    44\n",
       "d    55\n",
       "dtype: int64"
      ]
     },
     "execution_count": 533,
     "metadata": {},
     "output_type": "execute_result"
    }
   ],
   "source": [
    "series2"
   ]
  },
  {
   "cell_type": "code",
   "execution_count": 534,
   "id": "2041903b",
   "metadata": {},
   "outputs": [
    {
     "data": {
      "text/plain": [
       "22"
      ]
     },
     "execution_count": 534,
     "metadata": {},
     "output_type": "execute_result"
    }
   ],
   "source": [
    "series2['a']"
   ]
  },
  {
   "cell_type": "code",
   "execution_count": 536,
   "id": "d4cb56b1",
   "metadata": {},
   "outputs": [
    {
     "data": {
      "text/plain": [
       "a    22\n",
       "dtype: int64"
      ]
     },
     "execution_count": 536,
     "metadata": {},
     "output_type": "execute_result"
    }
   ],
   "source": [
    "series2[['a']]"
   ]
  },
  {
   "cell_type": "code",
   "execution_count": 537,
   "id": "5ec67c10",
   "metadata": {},
   "outputs": [
    {
     "data": {
      "text/plain": [
       "a    22\n",
       "b    33\n",
       "dtype: int64"
      ]
     },
     "execution_count": 537,
     "metadata": {},
     "output_type": "execute_result"
    }
   ],
   "source": [
    "series2[['a', 'b']]"
   ]
  },
  {
   "cell_type": "code",
   "execution_count": 538,
   "id": "2f615fb2",
   "metadata": {},
   "outputs": [
    {
     "data": {
      "text/plain": [
       "c    44\n",
       "a    22\n",
       "dtype: int64"
      ]
     },
     "execution_count": 538,
     "metadata": {},
     "output_type": "execute_result"
    }
   ],
   "source": [
    "series2[['c', 'a']]"
   ]
  },
  {
   "cell_type": "code",
   "execution_count": 539,
   "id": "6d18e5da",
   "metadata": {},
   "outputs": [
    {
     "data": {
      "text/plain": [
       "b    33\n",
       "c    44\n",
       "d    55\n",
       "dtype: int64"
      ]
     },
     "execution_count": 539,
     "metadata": {},
     "output_type": "execute_result"
    }
   ],
   "source": [
    "series2[series2 > 22]"
   ]
  },
  {
   "cell_type": "code",
   "execution_count": 540,
   "id": "77a92a3d",
   "metadata": {},
   "outputs": [
    {
     "data": {
      "text/plain": [
       "a    198\n",
       "b    297\n",
       "c    396\n",
       "d    495\n",
       "dtype: int64"
      ]
     },
     "execution_count": 540,
     "metadata": {},
     "output_type": "execute_result"
    }
   ],
   "source": [
    "series2* 9"
   ]
  },
  {
   "cell_type": "code",
   "execution_count": 541,
   "id": "8ce3bf40",
   "metadata": {},
   "outputs": [
    {
     "data": {
      "text/plain": [
       "a    3.584913e+09\n",
       "b    2.146436e+14\n",
       "c    1.285160e+19\n",
       "d    7.694785e+23\n",
       "dtype: float64"
      ]
     },
     "execution_count": 541,
     "metadata": {},
     "output_type": "execute_result"
    }
   ],
   "source": [
    "# math operation\n",
    "np.exp(series2)"
   ]
  },
  {
   "cell_type": "code",
   "execution_count": 580,
   "id": "a7a4358d",
   "metadata": {},
   "outputs": [],
   "source": [
    "series3 = pd.Series([1,2,3,4,5], index=['a', 'b', 'c', 'd', 'e'])"
   ]
  },
  {
   "cell_type": "code",
   "execution_count": 581,
   "id": "723249e3",
   "metadata": {},
   "outputs": [
    {
     "data": {
      "text/plain": [
       "a    1\n",
       "b    2\n",
       "c    3\n",
       "d    4\n",
       "e    5\n",
       "dtype: int64"
      ]
     },
     "execution_count": 581,
     "metadata": {},
     "output_type": "execute_result"
    }
   ],
   "source": [
    "series3"
   ]
  },
  {
   "cell_type": "code",
   "execution_count": 582,
   "id": "b0cea3aa",
   "metadata": {},
   "outputs": [
    {
     "data": {
      "text/plain": [
       "99    1\n",
       "88    2\n",
       "77    3\n",
       "66    4\n",
       "55    5\n",
       "dtype: int64"
      ]
     },
     "execution_count": 582,
     "metadata": {},
     "output_type": "execute_result"
    }
   ],
   "source": [
    "series3.index = [99, 88, 77, 66, 55]\n",
    "series3"
   ]
  },
  {
   "cell_type": "code",
   "execution_count": 544,
   "id": "1e3c3161",
   "metadata": {},
   "outputs": [
    {
     "data": {
      "text/plain": [
       "a      2.718282\n",
       "b      7.389056\n",
       "c     20.085537\n",
       "d     54.598150\n",
       "e    148.413159\n",
       "dtype: float64"
      ]
     },
     "execution_count": 544,
     "metadata": {},
     "output_type": "execute_result"
    }
   ],
   "source": [
    "np.exp(series3)"
   ]
  },
  {
   "cell_type": "code",
   "execution_count": 545,
   "id": "faa7925d",
   "metadata": {},
   "outputs": [
    {
     "data": {
      "text/plain": [
       "a    1.000000\n",
       "b    1.414214\n",
       "c    1.732051\n",
       "d    2.000000\n",
       "e    2.236068\n",
       "dtype: float64"
      ]
     },
     "execution_count": 545,
     "metadata": {},
     "output_type": "execute_result"
    }
   ],
   "source": [
    "np.sqrt(series3)"
   ]
  },
  {
   "cell_type": "code",
   "execution_count": 546,
   "id": "32f626fd",
   "metadata": {},
   "outputs": [],
   "source": [
    "marks = {'maths': 100, 'physics': 99, 'chemistry': 98}"
   ]
  },
  {
   "cell_type": "code",
   "execution_count": 555,
   "id": "77815e14",
   "metadata": {},
   "outputs": [],
   "source": [
    "marks_series = pd.Series(marks)"
   ]
  },
  {
   "cell_type": "code",
   "execution_count": 556,
   "id": "aa54dec2",
   "metadata": {},
   "outputs": [
    {
     "data": {
      "text/plain": [
       "maths        100\n",
       "physics       99\n",
       "chemistry     98\n",
       "dtype: int64"
      ]
     },
     "execution_count": 556,
     "metadata": {},
     "output_type": "execute_result"
    }
   ],
   "source": [
    "marks_series"
   ]
  },
  {
   "cell_type": "code",
   "execution_count": 557,
   "id": "e3b29e28",
   "metadata": {},
   "outputs": [],
   "source": [
    "# converting a dictionary to series will make the key as index and the value as the cell values"
   ]
  },
  {
   "cell_type": "code",
   "execution_count": 558,
   "id": "a49b1e0c",
   "metadata": {},
   "outputs": [
    {
     "data": {
      "text/plain": [
       "Index(['maths', 'physics', 'chemistry'], dtype='object')"
      ]
     },
     "execution_count": 558,
     "metadata": {},
     "output_type": "execute_result"
    }
   ],
   "source": [
    "marks_series.index"
   ]
  },
  {
   "cell_type": "code",
   "execution_count": 559,
   "id": "6a910b05",
   "metadata": {},
   "outputs": [
    {
     "data": {
      "text/plain": [
       "science   NaN\n",
       "English   NaN\n",
       "Biology   NaN\n",
       "dtype: float64"
      ]
     },
     "execution_count": 559,
     "metadata": {},
     "output_type": "execute_result"
    }
   ],
   "source": [
    "subs_arr = ['science', 'English', 'Biology']\n",
    "\n",
    "marks_series2 = pd.Series(marks, index=subs_arr)\n",
    "marks_series2"
   ]
  },
  {
   "cell_type": "code",
   "execution_count": 560,
   "id": "286014b0",
   "metadata": {},
   "outputs": [
    {
     "data": {
      "text/plain": [
       "science    True\n",
       "English    True\n",
       "Biology    True\n",
       "dtype: bool"
      ]
     },
     "execution_count": 560,
     "metadata": {},
     "output_type": "execute_result"
    }
   ],
   "source": [
    "pd.isnull(marks_series2)"
   ]
  },
  {
   "cell_type": "code",
   "execution_count": 561,
   "id": "7713becb",
   "metadata": {},
   "outputs": [
    {
     "data": {
      "text/plain": [
       "science    False\n",
       "English    False\n",
       "Biology    False\n",
       "dtype: bool"
      ]
     },
     "execution_count": 561,
     "metadata": {},
     "output_type": "execute_result"
    }
   ],
   "source": [
    "pd.notnull(marks_series2)"
   ]
  },
  {
   "cell_type": "code",
   "execution_count": 562,
   "id": "0fabcb2a",
   "metadata": {},
   "outputs": [
    {
     "data": {
      "text/plain": [
       "maths        True\n",
       "physics      True\n",
       "chemistry    True\n",
       "dtype: bool"
      ]
     },
     "execution_count": 562,
     "metadata": {},
     "output_type": "execute_result"
    }
   ],
   "source": [
    "pd.notnull(marks_series)"
   ]
  },
  {
   "cell_type": "code",
   "execution_count": 563,
   "id": "f426ee48",
   "metadata": {},
   "outputs": [],
   "source": [
    "series3 = pd.Series({ 'maths': 100, 'physics': 99 })"
   ]
  },
  {
   "cell_type": "code",
   "execution_count": 564,
   "id": "cbb89f32",
   "metadata": {},
   "outputs": [],
   "source": [
    "series4 = pd.Series({ 'maths': 99, 'physics': 100 })"
   ]
  },
  {
   "cell_type": "code",
   "execution_count": 566,
   "id": "1e4bace2",
   "metadata": {},
   "outputs": [],
   "source": [
    "series_res = series3 + series4"
   ]
  },
  {
   "cell_type": "code",
   "execution_count": 567,
   "id": "dc15f306",
   "metadata": {},
   "outputs": [
    {
     "data": {
      "text/plain": [
       "maths      199\n",
       "physics    199\n",
       "dtype: int64"
      ]
     },
     "execution_count": 567,
     "metadata": {},
     "output_type": "execute_result"
    }
   ],
   "source": [
    "series_res "
   ]
  },
  {
   "cell_type": "code",
   "execution_count": 573,
   "id": "839af4cd",
   "metadata": {},
   "outputs": [],
   "source": [
    "series_res.name = 'marks'"
   ]
  },
  {
   "cell_type": "code",
   "execution_count": 574,
   "id": "c77b1e98",
   "metadata": {},
   "outputs": [],
   "source": [
    "series_res.index.name = 'subs'"
   ]
  },
  {
   "cell_type": "code",
   "execution_count": 575,
   "id": "a47391d7",
   "metadata": {},
   "outputs": [
    {
     "data": {
      "text/plain": [
       "subs\n",
       "maths      199\n",
       "physics    199\n",
       "Name: marks, dtype: int64"
      ]
     },
     "execution_count": 575,
     "metadata": {},
     "output_type": "execute_result"
    }
   ],
   "source": [
    "series_res"
   ]
  },
  {
   "cell_type": "code",
   "execution_count": 576,
   "id": "32c3e1aa",
   "metadata": {},
   "outputs": [],
   "source": [
    "# name of the entire series "
   ]
  },
  {
   "cell_type": "code",
   "execution_count": 583,
   "id": "d57ec056",
   "metadata": {},
   "outputs": [],
   "source": [
    "# Dataframe ---> represents physically a two-dimensional data in tabular form of rows and columns\n",
    "# it is like a dict of series elements having common row indes"
   ]
  },
  {
   "cell_type": "code",
   "execution_count": 585,
   "id": "c4c95d20",
   "metadata": {},
   "outputs": [],
   "source": [
    "# has both the row and column index\n",
    "# row index is similar to seriers index (default: 0 to n-1)"
   ]
  },
  {
   "cell_type": "code",
   "execution_count": 586,
   "id": "5b379e4c",
   "metadata": {},
   "outputs": [],
   "source": [
    "# Column index is the variable names by default"
   ]
  },
  {
   "cell_type": "code",
   "execution_count": 587,
   "id": "1826c703",
   "metadata": {},
   "outputs": [],
   "source": [
    "# Columns can be variables of different value types (numeric, string, boolean)"
   ]
  },
  {
   "cell_type": "code",
   "execution_count": 588,
   "id": "4838ade0",
   "metadata": {},
   "outputs": [],
   "source": [
    "# year wise metro population"
   ]
  },
  {
   "cell_type": "code",
   "execution_count": 589,
   "id": "6fe7ab9e",
   "metadata": {},
   "outputs": [],
   "source": [
    "dict1 = {'metro': ['Delhi', 'Delhi', 'Delhi', 'Mumbai', 'Mumbai', 'Mumbai'],\n",
    "         'year': [2011, 2012, 2013, 2011, 2012, 2013],\n",
    "         'popcr': [1.67, 1.72, 1.77, 2.07,2.11, 2.15]\n",
    "        }"
   ]
  },
  {
   "cell_type": "code",
   "execution_count": 590,
   "id": "10b452a3",
   "metadata": {},
   "outputs": [],
   "source": [
    "df = pd.DataFrame(dict1)"
   ]
  },
  {
   "cell_type": "code",
   "execution_count": 600,
   "id": "8940ec5b",
   "metadata": {},
   "outputs": [
    {
     "data": {
      "text/html": [
       "<div>\n",
       "<style scoped>\n",
       "    .dataframe tbody tr th:only-of-type {\n",
       "        vertical-align: middle;\n",
       "    }\n",
       "\n",
       "    .dataframe tbody tr th {\n",
       "        vertical-align: top;\n",
       "    }\n",
       "\n",
       "    .dataframe thead th {\n",
       "        text-align: right;\n",
       "    }\n",
       "</style>\n",
       "<table border=\"1\" class=\"dataframe\">\n",
       "  <thead>\n",
       "    <tr style=\"text-align: right;\">\n",
       "      <th></th>\n",
       "      <th>metro</th>\n",
       "      <th>year</th>\n",
       "      <th>popcr</th>\n",
       "    </tr>\n",
       "  </thead>\n",
       "  <tbody>\n",
       "    <tr>\n",
       "      <th>0</th>\n",
       "      <td>Delhi</td>\n",
       "      <td>2011</td>\n",
       "      <td>1.67</td>\n",
       "    </tr>\n",
       "    <tr>\n",
       "      <th>1</th>\n",
       "      <td>Delhi</td>\n",
       "      <td>2012</td>\n",
       "      <td>1.72</td>\n",
       "    </tr>\n",
       "    <tr>\n",
       "      <th>2</th>\n",
       "      <td>Delhi</td>\n",
       "      <td>2013</td>\n",
       "      <td>1.77</td>\n",
       "    </tr>\n",
       "    <tr>\n",
       "      <th>3</th>\n",
       "      <td>Mumbai</td>\n",
       "      <td>2011</td>\n",
       "      <td>2.07</td>\n",
       "    </tr>\n",
       "    <tr>\n",
       "      <th>4</th>\n",
       "      <td>Mumbai</td>\n",
       "      <td>2012</td>\n",
       "      <td>2.11</td>\n",
       "    </tr>\n",
       "    <tr>\n",
       "      <th>5</th>\n",
       "      <td>Mumbai</td>\n",
       "      <td>2013</td>\n",
       "      <td>2.15</td>\n",
       "    </tr>\n",
       "  </tbody>\n",
       "</table>\n",
       "</div>"
      ],
      "text/plain": [
       "    metro  year  popcr\n",
       "0   Delhi  2011   1.67\n",
       "1   Delhi  2012   1.72\n",
       "2   Delhi  2013   1.77\n",
       "3  Mumbai  2011   2.07\n",
       "4  Mumbai  2012   2.11\n",
       "5  Mumbai  2013   2.15"
      ]
     },
     "execution_count": 600,
     "metadata": {},
     "output_type": "execute_result"
    }
   ],
   "source": [
    "df"
   ]
  },
  {
   "cell_type": "code",
   "execution_count": 602,
   "id": "60a5cf85",
   "metadata": {},
   "outputs": [
    {
     "data": {
      "text/plain": [
       "metro     object\n",
       "year       int64\n",
       "popcr    float64\n",
       "dtype: object"
      ]
     },
     "execution_count": 602,
     "metadata": {},
     "output_type": "execute_result"
    }
   ],
   "source": [
    "df.dtypes"
   ]
  },
  {
   "cell_type": "code",
   "execution_count": 605,
   "id": "6f1c4707",
   "metadata": {},
   "outputs": [
    {
     "data": {
      "text/plain": [
       "Index(['metro', 'year', 'popcr'], dtype='object')"
      ]
     },
     "execution_count": 605,
     "metadata": {},
     "output_type": "execute_result"
    }
   ],
   "source": [
    "df.columns"
   ]
  },
  {
   "cell_type": "code",
   "execution_count": 607,
   "id": "a84848c3",
   "metadata": {},
   "outputs": [],
   "source": [
    "df.columns = ['year', 'popcr', 'metro']"
   ]
  },
  {
   "cell_type": "code",
   "execution_count": 610,
   "id": "1afb2e28",
   "metadata": {},
   "outputs": [
    {
     "data": {
      "text/html": [
       "<div>\n",
       "<style scoped>\n",
       "    .dataframe tbody tr th:only-of-type {\n",
       "        vertical-align: middle;\n",
       "    }\n",
       "\n",
       "    .dataframe tbody tr th {\n",
       "        vertical-align: top;\n",
       "    }\n",
       "\n",
       "    .dataframe thead th {\n",
       "        text-align: right;\n",
       "    }\n",
       "</style>\n",
       "<table border=\"1\" class=\"dataframe\">\n",
       "  <thead>\n",
       "    <tr style=\"text-align: right;\">\n",
       "      <th></th>\n",
       "      <th>year</th>\n",
       "      <th>popcr</th>\n",
       "      <th>metro</th>\n",
       "    </tr>\n",
       "  </thead>\n",
       "  <tbody>\n",
       "    <tr>\n",
       "      <th>0</th>\n",
       "      <td>Delhi</td>\n",
       "      <td>2011</td>\n",
       "      <td>1.67</td>\n",
       "    </tr>\n",
       "    <tr>\n",
       "      <th>1</th>\n",
       "      <td>Delhi</td>\n",
       "      <td>2012</td>\n",
       "      <td>1.72</td>\n",
       "    </tr>\n",
       "    <tr>\n",
       "      <th>2</th>\n",
       "      <td>Delhi</td>\n",
       "      <td>2013</td>\n",
       "      <td>1.77</td>\n",
       "    </tr>\n",
       "    <tr>\n",
       "      <th>3</th>\n",
       "      <td>Mumbai</td>\n",
       "      <td>2011</td>\n",
       "      <td>2.07</td>\n",
       "    </tr>\n",
       "    <tr>\n",
       "      <th>4</th>\n",
       "      <td>Mumbai</td>\n",
       "      <td>2012</td>\n",
       "      <td>2.11</td>\n",
       "    </tr>\n",
       "    <tr>\n",
       "      <th>5</th>\n",
       "      <td>Mumbai</td>\n",
       "      <td>2013</td>\n",
       "      <td>2.15</td>\n",
       "    </tr>\n",
       "  </tbody>\n",
       "</table>\n",
       "</div>"
      ],
      "text/plain": [
       "     year  popcr  metro\n",
       "0   Delhi   2011   1.67\n",
       "1   Delhi   2012   1.72\n",
       "2   Delhi   2013   1.77\n",
       "3  Mumbai   2011   2.07\n",
       "4  Mumbai   2012   2.11\n",
       "5  Mumbai   2013   2.15"
      ]
     },
     "execution_count": 610,
     "metadata": {},
     "output_type": "execute_result"
    }
   ],
   "source": [
    "df"
   ]
  },
  {
   "cell_type": "code",
   "execution_count": 613,
   "id": "e30018de",
   "metadata": {},
   "outputs": [
    {
     "data": {
      "text/html": [
       "<div>\n",
       "<style scoped>\n",
       "    .dataframe tbody tr th:only-of-type {\n",
       "        vertical-align: middle;\n",
       "    }\n",
       "\n",
       "    .dataframe tbody tr th {\n",
       "        vertical-align: top;\n",
       "    }\n",
       "\n",
       "    .dataframe thead th {\n",
       "        text-align: right;\n",
       "    }\n",
       "</style>\n",
       "<table border=\"1\" class=\"dataframe\">\n",
       "  <thead>\n",
       "    <tr style=\"text-align: right;\">\n",
       "      <th></th>\n",
       "      <th>year</th>\n",
       "      <th>popcr</th>\n",
       "      <th>metro</th>\n",
       "    </tr>\n",
       "  </thead>\n",
       "  <tbody>\n",
       "    <tr>\n",
       "      <th>99</th>\n",
       "      <td>Delhi</td>\n",
       "      <td>2011</td>\n",
       "      <td>1.67</td>\n",
       "    </tr>\n",
       "    <tr>\n",
       "      <th>88</th>\n",
       "      <td>Delhi</td>\n",
       "      <td>2012</td>\n",
       "      <td>1.72</td>\n",
       "    </tr>\n",
       "    <tr>\n",
       "      <th>77</th>\n",
       "      <td>Delhi</td>\n",
       "      <td>2013</td>\n",
       "      <td>1.77</td>\n",
       "    </tr>\n",
       "    <tr>\n",
       "      <th>66</th>\n",
       "      <td>Mumbai</td>\n",
       "      <td>2011</td>\n",
       "      <td>2.07</td>\n",
       "    </tr>\n",
       "    <tr>\n",
       "      <th>55</th>\n",
       "      <td>Mumbai</td>\n",
       "      <td>2012</td>\n",
       "      <td>2.11</td>\n",
       "    </tr>\n",
       "    <tr>\n",
       "      <th>44</th>\n",
       "      <td>Mumbai</td>\n",
       "      <td>2013</td>\n",
       "      <td>2.15</td>\n",
       "    </tr>\n",
       "  </tbody>\n",
       "</table>\n",
       "</div>"
      ],
      "text/plain": [
       "      year  popcr  metro\n",
       "99   Delhi   2011   1.67\n",
       "88   Delhi   2012   1.72\n",
       "77   Delhi   2013   1.77\n",
       "66  Mumbai   2011   2.07\n",
       "55  Mumbai   2012   2.11\n",
       "44  Mumbai   2013   2.15"
      ]
     },
     "execution_count": 613,
     "metadata": {},
     "output_type": "execute_result"
    }
   ],
   "source": [
    "df.index = [99, 88, 77, 66, 55, 44]\n",
    "df"
   ]
  },
  {
   "cell_type": "code",
   "execution_count": 594,
   "id": "2133076f",
   "metadata": {},
   "outputs": [],
   "source": [
    "dict2 = [{'city': 'Chennai', 'pop': 1.23, 'year': 2017},  \n",
    "         {'city': 'Mumbai', 'pop': 1.72, 'year': 2018}, \n",
    "         {'city': 'Delhi', 'pop': 2.3, 'year': 2019}\n",
    "        ]"
   ]
  },
  {
   "cell_type": "code",
   "execution_count": 595,
   "id": "27b59e91",
   "metadata": {},
   "outputs": [],
   "source": [
    "df2 = pd.DataFrame(dict2)"
   ]
  },
  {
   "cell_type": "code",
   "execution_count": 598,
   "id": "3f43740d",
   "metadata": {},
   "outputs": [
    {
     "data": {
      "text/html": [
       "<div>\n",
       "<style scoped>\n",
       "    .dataframe tbody tr th:only-of-type {\n",
       "        vertical-align: middle;\n",
       "    }\n",
       "\n",
       "    .dataframe tbody tr th {\n",
       "        vertical-align: top;\n",
       "    }\n",
       "\n",
       "    .dataframe thead th {\n",
       "        text-align: right;\n",
       "    }\n",
       "</style>\n",
       "<table border=\"1\" class=\"dataframe\">\n",
       "  <thead>\n",
       "    <tr style=\"text-align: right;\">\n",
       "      <th></th>\n",
       "      <th>city</th>\n",
       "      <th>pop</th>\n",
       "      <th>year</th>\n",
       "    </tr>\n",
       "  </thead>\n",
       "  <tbody>\n",
       "    <tr>\n",
       "      <th>0</th>\n",
       "      <td>Chennai</td>\n",
       "      <td>1.23</td>\n",
       "      <td>2017</td>\n",
       "    </tr>\n",
       "    <tr>\n",
       "      <th>1</th>\n",
       "      <td>Mumbai</td>\n",
       "      <td>1.72</td>\n",
       "      <td>2018</td>\n",
       "    </tr>\n",
       "  </tbody>\n",
       "</table>\n",
       "</div>"
      ],
      "text/plain": [
       "      city   pop  year\n",
       "0  Chennai  1.23  2017\n",
       "1   Mumbai  1.72  2018"
      ]
     },
     "execution_count": 598,
     "metadata": {},
     "output_type": "execute_result"
    }
   ],
   "source": [
    "df2.head(2)"
   ]
  },
  {
   "cell_type": "code",
   "execution_count": 599,
   "id": "a69166b5",
   "metadata": {},
   "outputs": [
    {
     "data": {
      "text/html": [
       "<div>\n",
       "<style scoped>\n",
       "    .dataframe tbody tr th:only-of-type {\n",
       "        vertical-align: middle;\n",
       "    }\n",
       "\n",
       "    .dataframe tbody tr th {\n",
       "        vertical-align: top;\n",
       "    }\n",
       "\n",
       "    .dataframe thead th {\n",
       "        text-align: right;\n",
       "    }\n",
       "</style>\n",
       "<table border=\"1\" class=\"dataframe\">\n",
       "  <thead>\n",
       "    <tr style=\"text-align: right;\">\n",
       "      <th></th>\n",
       "      <th>city</th>\n",
       "      <th>pop</th>\n",
       "      <th>year</th>\n",
       "    </tr>\n",
       "  </thead>\n",
       "  <tbody>\n",
       "    <tr>\n",
       "      <th>1</th>\n",
       "      <td>Mumbai</td>\n",
       "      <td>1.72</td>\n",
       "      <td>2018</td>\n",
       "    </tr>\n",
       "    <tr>\n",
       "      <th>2</th>\n",
       "      <td>Delhi</td>\n",
       "      <td>2.30</td>\n",
       "      <td>2019</td>\n",
       "    </tr>\n",
       "  </tbody>\n",
       "</table>\n",
       "</div>"
      ],
      "text/plain": [
       "     city   pop  year\n",
       "1  Mumbai  1.72  2018\n",
       "2   Delhi  2.30  2019"
      ]
     },
     "execution_count": 599,
     "metadata": {},
     "output_type": "execute_result"
    }
   ],
   "source": [
    "df2.tail(2)"
   ]
  },
  {
   "cell_type": "code",
   "execution_count": 614,
   "id": "32816702",
   "metadata": {},
   "outputs": [
    {
     "data": {
      "text/plain": [
       "RangeIndex(start=0, stop=3, step=1)"
      ]
     },
     "execution_count": 614,
     "metadata": {},
     "output_type": "execute_result"
    }
   ],
   "source": [
    "df2.index"
   ]
  },
  {
   "cell_type": "code",
   "execution_count": 615,
   "id": "54757a81",
   "metadata": {},
   "outputs": [
    {
     "data": {
      "text/plain": [
       "0    Chennai\n",
       "1     Mumbai\n",
       "2      Delhi\n",
       "Name: city, dtype: object"
      ]
     },
     "execution_count": 615,
     "metadata": {},
     "output_type": "execute_result"
    }
   ],
   "source": [
    "df2.city"
   ]
  },
  {
   "cell_type": "code",
   "execution_count": 616,
   "id": "7667acde",
   "metadata": {},
   "outputs": [
    {
     "data": {
      "text/plain": [
       "<bound method DataFrame.pop of       city   pop  year\n",
       "0  Chennai  1.23  2017\n",
       "1   Mumbai  1.72  2018\n",
       "2    Delhi  2.30  2019>"
      ]
     },
     "execution_count": 616,
     "metadata": {},
     "output_type": "execute_result"
    }
   ],
   "source": [
    "df2.pop"
   ]
  },
  {
   "cell_type": "code",
   "execution_count": 620,
   "id": "0a1ab6cd",
   "metadata": {},
   "outputs": [
    {
     "data": {
      "text/plain": [
       "0    1.23\n",
       "1    1.72\n",
       "2    2.30\n",
       "Name: pop, dtype: float64"
      ]
     },
     "execution_count": 620,
     "metadata": {},
     "output_type": "execute_result"
    }
   ],
   "source": [
    "df2['pop'][:10]"
   ]
  },
  {
   "cell_type": "code",
   "execution_count": 623,
   "id": "3131e323",
   "metadata": {},
   "outputs": [
    {
     "data": {
      "text/plain": [
       "0    1.23\n",
       "1    1.72\n",
       "2    2.30\n",
       "Name: pop, dtype: float64"
      ]
     },
     "execution_count": 623,
     "metadata": {},
     "output_type": "execute_result"
    }
   ],
   "source": [
    "df2['pop'][:]"
   ]
  },
  {
   "cell_type": "code",
   "execution_count": 624,
   "id": "70d85c09",
   "metadata": {},
   "outputs": [
    {
     "data": {
      "text/html": [
       "<div>\n",
       "<style scoped>\n",
       "    .dataframe tbody tr th:only-of-type {\n",
       "        vertical-align: middle;\n",
       "    }\n",
       "\n",
       "    .dataframe tbody tr th {\n",
       "        vertical-align: top;\n",
       "    }\n",
       "\n",
       "    .dataframe thead th {\n",
       "        text-align: right;\n",
       "    }\n",
       "</style>\n",
       "<table border=\"1\" class=\"dataframe\">\n",
       "  <thead>\n",
       "    <tr style=\"text-align: right;\">\n",
       "      <th></th>\n",
       "      <th>city</th>\n",
       "      <th>pop</th>\n",
       "      <th>year</th>\n",
       "    </tr>\n",
       "  </thead>\n",
       "  <tbody>\n",
       "    <tr>\n",
       "      <th>0</th>\n",
       "      <td>Chennai</td>\n",
       "      <td>1.23</td>\n",
       "      <td>2017</td>\n",
       "    </tr>\n",
       "    <tr>\n",
       "      <th>1</th>\n",
       "      <td>Mumbai</td>\n",
       "      <td>1.72</td>\n",
       "      <td>2018</td>\n",
       "    </tr>\n",
       "    <tr>\n",
       "      <th>2</th>\n",
       "      <td>Delhi</td>\n",
       "      <td>2.30</td>\n",
       "      <td>2019</td>\n",
       "    </tr>\n",
       "  </tbody>\n",
       "</table>\n",
       "</div>"
      ],
      "text/plain": [
       "      city   pop  year\n",
       "0  Chennai  1.23  2017\n",
       "1   Mumbai  1.72  2018\n",
       "2    Delhi  2.30  2019"
      ]
     },
     "execution_count": 624,
     "metadata": {},
     "output_type": "execute_result"
    }
   ],
   "source": [
    "df2"
   ]
  },
  {
   "cell_type": "code",
   "execution_count": 625,
   "id": "5659a8bf",
   "metadata": {},
   "outputs": [
    {
     "data": {
      "text/plain": [
       "city    Mumbai\n",
       "pop       1.72\n",
       "year      2018\n",
       "Name: 1, dtype: object"
      ]
     },
     "execution_count": 625,
     "metadata": {},
     "output_type": "execute_result"
    }
   ],
   "source": [
    "df2.loc[1] # access the particualr row with the help of index"
   ]
  },
  {
   "cell_type": "code",
   "execution_count": 626,
   "id": "b5c82b14",
   "metadata": {},
   "outputs": [
    {
     "data": {
      "text/plain": [
       "city    Delhi\n",
       "pop       2.3\n",
       "year     2019\n",
       "Name: 2, dtype: object"
      ]
     },
     "execution_count": 626,
     "metadata": {},
     "output_type": "execute_result"
    }
   ],
   "source": [
    "df2.loc[2]"
   ]
  },
  {
   "cell_type": "code",
   "execution_count": 627,
   "id": "1c385cd2",
   "metadata": {},
   "outputs": [],
   "source": [
    "df2['pre-pop'] = [1.2, 1.5, 2.1]"
   ]
  },
  {
   "cell_type": "code",
   "execution_count": 628,
   "id": "3000c994",
   "metadata": {},
   "outputs": [
    {
     "data": {
      "text/html": [
       "<div>\n",
       "<style scoped>\n",
       "    .dataframe tbody tr th:only-of-type {\n",
       "        vertical-align: middle;\n",
       "    }\n",
       "\n",
       "    .dataframe tbody tr th {\n",
       "        vertical-align: top;\n",
       "    }\n",
       "\n",
       "    .dataframe thead th {\n",
       "        text-align: right;\n",
       "    }\n",
       "</style>\n",
       "<table border=\"1\" class=\"dataframe\">\n",
       "  <thead>\n",
       "    <tr style=\"text-align: right;\">\n",
       "      <th></th>\n",
       "      <th>city</th>\n",
       "      <th>pop</th>\n",
       "      <th>year</th>\n",
       "      <th>pre-pop</th>\n",
       "    </tr>\n",
       "  </thead>\n",
       "  <tbody>\n",
       "    <tr>\n",
       "      <th>0</th>\n",
       "      <td>Chennai</td>\n",
       "      <td>1.23</td>\n",
       "      <td>2017</td>\n",
       "      <td>1.2</td>\n",
       "    </tr>\n",
       "    <tr>\n",
       "      <th>1</th>\n",
       "      <td>Mumbai</td>\n",
       "      <td>1.72</td>\n",
       "      <td>2018</td>\n",
       "      <td>1.5</td>\n",
       "    </tr>\n",
       "    <tr>\n",
       "      <th>2</th>\n",
       "      <td>Delhi</td>\n",
       "      <td>2.30</td>\n",
       "      <td>2019</td>\n",
       "      <td>2.1</td>\n",
       "    </tr>\n",
       "  </tbody>\n",
       "</table>\n",
       "</div>"
      ],
      "text/plain": [
       "      city   pop  year  pre-pop\n",
       "0  Chennai  1.23  2017      1.2\n",
       "1   Mumbai  1.72  2018      1.5\n",
       "2    Delhi  2.30  2019      2.1"
      ]
     },
     "execution_count": 628,
     "metadata": {},
     "output_type": "execute_result"
    }
   ],
   "source": [
    "df2"
   ]
  },
  {
   "cell_type": "code",
   "execution_count": 629,
   "id": "30a74d49",
   "metadata": {},
   "outputs": [],
   "source": [
    "df2['area'] = [6000, 7000, 8000]"
   ]
  },
  {
   "cell_type": "code",
   "execution_count": 630,
   "id": "265eab89",
   "metadata": {},
   "outputs": [
    {
     "data": {
      "text/html": [
       "<div>\n",
       "<style scoped>\n",
       "    .dataframe tbody tr th:only-of-type {\n",
       "        vertical-align: middle;\n",
       "    }\n",
       "\n",
       "    .dataframe tbody tr th {\n",
       "        vertical-align: top;\n",
       "    }\n",
       "\n",
       "    .dataframe thead th {\n",
       "        text-align: right;\n",
       "    }\n",
       "</style>\n",
       "<table border=\"1\" class=\"dataframe\">\n",
       "  <thead>\n",
       "    <tr style=\"text-align: right;\">\n",
       "      <th></th>\n",
       "      <th>city</th>\n",
       "      <th>pop</th>\n",
       "      <th>year</th>\n",
       "      <th>pre-pop</th>\n",
       "      <th>area</th>\n",
       "    </tr>\n",
       "  </thead>\n",
       "  <tbody>\n",
       "    <tr>\n",
       "      <th>0</th>\n",
       "      <td>Chennai</td>\n",
       "      <td>1.23</td>\n",
       "      <td>2017</td>\n",
       "      <td>1.2</td>\n",
       "      <td>6000</td>\n",
       "    </tr>\n",
       "    <tr>\n",
       "      <th>1</th>\n",
       "      <td>Mumbai</td>\n",
       "      <td>1.72</td>\n",
       "      <td>2018</td>\n",
       "      <td>1.5</td>\n",
       "      <td>7000</td>\n",
       "    </tr>\n",
       "    <tr>\n",
       "      <th>2</th>\n",
       "      <td>Delhi</td>\n",
       "      <td>2.30</td>\n",
       "      <td>2019</td>\n",
       "      <td>2.1</td>\n",
       "      <td>8000</td>\n",
       "    </tr>\n",
       "  </tbody>\n",
       "</table>\n",
       "</div>"
      ],
      "text/plain": [
       "      city   pop  year  pre-pop  area\n",
       "0  Chennai  1.23  2017      1.2  6000\n",
       "1   Mumbai  1.72  2018      1.5  7000\n",
       "2    Delhi  2.30  2019      2.1  8000"
      ]
     },
     "execution_count": 630,
     "metadata": {},
     "output_type": "execute_result"
    }
   ],
   "source": [
    "df2"
   ]
  },
  {
   "cell_type": "code",
   "execution_count": 631,
   "id": "e538ce9c",
   "metadata": {},
   "outputs": [],
   "source": [
    "val = pd.Series([2.1, 1.7,  1.9], index=[2, 0, 1])"
   ]
  },
  {
   "cell_type": "code",
   "execution_count": 632,
   "id": "0fbf1698",
   "metadata": {},
   "outputs": [],
   "source": [
    "df2['pre-pop'] = val"
   ]
  },
  {
   "cell_type": "code",
   "execution_count": 633,
   "id": "7ec8b6aa",
   "metadata": {},
   "outputs": [
    {
     "data": {
      "text/html": [
       "<div>\n",
       "<style scoped>\n",
       "    .dataframe tbody tr th:only-of-type {\n",
       "        vertical-align: middle;\n",
       "    }\n",
       "\n",
       "    .dataframe tbody tr th {\n",
       "        vertical-align: top;\n",
       "    }\n",
       "\n",
       "    .dataframe thead th {\n",
       "        text-align: right;\n",
       "    }\n",
       "</style>\n",
       "<table border=\"1\" class=\"dataframe\">\n",
       "  <thead>\n",
       "    <tr style=\"text-align: right;\">\n",
       "      <th></th>\n",
       "      <th>city</th>\n",
       "      <th>pop</th>\n",
       "      <th>year</th>\n",
       "      <th>pre-pop</th>\n",
       "      <th>area</th>\n",
       "    </tr>\n",
       "  </thead>\n",
       "  <tbody>\n",
       "    <tr>\n",
       "      <th>0</th>\n",
       "      <td>Chennai</td>\n",
       "      <td>1.23</td>\n",
       "      <td>2017</td>\n",
       "      <td>1.7</td>\n",
       "      <td>6000</td>\n",
       "    </tr>\n",
       "    <tr>\n",
       "      <th>1</th>\n",
       "      <td>Mumbai</td>\n",
       "      <td>1.72</td>\n",
       "      <td>2018</td>\n",
       "      <td>1.9</td>\n",
       "      <td>7000</td>\n",
       "    </tr>\n",
       "    <tr>\n",
       "      <th>2</th>\n",
       "      <td>Delhi</td>\n",
       "      <td>2.30</td>\n",
       "      <td>2019</td>\n",
       "      <td>2.1</td>\n",
       "      <td>8000</td>\n",
       "    </tr>\n",
       "  </tbody>\n",
       "</table>\n",
       "</div>"
      ],
      "text/plain": [
       "      city   pop  year  pre-pop  area\n",
       "0  Chennai  1.23  2017      1.7  6000\n",
       "1   Mumbai  1.72  2018      1.9  7000\n",
       "2    Delhi  2.30  2019      2.1  8000"
      ]
     },
     "execution_count": 633,
     "metadata": {},
     "output_type": "execute_result"
    }
   ],
   "source": [
    "df2"
   ]
  },
  {
   "cell_type": "code",
   "execution_count": 634,
   "id": "2205176a",
   "metadata": {},
   "outputs": [],
   "source": [
    "df2['isNorth'] = df2.city == 'Delhi'"
   ]
  },
  {
   "cell_type": "code",
   "execution_count": 635,
   "id": "c9d6ac52",
   "metadata": {},
   "outputs": [
    {
     "data": {
      "text/html": [
       "<div>\n",
       "<style scoped>\n",
       "    .dataframe tbody tr th:only-of-type {\n",
       "        vertical-align: middle;\n",
       "    }\n",
       "\n",
       "    .dataframe tbody tr th {\n",
       "        vertical-align: top;\n",
       "    }\n",
       "\n",
       "    .dataframe thead th {\n",
       "        text-align: right;\n",
       "    }\n",
       "</style>\n",
       "<table border=\"1\" class=\"dataframe\">\n",
       "  <thead>\n",
       "    <tr style=\"text-align: right;\">\n",
       "      <th></th>\n",
       "      <th>city</th>\n",
       "      <th>pop</th>\n",
       "      <th>year</th>\n",
       "      <th>pre-pop</th>\n",
       "      <th>area</th>\n",
       "      <th>isNorth</th>\n",
       "    </tr>\n",
       "  </thead>\n",
       "  <tbody>\n",
       "    <tr>\n",
       "      <th>0</th>\n",
       "      <td>Chennai</td>\n",
       "      <td>1.23</td>\n",
       "      <td>2017</td>\n",
       "      <td>1.7</td>\n",
       "      <td>6000</td>\n",
       "      <td>False</td>\n",
       "    </tr>\n",
       "    <tr>\n",
       "      <th>1</th>\n",
       "      <td>Mumbai</td>\n",
       "      <td>1.72</td>\n",
       "      <td>2018</td>\n",
       "      <td>1.9</td>\n",
       "      <td>7000</td>\n",
       "      <td>False</td>\n",
       "    </tr>\n",
       "    <tr>\n",
       "      <th>2</th>\n",
       "      <td>Delhi</td>\n",
       "      <td>2.30</td>\n",
       "      <td>2019</td>\n",
       "      <td>2.1</td>\n",
       "      <td>8000</td>\n",
       "      <td>True</td>\n",
       "    </tr>\n",
       "  </tbody>\n",
       "</table>\n",
       "</div>"
      ],
      "text/plain": [
       "      city   pop  year  pre-pop  area  isNorth\n",
       "0  Chennai  1.23  2017      1.7  6000    False\n",
       "1   Mumbai  1.72  2018      1.9  7000    False\n",
       "2    Delhi  2.30  2019      2.1  8000     True"
      ]
     },
     "execution_count": 635,
     "metadata": {},
     "output_type": "execute_result"
    }
   ],
   "source": [
    "df2"
   ]
  },
  {
   "cell_type": "code",
   "execution_count": 637,
   "id": "f0061ee7",
   "metadata": {},
   "outputs": [],
   "source": [
    "del df2['isNorth']"
   ]
  },
  {
   "cell_type": "code",
   "execution_count": 638,
   "id": "08918454",
   "metadata": {},
   "outputs": [
    {
     "data": {
      "text/html": [
       "<div>\n",
       "<style scoped>\n",
       "    .dataframe tbody tr th:only-of-type {\n",
       "        vertical-align: middle;\n",
       "    }\n",
       "\n",
       "    .dataframe tbody tr th {\n",
       "        vertical-align: top;\n",
       "    }\n",
       "\n",
       "    .dataframe thead th {\n",
       "        text-align: right;\n",
       "    }\n",
       "</style>\n",
       "<table border=\"1\" class=\"dataframe\">\n",
       "  <thead>\n",
       "    <tr style=\"text-align: right;\">\n",
       "      <th></th>\n",
       "      <th>city</th>\n",
       "      <th>pop</th>\n",
       "      <th>year</th>\n",
       "      <th>pre-pop</th>\n",
       "      <th>area</th>\n",
       "    </tr>\n",
       "  </thead>\n",
       "  <tbody>\n",
       "    <tr>\n",
       "      <th>0</th>\n",
       "      <td>Chennai</td>\n",
       "      <td>1.23</td>\n",
       "      <td>2017</td>\n",
       "      <td>1.7</td>\n",
       "      <td>6000</td>\n",
       "    </tr>\n",
       "    <tr>\n",
       "      <th>1</th>\n",
       "      <td>Mumbai</td>\n",
       "      <td>1.72</td>\n",
       "      <td>2018</td>\n",
       "      <td>1.9</td>\n",
       "      <td>7000</td>\n",
       "    </tr>\n",
       "    <tr>\n",
       "      <th>2</th>\n",
       "      <td>Delhi</td>\n",
       "      <td>2.30</td>\n",
       "      <td>2019</td>\n",
       "      <td>2.1</td>\n",
       "      <td>8000</td>\n",
       "    </tr>\n",
       "  </tbody>\n",
       "</table>\n",
       "</div>"
      ],
      "text/plain": [
       "      city   pop  year  pre-pop  area\n",
       "0  Chennai  1.23  2017      1.7  6000\n",
       "1   Mumbai  1.72  2018      1.9  7000\n",
       "2    Delhi  2.30  2019      2.1  8000"
      ]
     },
     "execution_count": 638,
     "metadata": {},
     "output_type": "execute_result"
    }
   ],
   "source": [
    "df2"
   ]
  },
  {
   "cell_type": "code",
   "execution_count": 639,
   "id": "2ccee08a",
   "metadata": {},
   "outputs": [
    {
     "data": {
      "text/plain": [
       "Index(['city', 'pop', 'year', 'pre-pop', 'area'], dtype='object')"
      ]
     },
     "execution_count": 639,
     "metadata": {},
     "output_type": "execute_result"
    }
   ],
   "source": [
    "df2.columns"
   ]
  },
  {
   "cell_type": "code",
   "execution_count": 640,
   "id": "c39d2b7b",
   "metadata": {},
   "outputs": [],
   "source": [
    "cities = { 'chennai': {'2011': 1.2, '2012': 1.5}, \n",
    "          'mumbai': {'2011': 1.5, '2012': 1.7}, \n",
    "          'delhi': {'2011': 2.1, '2012': 2.4} \n",
    "         }"
   ]
  },
  {
   "cell_type": "code",
   "execution_count": 644,
   "id": "4c2b0804",
   "metadata": {},
   "outputs": [],
   "source": [
    "df3 = pd.DataFrame(cities) # nested dictionary frame where the out keys are take as the columns and the inner keys are\n",
    "# take as indices"
   ]
  },
  {
   "cell_type": "code",
   "execution_count": 642,
   "id": "f23eebe2",
   "metadata": {},
   "outputs": [
    {
     "data": {
      "text/html": [
       "<div>\n",
       "<style scoped>\n",
       "    .dataframe tbody tr th:only-of-type {\n",
       "        vertical-align: middle;\n",
       "    }\n",
       "\n",
       "    .dataframe tbody tr th {\n",
       "        vertical-align: top;\n",
       "    }\n",
       "\n",
       "    .dataframe thead th {\n",
       "        text-align: right;\n",
       "    }\n",
       "</style>\n",
       "<table border=\"1\" class=\"dataframe\">\n",
       "  <thead>\n",
       "    <tr style=\"text-align: right;\">\n",
       "      <th></th>\n",
       "      <th>chennai</th>\n",
       "      <th>mumbai</th>\n",
       "      <th>delhi</th>\n",
       "    </tr>\n",
       "  </thead>\n",
       "  <tbody>\n",
       "    <tr>\n",
       "      <th>2011</th>\n",
       "      <td>1.2</td>\n",
       "      <td>1.5</td>\n",
       "      <td>2.1</td>\n",
       "    </tr>\n",
       "    <tr>\n",
       "      <th>2012</th>\n",
       "      <td>1.5</td>\n",
       "      <td>1.7</td>\n",
       "      <td>2.4</td>\n",
       "    </tr>\n",
       "  </tbody>\n",
       "</table>\n",
       "</div>"
      ],
      "text/plain": [
       "      chennai  mumbai  delhi\n",
       "2011      1.2     1.5    2.1\n",
       "2012      1.5     1.7    2.4"
      ]
     },
     "execution_count": 642,
     "metadata": {},
     "output_type": "execute_result"
    }
   ],
   "source": [
    "df3\n"
   ]
  },
  {
   "cell_type": "code",
   "execution_count": 645,
   "id": "302edf39",
   "metadata": {},
   "outputs": [
    {
     "data": {
      "text/html": [
       "<div>\n",
       "<style scoped>\n",
       "    .dataframe tbody tr th:only-of-type {\n",
       "        vertical-align: middle;\n",
       "    }\n",
       "\n",
       "    .dataframe tbody tr th {\n",
       "        vertical-align: top;\n",
       "    }\n",
       "\n",
       "    .dataframe thead th {\n",
       "        text-align: right;\n",
       "    }\n",
       "</style>\n",
       "<table border=\"1\" class=\"dataframe\">\n",
       "  <thead>\n",
       "    <tr style=\"text-align: right;\">\n",
       "      <th></th>\n",
       "      <th>2011</th>\n",
       "      <th>2012</th>\n",
       "    </tr>\n",
       "  </thead>\n",
       "  <tbody>\n",
       "    <tr>\n",
       "      <th>chennai</th>\n",
       "      <td>1.2</td>\n",
       "      <td>1.5</td>\n",
       "    </tr>\n",
       "    <tr>\n",
       "      <th>mumbai</th>\n",
       "      <td>1.5</td>\n",
       "      <td>1.7</td>\n",
       "    </tr>\n",
       "    <tr>\n",
       "      <th>delhi</th>\n",
       "      <td>2.1</td>\n",
       "      <td>2.4</td>\n",
       "    </tr>\n",
       "  </tbody>\n",
       "</table>\n",
       "</div>"
      ],
      "text/plain": [
       "         2011  2012\n",
       "chennai   1.2   1.5\n",
       "mumbai    1.5   1.7\n",
       "delhi     2.1   2.4"
      ]
     },
     "execution_count": 645,
     "metadata": {},
     "output_type": "execute_result"
    }
   ],
   "source": [
    "df3.T"
   ]
  },
  {
   "cell_type": "code",
   "execution_count": 648,
   "id": "8daa676e",
   "metadata": {},
   "outputs": [
    {
     "data": {
      "text/html": [
       "<div>\n",
       "<style scoped>\n",
       "    .dataframe tbody tr th:only-of-type {\n",
       "        vertical-align: middle;\n",
       "    }\n",
       "\n",
       "    .dataframe tbody tr th {\n",
       "        vertical-align: top;\n",
       "    }\n",
       "\n",
       "    .dataframe thead th {\n",
       "        text-align: right;\n",
       "    }\n",
       "</style>\n",
       "<table border=\"1\" class=\"dataframe\">\n",
       "  <thead>\n",
       "    <tr style=\"text-align: right;\">\n",
       "      <th></th>\n",
       "      <th>chennai</th>\n",
       "      <th>mumbai</th>\n",
       "      <th>delhi</th>\n",
       "    </tr>\n",
       "  </thead>\n",
       "  <tbody>\n",
       "    <tr>\n",
       "      <th>2011</th>\n",
       "      <td>1.2</td>\n",
       "      <td>1.5</td>\n",
       "      <td>2.1</td>\n",
       "    </tr>\n",
       "    <tr>\n",
       "      <th>2012</th>\n",
       "      <td>1.5</td>\n",
       "      <td>1.7</td>\n",
       "      <td>2.4</td>\n",
       "    </tr>\n",
       "  </tbody>\n",
       "</table>\n",
       "</div>"
      ],
      "text/plain": [
       "      chennai  mumbai  delhi\n",
       "2011      1.2     1.5    2.1\n",
       "2012      1.5     1.7    2.4"
      ]
     },
     "execution_count": 648,
     "metadata": {},
     "output_type": "execute_result"
    }
   ],
   "source": [
    "df3"
   ]
  },
  {
   "cell_type": "code",
   "execution_count": 657,
   "id": "8da02005",
   "metadata": {},
   "outputs": [
    {
     "data": {
      "text/plain": [
       "2011    2.1\n",
       "Name: delhi, dtype: float64"
      ]
     },
     "execution_count": 657,
     "metadata": {},
     "output_type": "execute_result"
    }
   ],
   "source": [
    "df3['delhi'][:-1]"
   ]
  },
  {
   "cell_type": "code",
   "execution_count": 660,
   "id": "3ceb5610",
   "metadata": {},
   "outputs": [
    {
     "data": {
      "text/html": [
       "<div>\n",
       "<style scoped>\n",
       "    .dataframe tbody tr th:only-of-type {\n",
       "        vertical-align: middle;\n",
       "    }\n",
       "\n",
       "    .dataframe tbody tr th {\n",
       "        vertical-align: top;\n",
       "    }\n",
       "\n",
       "    .dataframe thead th {\n",
       "        text-align: right;\n",
       "    }\n",
       "</style>\n",
       "<table border=\"1\" class=\"dataframe\">\n",
       "  <thead>\n",
       "    <tr style=\"text-align: right;\">\n",
       "      <th></th>\n",
       "      <th>Delhi</th>\n",
       "      <th>Mumbai</th>\n",
       "    </tr>\n",
       "  </thead>\n",
       "  <tbody>\n",
       "    <tr>\n",
       "      <th>2011</th>\n",
       "      <td>2.1</td>\n",
       "      <td>1.5</td>\n",
       "    </tr>\n",
       "    <tr>\n",
       "      <th>2012</th>\n",
       "      <td>NaN</td>\n",
       "      <td>1.7</td>\n",
       "    </tr>\n",
       "  </tbody>\n",
       "</table>\n",
       "</div>"
      ],
      "text/plain": [
       "      Delhi  Mumbai\n",
       "2011    2.1     1.5\n",
       "2012    NaN     1.7"
      ]
     },
     "execution_count": 660,
     "metadata": {},
     "output_type": "execute_result"
    }
   ],
   "source": [
    "# using dict of series to create a data frame\n",
    "df4 = pd.DataFrame({ 'Delhi': df3['delhi'][:-1], 'Mumbai': df3['mumbai'][:2] })\n",
    "df4"
   ]
  },
  {
   "cell_type": "code",
   "execution_count": 663,
   "id": "a07f0860",
   "metadata": {},
   "outputs": [],
   "source": [
    "df4.index.name = 'Year'"
   ]
  },
  {
   "cell_type": "code",
   "execution_count": 664,
   "id": "bbff4209",
   "metadata": {},
   "outputs": [
    {
     "data": {
      "text/html": [
       "<div>\n",
       "<style scoped>\n",
       "    .dataframe tbody tr th:only-of-type {\n",
       "        vertical-align: middle;\n",
       "    }\n",
       "\n",
       "    .dataframe tbody tr th {\n",
       "        vertical-align: top;\n",
       "    }\n",
       "\n",
       "    .dataframe thead th {\n",
       "        text-align: right;\n",
       "    }\n",
       "</style>\n",
       "<table border=\"1\" class=\"dataframe\">\n",
       "  <thead>\n",
       "    <tr style=\"text-align: right;\">\n",
       "      <th></th>\n",
       "      <th>Delhi</th>\n",
       "      <th>Mumbai</th>\n",
       "    </tr>\n",
       "    <tr>\n",
       "      <th>Year</th>\n",
       "      <th></th>\n",
       "      <th></th>\n",
       "    </tr>\n",
       "  </thead>\n",
       "  <tbody>\n",
       "    <tr>\n",
       "      <th>2011</th>\n",
       "      <td>2.1</td>\n",
       "      <td>1.5</td>\n",
       "    </tr>\n",
       "    <tr>\n",
       "      <th>2012</th>\n",
       "      <td>NaN</td>\n",
       "      <td>1.7</td>\n",
       "    </tr>\n",
       "  </tbody>\n",
       "</table>\n",
       "</div>"
      ],
      "text/plain": [
       "      Delhi  Mumbai\n",
       "Year               \n",
       "2011    2.1     1.5\n",
       "2012    NaN     1.7"
      ]
     },
     "execution_count": 664,
     "metadata": {},
     "output_type": "execute_result"
    }
   ],
   "source": [
    "df4"
   ]
  },
  {
   "cell_type": "code",
   "execution_count": 665,
   "id": "de8be6cc",
   "metadata": {},
   "outputs": [],
   "source": [
    "df4.columns.name = 'metro'"
   ]
  },
  {
   "cell_type": "code",
   "execution_count": 666,
   "id": "1e7050b6",
   "metadata": {},
   "outputs": [
    {
     "data": {
      "text/html": [
       "<div>\n",
       "<style scoped>\n",
       "    .dataframe tbody tr th:only-of-type {\n",
       "        vertical-align: middle;\n",
       "    }\n",
       "\n",
       "    .dataframe tbody tr th {\n",
       "        vertical-align: top;\n",
       "    }\n",
       "\n",
       "    .dataframe thead th {\n",
       "        text-align: right;\n",
       "    }\n",
       "</style>\n",
       "<table border=\"1\" class=\"dataframe\">\n",
       "  <thead>\n",
       "    <tr style=\"text-align: right;\">\n",
       "      <th>metro</th>\n",
       "      <th>Delhi</th>\n",
       "      <th>Mumbai</th>\n",
       "    </tr>\n",
       "    <tr>\n",
       "      <th>Year</th>\n",
       "      <th></th>\n",
       "      <th></th>\n",
       "    </tr>\n",
       "  </thead>\n",
       "  <tbody>\n",
       "    <tr>\n",
       "      <th>2011</th>\n",
       "      <td>2.1</td>\n",
       "      <td>1.5</td>\n",
       "    </tr>\n",
       "    <tr>\n",
       "      <th>2012</th>\n",
       "      <td>NaN</td>\n",
       "      <td>1.7</td>\n",
       "    </tr>\n",
       "  </tbody>\n",
       "</table>\n",
       "</div>"
      ],
      "text/plain": [
       "metro  Delhi  Mumbai\n",
       "Year                \n",
       "2011     2.1     1.5\n",
       "2012     NaN     1.7"
      ]
     },
     "execution_count": 666,
     "metadata": {},
     "output_type": "execute_result"
    }
   ],
   "source": [
    "df4"
   ]
  },
  {
   "cell_type": "code",
   "execution_count": 668,
   "id": "af3b1ab7",
   "metadata": {},
   "outputs": [
    {
     "data": {
      "text/plain": [
       "array([[2.1, 1.5],\n",
       "       [nan, 1.7]])"
      ]
     },
     "execution_count": 668,
     "metadata": {},
     "output_type": "execute_result"
    }
   ],
   "source": [
    "df4.values # df.value return the n-dimensional numpy.array of the df"
   ]
  },
  {
   "cell_type": "code",
   "execution_count": 669,
   "id": "ac3a9ca2",
   "metadata": {},
   "outputs": [
    {
     "data": {
      "text/html": [
       "<div>\n",
       "<style scoped>\n",
       "    .dataframe tbody tr th:only-of-type {\n",
       "        vertical-align: middle;\n",
       "    }\n",
       "\n",
       "    .dataframe tbody tr th {\n",
       "        vertical-align: top;\n",
       "    }\n",
       "\n",
       "    .dataframe thead th {\n",
       "        text-align: right;\n",
       "    }\n",
       "</style>\n",
       "<table border=\"1\" class=\"dataframe\">\n",
       "  <thead>\n",
       "    <tr style=\"text-align: right;\">\n",
       "      <th></th>\n",
       "      <th>city</th>\n",
       "      <th>pop</th>\n",
       "      <th>year</th>\n",
       "      <th>pre-pop</th>\n",
       "      <th>area</th>\n",
       "    </tr>\n",
       "  </thead>\n",
       "  <tbody>\n",
       "    <tr>\n",
       "      <th>0</th>\n",
       "      <td>Chennai</td>\n",
       "      <td>1.23</td>\n",
       "      <td>2017</td>\n",
       "      <td>1.7</td>\n",
       "      <td>6000</td>\n",
       "    </tr>\n",
       "    <tr>\n",
       "      <th>1</th>\n",
       "      <td>Mumbai</td>\n",
       "      <td>1.72</td>\n",
       "      <td>2018</td>\n",
       "      <td>1.9</td>\n",
       "      <td>7000</td>\n",
       "    </tr>\n",
       "    <tr>\n",
       "      <th>2</th>\n",
       "      <td>Delhi</td>\n",
       "      <td>2.30</td>\n",
       "      <td>2019</td>\n",
       "      <td>2.1</td>\n",
       "      <td>8000</td>\n",
       "    </tr>\n",
       "  </tbody>\n",
       "</table>\n",
       "</div>"
      ],
      "text/plain": [
       "      city   pop  year  pre-pop  area\n",
       "0  Chennai  1.23  2017      1.7  6000\n",
       "1   Mumbai  1.72  2018      1.9  7000\n",
       "2    Delhi  2.30  2019      2.1  8000"
      ]
     },
     "execution_count": 669,
     "metadata": {},
     "output_type": "execute_result"
    }
   ],
   "source": [
    "df2"
   ]
  },
  {
   "cell_type": "code",
   "execution_count": 670,
   "id": "c970f7d9",
   "metadata": {},
   "outputs": [
    {
     "data": {
      "text/plain": [
       "array([['Chennai', 1.23, 2017, 1.7, 6000],\n",
       "       ['Mumbai', 1.72, 2018, 1.9, 7000],\n",
       "       ['Delhi', 2.3, 2019, 2.1, 8000]], dtype=object)"
      ]
     },
     "execution_count": 670,
     "metadata": {},
     "output_type": "execute_result"
    }
   ],
   "source": [
    "df2.values"
   ]
  },
  {
   "cell_type": "code",
   "execution_count": 671,
   "id": "3f942787",
   "metadata": {},
   "outputs": [
    {
     "data": {
      "text/plain": [
       "Index(['a', 'b', 'c'], dtype='object')"
      ]
     },
     "execution_count": 671,
     "metadata": {},
     "output_type": "execute_result"
    }
   ],
   "source": [
    "series5 = pd.Series(range(3), index=['a', 'b', 'c'])\n",
    "series5.index"
   ]
  },
  {
   "cell_type": "code",
   "execution_count": 672,
   "id": "2e4e2aea",
   "metadata": {},
   "outputs": [
    {
     "data": {
      "text/plain": [
       "Index(['a'], dtype='object')"
      ]
     },
     "execution_count": 672,
     "metadata": {},
     "output_type": "execute_result"
    }
   ],
   "source": [
    "ind1 = series5.index\n",
    "ind1[:1]"
   ]
  },
  {
   "cell_type": "code",
   "execution_count": 673,
   "id": "ea663640",
   "metadata": {},
   "outputs": [
    {
     "data": {
      "text/plain": [
       "Index(['b', 'c'], dtype='object')"
      ]
     },
     "execution_count": 673,
     "metadata": {},
     "output_type": "execute_result"
    }
   ],
   "source": [
    "ind1[1:]"
   ]
  },
  {
   "cell_type": "code",
   "execution_count": 676,
   "id": "3d240583",
   "metadata": {},
   "outputs": [
    {
     "ename": "TypeError",
     "evalue": "Index does not support mutable operations",
     "output_type": "error",
     "traceback": [
      "\u001b[1;31m---------------------------------------------------------------------------\u001b[0m",
      "\u001b[1;31mTypeError\u001b[0m                                 Traceback (most recent call last)",
      "Input \u001b[1;32mIn [676]\u001b[0m, in \u001b[0;36m<cell line: 1>\u001b[1;34m()\u001b[0m\n\u001b[1;32m----> 1\u001b[0m ind1[\u001b[38;5;241m1\u001b[39m] \u001b[38;5;241m=\u001b[39m \u001b[38;5;124m'\u001b[39m\u001b[38;5;124md\u001b[39m\u001b[38;5;124m'\u001b[39m\n",
      "File \u001b[1;32m~\\AppData\\Local\\Programs\\Python\\Python310\\lib\\site-packages\\pandas\\core\\indexes\\base.py:5021\u001b[0m, in \u001b[0;36mIndex.__setitem__\u001b[1;34m(self, key, value)\u001b[0m\n\u001b[0;32m   5019\u001b[0m \u001b[38;5;129m@final\u001b[39m\n\u001b[0;32m   5020\u001b[0m \u001b[38;5;28;01mdef\u001b[39;00m \u001b[38;5;21m__setitem__\u001b[39m(\u001b[38;5;28mself\u001b[39m, key, value):\n\u001b[1;32m-> 5021\u001b[0m     \u001b[38;5;28;01mraise\u001b[39;00m \u001b[38;5;167;01mTypeError\u001b[39;00m(\u001b[38;5;124m\"\u001b[39m\u001b[38;5;124mIndex does not support mutable operations\u001b[39m\u001b[38;5;124m\"\u001b[39m)\n",
      "\u001b[1;31mTypeError\u001b[0m: Index does not support mutable operations"
     ]
    }
   ],
   "source": [
    "ind1[1] = 'd' # immutable index individual values throws typeerror"
   ]
  },
  {
   "cell_type": "code",
   "execution_count": 677,
   "id": "ab588222",
   "metadata": {},
   "outputs": [],
   "source": [
    "ind2 = pd.Index(np.arange(3))"
   ]
  },
  {
   "cell_type": "code",
   "execution_count": 678,
   "id": "ba08540f",
   "metadata": {},
   "outputs": [
    {
     "data": {
      "text/plain": [
       "Int64Index([0, 1, 2], dtype='int64')"
      ]
     },
     "execution_count": 678,
     "metadata": {},
     "output_type": "execute_result"
    }
   ],
   "source": [
    "ind2"
   ]
  },
  {
   "cell_type": "code",
   "execution_count": 680,
   "id": "7c95bd59",
   "metadata": {},
   "outputs": [],
   "source": [
    "series6 = pd.Series([1.5, -2.5, 0], index=ind2)"
   ]
  },
  {
   "cell_type": "code",
   "execution_count": 681,
   "id": "a37bfe7c",
   "metadata": {},
   "outputs": [
    {
     "data": {
      "text/plain": [
       "0    1.5\n",
       "1   -2.5\n",
       "2    0.0\n",
       "dtype: float64"
      ]
     },
     "execution_count": 681,
     "metadata": {},
     "output_type": "execute_result"
    }
   ],
   "source": [
    "series6"
   ]
  },
  {
   "cell_type": "code",
   "execution_count": 682,
   "id": "805ea554",
   "metadata": {},
   "outputs": [
    {
     "data": {
      "text/html": [
       "<div>\n",
       "<style scoped>\n",
       "    .dataframe tbody tr th:only-of-type {\n",
       "        vertical-align: middle;\n",
       "    }\n",
       "\n",
       "    .dataframe tbody tr th {\n",
       "        vertical-align: top;\n",
       "    }\n",
       "\n",
       "    .dataframe thead th {\n",
       "        text-align: right;\n",
       "    }\n",
       "</style>\n",
       "<table border=\"1\" class=\"dataframe\">\n",
       "  <thead>\n",
       "    <tr style=\"text-align: right;\">\n",
       "      <th></th>\n",
       "      <th>chennai</th>\n",
       "      <th>mumbai</th>\n",
       "      <th>delhi</th>\n",
       "    </tr>\n",
       "  </thead>\n",
       "  <tbody>\n",
       "    <tr>\n",
       "      <th>2011</th>\n",
       "      <td>1.2</td>\n",
       "      <td>1.5</td>\n",
       "      <td>2.1</td>\n",
       "    </tr>\n",
       "    <tr>\n",
       "      <th>2012</th>\n",
       "      <td>1.5</td>\n",
       "      <td>1.7</td>\n",
       "      <td>2.4</td>\n",
       "    </tr>\n",
       "  </tbody>\n",
       "</table>\n",
       "</div>"
      ],
      "text/plain": [
       "      chennai  mumbai  delhi\n",
       "2011      1.2     1.5    2.1\n",
       "2012      1.5     1.7    2.4"
      ]
     },
     "execution_count": 682,
     "metadata": {},
     "output_type": "execute_result"
    }
   ],
   "source": [
    "df3"
   ]
  },
  {
   "cell_type": "code",
   "execution_count": 688,
   "id": "dcf9559a",
   "metadata": {},
   "outputs": [
    {
     "data": {
      "text/html": [
       "<div>\n",
       "<style scoped>\n",
       "    .dataframe tbody tr th:only-of-type {\n",
       "        vertical-align: middle;\n",
       "    }\n",
       "\n",
       "    .dataframe tbody tr th {\n",
       "        vertical-align: top;\n",
       "    }\n",
       "\n",
       "    .dataframe thead th {\n",
       "        text-align: right;\n",
       "    }\n",
       "</style>\n",
       "<table border=\"1\" class=\"dataframe\">\n",
       "  <thead>\n",
       "    <tr style=\"text-align: right;\">\n",
       "      <th>metro</th>\n",
       "      <th>Delhi</th>\n",
       "      <th>Mumbai</th>\n",
       "    </tr>\n",
       "    <tr>\n",
       "      <th>Year</th>\n",
       "      <th></th>\n",
       "      <th></th>\n",
       "    </tr>\n",
       "  </thead>\n",
       "  <tbody>\n",
       "    <tr>\n",
       "      <th>2011</th>\n",
       "      <td>2.1</td>\n",
       "      <td>1.5</td>\n",
       "    </tr>\n",
       "    <tr>\n",
       "      <th>2012</th>\n",
       "      <td>NaN</td>\n",
       "      <td>1.7</td>\n",
       "    </tr>\n",
       "  </tbody>\n",
       "</table>\n",
       "</div>"
      ],
      "text/plain": [
       "metro  Delhi  Mumbai\n",
       "Year                \n",
       "2011     2.1     1.5\n",
       "2012     NaN     1.7"
      ]
     },
     "execution_count": 688,
     "metadata": {},
     "output_type": "execute_result"
    }
   ],
   "source": [
    "df4"
   ]
  },
  {
   "cell_type": "code",
   "execution_count": 684,
   "id": "08b22e81",
   "metadata": {},
   "outputs": [
    {
     "data": {
      "text/plain": [
       "Index(['Delhi', 'Mumbai'], dtype='object', name='metro')"
      ]
     },
     "execution_count": 684,
     "metadata": {},
     "output_type": "execute_result"
    }
   ],
   "source": [
    "df4.columns"
   ]
  },
  {
   "cell_type": "code",
   "execution_count": 689,
   "id": "69a92351",
   "metadata": {},
   "outputs": [
    {
     "data": {
      "text/plain": [
       "True"
      ]
     },
     "execution_count": 689,
     "metadata": {},
     "output_type": "execute_result"
    }
   ],
   "source": [
    "'Mumbai' in df4.columns"
   ]
  },
  {
   "cell_type": "code",
   "execution_count": 690,
   "id": "4d9f4406",
   "metadata": {},
   "outputs": [
    {
     "data": {
      "text/plain": [
       "Index(['2011', '2012'], dtype='object', name='Year')"
      ]
     },
     "execution_count": 690,
     "metadata": {},
     "output_type": "execute_result"
    }
   ],
   "source": [
    "df4.index"
   ]
  },
  {
   "cell_type": "code",
   "execution_count": 693,
   "id": "d1e5b2a3",
   "metadata": {},
   "outputs": [
    {
     "data": {
      "text/plain": [
       "True"
      ]
     },
     "execution_count": 693,
     "metadata": {},
     "output_type": "execute_result"
    }
   ],
   "source": [
    "'2012' in df4.index"
   ]
  },
  {
   "cell_type": "code",
   "execution_count": 694,
   "id": "d5c06078",
   "metadata": {},
   "outputs": [],
   "source": [
    "ind3 = pd.Index(['beta', 'alpha', 'beta', 'sigma'])"
   ]
  },
  {
   "cell_type": "code",
   "execution_count": 695,
   "id": "4cab285e",
   "metadata": {},
   "outputs": [],
   "source": [
    "series7 = pd.Series([1.1, 1.2, 1.3, 1.4], index=ind3)\n"
   ]
  },
  {
   "cell_type": "code",
   "execution_count": 696,
   "id": "d7cc0b77",
   "metadata": {},
   "outputs": [
    {
     "data": {
      "text/plain": [
       "beta     1.1\n",
       "alpha    1.2\n",
       "beta     1.3\n",
       "sigma    1.4\n",
       "dtype: float64"
      ]
     },
     "execution_count": 696,
     "metadata": {},
     "output_type": "execute_result"
    }
   ],
   "source": [
    "series7"
   ]
  },
  {
   "cell_type": "code",
   "execution_count": 697,
   "id": "078ffb38",
   "metadata": {},
   "outputs": [
    {
     "data": {
      "text/plain": [
       "beta    1.1\n",
       "beta    1.3\n",
       "dtype: float64"
      ]
     },
     "execution_count": 697,
     "metadata": {},
     "output_type": "execute_result"
    }
   ],
   "source": [
    "series7['beta']"
   ]
  },
  {
   "cell_type": "code",
   "execution_count": null,
   "id": "e91de292",
   "metadata": {},
   "outputs": [],
   "source": []
  }
 ],
 "metadata": {
  "kernelspec": {
   "display_name": "Python 3 (ipykernel)",
   "language": "python",
   "name": "python3"
  },
  "language_info": {
   "codemirror_mode": {
    "name": "ipython",
    "version": 3
   },
   "file_extension": ".py",
   "mimetype": "text/x-python",
   "name": "python",
   "nbconvert_exporter": "python",
   "pygments_lexer": "ipython3",
   "version": "3.10.2"
  }
 },
 "nbformat": 4,
 "nbformat_minor": 5
}
