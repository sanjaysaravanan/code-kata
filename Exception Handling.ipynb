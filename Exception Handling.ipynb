{
 "cells": [
  {
   "cell_type": "code",
   "execution_count": 1,
   "id": "d99d3d6f",
   "metadata": {},
   "outputs": [],
   "source": [
    "# Exception Handling"
   ]
  },
  {
   "cell_type": "code",
   "execution_count": 7,
   "id": "5ddcc43d",
   "metadata": {},
   "outputs": [
    {
     "name": "stdout",
     "output_type": "stream",
     "text": [
      "('division by zero',)\n",
      "['__cause__', '__class__', '__context__', '__delattr__', '__dict__', '__dir__', '__doc__', '__eq__', '__format__', '__ge__', '__getattribute__', '__gt__', '__hash__', '__init__', '__init_subclass__', '__le__', '__lt__', '__ne__', '__new__', '__reduce__', '__reduce_ex__', '__repr__', '__setattr__', '__setstate__', '__sizeof__', '__str__', '__subclasshook__', '__suppress_context__', '__traceback__', 'args', 'with_traceback']\n"
     ]
    }
   ],
   "source": [
    "try:\n",
    "    print(1/0)\n",
    "except Exception as ex:\n",
    "    print(ex.args)\n",
    "    print(dir(ex))"
   ]
  },
  {
   "cell_type": "code",
   "execution_count": 8,
   "id": "6e99d100",
   "metadata": {},
   "outputs": [
    {
     "name": "stdout",
     "output_type": "stream",
     "text": [
      "could not convert string to float: 'Message'\n"
     ]
    }
   ],
   "source": [
    "try:\n",
    "    float('Message')\n",
    "except Exception as e:\n",
    "    print(e)"
   ]
  },
  {
   "cell_type": "code",
   "execution_count": 11,
   "id": "0452e28b",
   "metadata": {},
   "outputs": [],
   "source": [
    "def attempt_float(value):\n",
    "    try:\n",
    "        return float(value)\n",
    "    except Exception as e:\n",
    "        return print(e)"
   ]
  },
  {
   "cell_type": "code",
   "execution_count": null,
   "id": "adfad4ef",
   "metadata": {},
   "outputs": [],
   "source": []
  },
  {
   "cell_type": "code",
   "execution_count": null,
   "id": "373f5abe",
   "metadata": {},
   "outputs": [],
   "source": []
  },
  {
   "cell_type": "code",
   "execution_count": 12,
   "id": "ef235a4f",
   "metadata": {},
   "outputs": [
    {
     "name": "stdout",
     "output_type": "stream",
     "text": [
      "could not convert string to float: 'Message'\n"
     ]
    }
   ],
   "source": [
    "attempt_float('Message')"
   ]
  },
  {
   "cell_type": "code",
   "execution_count": 13,
   "id": "a14528e2",
   "metadata": {},
   "outputs": [
    {
     "data": {
      "text/plain": [
       "12.43234234"
      ]
     },
     "execution_count": 13,
     "metadata": {},
     "output_type": "execute_result"
    }
   ],
   "source": [
    "float(12.43234234)"
   ]
  },
  {
   "cell_type": "code",
   "execution_count": 14,
   "id": "b387f96f",
   "metadata": {},
   "outputs": [
    {
     "ename": "TypeError",
     "evalue": "float() argument must be a string or a real number, not 'tuple'",
     "output_type": "error",
     "traceback": [
      "\u001b[1;31m---------------------------------------------------------------------------\u001b[0m",
      "\u001b[1;31mTypeError\u001b[0m                                 Traceback (most recent call last)",
      "Input \u001b[1;32mIn [14]\u001b[0m, in \u001b[0;36m<cell line: 1>\u001b[1;34m()\u001b[0m\n\u001b[1;32m----> 1\u001b[0m \u001b[38;5;28;43mfloat\u001b[39;49m\u001b[43m(\u001b[49m\u001b[43m(\u001b[49m\u001b[38;5;241;43m1\u001b[39;49m\u001b[43m,\u001b[49m\u001b[38;5;241;43m2\u001b[39;49m\u001b[43m,\u001b[49m\u001b[43m)\u001b[49m\u001b[43m)\u001b[49m\n",
      "\u001b[1;31mTypeError\u001b[0m: float() argument must be a string or a real number, not 'tuple'"
     ]
    }
   ],
   "source": [
    "float((1,2,))"
   ]
  },
  {
   "cell_type": "code",
   "execution_count": 15,
   "id": "8d656289",
   "metadata": {},
   "outputs": [
    {
     "name": "stdout",
     "output_type": "stream",
     "text": [
      "float() argument must be a string or a real number, not 'tuple'\n"
     ]
    }
   ],
   "source": [
    "attempt_float((1,2))"
   ]
  },
  {
   "cell_type": "code",
   "execution_count": 17,
   "id": "c3ff6855",
   "metadata": {},
   "outputs": [],
   "source": [
    "def attempt_float2(value):\n",
    "    try:\n",
    "        return float(value)\n",
    "    except ValueError:\n",
    "        return 'Improper input value'\n",
    "    except TypeError:\n",
    "        return 'Improper Type Value'"
   ]
  },
  {
   "cell_type": "code",
   "execution_count": 18,
   "id": "d77f81c8",
   "metadata": {},
   "outputs": [
    {
     "data": {
      "text/plain": [
       "123.45545"
      ]
     },
     "execution_count": 18,
     "metadata": {},
     "output_type": "execute_result"
    }
   ],
   "source": [
    "attempt_float2('123.45545')"
   ]
  },
  {
   "cell_type": "code",
   "execution_count": 19,
   "id": "2f8fd49b",
   "metadata": {},
   "outputs": [
    {
     "data": {
      "text/plain": [
       "'Improper input value'"
      ]
     },
     "execution_count": 19,
     "metadata": {},
     "output_type": "execute_result"
    }
   ],
   "source": [
    "attempt_float2('Measagasd')"
   ]
  },
  {
   "cell_type": "code",
   "execution_count": 21,
   "id": "d1ee2279",
   "metadata": {},
   "outputs": [
    {
     "data": {
      "text/plain": [
       "'Improper Type Value'"
      ]
     },
     "execution_count": 21,
     "metadata": {},
     "output_type": "execute_result"
    }
   ],
   "source": [
    "attempt_float2(['Afasdfasd'])"
   ]
  },
  {
   "cell_type": "code",
   "execution_count": 23,
   "id": "9e76be51",
   "metadata": {},
   "outputs": [],
   "source": [
    "def attempt_float3(value):\n",
    "    try:\n",
    "        return float(value)\n",
    "    except (ValueError, TypeError):\n",
    "        return 'Improper input value'"
   ]
  },
  {
   "cell_type": "code",
   "execution_count": 24,
   "id": "25584f3d",
   "metadata": {},
   "outputs": [
    {
     "data": {
      "text/plain": [
       "'Improper input value'"
      ]
     },
     "execution_count": 24,
     "metadata": {},
     "output_type": "execute_result"
    }
   ],
   "source": [
    "attempt_float3('message')"
   ]
  },
  {
   "cell_type": "code",
   "execution_count": 25,
   "id": "ece037fc",
   "metadata": {},
   "outputs": [],
   "source": [
    "def attempt_float3(value):\n",
    "    try:\n",
    "        return float(value)\n",
    "    except (ValueError, TypeError):\n",
    "        return 'Improper input value'\n",
    "    finally:\n",
    "        print('We have tried please see the above details foe the result')"
   ]
  },
  {
   "cell_type": "code",
   "execution_count": 26,
   "id": "4dbd09fd",
   "metadata": {},
   "outputs": [
    {
     "name": "stdout",
     "output_type": "stream",
     "text": [
      "We have tried please see the above details foe the result\n"
     ]
    },
    {
     "data": {
      "text/plain": [
       "1.298"
      ]
     },
     "execution_count": 26,
     "metadata": {},
     "output_type": "execute_result"
    }
   ],
   "source": [
    "attempt_float3('1.298')"
   ]
  },
  {
   "cell_type": "code",
   "execution_count": 27,
   "id": "c8eacc9d",
   "metadata": {},
   "outputs": [],
   "source": [
    "# Execute a code block regardless of whether 'try: block' succeeds or not\n",
    "# By using finally: block\n",
    "# for example: generating logs or cleaning up the python objects\n",
    "# In such situations, we might also prefer to 'not suppress exceptions'"
   ]
  },
  {
   "cell_type": "code",
   "execution_count": 32,
   "id": "bd97fd1d",
   "metadata": {},
   "outputs": [],
   "source": [
    "f1 = open('temp.txt', 'w') # writing mode\n",
    "try:\n",
    "    f1.write('Started Cleaning the Content for analytics\\n')\n",
    "except Exception as e:\n",
    "    f1.write('Some error {0}', e)\n",
    "finally:\n",
    "    f1.write('Done Cleaing the Content Please have a look at the log file for more details')\n",
    "    f1.close()\n"
   ]
  },
  {
   "cell_type": "code",
   "execution_count": null,
   "id": "1614089f",
   "metadata": {},
   "outputs": [],
   "source": []
  },
  {
   "cell_type": "code",
   "execution_count": null,
   "id": "510dd65c",
   "metadata": {},
   "outputs": [],
   "source": []
  },
  {
   "cell_type": "code",
   "execution_count": 38,
   "id": "1b91e009",
   "metadata": {},
   "outputs": [
    {
     "data": {
      "text/plain": [
       "'Started Cleaning the Content for analytics\\nDone Cleaing the Content Please have a look at the log file for more detailsStarted Cleaning the Content for analytics\\nDone Cleaing the Content Please have a look at the log file for more detailsStarted Cleaning the Content for analytics\\nDone Cleaing the Content Please have a look at the log file for more detailsStarted Cleaning the Content for analytics\\nSuccessfullyDone Cleaing the Content Please have a look at the log file for more details'"
      ]
     },
     "execution_count": 38,
     "metadata": {},
     "output_type": "execute_result"
    }
   ],
   "source": [
    "fr1 = open('temp.txt', 'r') # read a file\n",
    "fr1.read()"
   ]
  },
  {
   "cell_type": "code",
   "execution_count": null,
   "id": "a921304a",
   "metadata": {},
   "outputs": [],
   "source": []
  },
  {
   "cell_type": "code",
   "execution_count": null,
   "id": "8983a076",
   "metadata": {},
   "outputs": [],
   "source": []
  },
  {
   "cell_type": "code",
   "execution_count": 36,
   "id": "a3c2d020",
   "metadata": {},
   "outputs": [],
   "source": [
    "f2 = open('temp.txt', 'a') # appending Mode\n",
    "try:\n",
    "    f2.write('Started Cleaning the Content for analytics\\n')\n",
    "except Exception as e:\n",
    "    f2.write('Some error {0}', e)\n",
    "    print('Failed')\n",
    "else:\n",
    "    f2.write('Successfully')\n",
    "    print(\"Success\")\n",
    "finally:\n",
    "    f2.write('Done Cleaing the Content Please have a look at the log file for more details')\n",
    "    f2.close()"
   ]
  },
  {
   "cell_type": "code",
   "execution_count": null,
   "id": "509800b5",
   "metadata": {},
   "outputs": [],
   "source": []
  },
  {
   "cell_type": "code",
   "execution_count": null,
   "id": "a1320e23",
   "metadata": {},
   "outputs": [],
   "source": [
    "# File Handling"
   ]
  },
  {
   "cell_type": "code",
   "execution_count": 39,
   "id": "5ff65331",
   "metadata": {},
   "outputs": [
    {
     "ename": "FileNotFoundError",
     "evalue": "[Errno 2] No such file or directory: 'temp1.txt'",
     "output_type": "error",
     "traceback": [
      "\u001b[1;31m---------------------------------------------------------------------------\u001b[0m",
      "\u001b[1;31mFileNotFoundError\u001b[0m                         Traceback (most recent call last)",
      "Input \u001b[1;32mIn [39]\u001b[0m, in \u001b[0;36m<cell line: 3>\u001b[1;34m()\u001b[0m\n\u001b[0;32m      1\u001b[0m \u001b[38;5;66;03m# Open\u001b[39;00m\n\u001b[0;32m      2\u001b[0m path \u001b[38;5;241m=\u001b[39m \u001b[38;5;124m'\u001b[39m\u001b[38;5;124mtemp1.txt\u001b[39m\u001b[38;5;124m'\u001b[39m\n\u001b[1;32m----> 3\u001b[0m fl3 \u001b[38;5;241m=\u001b[39m \u001b[38;5;28;43mopen\u001b[39;49m\u001b[43m(\u001b[49m\u001b[43mpath\u001b[49m\u001b[43m)\u001b[49m\n",
      "\u001b[1;31mFileNotFoundError\u001b[0m: [Errno 2] No such file or directory: 'temp1.txt'"
     ]
    }
   ],
   "source": [
    "# Open\n",
    "path = 'temp1.txt'\n",
    "fl3 = open(path)"
   ]
  },
  {
   "cell_type": "code",
   "execution_count": null,
   "id": "bd1091a8",
   "metadata": {},
   "outputs": [],
   "source": [
    "# No File ----> file not found error"
   ]
  },
  {
   "cell_type": "code",
   "execution_count": 40,
   "id": "74290f62",
   "metadata": {},
   "outputs": [],
   "source": [
    "path = 'temp.txt'\n",
    "fl3 = open(path, 'r')"
   ]
  },
  {
   "cell_type": "code",
   "execution_count": 41,
   "id": "9667ba40",
   "metadata": {},
   "outputs": [
    {
     "data": {
      "text/plain": [
       "'Started Cleaning the Content for analytics\\nDone Cleaing the Content Please have a look at the log file for more detailsStarted Cleaning the Content for analytics\\nDone Cleaing the Content Please have a look at the log file for more detailsStarted Cleaning the Content for analytics\\nDone Cleaing the Content Please have a look at the log file for more detailsStarted Cleaning the Content for analytics\\nSuccessfullyDone Cleaing the Content Please have a look at the log file for more details'"
      ]
     },
     "execution_count": 41,
     "metadata": {},
     "output_type": "execute_result"
    }
   ],
   "source": [
    "fl3.read()"
   ]
  },
  {
   "cell_type": "code",
   "execution_count": 43,
   "id": "0d187d52",
   "metadata": {},
   "outputs": [
    {
     "data": {
      "text/plain": [
       "''"
      ]
     },
     "execution_count": 43,
     "metadata": {},
     "output_type": "execute_result"
    }
   ],
   "source": [
    "fl3.read() # empty when the file is already read means the EOF ---> End Of File"
   ]
  },
  {
   "cell_type": "code",
   "execution_count": null,
   "id": "790fa022",
   "metadata": {},
   "outputs": [],
   "source": []
  },
  {
   "cell_type": "code",
   "execution_count": 46,
   "id": "9dc12436",
   "metadata": {},
   "outputs": [],
   "source": [
    "fl3 = open(path, 'r')"
   ]
  },
  {
   "cell_type": "code",
   "execution_count": null,
   "id": "3a15f2a6",
   "metadata": {},
   "outputs": [],
   "source": []
  },
  {
   "cell_type": "code",
   "execution_count": 45,
   "id": "cec7eb40",
   "metadata": {},
   "outputs": [
    {
     "data": {
      "text/plain": [
       "'Started Cleaning the Content for analytics\\nDone Cleaing the Content Please have a look at the log file for more detailsStarted Cleaning the Content for analytics\\nDone Cleaing the Content Please have a look at the log file for more detailsStarted Cleaning the Content for analytics\\nDone Cleaing the Content Please have a look at the log file for more detailsStarted Cleaning the Content for analytics\\nSuccessfullyDone Cleaing the Content Please have a look at the log file for more details'"
      ]
     },
     "execution_count": 45,
     "metadata": {},
     "output_type": "execute_result"
    }
   ],
   "source": [
    "fl3.read()"
   ]
  },
  {
   "cell_type": "code",
   "execution_count": null,
   "id": "82b597e5",
   "metadata": {},
   "outputs": [],
   "source": []
  },
  {
   "cell_type": "code",
   "execution_count": null,
   "id": "46a96e29",
   "metadata": {},
   "outputs": [],
   "source": []
  },
  {
   "cell_type": "code",
   "execution_count": 47,
   "id": "70762ce0",
   "metadata": {},
   "outputs": [],
   "source": [
    "fl3.close() # close file"
   ]
  },
  {
   "cell_type": "code",
   "execution_count": 48,
   "id": "77cdd0ab",
   "metadata": {},
   "outputs": [
    {
     "ename": "ValueError",
     "evalue": "I/O operation on closed file.",
     "output_type": "error",
     "traceback": [
      "\u001b[1;31m---------------------------------------------------------------------------\u001b[0m",
      "\u001b[1;31mValueError\u001b[0m                                Traceback (most recent call last)",
      "Input \u001b[1;32mIn [48]\u001b[0m, in \u001b[0;36m<cell line: 1>\u001b[1;34m()\u001b[0m\n\u001b[1;32m----> 1\u001b[0m \u001b[43mfl3\u001b[49m\u001b[38;5;241;43m.\u001b[39;49m\u001b[43mread\u001b[49m\u001b[43m(\u001b[49m\u001b[43m)\u001b[49m\n",
      "\u001b[1;31mValueError\u001b[0m: I/O operation on closed file."
     ]
    }
   ],
   "source": [
    "fl3.read() # reading on a closed file I/O Operation on a close file error valueerror"
   ]
  },
  {
   "cell_type": "code",
   "execution_count": 49,
   "id": "433683e6",
   "metadata": {},
   "outputs": [],
   "source": [
    "# Iterating over the lines in a file\n",
    "# By treating the file handle as a list"
   ]
  },
  {
   "cell_type": "code",
   "execution_count": 51,
   "id": "c198a394",
   "metadata": {},
   "outputs": [],
   "source": [
    "fl4 = open(path)\n",
    "for line in fl4:\n",
    "    pass\n"
   ]
  },
  {
   "cell_type": "code",
   "execution_count": 53,
   "id": "a6dc5b86",
   "metadata": {},
   "outputs": [
    {
     "name": "stdout",
     "output_type": "stream",
     "text": [
      "Started Cleaning the Content for analytics\n",
      "\n",
      "Done Cleaing the Content Please have a look at the log file for more detailsStarted Cleaning the Content for analytics\n",
      "\n",
      "Done Cleaing the Content Please have a look at the log file for more detailsStarted Cleaning the Content for analytics\n",
      "\n",
      "Done Cleaing the Content Please have a look at the log file for more detailsStarted Cleaning the Content for analytics\n",
      "\n",
      "SuccessfullyDone Cleaing the Content Please have a look at the log file for more details\n"
     ]
    }
   ],
   "source": [
    "fl4 = open(path)\n",
    "for line in fl4:\n",
    "    print(line)"
   ]
  },
  {
   "cell_type": "code",
   "execution_count": 54,
   "id": "b120d078",
   "metadata": {},
   "outputs": [
    {
     "data": {
      "text/plain": [
       "False"
      ]
     },
     "execution_count": 54,
     "metadata": {},
     "output_type": "execute_result"
    }
   ],
   "source": [
    "fl4.closed # Test if a file is closed"
   ]
  },
  {
   "cell_type": "code",
   "execution_count": 55,
   "id": "d4c901ca",
   "metadata": {},
   "outputs": [],
   "source": [
    "fl4.close()"
   ]
  },
  {
   "cell_type": "code",
   "execution_count": 56,
   "id": "3a96e3c4",
   "metadata": {},
   "outputs": [
    {
     "data": {
      "text/plain": [
       "True"
      ]
     },
     "execution_count": 56,
     "metadata": {},
     "output_type": "execute_result"
    }
   ],
   "source": [
    "fl4.closed"
   ]
  },
  {
   "cell_type": "code",
   "execution_count": 57,
   "id": "eb33e2c2",
   "metadata": {},
   "outputs": [
    {
     "data": {
      "text/plain": [
       "['Started Cleaning the Content for analytics',\n",
       " 'Done Cleaing the Content Please have a look at the log file for more detailsStarted Cleaning the Content for analytics',\n",
       " 'Done Cleaing the Content Please have a look at the log file for more detailsStarted Cleaning the Content for analytics',\n",
       " 'Done Cleaing the Content Please have a look at the log file for more detailsStarted Cleaning the Content for analytics',\n",
       " 'SuccessfullyDone Cleaing the Content Please have a look at the log file for more details']"
      ]
     },
     "execution_count": 57,
     "metadata": {},
     "output_type": "execute_result"
    }
   ],
   "source": [
    "# EOL free list of line\n",
    "[line.rstrip() for line in open(path)]"
   ]
  },
  {
   "cell_type": "code",
   "execution_count": 58,
   "id": "1dbb3110",
   "metadata": {},
   "outputs": [],
   "source": [
    "# Cleaning up open files \n",
    "# using with keyword: automatic clean up of resources like file objects after the execution "
   ]
  },
  {
   "cell_type": "code",
   "execution_count": 61,
   "id": "a58460fc",
   "metadata": {},
   "outputs": [],
   "source": [
    "with open(path) as fl5:\n",
    "    [line.rstrip() for line in fl5]\n"
   ]
  },
  {
   "cell_type": "code",
   "execution_count": 64,
   "id": "f762d8dc",
   "metadata": {},
   "outputs": [
    {
     "data": {
      "text/plain": [
       "True"
      ]
     },
     "execution_count": 64,
     "metadata": {},
     "output_type": "execute_result"
    }
   ],
   "source": [
    "fl5.closed"
   ]
  },
  {
   "cell_type": "code",
   "execution_count": 65,
   "id": "93c382bb",
   "metadata": {},
   "outputs": [
    {
     "ename": "ValueError",
     "evalue": "I/O operation on closed file.",
     "output_type": "error",
     "traceback": [
      "\u001b[1;31m---------------------------------------------------------------------------\u001b[0m",
      "\u001b[1;31mValueError\u001b[0m                                Traceback (most recent call last)",
      "Input \u001b[1;32mIn [65]\u001b[0m, in \u001b[0;36m<cell line: 1>\u001b[1;34m()\u001b[0m\n\u001b[1;32m----> 1\u001b[0m \u001b[43mfl5\u001b[49m\u001b[38;5;241;43m.\u001b[39;49m\u001b[43mread\u001b[49m\u001b[43m(\u001b[49m\u001b[43m)\u001b[49m\n",
      "\u001b[1;31mValueError\u001b[0m: I/O operation on closed file."
     ]
    }
   ],
   "source": [
    "fl5.read()"
   ]
  },
  {
   "cell_type": "code",
   "execution_count": null,
   "id": "e6650e8f",
   "metadata": {},
   "outputs": [],
   "source": [
    "# File Modes in Python for writing: Should be used carefully"
   ]
  },
  {
   "cell_type": "code",
   "execution_count": 80,
   "id": "c77fd58e",
   "metadata": {},
   "outputs": [
    {
     "data": {
      "text/plain": [
       "6"
      ]
     },
     "execution_count": 80,
     "metadata": {},
     "output_type": "execute_result"
    }
   ],
   "source": [
    "# 'w' is write-only mode: creates a new file (erasing the data for any file with the same name)\n",
    "# 'x' is write-only mode: creates a new file if the file path doesn't already exist\n",
    "# 'a' is append to existing file (create the file if it does not already exist)\n",
    "fl6 = open('temp5.txt', 'a')\n",
    "fl6.write('append')"
   ]
  },
  {
   "cell_type": "code",
   "execution_count": 81,
   "id": "f061f9c5",
   "metadata": {},
   "outputs": [],
   "source": [
    "fl6.close()"
   ]
  },
  {
   "cell_type": "code",
   "execution_count": null,
   "id": "e427065a",
   "metadata": {},
   "outputs": [],
   "source": []
  },
  {
   "cell_type": "code",
   "execution_count": 67,
   "id": "f3e9b904",
   "metadata": {},
   "outputs": [
    {
     "ename": "UnsupportedOperation",
     "evalue": "not readable",
     "output_type": "error",
     "traceback": [
      "\u001b[1;31m---------------------------------------------------------------------------\u001b[0m",
      "\u001b[1;31mUnsupportedOperation\u001b[0m                      Traceback (most recent call last)",
      "Input \u001b[1;32mIn [67]\u001b[0m, in \u001b[0;36m<cell line: 1>\u001b[1;34m()\u001b[0m\n\u001b[1;32m----> 1\u001b[0m \u001b[43mfl6\u001b[49m\u001b[38;5;241;43m.\u001b[39;49m\u001b[43mread\u001b[49m\u001b[43m(\u001b[49m\u001b[43m)\u001b[49m\n",
      "\u001b[1;31mUnsupportedOperation\u001b[0m: not readable"
     ]
    }
   ],
   "source": [
    "fl6.read() # wrong mode opened "
   ]
  },
  {
   "cell_type": "code",
   "execution_count": 68,
   "id": "553077c8",
   "metadata": {},
   "outputs": [
    {
     "data": {
      "text/plain": [
       "'Started Cleaning the Content for analytics\\nDone Cleaing the Content Please have a look at the log file for more detailsStarted Cleaning the Content for analytics\\nDone Cleaing the Content Please have a look at the log file for more detailsStarted Cleaning the Content for analytics\\nDone Cleaing the Content Please have a look at the log file for more detailsStarted Cleaning the Content for analytics\\nSuccessfullyDone Cleaing the Content Please have a look at the log file for more detailsappend'"
      ]
     },
     "execution_count": 68,
     "metadata": {},
     "output_type": "execute_result"
    }
   ],
   "source": [
    "fl6 = open('temp.txt', 'r')\n",
    "fl6.read()"
   ]
  },
  {
   "cell_type": "code",
   "execution_count": 74,
   "id": "309ae39e",
   "metadata": {},
   "outputs": [
    {
     "data": {
      "text/plain": [
       "7"
      ]
     },
     "execution_count": 74,
     "metadata": {},
     "output_type": "execute_result"
    }
   ],
   "source": [
    "fl7 = open('temp3.txt', 'x')\n",
    "fl7.write('sdfasda') # returns the number of chars written in the file"
   ]
  },
  {
   "cell_type": "code",
   "execution_count": 75,
   "id": "818bbbd2",
   "metadata": {},
   "outputs": [],
   "source": [
    "fl7.close()"
   ]
  },
  {
   "cell_type": "code",
   "execution_count": 76,
   "id": "75917807",
   "metadata": {},
   "outputs": [],
   "source": [
    "with open('temp.txt') as fl8:\n",
    "    lines = fl8.readlines()"
   ]
  },
  {
   "cell_type": "code",
   "execution_count": 77,
   "id": "c61269ba",
   "metadata": {},
   "outputs": [
    {
     "data": {
      "text/plain": [
       "['Started Cleaning the Content for analytics\\n',\n",
       " 'Done Cleaing the Content Please have a look at the log file for more detailsStarted Cleaning the Content for analytics\\n',\n",
       " 'Done Cleaing the Content Please have a look at the log file for more detailsStarted Cleaning the Content for analytics\\n',\n",
       " 'Done Cleaing the Content Please have a look at the log file for more detailsStarted Cleaning the Content for analytics\\n',\n",
       " 'SuccessfullyDone Cleaing the Content Please have a look at the log file for more detailsappend']"
      ]
     },
     "execution_count": 77,
     "metadata": {},
     "output_type": "execute_result"
    }
   ],
   "source": [
    "lines"
   ]
  },
  {
   "cell_type": "code",
   "execution_count": 78,
   "id": "3707e3a3",
   "metadata": {},
   "outputs": [],
   "source": [
    "with open(path) as fl9:\n",
    "    lines = [line.rstrip() for line in fl9]"
   ]
  },
  {
   "cell_type": "code",
   "execution_count": 79,
   "id": "4e059e62",
   "metadata": {},
   "outputs": [
    {
     "data": {
      "text/plain": [
       "['Started Cleaning the Content for analytics',\n",
       " 'Done Cleaing the Content Please have a look at the log file for more detailsStarted Cleaning the Content for analytics',\n",
       " 'Done Cleaing the Content Please have a look at the log file for more detailsStarted Cleaning the Content for analytics',\n",
       " 'Done Cleaing the Content Please have a look at the log file for more detailsStarted Cleaning the Content for analytics',\n",
       " 'SuccessfullyDone Cleaing the Content Please have a look at the log file for more detailsappend']"
      ]
     },
     "execution_count": 79,
     "metadata": {},
     "output_type": "execute_result"
    }
   ],
   "source": [
    "lines"
   ]
  },
  {
   "cell_type": "code",
   "execution_count": 82,
   "id": "d3fc734a",
   "metadata": {},
   "outputs": [],
   "source": [
    "# Read Method Read the number of the bytes specified and retuns the number of the bytes that is read"
   ]
  },
  {
   "cell_type": "code",
   "execution_count": 90,
   "id": "3fe6f71e",
   "metadata": {},
   "outputs": [
    {
     "data": {
      "text/plain": [
       "'Started C'"
      ]
     },
     "execution_count": 90,
     "metadata": {},
     "output_type": "execute_result"
    }
   ],
   "source": [
    "fl10 = open('temp.txt', 'r') # normal read\n",
    "fl10.read(9)\n"
   ]
  },
  {
   "cell_type": "code",
   "execution_count": 92,
   "id": "22635fbb",
   "metadata": {},
   "outputs": [
    {
     "data": {
      "text/plain": [
       "b'Started C'"
      ]
     },
     "execution_count": 92,
     "metadata": {},
     "output_type": "execute_result"
    }
   ],
   "source": [
    "fl10 = open('temp.txt', 'rb') # To Read raw bytes rb mode is used for that\n",
    "fl10.read(9)"
   ]
  },
  {
   "cell_type": "code",
   "execution_count": 100,
   "id": "76072de5",
   "metadata": {},
   "outputs": [
    {
     "data": {
      "text/plain": [
       "9"
      ]
     },
     "execution_count": 100,
     "metadata": {},
     "output_type": "execute_result"
    }
   ],
   "source": [
    "fl10.tell() # tells the current cursor position used to determine the next read area"
   ]
  },
  {
   "cell_type": "code",
   "execution_count": 101,
   "id": "cad88678",
   "metadata": {},
   "outputs": [
    {
     "data": {
      "text/plain": [
       "1"
      ]
     },
     "execution_count": 101,
     "metadata": {},
     "output_type": "execute_result"
    }
   ],
   "source": [
    "fl10.seek(1) # Change the cursoer position in the read mode"
   ]
  },
  {
   "cell_type": "code",
   "execution_count": 102,
   "id": "823073fa",
   "metadata": {},
   "outputs": [
    {
     "data": {
      "text/plain": [
       "1"
      ]
     },
     "execution_count": 102,
     "metadata": {},
     "output_type": "execute_result"
    }
   ],
   "source": [
    "fl10.tell()"
   ]
  },
  {
   "cell_type": "code",
   "execution_count": null,
   "id": "fc49ac12",
   "metadata": {},
   "outputs": [],
   "source": []
  },
  {
   "cell_type": "code",
   "execution_count": 95,
   "id": "65289625",
   "metadata": {},
   "outputs": [],
   "source": [
    "# Check the default encoding \n",
    "# By using 'sys'module"
   ]
  },
  {
   "cell_type": "code",
   "execution_count": 96,
   "id": "226ae8ad",
   "metadata": {},
   "outputs": [
    {
     "data": {
      "text/plain": [
       "'utf-8'"
      ]
     },
     "execution_count": 96,
     "metadata": {},
     "output_type": "execute_result"
    }
   ],
   "source": [
    "import sys\n",
    "sys.getdefaultencoding()"
   ]
  },
  {
   "cell_type": "code",
   "execution_count": 98,
   "id": "d3c2d348",
   "metadata": {},
   "outputs": [
    {
     "ename": "FileNotFoundError",
     "evalue": "[Errno 2] No such file or directory: 'temp100.txt'",
     "output_type": "error",
     "traceback": [
      "\u001b[1;31m---------------------------------------------------------------------------\u001b[0m",
      "\u001b[1;31mFileNotFoundError\u001b[0m                         Traceback (most recent call last)",
      "Input \u001b[1;32mIn [98]\u001b[0m, in \u001b[0;36m<cell line: 1>\u001b[1;34m()\u001b[0m\n\u001b[1;32m----> 1\u001b[0m fl11 \u001b[38;5;241m=\u001b[39m \u001b[38;5;28;43mopen\u001b[39;49m\u001b[43m(\u001b[49m\u001b[38;5;124;43m'\u001b[39;49m\u001b[38;5;124;43mtemp100.txt\u001b[39;49m\u001b[38;5;124;43m'\u001b[39;49m\u001b[43m,\u001b[49m\u001b[43m \u001b[49m\u001b[38;5;124;43m'\u001b[39;49m\u001b[38;5;124;43mr\u001b[39;49m\u001b[38;5;124;43m'\u001b[39;49m\u001b[43m)\u001b[49m\n",
      "\u001b[1;31mFileNotFoundError\u001b[0m: [Errno 2] No such file or directory: 'temp100.txt'"
     ]
    }
   ],
   "source": [
    "fl11 = open('temp100.txt', 'r') # Reading a file that does not exist"
   ]
  },
  {
   "cell_type": "code",
   "execution_count": 99,
   "id": "25978c43",
   "metadata": {},
   "outputs": [],
   "source": [
    "# Encoding ---> default encoding UTF-8"
   ]
  },
  {
   "cell_type": "code",
   "execution_count": 103,
   "id": "7a117b77",
   "metadata": {},
   "outputs": [
    {
     "data": {
      "text/plain": [
       "['Started Cleaning the Content for analytics\\n',\n",
       " 'Done Cleaing the Content Please have a look at the log file for more detailsStarted Cleaning the Content for analytics\\n',\n",
       " 'Done Cleaing the Content Please have a look at the log file for more detailsStarted Cleaning the Content for analytics\\n',\n",
       " 'Done Cleaing the Content Please have a look at the log file for more detailsStarted Cleaning the Content for analytics\\n',\n",
       " 'SuccessfullyDone Cleaing the Content Please have a look at the log file for more detailsappend']"
      ]
     },
     "execution_count": 103,
     "metadata": {},
     "output_type": "execute_result"
    }
   ],
   "source": [
    "[x for x in open('temp.txt')]"
   ]
  },
  {
   "cell_type": "code",
   "execution_count": 107,
   "id": "164dde6f",
   "metadata": {},
   "outputs": [],
   "source": [
    "# Writeline and readlines\n",
    "path1 = 'temp.txt'\n",
    "with open('temp2.txt', 'w') as fl12:\n",
    "    fl12.writelines(x for x in open(path1) if len(x) < 100)"
   ]
  },
  {
   "cell_type": "code",
   "execution_count": null,
   "id": "7a146d83",
   "metadata": {},
   "outputs": [],
   "source": []
  },
  {
   "cell_type": "code",
   "execution_count": 108,
   "id": "683ddda6",
   "metadata": {},
   "outputs": [
    {
     "data": {
      "text/plain": [
       "'Started Cleaning the Content for analytics\\nSuccessfullyDone Cleaing the Content Please have a look at the log file for more detailsappend'"
      ]
     },
     "execution_count": 108,
     "metadata": {},
     "output_type": "execute_result"
    }
   ],
   "source": [
    "fl12 = open('temp2.txt', 'r')\n",
    "fl12.read()"
   ]
  },
  {
   "cell_type": "code",
   "execution_count": 109,
   "id": "0dcce779",
   "metadata": {},
   "outputs": [],
   "source": [
    "# Bytes and Unicode with Files\n",
    "# UTF-8 is a variable-length unicode encoding\n",
    "# when requested for some no of chars the python will read the enough bytes that are required to decode the that many characters"
   ]
  },
  {
   "cell_type": "code",
   "execution_count": 112,
   "id": "90e98b96",
   "metadata": {},
   "outputs": [],
   "source": [
    "with open('temp5.txt', 'rb') as fl13:\n",
    "    raw = fl13.read(3)"
   ]
  },
  {
   "cell_type": "code",
   "execution_count": null,
   "id": "d291cb6d",
   "metadata": {},
   "outputs": [],
   "source": []
  },
  {
   "cell_type": "code",
   "execution_count": 113,
   "id": "44bf6ac7",
   "metadata": {},
   "outputs": [
    {
     "data": {
      "text/plain": [
       "b'app'"
      ]
     },
     "execution_count": 113,
     "metadata": {},
     "output_type": "execute_result"
    }
   ],
   "source": [
    "raw"
   ]
  },
  {
   "cell_type": "code",
   "execution_count": 115,
   "id": "9ce49f8e",
   "metadata": {},
   "outputs": [
    {
     "data": {
      "text/plain": [
       "'app'"
      ]
     },
     "execution_count": 115,
     "metadata": {},
     "output_type": "execute_result"
    }
   ],
   "source": [
    "raw.decode('utf8') # decode to a str will work when it the encoding unique chars are fully formed (fail if one char take more no of bytes )"
   ]
  },
  {
   "cell_type": "code",
   "execution_count": 116,
   "id": "93a6f3bb",
   "metadata": {},
   "outputs": [
    {
     "data": {
      "text/plain": [
       "'ap'"
      ]
     },
     "execution_count": 116,
     "metadata": {},
     "output_type": "execute_result"
    }
   ],
   "source": [
    "raw[:2].decode()"
   ]
  },
  {
   "cell_type": "code",
   "execution_count": 118,
   "id": "da1fbaeb",
   "metadata": {},
   "outputs": [],
   "source": [
    "path2 = 'temp7.txt'\n",
    "with open(path2, 'w') as fl14:\n",
    "    fl14.write('naïve or Brontë')"
   ]
  },
  {
   "cell_type": "code",
   "execution_count": 119,
   "id": "f17f0a73",
   "metadata": {},
   "outputs": [
    {
     "data": {
      "text/plain": [
       "'naïve or Brontë'"
      ]
     },
     "execution_count": 119,
     "metadata": {},
     "output_type": "execute_result"
    }
   ],
   "source": [
    "fl15 = open('temp7.txt')\n",
    "fl15.read()"
   ]
  },
  {
   "cell_type": "code",
   "execution_count": 122,
   "id": "f202f874",
   "metadata": {},
   "outputs": [],
   "source": [
    "with open('temp7.txt', 'rb') as fl15:\n",
    "    raw2 = fl15.read(7)"
   ]
  },
  {
   "cell_type": "code",
   "execution_count": 123,
   "id": "11d43a9a",
   "metadata": {},
   "outputs": [
    {
     "data": {
      "text/plain": [
       "b'na\\xefve o'"
      ]
     },
     "execution_count": 123,
     "metadata": {},
     "output_type": "execute_result"
    }
   ],
   "source": [
    "raw2"
   ]
  },
  {
   "cell_type": "code",
   "execution_count": 129,
   "id": "5258e63b",
   "metadata": {},
   "outputs": [
    {
     "ename": "UnicodeDecodeError",
     "evalue": "'utf-8' codec can't decode byte 0xef in position 2: invalid continuation byte",
     "output_type": "error",
     "traceback": [
      "\u001b[1;31m---------------------------------------------------------------------------\u001b[0m",
      "\u001b[1;31mUnicodeDecodeError\u001b[0m                        Traceback (most recent call last)",
      "Input \u001b[1;32mIn [129]\u001b[0m, in \u001b[0;36m<cell line: 1>\u001b[1;34m()\u001b[0m\n\u001b[1;32m----> 1\u001b[0m \u001b[43mraw2\u001b[49m\u001b[38;5;241;43m.\u001b[39;49m\u001b[43mdecode\u001b[49m\u001b[43m(\u001b[49m\u001b[38;5;124;43m'\u001b[39;49m\u001b[38;5;124;43mutf8\u001b[39;49m\u001b[38;5;124;43m'\u001b[39;49m\u001b[43m)\u001b[49m\n",
      "\u001b[1;31mUnicodeDecodeError\u001b[0m: 'utf-8' codec can't decode byte 0xef in position 2: invalid continuation byte"
     ]
    }
   ],
   "source": [
    "raw2.decode('utf8')"
   ]
  },
  {
   "cell_type": "code",
   "execution_count": null,
   "id": "6ee46fb0",
   "metadata": {},
   "outputs": [],
   "source": []
  },
  {
   "cell_type": "code",
   "execution_count": 130,
   "id": "cd978342",
   "metadata": {},
   "outputs": [
    {
     "data": {
      "text/plain": [
       "'na'"
      ]
     },
     "execution_count": 130,
     "metadata": {},
     "output_type": "execute_result"
    }
   ],
   "source": [
    "raw2[:2].decode('utf8')"
   ]
  },
  {
   "cell_type": "code",
   "execution_count": null,
   "id": "162b9ee6",
   "metadata": {},
   "outputs": [],
   "source": []
  },
  {
   "cell_type": "code",
   "execution_count": 131,
   "id": "5a98f239",
   "metadata": {},
   "outputs": [
    {
     "ename": "UnicodeDecodeError",
     "evalue": "'utf-8' codec can't decode byte 0xef in position 2: unexpected end of data",
     "output_type": "error",
     "traceback": [
      "\u001b[1;31m---------------------------------------------------------------------------\u001b[0m",
      "\u001b[1;31mUnicodeDecodeError\u001b[0m                        Traceback (most recent call last)",
      "Input \u001b[1;32mIn [131]\u001b[0m, in \u001b[0;36m<cell line: 1>\u001b[1;34m()\u001b[0m\n\u001b[1;32m----> 1\u001b[0m \u001b[43mraw2\u001b[49m\u001b[43m[\u001b[49m\u001b[43m:\u001b[49m\u001b[38;5;241;43m3\u001b[39;49m\u001b[43m]\u001b[49m\u001b[38;5;241;43m.\u001b[39;49m\u001b[43mdecode\u001b[49m\u001b[43m(\u001b[49m\u001b[38;5;124;43m'\u001b[39;49m\u001b[38;5;124;43mutf8\u001b[39;49m\u001b[38;5;124;43m'\u001b[39;49m\u001b[43m)\u001b[49m\n",
      "\u001b[1;31mUnicodeDecodeError\u001b[0m: 'utf-8' codec can't decode byte 0xef in position 2: unexpected end of data"
     ]
    }
   ],
   "source": [
    "raw2[:3].decode('utf8')"
   ]
  },
  {
   "cell_type": "code",
   "execution_count": 132,
   "id": "9b78668e",
   "metadata": {},
   "outputs": [
    {
     "data": {
      "text/plain": [
       "'naďve o'"
      ]
     },
     "execution_count": 132,
     "metadata": {},
     "output_type": "execute_result"
    }
   ],
   "source": [
    "raw2.decode('windows-1250')"
   ]
  },
  {
   "cell_type": "code",
   "execution_count": 133,
   "id": "c5f894fe",
   "metadata": {},
   "outputs": [
    {
     "data": {
      "text/plain": [
       "'naïve o'"
      ]
     },
     "execution_count": 133,
     "metadata": {},
     "output_type": "execute_result"
    }
   ],
   "source": [
    "raw2.decode('windows-1252')"
   ]
  },
  {
   "cell_type": "code",
   "execution_count": 134,
   "id": "e0a607f7",
   "metadata": {},
   "outputs": [],
   "source": [
    "# Converting from one text encoding to another\n",
    "with open('temp7.txt') as fl15:\n",
    "    with open('temp67.txt', 'xt', encoding='windows-1252') as fl19:\n",
    "        fl19.write(fl15.read())"
   ]
  },
  {
   "cell_type": "code",
   "execution_count": 135,
   "id": "b3f82a6f",
   "metadata": {},
   "outputs": [],
   "source": [
    "# Converting from one text encoding to another\n",
    "with open('temp7.txt') as fl15:\n",
    "    with open('temp68.txt', 'xt', encoding='utf8') as fl19:\n",
    "        fl19.write(fl15.read())"
   ]
  },
  {
   "cell_type": "code",
   "execution_count": 140,
   "id": "a5c1e131",
   "metadata": {},
   "outputs": [
    {
     "name": "stdout",
     "output_type": "stream",
     "text": [
      "naï\n"
     ]
    }
   ],
   "source": [
    "with open('temp7.txt',  encoding='windows-1252') as fl20:\n",
    "        print(fl20.read(3))"
   ]
  },
  {
   "cell_type": "code",
   "execution_count": 141,
   "id": "642a0314",
   "metadata": {},
   "outputs": [
    {
     "ename": "UnicodeDecodeError",
     "evalue": "'utf-8' codec can't decode byte 0xef in position 2: invalid continuation byte",
     "output_type": "error",
     "traceback": [
      "\u001b[1;31m---------------------------------------------------------------------------\u001b[0m",
      "\u001b[1;31mUnicodeDecodeError\u001b[0m                        Traceback (most recent call last)",
      "Input \u001b[1;32mIn [141]\u001b[0m, in \u001b[0;36m<cell line: 1>\u001b[1;34m()\u001b[0m\n\u001b[0;32m      1\u001b[0m \u001b[38;5;28;01mwith\u001b[39;00m \u001b[38;5;28mopen\u001b[39m(\u001b[38;5;124m'\u001b[39m\u001b[38;5;124mtemp7.txt\u001b[39m\u001b[38;5;124m'\u001b[39m,  encoding\u001b[38;5;241m=\u001b[39m\u001b[38;5;124m'\u001b[39m\u001b[38;5;124mutf8\u001b[39m\u001b[38;5;124m'\u001b[39m) \u001b[38;5;28;01mas\u001b[39;00m fl20:\n\u001b[1;32m----> 2\u001b[0m         \u001b[38;5;28mprint\u001b[39m(\u001b[43mfl20\u001b[49m\u001b[38;5;241;43m.\u001b[39;49m\u001b[43mread\u001b[49m\u001b[43m(\u001b[49m\u001b[38;5;241;43m3\u001b[39;49m\u001b[43m)\u001b[49m)\n",
      "File \u001b[1;32m~\\AppData\\Local\\Programs\\Python\\Python310\\lib\\codecs.py:322\u001b[0m, in \u001b[0;36mBufferedIncrementalDecoder.decode\u001b[1;34m(self, input, final)\u001b[0m\n\u001b[0;32m    319\u001b[0m \u001b[38;5;28;01mdef\u001b[39;00m \u001b[38;5;21mdecode\u001b[39m(\u001b[38;5;28mself\u001b[39m, \u001b[38;5;28minput\u001b[39m, final\u001b[38;5;241m=\u001b[39m\u001b[38;5;28;01mFalse\u001b[39;00m):\n\u001b[0;32m    320\u001b[0m     \u001b[38;5;66;03m# decode input (taking the buffer into account)\u001b[39;00m\n\u001b[0;32m    321\u001b[0m     data \u001b[38;5;241m=\u001b[39m \u001b[38;5;28mself\u001b[39m\u001b[38;5;241m.\u001b[39mbuffer \u001b[38;5;241m+\u001b[39m \u001b[38;5;28minput\u001b[39m\n\u001b[1;32m--> 322\u001b[0m     (result, consumed) \u001b[38;5;241m=\u001b[39m \u001b[38;5;28;43mself\u001b[39;49m\u001b[38;5;241;43m.\u001b[39;49m\u001b[43m_buffer_decode\u001b[49m\u001b[43m(\u001b[49m\u001b[43mdata\u001b[49m\u001b[43m,\u001b[49m\u001b[43m \u001b[49m\u001b[38;5;28;43mself\u001b[39;49m\u001b[38;5;241;43m.\u001b[39;49m\u001b[43merrors\u001b[49m\u001b[43m,\u001b[49m\u001b[43m \u001b[49m\u001b[43mfinal\u001b[49m\u001b[43m)\u001b[49m\n\u001b[0;32m    323\u001b[0m     \u001b[38;5;66;03m# keep undecoded input until the next call\u001b[39;00m\n\u001b[0;32m    324\u001b[0m     \u001b[38;5;28mself\u001b[39m\u001b[38;5;241m.\u001b[39mbuffer \u001b[38;5;241m=\u001b[39m data[consumed:]\n",
      "\u001b[1;31mUnicodeDecodeError\u001b[0m: 'utf-8' codec can't decode byte 0xef in position 2: invalid continuation byte"
     ]
    }
   ],
   "source": [
    "with open('temp7.txt',  encoding='utf8') as fl20:\n",
    "        print(fl20.read(3))"
   ]
  },
  {
   "cell_type": "code",
   "execution_count": 142,
   "id": "cedbd719",
   "metadata": {},
   "outputs": [],
   "source": [
    "fl21 = open('temp.txt', 'r')"
   ]
  },
  {
   "cell_type": "code",
   "execution_count": 143,
   "id": "a2f7586f",
   "metadata": {},
   "outputs": [
    {
     "data": {
      "text/plain": [
       "'Started Cleaning the Content for analytics\\nDone Cleaing the Content Please have a look at the log file for more detailsStarted Cleaning the Content for analytics\\nDone Cleaing the Content Please have a look at the log file for more detailsStarted Cleaning the Content for analytics\\nDone Cleaing the Content Please have a look at the log file for more detailsStarted Cleaning the Content for analytics\\nSuccessfullyDone Cleaing the Content Please have a look at the log file for more detailsappend'"
      ]
     },
     "execution_count": 143,
     "metadata": {},
     "output_type": "execute_result"
    }
   ],
   "source": [
    "fl21.read()"
   ]
  },
  {
   "cell_type": "code",
   "execution_count": 144,
   "id": "a28d678f",
   "metadata": {},
   "outputs": [],
   "source": [
    "fl21 = open('temp.txt', 'r')"
   ]
  },
  {
   "cell_type": "code",
   "execution_count": 146,
   "id": "304e8d52",
   "metadata": {},
   "outputs": [
    {
     "data": {
      "text/plain": [
       "0"
      ]
     },
     "execution_count": 146,
     "metadata": {},
     "output_type": "execute_result"
    }
   ],
   "source": [
    "fl21.tell()"
   ]
  },
  {
   "cell_type": "code",
   "execution_count": 147,
   "id": "0e42be3a",
   "metadata": {},
   "outputs": [
    {
     "data": {
      "text/plain": [
       "'Sta'"
      ]
     },
     "execution_count": 147,
     "metadata": {},
     "output_type": "execute_result"
    }
   ],
   "source": [
    "fl21.read(3)"
   ]
  },
  {
   "cell_type": "code",
   "execution_count": 148,
   "id": "a89c9abc",
   "metadata": {},
   "outputs": [
    {
     "data": {
      "text/plain": [
       "3"
      ]
     },
     "execution_count": 148,
     "metadata": {},
     "output_type": "execute_result"
    }
   ],
   "source": [
    "fl21.tell()"
   ]
  },
  {
   "cell_type": "code",
   "execution_count": 154,
   "id": "4ff64902",
   "metadata": {},
   "outputs": [
    {
     "ename": "UnsupportedOperation",
     "evalue": "can't do nonzero cur-relative seeks",
     "output_type": "error",
     "traceback": [
      "\u001b[1;31m---------------------------------------------------------------------------\u001b[0m",
      "\u001b[1;31mUnsupportedOperation\u001b[0m                      Traceback (most recent call last)",
      "Input \u001b[1;32mIn [154]\u001b[0m, in \u001b[0;36m<cell line: 1>\u001b[1;34m()\u001b[0m\n\u001b[1;32m----> 1\u001b[0m \u001b[43mfl21\u001b[49m\u001b[38;5;241;43m.\u001b[39;49m\u001b[43mseek\u001b[49m\u001b[43m(\u001b[49m\u001b[38;5;241;43m10\u001b[39;49m\u001b[43m,\u001b[49m\u001b[43m \u001b[49m\u001b[38;5;241;43m1\u001b[39;49m\u001b[43m)\u001b[49m\n",
      "\u001b[1;31mUnsupportedOperation\u001b[0m: can't do nonzero cur-relative seeks"
     ]
    }
   ],
   "source": [
    "fl21.seek(10, 1)"
   ]
  },
  {
   "cell_type": "code",
   "execution_count": null,
   "id": "d632c93b",
   "metadata": {},
   "outputs": [],
   "source": []
  },
  {
   "cell_type": "code",
   "execution_count": null,
   "id": "68194c0b",
   "metadata": {},
   "outputs": [],
   "source": []
  },
  {
   "cell_type": "code",
   "execution_count": null,
   "id": "a32a4b3a",
   "metadata": {},
   "outputs": [],
   "source": []
  },
  {
   "cell_type": "code",
   "execution_count": 151,
   "id": "8c19d62c",
   "metadata": {},
   "outputs": [
    {
     "data": {
      "text/plain": [
       "10"
      ]
     },
     "execution_count": 151,
     "metadata": {},
     "output_type": "execute_result"
    }
   ],
   "source": [
    "fl21.tell()"
   ]
  },
  {
   "cell_type": "code",
   "execution_count": null,
   "id": "d39345e3",
   "metadata": {},
   "outputs": [],
   "source": []
  },
  {
   "cell_type": "code",
   "execution_count": null,
   "id": "9d09fff8",
   "metadata": {},
   "outputs": [],
   "source": []
  },
  {
   "cell_type": "code",
   "execution_count": null,
   "id": "7997e2d3",
   "metadata": {},
   "outputs": [],
   "source": []
  },
  {
   "cell_type": "code",
   "execution_count": null,
   "id": "6aa4e2e1",
   "metadata": {},
   "outputs": [],
   "source": []
  },
  {
   "cell_type": "code",
   "execution_count": null,
   "id": "11f09781",
   "metadata": {},
   "outputs": [],
   "source": []
  },
  {
   "cell_type": "code",
   "execution_count": null,
   "id": "870ffc07",
   "metadata": {},
   "outputs": [],
   "source": []
  },
  {
   "cell_type": "code",
   "execution_count": null,
   "id": "7e7b8804",
   "metadata": {},
   "outputs": [],
   "source": []
  },
  {
   "cell_type": "code",
   "execution_count": null,
   "id": "829cfbba",
   "metadata": {},
   "outputs": [],
   "source": []
  },
  {
   "cell_type": "code",
   "execution_count": null,
   "id": "d593c089",
   "metadata": {},
   "outputs": [],
   "source": []
  },
  {
   "cell_type": "code",
   "execution_count": null,
   "id": "7266631e",
   "metadata": {},
   "outputs": [],
   "source": []
  },
  {
   "cell_type": "code",
   "execution_count": null,
   "id": "d369950d",
   "metadata": {},
   "outputs": [],
   "source": []
  },
  {
   "cell_type": "code",
   "execution_count": null,
   "id": "1082ef9e",
   "metadata": {},
   "outputs": [],
   "source": []
  },
  {
   "cell_type": "code",
   "execution_count": null,
   "id": "d0120c68",
   "metadata": {},
   "outputs": [],
   "source": []
  },
  {
   "cell_type": "code",
   "execution_count": null,
   "id": "2222f281",
   "metadata": {},
   "outputs": [],
   "source": []
  },
  {
   "cell_type": "code",
   "execution_count": null,
   "id": "7021cf50",
   "metadata": {},
   "outputs": [],
   "source": []
  },
  {
   "cell_type": "code",
   "execution_count": null,
   "id": "89881948",
   "metadata": {},
   "outputs": [],
   "source": []
  },
  {
   "cell_type": "code",
   "execution_count": null,
   "id": "32393a06",
   "metadata": {},
   "outputs": [],
   "source": []
  },
  {
   "cell_type": "code",
   "execution_count": null,
   "id": "949e3399",
   "metadata": {},
   "outputs": [],
   "source": []
  },
  {
   "cell_type": "code",
   "execution_count": null,
   "id": "40157a9e",
   "metadata": {},
   "outputs": [],
   "source": []
  },
  {
   "cell_type": "code",
   "execution_count": null,
   "id": "6ebca143",
   "metadata": {},
   "outputs": [],
   "source": []
  },
  {
   "cell_type": "code",
   "execution_count": null,
   "id": "7961818f",
   "metadata": {},
   "outputs": [],
   "source": []
  },
  {
   "cell_type": "code",
   "execution_count": 89,
   "id": "9e2fdd31",
   "metadata": {},
   "outputs": [
    {
     "data": {
      "text/plain": [
       "b'Started Cleaning the '"
      ]
     },
     "execution_count": 89,
     "metadata": {},
     "output_type": "execute_result"
    }
   ],
   "source": []
  },
  {
   "cell_type": "code",
   "execution_count": null,
   "id": "b22c0422",
   "metadata": {},
   "outputs": [],
   "source": []
  },
  {
   "cell_type": "code",
   "execution_count": null,
   "id": "564102fb",
   "metadata": {},
   "outputs": [],
   "source": []
  },
  {
   "cell_type": "code",
   "execution_count": null,
   "id": "6496194b",
   "metadata": {},
   "outputs": [],
   "source": []
  },
  {
   "cell_type": "code",
   "execution_count": null,
   "id": "5eb4d413",
   "metadata": {},
   "outputs": [],
   "source": []
  },
  {
   "cell_type": "code",
   "execution_count": null,
   "id": "724b6ebf",
   "metadata": {},
   "outputs": [],
   "source": []
  },
  {
   "cell_type": "code",
   "execution_count": null,
   "id": "facbf622",
   "metadata": {},
   "outputs": [],
   "source": []
  },
  {
   "cell_type": "code",
   "execution_count": null,
   "id": "3aed2203",
   "metadata": {},
   "outputs": [],
   "source": []
  },
  {
   "cell_type": "code",
   "execution_count": null,
   "id": "07388a2b",
   "metadata": {},
   "outputs": [],
   "source": []
  },
  {
   "cell_type": "code",
   "execution_count": null,
   "id": "eb387e15",
   "metadata": {},
   "outputs": [],
   "source": []
  },
  {
   "cell_type": "code",
   "execution_count": null,
   "id": "a634f7f8",
   "metadata": {},
   "outputs": [],
   "source": []
  },
  {
   "cell_type": "code",
   "execution_count": 63,
   "id": "05ee7bcc",
   "metadata": {},
   "outputs": [
    {
     "data": {
      "text/plain": [
       "True"
      ]
     },
     "execution_count": 63,
     "metadata": {},
     "output_type": "execute_result"
    }
   ],
   "source": []
  },
  {
   "cell_type": "code",
   "execution_count": null,
   "id": "826042fb",
   "metadata": {},
   "outputs": [],
   "source": []
  },
  {
   "cell_type": "code",
   "execution_count": null,
   "id": "c0e6dc7b",
   "metadata": {},
   "outputs": [],
   "source": []
  },
  {
   "cell_type": "code",
   "execution_count": null,
   "id": "6dc45665",
   "metadata": {},
   "outputs": [],
   "source": []
  },
  {
   "cell_type": "code",
   "execution_count": null,
   "id": "1e4fc920",
   "metadata": {},
   "outputs": [],
   "source": []
  },
  {
   "cell_type": "code",
   "execution_count": null,
   "id": "f26a6747",
   "metadata": {},
   "outputs": [],
   "source": []
  },
  {
   "cell_type": "code",
   "execution_count": null,
   "id": "8380dfb5",
   "metadata": {},
   "outputs": [],
   "source": []
  },
  {
   "cell_type": "code",
   "execution_count": null,
   "id": "41ad909b",
   "metadata": {},
   "outputs": [],
   "source": []
  },
  {
   "cell_type": "code",
   "execution_count": null,
   "id": "9c02e870",
   "metadata": {},
   "outputs": [],
   "source": []
  },
  {
   "cell_type": "code",
   "execution_count": null,
   "id": "75a378f2",
   "metadata": {},
   "outputs": [],
   "source": []
  },
  {
   "cell_type": "code",
   "execution_count": null,
   "id": "e27c1452",
   "metadata": {},
   "outputs": [],
   "source": []
  },
  {
   "cell_type": "code",
   "execution_count": null,
   "id": "f61276c9",
   "metadata": {},
   "outputs": [],
   "source": []
  },
  {
   "cell_type": "code",
   "execution_count": null,
   "id": "f0a71e06",
   "metadata": {},
   "outputs": [],
   "source": []
  }
 ],
 "metadata": {
  "kernelspec": {
   "display_name": "Python 3 (ipykernel)",
   "language": "python",
   "name": "python3"
  },
  "language_info": {
   "codemirror_mode": {
    "name": "ipython",
    "version": 3
   },
   "file_extension": ".py",
   "mimetype": "text/x-python",
   "name": "python",
   "nbconvert_exporter": "python",
   "pygments_lexer": "ipython3",
   "version": "3.10.2"
  }
 },
 "nbformat": 4,
 "nbformat_minor": 5
}
